{
 "cells": [
  {
   "cell_type": "markdown",
   "id": "3865ae1e",
   "metadata": {},
   "source": [
    "### 목표\n",
    "- wisconsin 대학 제공하는 유방암 데이터셋 활용하여 분류하는 모델(예측기) 만들어보자\n",
    "- 최적의 하이퍼 파라미터를 찾는 그리트서치 적용해보자"
   ]
  },
  {
   "cell_type": "code",
   "execution_count": 1,
   "id": "63ff7ed0",
   "metadata": {},
   "outputs": [],
   "source": [
    "# 단위를 크게크게 설정 -> 점점 줄여서"
   ]
  },
  {
   "cell_type": "code",
   "execution_count": 2,
   "id": "b895243a",
   "metadata": {},
   "outputs": [],
   "source": [
    "import pandas as pd\n",
    "import matplotlib.pylab as plt\n",
    "import numpy as np\n",
    "from sklearn.model_selection import train_test_split # 훈련, 테스트 데이터 분리\n",
    "from sklearn.datasets import load_breast_cancer\n"
   ]
  },
  {
   "cell_type": "markdown",
   "id": "5cbc33fb",
   "metadata": {},
   "source": [
    "### 데이터 불러오기"
   ]
  },
  {
   "cell_type": "code",
   "execution_count": 3,
   "id": "e7f1cd11",
   "metadata": {},
   "outputs": [
    {
     "data": {
      "text/plain": [
       "{'data': array([[1.799e+01, 1.038e+01, 1.228e+02, ..., 2.654e-01, 4.601e-01,\n",
       "         1.189e-01],\n",
       "        [2.057e+01, 1.777e+01, 1.329e+02, ..., 1.860e-01, 2.750e-01,\n",
       "         8.902e-02],\n",
       "        [1.969e+01, 2.125e+01, 1.300e+02, ..., 2.430e-01, 3.613e-01,\n",
       "         8.758e-02],\n",
       "        ...,\n",
       "        [1.660e+01, 2.808e+01, 1.083e+02, ..., 1.418e-01, 2.218e-01,\n",
       "         7.820e-02],\n",
       "        [2.060e+01, 2.933e+01, 1.401e+02, ..., 2.650e-01, 4.087e-01,\n",
       "         1.240e-01],\n",
       "        [7.760e+00, 2.454e+01, 4.792e+01, ..., 0.000e+00, 2.871e-01,\n",
       "         7.039e-02]]),\n",
       " 'target': array([0, 0, 0, 0, 0, 0, 0, 0, 0, 0, 0, 0, 0, 0, 0, 0, 0, 0, 0, 1, 1, 1,\n",
       "        0, 0, 0, 0, 0, 0, 0, 0, 0, 0, 0, 0, 0, 0, 0, 1, 0, 0, 0, 0, 0, 0,\n",
       "        0, 0, 1, 0, 1, 1, 1, 1, 1, 0, 0, 1, 0, 0, 1, 1, 1, 1, 0, 1, 0, 0,\n",
       "        1, 1, 1, 1, 0, 1, 0, 0, 1, 0, 1, 0, 0, 1, 1, 1, 0, 0, 1, 0, 0, 0,\n",
       "        1, 1, 1, 0, 1, 1, 0, 0, 1, 1, 1, 0, 0, 1, 1, 1, 1, 0, 1, 1, 0, 1,\n",
       "        1, 1, 1, 1, 1, 1, 1, 0, 0, 0, 1, 0, 0, 1, 1, 1, 0, 0, 1, 0, 1, 0,\n",
       "        0, 1, 0, 0, 1, 1, 0, 1, 1, 0, 1, 1, 1, 1, 0, 1, 1, 1, 1, 1, 1, 1,\n",
       "        1, 1, 0, 1, 1, 1, 1, 0, 0, 1, 0, 1, 1, 0, 0, 1, 1, 0, 0, 1, 1, 1,\n",
       "        1, 0, 1, 1, 0, 0, 0, 1, 0, 1, 0, 1, 1, 1, 0, 1, 1, 0, 0, 1, 0, 0,\n",
       "        0, 0, 1, 0, 0, 0, 1, 0, 1, 0, 1, 1, 0, 1, 0, 0, 0, 0, 1, 1, 0, 0,\n",
       "        1, 1, 1, 0, 1, 1, 1, 1, 1, 0, 0, 1, 1, 0, 1, 1, 0, 0, 1, 0, 1, 1,\n",
       "        1, 1, 0, 1, 1, 1, 1, 1, 0, 1, 0, 0, 0, 0, 0, 0, 0, 0, 0, 0, 0, 0,\n",
       "        0, 0, 1, 1, 1, 1, 1, 1, 0, 1, 0, 1, 1, 0, 1, 1, 0, 1, 0, 0, 1, 1,\n",
       "        1, 1, 1, 1, 1, 1, 1, 1, 1, 1, 1, 0, 1, 1, 0, 1, 0, 1, 1, 1, 1, 1,\n",
       "        1, 1, 1, 1, 1, 1, 1, 1, 1, 0, 1, 1, 1, 0, 1, 0, 1, 1, 1, 1, 0, 0,\n",
       "        0, 1, 1, 1, 1, 0, 1, 0, 1, 0, 1, 1, 1, 0, 1, 1, 1, 1, 1, 1, 1, 0,\n",
       "        0, 0, 1, 1, 1, 1, 1, 1, 1, 1, 1, 1, 1, 0, 0, 1, 0, 0, 0, 1, 0, 0,\n",
       "        1, 1, 1, 1, 1, 0, 1, 1, 1, 1, 1, 0, 1, 1, 1, 0, 1, 1, 0, 0, 1, 1,\n",
       "        1, 1, 1, 1, 0, 1, 1, 1, 1, 1, 1, 1, 0, 1, 1, 1, 1, 1, 0, 1, 1, 0,\n",
       "        1, 1, 1, 1, 1, 1, 1, 1, 1, 1, 1, 1, 0, 1, 0, 0, 1, 0, 1, 1, 1, 1,\n",
       "        1, 0, 1, 1, 0, 1, 0, 1, 1, 0, 1, 0, 1, 1, 1, 1, 1, 1, 1, 1, 0, 0,\n",
       "        1, 1, 1, 1, 1, 1, 0, 1, 1, 1, 1, 1, 1, 1, 1, 1, 1, 0, 1, 1, 1, 1,\n",
       "        1, 1, 1, 0, 1, 0, 1, 1, 0, 1, 1, 1, 1, 1, 0, 0, 1, 0, 1, 0, 1, 1,\n",
       "        1, 1, 1, 0, 1, 1, 0, 1, 0, 1, 0, 0, 1, 1, 1, 0, 1, 1, 1, 1, 1, 1,\n",
       "        1, 1, 1, 1, 1, 0, 1, 0, 0, 1, 1, 1, 1, 1, 1, 1, 1, 1, 1, 1, 1, 1,\n",
       "        1, 1, 1, 1, 1, 1, 1, 1, 1, 1, 1, 1, 0, 0, 0, 0, 0, 0, 1]),\n",
       " 'frame': None,\n",
       " 'target_names': array(['malignant', 'benign'], dtype='<U9'),\n",
       " 'DESCR': '.. _breast_cancer_dataset:\\n\\nBreast cancer wisconsin (diagnostic) dataset\\n--------------------------------------------\\n\\n**Data Set Characteristics:**\\n\\n    :Number of Instances: 569\\n\\n    :Number of Attributes: 30 numeric, predictive attributes and the class\\n\\n    :Attribute Information:\\n        - radius (mean of distances from center to points on the perimeter)\\n        - texture (standard deviation of gray-scale values)\\n        - perimeter\\n        - area\\n        - smoothness (local variation in radius lengths)\\n        - compactness (perimeter^2 / area - 1.0)\\n        - concavity (severity of concave portions of the contour)\\n        - concave points (number of concave portions of the contour)\\n        - symmetry\\n        - fractal dimension (\"coastline approximation\" - 1)\\n\\n        The mean, standard error, and \"worst\" or largest (mean of the three\\n        worst/largest values) of these features were computed for each image,\\n        resulting in 30 features.  For instance, field 0 is Mean Radius, field\\n        10 is Radius SE, field 20 is Worst Radius.\\n\\n        - class:\\n                - WDBC-Malignant\\n                - WDBC-Benign\\n\\n    :Summary Statistics:\\n\\n    ===================================== ====== ======\\n                                           Min    Max\\n    ===================================== ====== ======\\n    radius (mean):                        6.981  28.11\\n    texture (mean):                       9.71   39.28\\n    perimeter (mean):                     43.79  188.5\\n    area (mean):                          143.5  2501.0\\n    smoothness (mean):                    0.053  0.163\\n    compactness (mean):                   0.019  0.345\\n    concavity (mean):                     0.0    0.427\\n    concave points (mean):                0.0    0.201\\n    symmetry (mean):                      0.106  0.304\\n    fractal dimension (mean):             0.05   0.097\\n    radius (standard error):              0.112  2.873\\n    texture (standard error):             0.36   4.885\\n    perimeter (standard error):           0.757  21.98\\n    area (standard error):                6.802  542.2\\n    smoothness (standard error):          0.002  0.031\\n    compactness (standard error):         0.002  0.135\\n    concavity (standard error):           0.0    0.396\\n    concave points (standard error):      0.0    0.053\\n    symmetry (standard error):            0.008  0.079\\n    fractal dimension (standard error):   0.001  0.03\\n    radius (worst):                       7.93   36.04\\n    texture (worst):                      12.02  49.54\\n    perimeter (worst):                    50.41  251.2\\n    area (worst):                         185.2  4254.0\\n    smoothness (worst):                   0.071  0.223\\n    compactness (worst):                  0.027  1.058\\n    concavity (worst):                    0.0    1.252\\n    concave points (worst):               0.0    0.291\\n    symmetry (worst):                     0.156  0.664\\n    fractal dimension (worst):            0.055  0.208\\n    ===================================== ====== ======\\n\\n    :Missing Attribute Values: None\\n\\n    :Class Distribution: 212 - Malignant, 357 - Benign\\n\\n    :Creator:  Dr. William H. Wolberg, W. Nick Street, Olvi L. Mangasarian\\n\\n    :Donor: Nick Street\\n\\n    :Date: November, 1995\\n\\nThis is a copy of UCI ML Breast Cancer Wisconsin (Diagnostic) datasets.\\nhttps://goo.gl/U2Uwz2\\n\\nFeatures are computed from a digitized image of a fine needle\\naspirate (FNA) of a breast mass.  They describe\\ncharacteristics of the cell nuclei present in the image.\\n\\nSeparating plane described above was obtained using\\nMultisurface Method-Tree (MSM-T) [K. P. Bennett, \"Decision Tree\\nConstruction Via Linear Programming.\" Proceedings of the 4th\\nMidwest Artificial Intelligence and Cognitive Science Society,\\npp. 97-101, 1992], a classification method which uses linear\\nprogramming to construct a decision tree.  Relevant features\\nwere selected using an exhaustive search in the space of 1-4\\nfeatures and 1-3 separating planes.\\n\\nThe actual linear program used to obtain the separating plane\\nin the 3-dimensional space is that described in:\\n[K. P. Bennett and O. L. Mangasarian: \"Robust Linear\\nProgramming Discrimination of Two Linearly Inseparable Sets\",\\nOptimization Methods and Software 1, 1992, 23-34].\\n\\nThis database is also available through the UW CS ftp server:\\n\\nftp ftp.cs.wisc.edu\\ncd math-prog/cpo-dataset/machine-learn/WDBC/\\n\\n.. topic:: References\\n\\n   - W.N. Street, W.H. Wolberg and O.L. Mangasarian. Nuclear feature extraction \\n     for breast tumor diagnosis. IS&T/SPIE 1993 International Symposium on \\n     Electronic Imaging: Science and Technology, volume 1905, pages 861-870,\\n     San Jose, CA, 1993.\\n   - O.L. Mangasarian, W.N. Street and W.H. Wolberg. Breast cancer diagnosis and \\n     prognosis via linear programming. Operations Research, 43(4), pages 570-577, \\n     July-August 1995.\\n   - W.H. Wolberg, W.N. Street, and O.L. Mangasarian. Machine learning techniques\\n     to diagnose breast cancer from fine-needle aspirates. Cancer Letters 77 (1994) \\n     163-171.',\n",
       " 'feature_names': array(['mean radius', 'mean texture', 'mean perimeter', 'mean area',\n",
       "        'mean smoothness', 'mean compactness', 'mean concavity',\n",
       "        'mean concave points', 'mean symmetry', 'mean fractal dimension',\n",
       "        'radius error', 'texture error', 'perimeter error', 'area error',\n",
       "        'smoothness error', 'compactness error', 'concavity error',\n",
       "        'concave points error', 'symmetry error',\n",
       "        'fractal dimension error', 'worst radius', 'worst texture',\n",
       "        'worst perimeter', 'worst area', 'worst smoothness',\n",
       "        'worst compactness', 'worst concavity', 'worst concave points',\n",
       "        'worst symmetry', 'worst fractal dimension'], dtype='<U23'),\n",
       " 'filename': 'breast_cancer.csv',\n",
       " 'data_module': 'sklearn.datasets.data'}"
      ]
     },
     "execution_count": 3,
     "metadata": {},
     "output_type": "execute_result"
    }
   ],
   "source": [
    "cancer_data = load_breast_cancer()\n",
    "cancer_data # 번치 bunch 객체"
   ]
  },
  {
   "cell_type": "code",
   "execution_count": 4,
   "id": "5819f431",
   "metadata": {
    "scrolled": true
   },
   "outputs": [
    {
     "data": {
      "text/plain": [
       "dict_keys(['data', 'target', 'frame', 'target_names', 'DESCR', 'feature_names', 'filename', 'data_module'])"
      ]
     },
     "execution_count": 4,
     "metadata": {},
     "output_type": "execute_result"
    }
   ],
   "source": [
    "# 키값들만 확인\n",
    "# ksys()\n",
    "cancer_data.keys()"
   ]
  },
  {
   "cell_type": "code",
   "execution_count": 5,
   "id": "117d43dd",
   "metadata": {},
   "outputs": [
    {
     "data": {
      "text/plain": [
       "array([[1.799e+01, 1.038e+01, 1.228e+02, ..., 2.654e-01, 4.601e-01,\n",
       "        1.189e-01],\n",
       "       [2.057e+01, 1.777e+01, 1.329e+02, ..., 1.860e-01, 2.750e-01,\n",
       "        8.902e-02],\n",
       "       [1.969e+01, 2.125e+01, 1.300e+02, ..., 2.430e-01, 3.613e-01,\n",
       "        8.758e-02],\n",
       "       ...,\n",
       "       [1.660e+01, 2.808e+01, 1.083e+02, ..., 1.418e-01, 2.218e-01,\n",
       "        7.820e-02],\n",
       "       [2.060e+01, 2.933e+01, 1.401e+02, ..., 2.650e-01, 4.087e-01,\n",
       "        1.240e-01],\n",
       "       [7.760e+00, 2.454e+01, 4.792e+01, ..., 0.000e+00, 2.871e-01,\n",
       "        7.039e-02]])"
      ]
     },
     "execution_count": 5,
     "metadata": {},
     "output_type": "execute_result"
    }
   ],
   "source": [
    "# 데이터 벨류값 확인\n",
    "cancer_data.data"
   ]
  },
  {
   "cell_type": "code",
   "execution_count": 6,
   "id": "bcdd3182",
   "metadata": {},
   "outputs": [
    {
     "data": {
      "text/plain": [
       "array([0, 0, 0, 0, 0, 0, 0, 0, 0, 0, 0, 0, 0, 0, 0, 0, 0, 0, 0, 1, 1, 1,\n",
       "       0, 0, 0, 0, 0, 0, 0, 0, 0, 0, 0, 0, 0, 0, 0, 1, 0, 0, 0, 0, 0, 0,\n",
       "       0, 0, 1, 0, 1, 1, 1, 1, 1, 0, 0, 1, 0, 0, 1, 1, 1, 1, 0, 1, 0, 0,\n",
       "       1, 1, 1, 1, 0, 1, 0, 0, 1, 0, 1, 0, 0, 1, 1, 1, 0, 0, 1, 0, 0, 0,\n",
       "       1, 1, 1, 0, 1, 1, 0, 0, 1, 1, 1, 0, 0, 1, 1, 1, 1, 0, 1, 1, 0, 1,\n",
       "       1, 1, 1, 1, 1, 1, 1, 0, 0, 0, 1, 0, 0, 1, 1, 1, 0, 0, 1, 0, 1, 0,\n",
       "       0, 1, 0, 0, 1, 1, 0, 1, 1, 0, 1, 1, 1, 1, 0, 1, 1, 1, 1, 1, 1, 1,\n",
       "       1, 1, 0, 1, 1, 1, 1, 0, 0, 1, 0, 1, 1, 0, 0, 1, 1, 0, 0, 1, 1, 1,\n",
       "       1, 0, 1, 1, 0, 0, 0, 1, 0, 1, 0, 1, 1, 1, 0, 1, 1, 0, 0, 1, 0, 0,\n",
       "       0, 0, 1, 0, 0, 0, 1, 0, 1, 0, 1, 1, 0, 1, 0, 0, 0, 0, 1, 1, 0, 0,\n",
       "       1, 1, 1, 0, 1, 1, 1, 1, 1, 0, 0, 1, 1, 0, 1, 1, 0, 0, 1, 0, 1, 1,\n",
       "       1, 1, 0, 1, 1, 1, 1, 1, 0, 1, 0, 0, 0, 0, 0, 0, 0, 0, 0, 0, 0, 0,\n",
       "       0, 0, 1, 1, 1, 1, 1, 1, 0, 1, 0, 1, 1, 0, 1, 1, 0, 1, 0, 0, 1, 1,\n",
       "       1, 1, 1, 1, 1, 1, 1, 1, 1, 1, 1, 0, 1, 1, 0, 1, 0, 1, 1, 1, 1, 1,\n",
       "       1, 1, 1, 1, 1, 1, 1, 1, 1, 0, 1, 1, 1, 0, 1, 0, 1, 1, 1, 1, 0, 0,\n",
       "       0, 1, 1, 1, 1, 0, 1, 0, 1, 0, 1, 1, 1, 0, 1, 1, 1, 1, 1, 1, 1, 0,\n",
       "       0, 0, 1, 1, 1, 1, 1, 1, 1, 1, 1, 1, 1, 0, 0, 1, 0, 0, 0, 1, 0, 0,\n",
       "       1, 1, 1, 1, 1, 0, 1, 1, 1, 1, 1, 0, 1, 1, 1, 0, 1, 1, 0, 0, 1, 1,\n",
       "       1, 1, 1, 1, 0, 1, 1, 1, 1, 1, 1, 1, 0, 1, 1, 1, 1, 1, 0, 1, 1, 0,\n",
       "       1, 1, 1, 1, 1, 1, 1, 1, 1, 1, 1, 1, 0, 1, 0, 0, 1, 0, 1, 1, 1, 1,\n",
       "       1, 0, 1, 1, 0, 1, 0, 1, 1, 0, 1, 0, 1, 1, 1, 1, 1, 1, 1, 1, 0, 0,\n",
       "       1, 1, 1, 1, 1, 1, 0, 1, 1, 1, 1, 1, 1, 1, 1, 1, 1, 0, 1, 1, 1, 1,\n",
       "       1, 1, 1, 0, 1, 0, 1, 1, 0, 1, 1, 1, 1, 1, 0, 0, 1, 0, 1, 0, 1, 1,\n",
       "       1, 1, 1, 0, 1, 1, 0, 1, 0, 1, 0, 0, 1, 1, 1, 0, 1, 1, 1, 1, 1, 1,\n",
       "       1, 1, 1, 1, 1, 0, 1, 0, 0, 1, 1, 1, 1, 1, 1, 1, 1, 1, 1, 1, 1, 1,\n",
       "       1, 1, 1, 1, 1, 1, 1, 1, 1, 1, 1, 1, 0, 0, 0, 0, 0, 0, 1])"
      ]
     },
     "execution_count": 6,
     "metadata": {},
     "output_type": "execute_result"
    }
   ],
   "source": [
    "# 데이터 레이블값(타겟) 확인\n",
    "cancer_data.target"
   ]
  },
  {
   "cell_type": "code",
   "execution_count": 7,
   "id": "f85d6cfd",
   "metadata": {},
   "outputs": [
    {
     "data": {
      "text/plain": [
       "array(['malignant', 'benign'], dtype='<U9')"
      ]
     },
     "execution_count": 7,
     "metadata": {},
     "output_type": "execute_result"
    }
   ],
   "source": [
    "# 레이블의 실제 이름 확인\n",
    "cancer_data.target_names\n",
    "# 0 - 'malignant' 악성\n",
    "# 1 - 'benign' 양성"
   ]
  },
  {
   "cell_type": "code",
   "execution_count": 8,
   "id": "4fcad808",
   "metadata": {},
   "outputs": [
    {
     "data": {
      "text/plain": [
       "array(['mean radius', 'mean texture', 'mean perimeter', 'mean area',\n",
       "       'mean smoothness', 'mean compactness', 'mean concavity',\n",
       "       'mean concave points', 'mean symmetry', 'mean fractal dimension',\n",
       "       'radius error', 'texture error', 'perimeter error', 'area error',\n",
       "       'smoothness error', 'compactness error', 'concavity error',\n",
       "       'concave points error', 'symmetry error',\n",
       "       'fractal dimension error', 'worst radius', 'worst texture',\n",
       "       'worst perimeter', 'worst area', 'worst smoothness',\n",
       "       'worst compactness', 'worst concavity', 'worst concave points',\n",
       "       'worst symmetry', 'worst fractal dimension'], dtype='<U23')"
      ]
     },
     "execution_count": 8,
     "metadata": {},
     "output_type": "execute_result"
    }
   ],
   "source": [
    "# 특성의 이름 확인\n",
    "cancer_data.feature_names"
   ]
  },
  {
   "cell_type": "code",
   "execution_count": 9,
   "id": "659f23f0",
   "metadata": {},
   "outputs": [
    {
     "name": "stdout",
     "output_type": "stream",
     "text": [
      ".. _breast_cancer_dataset:\n",
      "\n",
      "Breast cancer wisconsin (diagnostic) dataset\n",
      "--------------------------------------------\n",
      "\n",
      "**Data Set Characteristics:**\n",
      "\n",
      "    :Number of Instances: 569\n",
      "\n",
      "    :Number of Attributes: 30 numeric, predictive attributes and the class\n",
      "\n",
      "    :Attribute Information:\n",
      "        - radius (mean of distances from center to points on the perimeter)\n",
      "        - texture (standard deviation of gray-scale values)\n",
      "        - perimeter\n",
      "        - area\n",
      "        - smoothness (local variation in radius lengths)\n",
      "        - compactness (perimeter^2 / area - 1.0)\n",
      "        - concavity (severity of concave portions of the contour)\n",
      "        - concave points (number of concave portions of the contour)\n",
      "        - symmetry\n",
      "        - fractal dimension (\"coastline approximation\" - 1)\n",
      "\n",
      "        The mean, standard error, and \"worst\" or largest (mean of the three\n",
      "        worst/largest values) of these features were computed for each image,\n",
      "        resulting in 30 features.  For instance, field 0 is Mean Radius, field\n",
      "        10 is Radius SE, field 20 is Worst Radius.\n",
      "\n",
      "        - class:\n",
      "                - WDBC-Malignant\n",
      "                - WDBC-Benign\n",
      "\n",
      "    :Summary Statistics:\n",
      "\n",
      "    ===================================== ====== ======\n",
      "                                           Min    Max\n",
      "    ===================================== ====== ======\n",
      "    radius (mean):                        6.981  28.11\n",
      "    texture (mean):                       9.71   39.28\n",
      "    perimeter (mean):                     43.79  188.5\n",
      "    area (mean):                          143.5  2501.0\n",
      "    smoothness (mean):                    0.053  0.163\n",
      "    compactness (mean):                   0.019  0.345\n",
      "    concavity (mean):                     0.0    0.427\n",
      "    concave points (mean):                0.0    0.201\n",
      "    symmetry (mean):                      0.106  0.304\n",
      "    fractal dimension (mean):             0.05   0.097\n",
      "    radius (standard error):              0.112  2.873\n",
      "    texture (standard error):             0.36   4.885\n",
      "    perimeter (standard error):           0.757  21.98\n",
      "    area (standard error):                6.802  542.2\n",
      "    smoothness (standard error):          0.002  0.031\n",
      "    compactness (standard error):         0.002  0.135\n",
      "    concavity (standard error):           0.0    0.396\n",
      "    concave points (standard error):      0.0    0.053\n",
      "    symmetry (standard error):            0.008  0.079\n",
      "    fractal dimension (standard error):   0.001  0.03\n",
      "    radius (worst):                       7.93   36.04\n",
      "    texture (worst):                      12.02  49.54\n",
      "    perimeter (worst):                    50.41  251.2\n",
      "    area (worst):                         185.2  4254.0\n",
      "    smoothness (worst):                   0.071  0.223\n",
      "    compactness (worst):                  0.027  1.058\n",
      "    concavity (worst):                    0.0    1.252\n",
      "    concave points (worst):               0.0    0.291\n",
      "    symmetry (worst):                     0.156  0.664\n",
      "    fractal dimension (worst):            0.055  0.208\n",
      "    ===================================== ====== ======\n",
      "\n",
      "    :Missing Attribute Values: None\n",
      "\n",
      "    :Class Distribution: 212 - Malignant, 357 - Benign\n",
      "\n",
      "    :Creator:  Dr. William H. Wolberg, W. Nick Street, Olvi L. Mangasarian\n",
      "\n",
      "    :Donor: Nick Street\n",
      "\n",
      "    :Date: November, 1995\n",
      "\n",
      "This is a copy of UCI ML Breast Cancer Wisconsin (Diagnostic) datasets.\n",
      "https://goo.gl/U2Uwz2\n",
      "\n",
      "Features are computed from a digitized image of a fine needle\n",
      "aspirate (FNA) of a breast mass.  They describe\n",
      "characteristics of the cell nuclei present in the image.\n",
      "\n",
      "Separating plane described above was obtained using\n",
      "Multisurface Method-Tree (MSM-T) [K. P. Bennett, \"Decision Tree\n",
      "Construction Via Linear Programming.\" Proceedings of the 4th\n",
      "Midwest Artificial Intelligence and Cognitive Science Society,\n",
      "pp. 97-101, 1992], a classification method which uses linear\n",
      "programming to construct a decision tree.  Relevant features\n",
      "were selected using an exhaustive search in the space of 1-4\n",
      "features and 1-3 separating planes.\n",
      "\n",
      "The actual linear program used to obtain the separating plane\n",
      "in the 3-dimensional space is that described in:\n",
      "[K. P. Bennett and O. L. Mangasarian: \"Robust Linear\n",
      "Programming Discrimination of Two Linearly Inseparable Sets\",\n",
      "Optimization Methods and Software 1, 1992, 23-34].\n",
      "\n",
      "This database is also available through the UW CS ftp server:\n",
      "\n",
      "ftp ftp.cs.wisc.edu\n",
      "cd math-prog/cpo-dataset/machine-learn/WDBC/\n",
      "\n",
      ".. topic:: References\n",
      "\n",
      "   - W.N. Street, W.H. Wolberg and O.L. Mangasarian. Nuclear feature extraction \n",
      "     for breast tumor diagnosis. IS&T/SPIE 1993 International Symposium on \n",
      "     Electronic Imaging: Science and Technology, volume 1905, pages 861-870,\n",
      "     San Jose, CA, 1993.\n",
      "   - O.L. Mangasarian, W.N. Street and W.H. Wolberg. Breast cancer diagnosis and \n",
      "     prognosis via linear programming. Operations Research, 43(4), pages 570-577, \n",
      "     July-August 1995.\n",
      "   - W.H. Wolberg, W.N. Street, and O.L. Mangasarian. Machine learning techniques\n",
      "     to diagnose breast cancer from fine-needle aspirates. Cancer Letters 77 (1994) \n",
      "     163-171.\n"
     ]
    }
   ],
   "source": [
    "# 데이터 전체적인 정보 확인\n",
    "# info() - 데이터프레임\n",
    "print(cancer_data.DESCR)"
   ]
  },
  {
   "cell_type": "markdown",
   "id": "2b266fe7",
   "metadata": {},
   "source": [
    "#### 훈련데이터, 테스트 데이터로 분리\n",
    "- X_train, X_test, y_train, y_test 순서로 분리\n",
    "- 특성, 답, test_size=30%, random_state = 66"
   ]
  },
  {
   "cell_type": "code",
   "execution_count": 10,
   "id": "cb83a0d0",
   "metadata": {},
   "outputs": [],
   "source": [
    "X_train, X_test, y_train, y_test = train_test_split(cancer_data.data,\n",
    "                                                    cancer_data.target,\n",
    "                                                    test_size=0.3,\n",
    "                                                    random_state=66)"
   ]
  },
  {
   "cell_type": "code",
   "execution_count": 11,
   "id": "b7768581",
   "metadata": {},
   "outputs": [
    {
     "name": "stdout",
     "output_type": "stream",
     "text": [
      "훈련문제 (398, 30)\n",
      "훈련답 (398,)\n",
      "테스트문제 (171, 30)\n",
      "테스트답 (171,)\n"
     ]
    }
   ],
   "source": [
    "print('훈련문제',X_train.shape)\n",
    "print('훈련답',y_train.shape)\n",
    "print('테스트문제',X_test.shape)\n",
    "print('테스트답',y_test.shape)"
   ]
  },
  {
   "cell_type": "markdown",
   "id": "9e06a6da",
   "metadata": {},
   "source": [
    "#### RandomForest모델\n",
    "- 예측 모델 몇개 : n_estimators\n",
    "- 데이터 시드 : random_state\n",
    "- 분류와 회귀 모두 사용 가능"
   ]
  },
  {
   "cell_type": "code",
   "execution_count": 12,
   "id": "6b468613",
   "metadata": {},
   "outputs": [],
   "source": [
    "from sklearn.ensemble import RandomForestClassifier # 랜덤포레스트 분류기"
   ]
  },
  {
   "cell_type": "code",
   "execution_count": 13,
   "id": "738da849",
   "metadata": {},
   "outputs": [],
   "source": [
    "# 모델 객체 생성\n",
    "# 예측기 총 100생성\n",
    "# ran_state = 10\n",
    "rf_model = RandomForestClassifier(n_estimators=100, random_state=10)"
   ]
  },
  {
   "cell_type": "code",
   "execution_count": 14,
   "id": "4d994608",
   "metadata": {},
   "outputs": [
    {
     "data": {
      "text/plain": [
       "RandomForestClassifier(random_state=10)"
      ]
     },
     "execution_count": 14,
     "metadata": {},
     "output_type": "execute_result"
    }
   ],
   "source": [
    "# 모델 학습\n",
    "# fit(훈련용문제,훈련용답)\n",
    "rf_model.fit(X_train,y_train)"
   ]
  },
  {
   "cell_type": "code",
   "execution_count": 15,
   "id": "6ee2f462",
   "metadata": {},
   "outputs": [],
   "source": [
    "# 모델의 일반화 성능 확인하기\n",
    "# 교차검증 (cross validation)\n",
    "# model_selection 클래스 안에 있음\n",
    "from sklearn.model_selection import cross_val_score"
   ]
  },
  {
   "cell_type": "code",
   "execution_count": 16,
   "id": "173ce34d",
   "metadata": {},
   "outputs": [
    {
     "name": "stdout",
     "output_type": "stream",
     "text": [
      "정확도 배열: [0.95       0.9625     0.9375     1.         0.97468354]\n",
      "정확도 평균: 0.9649367088607596\n"
     ]
    }
   ],
   "source": [
    "# cv = 5 설정하고, 성능 확인해보기 !!\n",
    "rf_result = cross_val_score(rf_model,X_train,y_train,cv=5)\n",
    "# 1. 정확도 배열 출력\n",
    "print('정확도 배열:',rf_result)\n",
    "# 2. 정확도 평균 출력\n",
    "print('정확도 평균:',rf_result.mean())"
   ]
  },
  {
   "cell_type": "code",
   "execution_count": 17,
   "id": "0ef9f8db",
   "metadata": {},
   "outputs": [
    {
     "data": {
      "text/plain": [
       "array([1, 1, 1, 1, 1, 0, 0, 1, 1, 1, 0, 1, 1, 0, 1, 1, 0, 1, 0, 0, 1, 0,\n",
       "       1, 0, 0, 1, 0, 1, 1, 1, 1, 1, 0, 1, 0, 1, 0, 0, 1, 1, 1, 1, 0, 1,\n",
       "       0, 1, 1, 1, 0, 0, 0, 1, 0, 1, 0, 0, 1, 0, 1, 1, 0, 1, 1, 1, 0, 1,\n",
       "       1, 0, 1, 0, 1, 1, 1, 1, 0, 0, 1, 0, 1, 1, 1, 0, 1, 0, 1, 1, 1, 0,\n",
       "       0, 1, 1, 1, 1, 0, 1, 1, 0, 1, 1, 1, 1, 1, 1, 1, 0, 1, 1, 1, 0, 1,\n",
       "       0, 1, 1, 1, 1, 1, 1, 1, 0, 1, 1, 0, 1, 1, 0, 0, 0, 1, 1, 0, 1, 0,\n",
       "       1, 0, 1, 0, 1, 1, 1, 1, 0, 1, 1, 1, 0, 1, 1, 1, 1, 0, 1, 1, 1, 1,\n",
       "       1, 0, 1, 0, 0, 1, 1, 0, 1, 0, 0, 0, 0, 1, 0, 1, 0])"
      ]
     },
     "execution_count": 17,
     "metadata": {},
     "output_type": "execute_result"
    }
   ],
   "source": [
    "# 모델 예측\n",
    "# predict\n",
    "test_pre = rf_model.predict(X_test)\n",
    "test_pre # 실제답과 다를 수 있음"
   ]
  },
  {
   "cell_type": "code",
   "execution_count": 18,
   "id": "6993d8f4",
   "metadata": {},
   "outputs": [
    {
     "name": "stdout",
     "output_type": "stream",
     "text": [
      "test정확도: 0.9707602339181286\n",
      "train정확도: 1.0\n"
     ]
    }
   ],
   "source": [
    "# 모델 평가\n",
    "# score(테스트 문제, 테스트답)\n",
    "# metrics 클래스 ->  accuracy_score(예측값, 실제값)\n",
    "from sklearn.metrics import accuracy_score\n",
    "print('test정확도:',accuracy_score(test_pre,y_test))\n",
    "\n",
    "# train 데이터의 정확도 확인\n",
    "print('train정확도:',rf_model.score(X_train, y_train))"
   ]
  },
  {
   "cell_type": "markdown",
   "id": "06964d9a",
   "metadata": {},
   "source": [
    "#### GridSearch 적용하여 모델의 성능을 향상시켜보자\n",
    "- 최적의 하이퍼 파라미터를 찾아보자"
   ]
  },
  {
   "cell_type": "code",
   "execution_count": 19,
   "id": "f6eefb66",
   "metadata": {},
   "outputs": [],
   "source": [
    "from sklearn.model_selection import GridSearchCV\n",
    "# 내부적으로 교차검증 진행"
   ]
  },
  {
   "cell_type": "code",
   "execution_count": 20,
   "id": "4983526b",
   "metadata": {},
   "outputs": [
    {
     "data": {
      "text/plain": [
       "GridSearchCV(cv=5, estimator=RandomForestClassifier(random_state=10), n_jobs=-1,\n",
       "             param_grid={'max_depth': [3, 5, 7], 'max_leaf_nodes': [2, 4, 6],\n",
       "                         'min_samples_split': [3, 5, 7],\n",
       "                         'n_estimators': [50, 70, 100]},\n",
       "             scoring='accuracy')"
      ]
     },
     "execution_count": 20,
     "metadata": {},
     "output_type": "execute_result"
    }
   ],
   "source": [
    "# 최적의 파라미터 찾기 위해서\n",
    "# 파라미터의 경우의 수를 설정\n",
    "# 모델 객체 생성\n",
    "# 그리드 서치 적용\n",
    "params = {'n_estimators':[50,70,100],\n",
    "        'max_depth':[3,5,7],\n",
    "        'max_leaf_nodes':[2,4,6],\n",
    "        'min_samples_split':[3,5,7]  \n",
    "         }\n",
    "model = RandomForestClassifier(random_state=10)\n",
    "grid = GridSearchCV(model,params, cv=5, scoring = 'accuracy',n_jobs=-1,)\n",
    "# n_jobs 코어 활용 개수 설정 : -1 사용가능한 만큼\n",
    "# 그리드 서치 실행 fit\n",
    "grid.fit(X_train, y_train)"
   ]
  },
  {
   "cell_type": "code",
   "execution_count": 21,
   "id": "e4c49e6e",
   "metadata": {},
   "outputs": [
    {
     "name": "stdout",
     "output_type": "stream",
     "text": [
      "파라미터 확인: {'max_depth': 5, 'max_leaf_nodes': 6, 'min_samples_split': 3, 'n_estimators': 100}\n",
      "정확도: 0.9473101265822784\n"
     ]
    }
   ],
   "source": [
    "# 가장 높은 성능일 떄의 모델의 하이퍼 파라미터 확인\n",
    "# 정확도 확인\n",
    "print('파라미터 확인:',grid.best_params_)\n",
    "print('정확도:',grid.best_score_)"
   ]
  },
  {
   "cell_type": "markdown",
   "id": "130cf173",
   "metadata": {},
   "source": [
    "#### 모델 완성 및 영향력 높은 특성 확인"
   ]
  },
  {
   "cell_type": "code",
   "execution_count": 22,
   "id": "4d47f293",
   "metadata": {},
   "outputs": [
    {
     "name": "stdout",
     "output_type": "stream",
     "text": [
      "훈련데이터 정확도: 0.9748743718592965\n",
      "테스트데이터 정확도: 0.9590643274853801\n"
     ]
    }
   ],
   "source": [
    "# 랜덤포레스트 모델 완성하기 ( 객체 생성하기 )\n",
    "model_best = RandomForestClassifier(n_estimators=100,\n",
    "                                   max_depth=5,\n",
    "                                   max_leaf_nodes=6,\n",
    "                                   min_samples_leaf=3,\n",
    "                                   random_state=10)\n",
    "# fit 학습\n",
    "model_best.fit(X_train,y_train)\n",
    "\n",
    "# 정확도 확인\n",
    "# score - train, test\n",
    "print('훈련데이터 정확도:',model_best.score(X_train,y_train))\n",
    "print('테스트데이터 정확도:',model_best.score(X_test,y_test))"
   ]
  },
  {
   "cell_type": "markdown",
   "id": "83b55680",
   "metadata": {},
   "source": [
    "모델이 중요하게 여긴 특성 확인"
   ]
  },
  {
   "cell_type": "code",
   "execution_count": 23,
   "id": "3b770a48",
   "metadata": {},
   "outputs": [
    {
     "data": {
      "text/plain": [
       "<AxesSubplot:>"
      ]
     },
     "execution_count": 23,
     "metadata": {},
     "output_type": "execute_result"
    },
    {
     "data": {
      "image/png": "[encoded data removed]",
      "text/plain": [
       "<Figure size 432x288 with 1 Axes>"
      ]
     },
     "metadata": {
      "needs_background": "light"
     },
     "output_type": "display_data"
    }
   ],
   "source": [
    "model_best.feature_importances_\n",
    "# 인덱스 컬럼명으로 설정하여 df 구성\n",
    "# 컬럼명도 명시 - importance\n",
    "df1 = pd.DataFrame(model_best.feature_importances_,index=cancer_data.feature_names,\n",
    "                  columns=['importance'])\n",
    "df1_st = df1.sort_values(by='importance',ascending=False).head()\n",
    "df1_st.plot.barh()"
   ]
  },
  {
   "cell_type": "markdown",
   "id": "649502e6",
   "metadata": {},
   "source": [
    "#### AdaBoost모델\n",
    "- 부스팅 기법, 독립적으로 학습하는 모델x, 연속적으로 학습을 하는 모델\n",
    "- 분류, 회귀 모두 사용 가능\n",
    "- 이전 모델이 잘못 예측한 데이터샘플에 대하여 가중치 부여하여 다음 모델을 훈련시킴\n",
    "- 예측기(트리모델) 개수 몇개 : n_estimators\n",
    "- learning_rate : 가중치 갱신 변동폭 조정(0~1), 1.0 설정\n",
    "- 사전 가지치기를 지원x"
   ]
  },
  {
   "cell_type": "code",
   "execution_count": 24,
   "id": "bc733341",
   "metadata": {},
   "outputs": [
    {
     "data": {
      "text/plain": [
       "AdaBoostClassifier(n_estimators=5, random_state=42)"
      ]
     },
     "execution_count": 24,
     "metadata": {},
     "output_type": "execute_result"
    }
   ],
   "source": [
    "from sklearn.ensemble import AdaBoostClassifier\n",
    "\n",
    "# 모델 객체 생성\n",
    "# 예측기 5개 만들어보자\n",
    "# random_state = 42\n",
    "ada_model = AdaBoostClassifier(n_estimators=5,\n",
    "                              random_state=42)\n",
    "# 모델 학습 fit (X_train,y_train) : 데이터에 맞춰서 모델이 학습\n",
    "ada_model.fit(X_train,y_train)"
   ]
  },
  {
   "cell_type": "code",
   "execution_count": 25,
   "id": "c2c8f575",
   "metadata": {},
   "outputs": [
    {
     "name": "stdout",
     "output_type": "stream",
     "text": [
      "학습데이터를 이용한 예측 :\n",
      " [1 1 1 0 1 1 1 0 1 0 1 1 1 1 1 0 1 1 1 1 1 0 0 0 1 0 1 1 1 1 1 1 0 1 1 0 1\n",
      " 1 1 1 0 0 1 0 1 0 0 1 0 1 0 0 1 1 1 1 0 0 1 1 1 0 1 1 1 0 1 0 1 1 0 1 0 0\n",
      " 1 0 0 0 1 1 1 1 1 0 1 1 1 1 1 1 1 1 1 1 1 1 1 1 1 0 0 1 0 1 1 0 1 0 1 0 1\n",
      " 0 0 0 1 1 0 0 0 0 1 1 1 0 1 0 1 1 1 0 0 0 1 1 1 1 0 1 1 1 1 1 0 1 1 0 1 1\n",
      " 0 1 1 1 0 0 1 1 0 1 1 0 1 0 0 0 0 1 1 1 1 0 1 1 1 1 0 1 1 1 0 0 1 1 1 0 0\n",
      " 1 0 0 1 0 1 1 1 0 1 1 1 1 0 1 1 1 1 0 0 1 1 0 1 1 0 1 1 1 0 1 1 1 0 0 1 1\n",
      " 1 0 0 0 1 0 0 0 1 0 0 1 1 1 0 1 0 0 0 0 0 0 1 1 1 0 1 0 1 0 0 1 1 1 1 1 1\n",
      " 0 1 0 0 0 0 1 1 0 1 0 0 0 1 1 0 1 0 1 1 0 1 1 1 1 1 1 1 1 1 1 1 0 0 0 1 1\n",
      " 1 1 0 0 1 1 0 0 1 0 1 1 1 0 0 1 1 1 0 0 0 1 1 1 1 1 1 1 0 0 0 1 1 1 1 1 0\n",
      " 1 0 1 0 0 1 1 0 0 1 0 1 0 1 0 1 1 1 1 1 0 0 1 1 1 1 1 0 0 1 1 1 1 0 0 1 0\n",
      " 0 1 1 1 0 1 1 1 0 0 1 1 1 0 0 0 1 1 1 1 0 0 1 1 1 0 1 1]\n",
      "테스트데이터를 이용한 예측 :\n",
      " [1 1 1 1 1 0 0 0 1 1 0 1 1 0 1 0 0 1 0 0 1 0 1 0 0 1 0 1 1 1 1 0 0 1 0 1 0\n",
      " 0 1 1 1 1 0 1 0 1 1 1 0 0 0 1 0 1 0 0 0 0 1 1 0 1 1 1 0 1 1 0 1 0 1 1 1 1\n",
      " 0 0 1 0 1 1 1 0 1 0 1 1 1 0 0 1 1 1 1 0 1 1 0 1 1 1 1 1 1 1 0 1 1 1 0 1 0\n",
      " 1 1 1 1 1 1 1 0 1 1 0 1 1 0 0 0 1 1 1 1 0 1 0 1 0 1 1 1 1 0 1 1 1 0 1 1 1\n",
      " 1 0 1 1 1 1 1 0 1 0 1 1 1 0 0 0 0 0 0 1 0 1 0]\n"
     ]
    }
   ],
   "source": [
    "# 예측\n",
    "# train 예측해보기\n",
    "train_pre = ada_model.predict(X_train)\n",
    "# test 예측해보기\n",
    "test_pre = ada_model.predict(X_test)\n",
    "\n",
    "print('학습데이터를 이용한 예측 :\\n',train_pre)\n",
    "print('테스트데이터를 이용한 예측 :\\n',test_pre)"
   ]
  },
  {
   "cell_type": "code",
   "execution_count": 26,
   "id": "64f7610f",
   "metadata": {},
   "outputs": [
    {
     "name": "stdout",
     "output_type": "stream",
     "text": [
      "훈련 데이터 정확도: 0.964824120603015\n",
      "테스트 데이터 정확도: 0.9415204678362573\n"
     ]
    }
   ],
   "source": [
    "# 평가\n",
    "from sklearn.metrics import accuracy_score\n",
    "print('훈련 데이터 정확도:',accuracy_score(train_pre,y_train))\n",
    "print('테스트 데이터 정확도:',accuracy_score(test_pre,y_test))"
   ]
  },
  {
   "cell_type": "code",
   "execution_count": 27,
   "id": "1fa5bd8c",
   "metadata": {},
   "outputs": [
    {
     "name": "stdout",
     "output_type": "stream",
     "text": [
      "훈련 데이터 정확도 : 1.0\n",
      "훈련 데이터 정확도 : 0.9707602339181286\n"
     ]
    }
   ],
   "source": [
    "# 모델의 하이퍼 파라미터를 조정하며 결과 변화를 살펴보자\n",
    "# 내부적으로 생성되는 예측기 100\n",
    "# random_state = 42 객체 생성\n",
    "ada_model2 = AdaBoostClassifier(n_estimators=100,\n",
    "                               random_state=42)\n",
    "# 모델 학습\n",
    "ada_model2.fit(X_train,y_train)\n",
    "# 모델 평가\n",
    "# 훈련, 테스트 모두 정확도 확인\n",
    "# 모델.score\n",
    "print('훈련 데이터 정확도 :',ada_model2.score(X_train,y_train))\n",
    "print('훈련 데이터 정확도 :',ada_model2.score(X_test,y_test))"
   ]
  },
  {
   "cell_type": "markdown",
   "id": "9c39bbbd",
   "metadata": {},
   "source": [
    "#### GridSearch 적용하여 모델의 성능 개선시키기\n",
    "- 다양한 파라미터를 교차검증하여 최적의 파라미터 찾기"
   ]
  },
  {
   "cell_type": "code",
   "execution_count": 28,
   "id": "de26909a",
   "metadata": {},
   "outputs": [
    {
     "data": {
      "text/plain": [
       "GridSearchCV(cv=5, estimator=AdaBoostClassifier(random_state=42), n_jobs=-1,\n",
       "             param_grid={'learning_rate': [0.4, 0.6, 1.0],\n",
       "                         'n_estimators': [50, 100, 200]},\n",
       "             scoring='accuracy')"
      ]
     },
     "execution_count": 28,
     "metadata": {},
     "output_type": "execute_result"
    }
   ],
   "source": [
    "from sklearn.model_selection import GridSearchCV\n",
    "# 'learning_rate' : 가중치 변동폭 설정\n",
    "# 튜닝할 매개변수 경우의 설정\n",
    "params = {'n_estimators':[50,100,200],\n",
    "         'learning_rate':[0.4,0.6,1.0]}\n",
    "# 모델 객체 생성\n",
    "# 예측기 개수, 학습률은 기본값 그래도 사용 - 따로 지정 안해도 됨\n",
    "model = AdaBoostClassifier(random_state=42)\n",
    "# 그리드서치 적용\n",
    "grid = GridSearchCV(model,params,cv=5,scoring='accuracy',n_jobs=-1)\n",
    "\n",
    "# 그리드서치 실행 fit\n",
    "grid.fit(X_train,y_train)"
   ]
  },
  {
   "cell_type": "code",
   "execution_count": 29,
   "id": "985990d0",
   "metadata": {},
   "outputs": [
    {
     "name": "stdout",
     "output_type": "stream",
     "text": [
      "최고 성능: 0.9674050632911392\n",
      "파라미터 조합 {'learning_rate': 0.4, 'n_estimators': 200}\n"
     ]
    }
   ],
   "source": [
    "# 가장 높은 성능일 때의 모델의 정확도와 하이퍼 파라미터 조합 확인\n",
    "print('최고 성능:',grid.best_score_)\n",
    "print('파라미터 조합',grid.best_params_)"
   ]
  },
  {
   "cell_type": "markdown",
   "id": "684aa5a3",
   "metadata": {},
   "source": [
    "#### 모델 완성 및 영향력있는 특성 출력"
   ]
  },
  {
   "cell_type": "code",
   "execution_count": 30,
   "id": "87c559c0",
   "metadata": {},
   "outputs": [
    {
     "name": "stdout",
     "output_type": "stream",
     "text": [
      "훈련데이터 정확도: 1.0\n",
      "테스트데이터 정확도 0.9766081871345029\n"
     ]
    }
   ],
   "source": [
    "# 모델 완성\n",
    "model_best = AdaBoostClassifier(n_estimators=200,learning_rate=0.4, random_state=42)\n",
    "# 모델 학습\n",
    "model_best.fit(X_train,y_train)\n",
    "# 모델 정확도\n",
    "# 훈련용, 테스트용 모두 확인\n",
    "tr_score = model_best.score(X_train,y_train)\n",
    "te_score = model_best.score(X_test,y_test)\n",
    "\n",
    "print('훈련데이터 정확도:',tr_score)\n",
    "print('테스트데이터 정확도',te_score)\n"
   ]
  },
  {
   "cell_type": "code",
   "execution_count": 31,
   "id": "f3690828",
   "metadata": {},
   "outputs": [
    {
     "data": {
      "text/plain": [
       "<AxesSubplot:>"
      ]
     },
     "execution_count": 31,
     "metadata": {},
     "output_type": "execute_result"
    },
    {
     "data": {
      "image/png": "[encoded data removed]",
      "text/plain": [
       "<Figure size 432x288 with 1 Axes>"
      ]
     },
     "metadata": {
      "needs_background": "light"
     },
     "output_type": "display_data"
    }
   ],
   "source": [
    "model_best.feature_importances_\n",
    "# 인덱스 컬럼명으로 설정하여 df 구성\n",
    "# 컬럼명도 명시 - importance\n",
    "df1 = pd.DataFrame(model_best.feature_importances_,index=cancer_data.feature_names,\n",
    "                  columns=['importance'])\n",
    "df1_st = df1.sort_values(by='importance',ascending=False).head()\n",
    "df1_st.plot.barh()"
   ]
  },
  {
   "cell_type": "markdown",
   "id": "fcd1ab72",
   "metadata": {},
   "source": [
    "### Gradent Boosting 그래디언트 부스팅 모델\n",
    "- 부스팅 기법 중 하나, adamodel 과 학습하는 것은 유사\n",
    "- 강력한 사전 가지치기를 적용\n",
    "- 회귀, 분류 모두 사용 가능\n",
    "- n_estimators : 예측 모델의 개수\n",
    "- learning_rate : 가중치 갱신 변동폭\n",
    "- max_depth : 깊이 설정(모델의 복잡도 제어하는 하이퍼 파라미터)"
   ]
  },
  {
   "cell_type": "code",
   "execution_count": 32,
   "id": "3778e5f5",
   "metadata": {},
   "outputs": [],
   "source": [
    "from sklearn.ensemble import GradientBoostingClassifier"
   ]
  },
  {
   "cell_type": "code",
   "execution_count": 33,
   "id": "10004104",
   "metadata": {},
   "outputs": [
    {
     "name": "stdout",
     "output_type": "stream",
     "text": [
      "훈련데이터 정확도: 1.0\n",
      "테스트데이터 정확도: 0.9649122807017544\n"
     ]
    }
   ],
   "source": [
    "# 모델 객체\n",
    "# random_state = 0\n",
    "# 하이퍼파라미터 값들 default\n",
    "gb_model = GradientBoostingClassifier(random_state=0)\n",
    "\n",
    "# 학습\n",
    "gb_model.fit(X_train,y_train)\n",
    "\n",
    "# 모델 평가\n",
    "tr_score = gb_model.score(X_train,y_train)\n",
    "te_score = gb_model.score(X_test,y_test)\n",
    "\n",
    "print('훈련데이터 정확도:',tr_score)\n",
    "print('테스트데이터 정확도:',te_score)"
   ]
  },
  {
   "cell_type": "code",
   "execution_count": 34,
   "id": "a38d5a25",
   "metadata": {},
   "outputs": [
    {
     "data": {
      "text/plain": [
       "GridSearchCV(cv=5, estimator=GradientBoostingClassifier(random_state=0),\n",
       "             n_jobs=-1,\n",
       "             param_grid={'learning_rate': [0.1, 0.2, 0.4],\n",
       "                         'max_depth': [1, 2, 3, 4],\n",
       "                         'n_estimators': [50, 100, 200]},\n",
       "             scoring='accuracy')"
      ]
     },
     "execution_count": 34,
     "metadata": {},
     "output_type": "execute_result"
    }
   ],
   "source": [
    "# 튜닝할 매개변수 설정\n",
    "params = {'n_estimators':[50,100,200],\n",
    "         'max_depth':[1,2,3,4],\n",
    "         'learning_rate':[0.1,0.2,0.4]}\n",
    "#모델 생성\n",
    "model = GradientBoostingClassifier(random_state=0)\n",
    "\n",
    "# grid 적용\n",
    "# 검증횟수 cv= 5\n",
    "grid = GridSearchCV(model, params, cv=5, scoring='accuracy',n_jobs=-1)\n",
    "\n",
    "# grid 실행(학습)\n",
    "# 훈련데이터셋 사용\n",
    "grid.fit(X_train,y_train)"
   ]
  },
  {
   "cell_type": "code",
   "execution_count": 35,
   "id": "e09d2ce8",
   "metadata": {},
   "outputs": [
    {
     "name": "stdout",
     "output_type": "stream",
     "text": [
      "최고의 성능: 0.9724683544303797\n",
      "최적의 파라미터 조합: {'learning_rate': 0.4, 'max_depth': 2, 'n_estimators': 200}\n"
     ]
    }
   ],
   "source": [
    "# 최고의 성능, 최적의 파라미터 조합 확인\n",
    "print('최고의 성능:',grid.best_score_)\n",
    "print('최적의 파라미터 조합:',grid.best_params_)"
   ]
  },
  {
   "cell_type": "markdown",
   "id": "6f833730",
   "metadata": {},
   "source": [
    "#### 모델 완성 및 중요한 특성 확인"
   ]
  },
  {
   "cell_type": "code",
   "execution_count": 36,
   "id": "7fedc484",
   "metadata": {},
   "outputs": [
    {
     "name": "stdout",
     "output_type": "stream",
     "text": [
      "훈련데이터: 1.0\n",
      "테스트데이터: 0.9473684210526315\n"
     ]
    }
   ],
   "source": [
    "model_best = GradientBoostingClassifier(n_estimators=200,\n",
    "                                       max_depth=2,\n",
    "                                       learning_rate=0.4,\n",
    "                                       random_state=0)\n",
    "# 모델 학습\n",
    "model_best.fit(X_train,y_train)\n",
    "# 모델 평가\n",
    "#훈련데이터, 테스트 데이터 정확도 모두 확인\n",
    "tr_score = model_best.score(X_train,y_train)\n",
    "te_score = model_best.score(X_test,y_test)\n",
    "print('훈련데이터:',tr_score)\n",
    "print('테스트데이터:',te_score)"
   ]
  },
  {
   "cell_type": "code",
   "execution_count": null,
   "id": "5a1209d3",
   "metadata": {},
   "outputs": [],
   "source": [
    "# 머신러닝의 궁극적인 목표 :test데이터가 여러번 들어오더라도 모두 비슷한 성능 내는모델\n",
    "# -> 어떤 test데이터에서든지 일반적인 성능을 내는 모델 찾는 것 -> 일반화모델"
   ]
  },
  {
   "cell_type": "markdown",
   "id": "f0b3083b",
   "metadata": {},
   "source": [
    "### XGBoost 모델\n",
    "\n",
    "- 결정 트리 기반의 앙상블 모델에서 가장 각광받고 있는 알고리즘의 하나\n",
    "\n",
    "- 분류에 있어서 일반적으로 다른 머신 러닝 모델보다 뛰어난 성능을 나타냄\n",
    "\n",
    "- GBM을 기반으로 하지만, GBM에서 제공하지 않는 Early Stopping 기능과 과대적합 방지를 위한 규제가 포함됨으로써 GBM의 단점인 느린 학습 시간과 과대적합의 문제를 해결하였음\n",
    "\n",
    "- 대규모 머신 러닝 문제에 그래디언트 부스팅을 적용하려면 XGBoost를 사용\n",
    "\n",
    "- 분류와 회귀가 모두 가능"
   ]
  },
  {
   "cell_type": "code",
   "execution_count": 37,
   "id": "20c0d85b",
   "metadata": {},
   "outputs": [
    {
     "name": "stdout",
     "output_type": "stream",
     "text": [
      "Collecting xgboost\n",
      "  Downloading xgboost-1.5.2-py3-none-win_amd64.whl (106.6 MB)\n",
      "Requirement already satisfied: scipy in c:\\users\\smhrd\\anaconda3\\lib\\site-packages (from xgboost) (1.7.3)\n",
      "Requirement already satisfied: numpy in c:\\users\\smhrd\\anaconda3\\lib\\site-packages (from xgboost) (1.21.4)\n",
      "Installing collected packages: xgboost\n",
      "Successfully installed xgboost-1.5.2\n"
     ]
    }
   ],
   "source": [
    "#설치\n",
    "!pip install xgboost"
   ]
  },
  {
   "cell_type": "code",
   "execution_count": 38,
   "id": "41bacfd2",
   "metadata": {},
   "outputs": [
    {
     "name": "stdout",
     "output_type": "stream",
     "text": [
      "1.5.2\n"
     ]
    }
   ],
   "source": [
    "# xgboost 패키지 설치 후 버전확인\n",
    "import xgboost\n",
    "print(xgboost.__version__) # 더블언더바, 던더"
   ]
  },
  {
   "cell_type": "code",
   "execution_count": 41,
   "id": "68a29c6b",
   "metadata": {},
   "outputs": [
    {
     "name": "stdout",
     "output_type": "stream",
     "text": [
      "[12:46:56] WARNING: C:/Users/Administrator/workspace/xgboost-win64_release_1.5.1/src/learner.cc:1115: Starting in XGBoost 1.3.0, the default evaluation metric used with the objective 'binary:logistic' was changed from 'error' to 'logloss'. Explicitly set eval_metric if you'd like to restore the old behavior.\n",
      "훈련데이터 정확도: 1.0\n",
      "테스트데이터 정확도: 0.9824561403508771\n"
     ]
    },
    {
     "name": "stderr",
     "output_type": "stream",
     "text": [
      "C:\\Users\\smhrd\\anaconda3\\lib\\site-packages\\xgboost\\sklearn.py:1224: UserWarning: The use of label encoder in XGBClassifier is deprecated and will be removed in a future release. To remove this warning, do the following: 1) Pass option use_label_encoder=False when constructing XGBClassifier object; and 2) Encode your labels (y) as integers starting with 0, i.e. 0, 1, 2, ..., [num_class - 1].\n",
      "  warnings.warn(label_encoder_deprecation_msg, UserWarning)\n"
     ]
    }
   ],
   "source": [
    "from xgboost import XGBClassifier\n",
    "# 객체 생성\n",
    "xgb_clf = XGBClassifier(random_state=0)\n",
    "# 학습\n",
    "xgb_clf.fit(X_train,y_train)\n",
    "# 평가\n",
    "print('훈련데이터 정확도:',xgb_clf.score(X_train,y_train))\n",
    "print('테스트데이터 정확도:',xgb_clf.score(X_test,y_test))"
   ]
  },
  {
   "cell_type": "code",
   "execution_count": null,
   "id": "afcf1a2a",
   "metadata": {},
   "outputs": [],
   "source": []
  },
  {
   "cell_type": "code",
   "execution_count": null,
   "id": "bbbb16f5",
   "metadata": {},
   "outputs": [],
   "source": []
  },
  {
   "cell_type": "code",
   "execution_count": null,
   "id": "bed13e89",
   "metadata": {},
   "outputs": [],
   "source": []
  },
  {
   "cell_type": "code",
   "execution_count": null,
   "id": "9b2647d7",
   "metadata": {},
   "outputs": [],
   "source": []
  },
  {
   "cell_type": "code",
   "execution_count": null,
   "id": "8cdf4e2c",
   "metadata": {},
   "outputs": [],
   "source": []
  }
 ],
 "metadata": {
  "kernelspec": {
   "display_name": "Python 3 (ipykernel)",
   "language": "python",
   "name": "python3"
  },
  "language_info": {
   "codemirror_mode": {
    "name": "ipython",
    "version": 3
   },
   "file_extension": ".py",
   "mimetype": "text/x-python",
   "name": "python",
   "nbconvert_exporter": "python",
   "pygments_lexer": "ipython3",
   "version": "3.8.8"
  }
 },
 "nbformat": 4,
 "nbformat_minor": 5
}

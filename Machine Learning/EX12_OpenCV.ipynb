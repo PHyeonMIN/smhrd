{
 "cells": [
  {
   "cell_type": "markdown",
   "id": "c4523143",
   "metadata": {},
   "source": [
    "### OpenCV 라이브러리 개요\n",
    "- 이미지/영상(컴퓨터 비전) 처리를 지원하는 라이브러리\n",
    "- C++ 로 제작되어짐\n",
    "- C++, Python, Java, Android, js 등과 연동이 가능\n",
    "- numpy, matplotlib, scipy 등과 연동이 가능\n",
    "- 사용하는 색상공간 : BGR(Blue, Green, Red)"
   ]
  },
  {
   "cell_type": "markdown",
   "id": "3e5f4c3a",
   "metadata": {},
   "source": [
    "유용한 OpenCV 사이트¶\n",
    "https://opencv.org/ : OpenCV 공식 사이트\n",
    "\n",
    "https://blog.naver.com/samsjang/220498694383 : 잘 정리된 OpenCV 관련 블로그 (코드 복사 가능)\n",
    "\n",
    "https://m.blog.naver.com/samsjang/220498694383 : 위의 블로그와 동일한 블로그 (내용 추가)\n",
    "\n",
    "https://github.com/opencv/opencv : OpenCV github 사이트\n",
    "\n",
    "https://learnopencv.com/ : 높은 수준의 결과물을 낼 수 있는 다양한 코드 제공 (프로젝트에 활용)\n",
    "\n",
    "https://github.com/spmallick/learnopencv/blob/master/README.md?ck_subscriber_id=1390420859 : 파이토치로 된 좋은 예시 코드\n",
    "\n",
    "https://github.com/LongxingTan/Yolov5"
   ]
  },
  {
   "cell_type": "code",
   "execution_count": null,
   "id": "6f09c5e0",
   "metadata": {},
   "outputs": [],
   "source": [
    "# 설치\n",
    "!pip install opencv-python"
   ]
  },
  {
   "cell_type": "markdown",
   "id": "a3d22e0a",
   "metadata": {},
   "source": [
    "#### 이미지 불러오기"
   ]
  },
  {
   "cell_type": "code",
   "execution_count": null,
   "id": "58b5d0fe",
   "metadata": {},
   "outputs": [],
   "source": [
    "import cv2\n",
    "import matplotlib.pyplot as plt\n",
    "\n",
    "# imread() : 이미지를 읽는 함수\n",
    "ryan = cv2.imread('data/ryan.png', cv2.IMREAD_COLOR)\n",
    "plt.imshow(ryan)"
   ]
  },
  {
   "cell_type": "markdown",
   "id": "15c70896",
   "metadata": {},
   "source": [
    "- opencv는 bgr을 사용하는데 python은 rgb기준으로 사용하기 때문에 출력이 다름\n",
    "- bgr -> rgb"
   ]
  },
  {
   "cell_type": "code",
   "execution_count": null,
   "id": "b9017b78",
   "metadata": {},
   "outputs": [],
   "source": [
    "import cv2\n",
    "\n",
    "# bgr->rgb 색상공간 변경\n",
    "ryan2 = cv2.cvtColor(ryan, cv2.COLOR_BGR2RGB)\n",
    "\n",
    "# 축의 눈금 삭제\n",
    "plt.xticks([])\n",
    "plt.yticks([])\n",
    "\n",
    "# 출력\n",
    "plt.imshow(ryan2)"
   ]
  },
  {
   "cell_type": "code",
   "execution_count": null,
   "id": "e2b6264c",
   "metadata": {},
   "outputs": [],
   "source": [
    "import cv2\n",
    "\n",
    "# imread() : 이미지를 읽는 함수\n",
    "a = cv2.imread('data/333.png', cv2.IMREAD_COLOR)\n",
    "\n",
    "# bgr->rgb 색상공간 변경\n",
    "b = cv2.cvtColor(a, cv2.COLOR_BGR2RGB)\n",
    "\n",
    "# 축의 눈금 삭제\n",
    "plt.xticks([])\n",
    "plt.yticks([])\n",
    "\n",
    "# 출력\n",
    "plt.imshow(b)"
   ]
  },
  {
   "cell_type": "markdown",
   "id": "2708dd92",
   "metadata": {},
   "source": [
    "#### 컬러 -> gray(흑백) 이미지로 변환\n",
    "- 이미지를 읽을때 gray 이미지로 변환해서 읽는 방법 : 컬러이미지가 필요없는 경우\n",
    "- 컬러이미지로 읽어서 grayy로 이미지를 변환하는 방법 : 컬러이미지가 필요한 경우"
   ]
  },
  {
   "cell_type": "code",
   "execution_count": null,
   "id": "bdea03ae",
   "metadata": {},
   "outputs": [],
   "source": [
    "# 이미지를 읽을때 gray로 변환해서 읽는 방법\n",
    "ryan_gray = cv2.imread('data/ryan.png',cv2.IMREAD_GRAYSCALE)\n",
    "plt.xticks([]), plt.yticks([])\n",
    "plt.imshow(ryan_gray, cmap='gray')"
   ]
  },
  {
   "cell_type": "code",
   "execution_count": null,
   "id": "cb04e271",
   "metadata": {},
   "outputs": [],
   "source": [
    "# 원하는 이미지 그레이스케일로 변환\n",
    "gray_a = cv2.imread('data/333.png', cv2.IMREAD_GRAYSCALE)\n",
    "plt.xticks([]), plt.yticks([])\n",
    "plt.imshow(gray_a, cmap='gray')"
   ]
  },
  {
   "cell_type": "markdown",
   "id": "7e5f4179",
   "metadata": {},
   "source": [
    "#### 이진(binary) 이미지 만들기\n",
    "- 그레이 스케일 0~255 까지 밝기를 표현해서 만든 이미지\n",
    "- 이진 이미지는 0과 1로 완전한 흑, 백으로 표현한 이미지"
   ]
  },
  {
   "cell_type": "code",
   "execution_count": null,
   "id": "f0910c24",
   "metadata": {
    "scrolled": true
   },
   "outputs": [],
   "source": [
    "import cv2\n",
    "import matplotlib.pyplot as plt\n",
    "\n",
    "img = cv2.imread('data/333.png', cv2.IMREAD_GRAYSCALE)\n",
    "\n",
    "# THRESHOLD 이진화\n",
    "# 150 낮으면 흑, 아니면 백\n",
    "_, thr1 = cv2.threshold(img, 150 ,255, cv2.THRESH_BINARY)\n",
    "                            #경계값\n",
    "plt.imshow(thr1, cmap='gray')\n",
    "plt.xticks([]), plt.yticks([])\n",
    "plt.title('binary image')\n",
    "plt.show()"
   ]
  },
  {
   "cell_type": "code",
   "execution_count": null,
   "id": "254b4d3c",
   "metadata": {},
   "outputs": [],
   "source": [
    "# 이미지 창 뜨도록 이미지 출력\n",
    "import cv2\n",
    "\n",
    "img = cv2.imread('data/ryan.png', cv2.IMREAD_COLOR)\n",
    "cv2.imshow('ryan img',img)\n",
    "cv2.waitKey(0) # 0키보드값의 입력이 들어오기 전에는 창을 그대로 켜듐, 무한대로 기다림\n",
    "cv2.destroyAllWindows()"
   ]
  },
  {
   "cell_type": "markdown",
   "id": "2ee2869b",
   "metadata": {},
   "source": [
    "#### 이미지 처리 방법\n",
    "- 1. 픽셀 기반 처리 : 픽셀단위로 처리\n",
    "- 2. 블록 기반 처리 : 블록(픽셀을 그룹화 한 것)단위로 처리\n",
    "- 3. 주파수 기반 처리 : 주파수 영역으로 변환하여 처리"
   ]
  },
  {
   "cell_type": "markdown",
   "id": "4cf367fc",
   "metadata": {},
   "source": [
    "#### 이미지 속성 출력"
   ]
  },
  {
   "cell_type": "code",
   "execution_count": null,
   "id": "429962a7",
   "metadata": {},
   "outputs": [],
   "source": [
    "import cv2\n",
    "\n",
    "img = cv2.imread('data/lenna.png', cv2.IMREAD_COLOR)\n",
    "\n",
    "# 이미지 크기 확인\n",
    "print('이미지 크기 확인:',img.shape)\n",
    "# 3 - 3개의 색상공간 channel (b,g,r)\n",
    "\n",
    "# 이미지 사이즈(픽셀수)\n",
    "print(img.size)\n",
    "\n",
    "# 이미지 데이터 타입 확인\n",
    "print(img.dtype) # uint8 정수"
   ]
  },
  {
   "cell_type": "markdown",
   "id": "1ef72d31",
   "metadata": {},
   "source": [
    "#### 이미지 픽셀 값 출력"
   ]
  },
  {
   "cell_type": "code",
   "execution_count": null,
   "id": "0fbd2e3a",
   "metadata": {},
   "outputs": [],
   "source": [
    "# 하나의 픽셀에는 어떤 색감 값이 들어있을까?\n",
    "import cv2\n",
    "\n",
    "img = cv2.imread('data/lenna.png', cv2.IMREAD_COLOR)\n",
    "\n",
    "# y,x(세로(행), 가로(열))\n",
    "px = img[200,100]\n",
    "print(px)\n",
    "\n",
    "print('b:',px[0])\n",
    "print('g:',px[1])\n",
    "print('r:',px[2])"
   ]
  },
  {
   "cell_type": "code",
   "execution_count": null,
   "id": "b4f37f17",
   "metadata": {},
   "outputs": [],
   "source": [
    "# 색상공간을 변환하여 200,100 픽셀의 rgb값 출력해보기\n",
    "import cv2\n",
    "\n",
    "img = cv2.imread('data/lenna.png', cv2.IMREAD_COLOR)\n",
    "\n",
    "# bgr -> rgb\n",
    "img = cv2.cvtColor(img, cv2.COLOR_BGR2RGB)\n",
    "\n",
    "plt.imshow(img)\n",
    "plt.show()\n",
    "\n",
    "# 픽셀에 접근\n",
    "# y(행),x(열)\n",
    "# img : rgb형식\n",
    "px=img[200,100]\n",
    "print('r:',px[0])\n",
    "print('g:',px[1])\n",
    "print('b:',px[2])"
   ]
  },
  {
   "cell_type": "markdown",
   "id": "408f1d3b",
   "metadata": {},
   "source": [
    "#### 픽셀 값 변경"
   ]
  },
  {
   "cell_type": "code",
   "execution_count": null,
   "id": "8fbdf1c9",
   "metadata": {},
   "outputs": [],
   "source": [
    "# [b,g,r]\n",
    "import numpy as np\n",
    "a= np.array([1,2,3,4,5])\n",
    "a[0] = 3\n",
    "a"
   ]
  },
  {
   "cell_type": "code",
   "execution_count": null,
   "id": "90ef83aa",
   "metadata": {},
   "outputs": [],
   "source": [
    "import cv2\n",
    "import matplotlib.pyplot as plt\n",
    "\n",
    "img = cv2.imread('data/lenna.png', cv2.IMREAD_COLOR)\n",
    "\n",
    "# 총 네개의 픽셀 접근 ( 픽셀값 -> 흰색으로 변경 )\n",
    "# [B,G,R] => [255,255,255]\n",
    "img[200,100] = [0,0,0]\n",
    "img[201,100] = [0,0,0]\n",
    "img[200,101] = [0,0,0]\n",
    "img[201,101] = [0,0,0]\n",
    "\n",
    "# 출력할때는 rgb로 보이게 색상공간 변형\n",
    "img = cv2.cvtColor(img, cv2.COLOR_BGR2RGB)\n",
    "plt.imshow(img)"
   ]
  },
  {
   "cell_type": "markdown",
   "id": "1b021892",
   "metadata": {},
   "source": [
    "#### ROI ( Region of Image )\n",
    "- 관심영역 : 이미지에서 필요로하는 부분 선택(추출)"
   ]
  },
  {
   "cell_type": "code",
   "execution_count": null,
   "id": "3d3ddeae",
   "metadata": {},
   "outputs": [],
   "source": [
    "import cv2\n",
    "import matplotlib.pyplot as plt\n",
    "\n",
    "img = cv2.imread('data/lenna.png', cv2.IMREAD_COLOR)\n",
    "img = cv2.cvtColor(img,cv2.COLOR_BGR2RGB)\n",
    "plt.imshow(img)\n",
    "\n",
    "# 관심 영역 선택\n",
    "# 행(세로)과 열(가로) 슬라이싱\n",
    "subimg = img[200:400,200:360]\n",
    "plt.imshow(subimg)"
   ]
  },
  {
   "cell_type": "code",
   "execution_count": null,
   "id": "04635db8",
   "metadata": {},
   "outputs": [],
   "source": [
    "subimg = img[50:270,100:410]\n",
    "plt.imshow(subimg)"
   ]
  },
  {
   "cell_type": "markdown",
   "id": "df14c413",
   "metadata": {},
   "source": [
    "#### 이미지 내에 도형그리기\n",
    "- 사각형 도형 : rectangle( 배경이미지, 좌상단좌표, 우하단좌표, 색상, 선두께 )"
   ]
  },
  {
   "cell_type": "code",
   "execution_count": null,
   "id": "f53cc8e6",
   "metadata": {},
   "outputs": [],
   "source": [
    "import cv2\n",
    "import matplotlib.pyplot as plt\n",
    "\n",
    "img = cv2.imread('data/lenna.png', cv2.IMREAD_COLOR)\n",
    "img = cv2.cvtColor(img,cv2.COLOR_BGR2RGB)\n",
    "\n",
    "# 얼굴 주변에 사격형 도형 그려보기\n",
    "# 좌상단좌표(x,y) ,우하단좌표(x,y)\n",
    "img_r = cv2.rectangle(img, (200,200), (350,390), (255,0,0),4)\n",
    "\n",
    "# roi문구를 직사각형 위에 출력\n",
    "font = cv2.FONT_HERSHEY_SIMPLEX\n",
    "img_r_t  = cv2.putText(img_r,'Lenna Face',(200,170),font,1,(255,0,0),3)\n",
    "\n",
    "plt.imshow(img_r_t)\n",
    "plt.show()"
   ]
  },
  {
   "cell_type": "markdown",
   "id": "574d718c",
   "metadata": {},
   "source": [
    "#### CCTV 실습 - 카메라나 동영상으로부터 비디오 프레임 캡처학\n",
    "- 카메라를 실행시켜보자\n",
    "- 동영상을 실행시켜보자"
   ]
  },
  {
   "cell_type": "code",
   "execution_count": null,
   "id": "cd91ae96",
   "metadata": {},
   "outputs": [],
   "source": [
    "import cv2\n",
    "try:\n",
    "#     cap = cv2.VideoCapture(0)     # 카메라 있을떄\n",
    "    cap = cv2.VideoCapture('data/video.mp4')\n",
    "    print('비디오 캡쳐 시작(비디오 켜기)')\n",
    "except:\n",
    "    print('비디오 캡처 실패')\n",
    "    \n",
    "# 카메라 화면 사이즈 설정\n",
    "cap.set(3,500)  # 3 : 가로\n",
    "cap.set(4,450)  # 4 : 세로\n",
    "\n",
    "while True:\n",
    "    ret, frame = cap.read()  # 프레임 이미지들을 읽어들임\n",
    "    \n",
    "    # 이미지를 잘못 읽은 경우 (False)\n",
    "    # 오류가 있거나 영상이 끝났을떄 반복 실행 멈춰야함\n",
    "    if not ret:\n",
    "        print('비디오 읽기 실패 또는 비디오 모두 읽음')\n",
    "        cap.release()\n",
    "        cv2.destroyAllWindows()\n",
    "        break\n",
    "    \n",
    "    color = cv2.cvtColor(frame, cv2.COLOR_RGB2RGBA)\n",
    "    cv2.imshow('video,camera',color)\n",
    "    \n",
    "    key = cv2.waitKey(30) # 초당 프레임수 - 영상의 속도\n",
    "    \n",
    "    if key == 49:  # 키보드상 숫자1\n",
    "        cap.release()\n",
    "        cv2.destroyAllWindows()\n",
    "        print('비디오 끄기')\n",
    "        break"
   ]
  },
  {
   "cell_type": "markdown",
   "id": "5ed6b66d",
   "metadata": {},
   "source": [
    "#### CCTV 만들기 - 동영상 녹화하기"
   ]
  },
  {
   "cell_type": "code",
   "execution_count": 3,
   "id": "ccbec687",
   "metadata": {},
   "outputs": [
    {
     "name": "stdout",
     "output_type": "stream",
     "text": [
      "비디오 캡처 시작\n",
      "녹화를 시작합니다!\n",
      "start\n",
      "녹화를 종료합니다. 카메라 끔!\n"
     ]
    }
   ],
   "source": [
    "import cv2\n",
    "try:\n",
    "#     cap=cv2.VideoCapture(0)\n",
    "    cap = cv2.VideoCapture('data/video.mp4')\n",
    "    print('비디오 캡처 시작')\n",
    "except:\n",
    "    print('비디오 캡처 실패')\n",
    "    \n",
    "# 녹화 설정(속도, 크기, 코덱)\n",
    "fps = 30.0 # 초당 프레임 이미지수\n",
    "width = int(cap.get(3))  # 카메라의 가로 크기 읽음\n",
    "height = int(cap.get(4)) # 카메라의 세로 크기 읽음\n",
    "codec = cv2.VideoWriter_fourcc(*'DIVX') # 코덱 종류는 여러개지만 MP4저장\n",
    "\n",
    "# 녹화 파일 설정(파일명, 코덱, 속도, 크기)\n",
    "out = cv2.VideoWriter('cctv01.mp4',codec,fps,(width,height))\n",
    "print('녹화를 시작합니다!')\n",
    "\n",
    "# 녹화 상태 여부\n",
    "record = False\n",
    "\n",
    "while True:\n",
    "    ret, frame = cap.read() # 프레임을 읽어들임\n",
    "    \n",
    "    # if 안읽어지거나 동영상 끝나면\n",
    "    if not ret:\n",
    "        print('비디오 읽기 실패 또는 비디오 모두 읽음')\n",
    "        cap.release()\n",
    "        out.release()\n",
    "        cv2.destroyAllWindows()\n",
    "        break\n",
    "        \n",
    "    cv2.imshow('cctv',frame)\n",
    "    \n",
    "    if record:\n",
    "        out.write(frame) # 녹화해라!\n",
    "    \n",
    "    key = cv2.waitKey(30)\n",
    "    if key == 50: # 키보드로 숫자 2 녹화가 시작\n",
    "        print('start')\n",
    "        record = True\n",
    "    if key == 49: \n",
    "        print('녹화를 종료합니다. 카메라 끔!')\n",
    "        cap.release()\n",
    "        out.release()\n",
    "        cv2.destroyAllWindows()\n",
    "        break"
   ]
  },
  {
   "cell_type": "code",
   "execution_count": null,
   "id": "8f5042e4",
   "metadata": {},
   "outputs": [],
   "source": [
    "# 카메라에서 이미지 캡처(한 프레임) 하여 파일로 저장 \n",
    "import cv2\n",
    "try :\n",
    "    cap = cv2.VideoCapture(0) # 0번째 카메라 선택\n",
    "    print(\"비디오 캡처 시작\")\n",
    "except:\n",
    "    print(\"비디오 캡처 실패\")\n",
    "\n",
    "# 임의의 변수: 파일명에 숫자를 붙이기 위한 변수\n",
    "c = 0\n",
    "\n",
    "while True:\n",
    "    ret, frame = cap.read()\n",
    "    \n",
    "    if not ret:\n",
    "        print(\"비디오 읽기 실패 또는 비디오 모두 읽음\")\n",
    "        cap.release()\n",
    "        out.release()\n",
    "        cv2.destroyAllWindows()\n",
    "        break\n",
    "    \n",
    "    cv2.imshow('frame', frame)\n",
    "    k = cv2.waitKey(30)\n",
    "    \n",
    "    # 이미지 캡처 코드\n",
    "    if k == 50: # 키보드 2\n",
    "        c +=1 \n",
    "        print(f\"image/pic{c} 파일 저장\")\n",
    "        cv2.imwrite(f'image/pic{c}.png',frame, \n",
    "                    params=[cv2.IMWRITE_PNG_COMPRESSION,0])\n",
    "        # 이미지 파일의 압축률 설정 :0- 압축 되지 않은 이미지\n",
    "    \n",
    "    if k == 49: # 키보드 2\n",
    "        cap.release()\n",
    "        cv2.destroyAllWindows()\n",
    "        break"
   ]
  },
  {
   "cell_type": "markdown",
   "id": "51c39c0b",
   "metadata": {},
   "source": [
    "#### 얼굴 검출"
   ]
  },
  {
   "cell_type": "code",
   "execution_count": 5,
   "id": "7e94edcd",
   "metadata": {},
   "outputs": [
    {
     "name": "stdout",
     "output_type": "stream",
     "text": [
      "0\n",
      "1\n"
     ]
    }
   ],
   "source": [
    "# https://webnautes.tistory.com/1352\n",
    "import cv2\n",
    "\n",
    "# 얼굴 검출을 위한 학습모델\n",
    "face_cascade = cv2.CascadeClassifier(cv2.data.haarcascades+\"haarcascade_frontalface_default.xml\")\n",
    "eye_cascade = cv2.CascadeClassifier(cv2.data.haarcascades+\"haarcascade_eye.xml\")\n",
    "\n",
    "img = cv2.imread(\"data/face.jpg\")\n",
    "\n",
    "# haar 모델이 내부적으로 흑백사진으로 변환해준다.\n",
    "faces = face_cascade.detectMultiScale(img, 1.3, 5) # 하르케스케이드 방식 조절 옵션 - 스캔크기, 시뇌도\n",
    "eyes = eye_cascade.detectMultiScale(img,1.3,5)\n",
    "\n",
    "print(len(faces))\n",
    "print(len(eyes))\n",
    "\n",
    "for (x,y,w,h) in faces:\n",
    "    cv2.rectangle(img, (x,y), (x+w,y+h), (0,0,255), 2)     # 맨마지막이 뭐라고했지?? 선의 두께\n",
    "    \n",
    "\n",
    "for (x,y,w,h) in eyes:\n",
    "    cv2.rectangle(img, (x,y), (x+w,y+h), (0,0,255), 2)\n",
    "    \n",
    "cv2.imshow('face',img)\n",
    "cv2.waitKey(0)\n",
    "cv2.destroyAllWindows()"
   ]
  },
  {
   "cell_type": "code",
   "execution_count": null,
   "id": "602456b2",
   "metadata": {},
   "outputs": [],
   "source": [
    "import cv2\n",
    "try:\n",
    "#     cap = cv2.VideoCapture(0)     # 카메라 있을떄\n",
    "    cap = cv2.VideoCapture('data/video.mp4')\n",
    "    print('비디오 캡쳐 시작(비디오 켜기)')\n",
    "except:\n",
    "    print('비디오 캡처 실패')\n",
    "    \n",
    "# 카메라 화면 사이즈 설정\n",
    "cap.set(3,500)  # 3 : 가로\n",
    "cap.set(4,450)  # 4 : 세로\n",
    "\n",
    "while True:\n",
    "    ret, frame = cap.read()  # 프레임 이미지들을 읽어들임\n",
    "    \n",
    "    # 이미지를 잘못 읽은 경우 (False)\n",
    "    # 오류가 있거나 영상이 끝났을떄 반복 실행 멈춰야함\n",
    "    if not ret:\n",
    "        print('비디오 읽기 실패 또는 비디오 모두 읽음')\n",
    "        cap.release()\n",
    "        cv2.destroyAllWindows()\n",
    "        break\n",
    "        \n",
    "    face_cascade = cv2.CascadeClassifier(cv2.data.haarcascades+\"haarcascade_frontalface_default.xml\")\n",
    "    faces = face_cascade.detectMultiScale(frame, 1.3, 5)\n",
    "    for (x,y,w,h) in faces:\n",
    "        cv2.rectangle(frame, (x,y), (x+w,y+h), (0,0,255), 2)\n",
    "    \n",
    "    color = cv2.cvtColor(frame, cv2.COLOR_RGB2RGBA)\n",
    "    cv2.imshow('video,camera',color)\n",
    "    \n",
    "    key = cv2.waitKey(30) # 초당 프레임수 - 영상의 속도\n",
    "    \n",
    "    if key == 49:  # 키보드상 숫자1\n",
    "        cap.release()\n",
    "        cv2.destroyAllWindows()\n",
    "        print('비디오 끄기')\n",
    "        break"
   ]
  },
  {
   "cell_type": "code",
   "execution_count": null,
   "id": "bf4a469e",
   "metadata": {},
   "outputs": [],
   "source": []
  },
  {
   "cell_type": "code",
   "execution_count": null,
   "id": "1cfcd860",
   "metadata": {},
   "outputs": [],
   "source": []
  },
  {
   "cell_type": "code",
   "execution_count": null,
   "id": "66b4a9c5",
   "metadata": {},
   "outputs": [],
   "source": []
  },
  {
   "cell_type": "code",
   "execution_count": null,
   "id": "0c53dce1",
   "metadata": {},
   "outputs": [],
   "source": []
  },
  {
   "cell_type": "code",
   "execution_count": null,
   "id": "c3fd5fd6",
   "metadata": {},
   "outputs": [],
   "source": []
  }
 ],
 "metadata": {
  "kernelspec": {
   "display_name": "Python 3 (ipykernel)",
   "language": "python",
   "name": "python3"
  },
  "language_info": {
   "codemirror_mode": {
    "name": "ipython",
    "version": 3
   },
   "file_extension": ".py",
   "mimetype": "text/x-python",
   "name": "python",
   "nbconvert_exporter": "python",
   "pygments_lexer": "ipython3",
   "version": "3.8.8"
  }
 },
 "nbformat": 4,
 "nbformat_minor": 5
}

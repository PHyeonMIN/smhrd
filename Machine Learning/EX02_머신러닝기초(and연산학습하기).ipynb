{
 "cells": [
  {
   "cell_type": "markdown",
   "id": "60b9921c",
   "metadata": {},
   "source": [
    "### 목표\n",
    "- and 연산 학습해보기 (모델 학습시켜 보기)\n",
    "- 머신러닝 전체 과정 이해해보기"
   ]
  },
  {
   "cell_type": "markdown",
   "id": "ee25804c",
   "metadata": {},
   "source": [
    "#### 머신러닝 프로세스\n",
    "- 1. 문제 정의\n",
    "- 2. 데이터 수집\n",
    "- 3. 데이터 전처리(preprocessing)\n",
    "- 4. 탐색적 데이터 분석(EDA)\n",
    "- 5. 모델 선택 맟 하이퍼 파라미터 정의\n",
    "- 6. 모델 학습 fit()\n",
    "- 7. 모델 예측 predict() / 모델 평가 score, accuracy_score()"
   ]
  },
  {
   "cell_type": "markdown",
   "id": "42fab206",
   "metadata": {},
   "source": [
    "#### AND연산 데이터 준비"
   ]
  },
  {
   "cell_type": "code",
   "execution_count": 2,
   "id": "d627788a",
   "metadata": {},
   "outputs": [],
   "source": [
    "import pandas as pd"
   ]
  },
  {
   "cell_type": "code",
   "execution_count": 4,
   "id": "9408bf87",
   "metadata": {},
   "outputs": [
    {
     "data": {
      "text/html": [
       "<div>\n",
       "<style scoped>\n",
       "    .dataframe tbody tr th:only-of-type {\n",
       "        vertical-align: middle;\n",
       "    }\n",
       "\n",
       "    .dataframe tbody tr th {\n",
       "        vertical-align: top;\n",
       "    }\n",
       "\n",
       "    .dataframe thead th {\n",
       "        text-align: right;\n",
       "    }\n",
       "</style>\n",
       "<table border=\"1\" class=\"dataframe\">\n",
       "  <thead>\n",
       "    <tr style=\"text-align: right;\">\n",
       "      <th></th>\n",
       "      <th>A</th>\n",
       "      <th>B</th>\n",
       "      <th>A and B</th>\n",
       "    </tr>\n",
       "  </thead>\n",
       "  <tbody>\n",
       "    <tr>\n",
       "      <th>0</th>\n",
       "      <td>0</td>\n",
       "      <td>0</td>\n",
       "      <td>0</td>\n",
       "    </tr>\n",
       "    <tr>\n",
       "      <th>1</th>\n",
       "      <td>0</td>\n",
       "      <td>1</td>\n",
       "      <td>0</td>\n",
       "    </tr>\n",
       "    <tr>\n",
       "      <th>2</th>\n",
       "      <td>1</td>\n",
       "      <td>0</td>\n",
       "      <td>0</td>\n",
       "    </tr>\n",
       "    <tr>\n",
       "      <th>3</th>\n",
       "      <td>1</td>\n",
       "      <td>1</td>\n",
       "      <td>1</td>\n",
       "    </tr>\n",
       "  </tbody>\n",
       "</table>\n",
       "</div>"
      ],
      "text/plain": [
       "   A  B  A and B\n",
       "0  0  0        0\n",
       "1  0  1        0\n",
       "2  1  0        0\n",
       "3  1  1        1"
      ]
     },
     "execution_count": 4,
     "metadata": {},
     "output_type": "execute_result"
    }
   ],
   "source": [
    "df = pd.DataFrame({'A':[0,0,1,1],'B':[0,1,0,1],'A and B':[0,0,0,1]})\n",
    "# df = pd.DataFrame([[0,0,0],[0,1,0],[1,0,0],[1,1,1]], columns=['A','B','A and B'])\n",
    "df"
   ]
  },
  {
   "cell_type": "markdown",
   "id": "94f70d2f",
   "metadata": {},
   "source": [
    "문제와 답으로 분리"
   ]
  },
  {
   "cell_type": "code",
   "execution_count": 9,
   "id": "1ebecc04",
   "metadata": {},
   "outputs": [
    {
     "data": {
      "text/html": [
       "<div>\n",
       "<style scoped>\n",
       "    .dataframe tbody tr th:only-of-type {\n",
       "        vertical-align: middle;\n",
       "    }\n",
       "\n",
       "    .dataframe tbody tr th {\n",
       "        vertical-align: top;\n",
       "    }\n",
       "\n",
       "    .dataframe thead th {\n",
       "        text-align: right;\n",
       "    }\n",
       "</style>\n",
       "<table border=\"1\" class=\"dataframe\">\n",
       "  <thead>\n",
       "    <tr style=\"text-align: right;\">\n",
       "      <th></th>\n",
       "      <th>A</th>\n",
       "      <th>B</th>\n",
       "    </tr>\n",
       "  </thead>\n",
       "  <tbody>\n",
       "    <tr>\n",
       "      <th>0</th>\n",
       "      <td>0</td>\n",
       "      <td>0</td>\n",
       "    </tr>\n",
       "    <tr>\n",
       "      <th>1</th>\n",
       "      <td>0</td>\n",
       "      <td>1</td>\n",
       "    </tr>\n",
       "    <tr>\n",
       "      <th>2</th>\n",
       "      <td>1</td>\n",
       "      <td>0</td>\n",
       "    </tr>\n",
       "    <tr>\n",
       "      <th>3</th>\n",
       "      <td>1</td>\n",
       "      <td>1</td>\n",
       "    </tr>\n",
       "  </tbody>\n",
       "</table>\n",
       "</div>"
      ],
      "text/plain": [
       "   A  B\n",
       "0  0  0\n",
       "1  0  1\n",
       "2  1  0\n",
       "3  1  1"
      ]
     },
     "metadata": {},
     "output_type": "display_data"
    },
    {
     "data": {
      "text/plain": [
       "0    0\n",
       "1    0\n",
       "2    0\n",
       "3    1\n",
       "Name: A and B, dtype: int64"
      ]
     },
     "metadata": {},
     "output_type": "display_data"
    }
   ],
   "source": [
    "# test x 진행 중\n",
    "# A,B - 문제\n",
    "# A and B - 답\n",
    "X_train = df.iloc[:,:2]   # df[['A','B']]\n",
    "y_train = df.iloc[:,2]    # df['A and B']\n",
    "display(X_train)\n",
    "display(y_train)"
   ]
  },
  {
   "cell_type": "code",
   "execution_count": 12,
   "id": "ef63579c",
   "metadata": {},
   "outputs": [
    {
     "name": "stdout",
     "output_type": "stream",
     "text": [
      "훈련용 문제 :  (4, 2)\n",
      "훈련용 답 :  (4,)\n"
     ]
    }
   ],
   "source": [
    "# 크기 확인\n",
    "print('훈련용 문제 : ',X_train.shape)\n",
    "print('훈련용 답 : ',y_train.shape)"
   ]
  },
  {
   "cell_type": "markdown",
   "id": "17c24bec",
   "metadata": {},
   "source": [
    "#### 모델링"
   ]
  },
  {
   "cell_type": "code",
   "execution_count": 17,
   "id": "8574a120",
   "metadata": {},
   "outputs": [
    {
     "data": {
      "text/plain": [
       "KNeighborsClassifier(n_neighbors=1)"
      ]
     },
     "execution_count": 17,
     "metadata": {},
     "output_type": "execute_result"
    }
   ],
   "source": [
    "# scikit - learn\n",
    "from sklearn.neighbors import KNeighborsClassifier\n",
    "# 모델 객체 생성\n",
    "knn_model = KNeighborsClassifier(n_neighbors=1)\n",
    "# 나랑 가장 가까운 1개의 정답을 확인하여 나를 예측하는 것\n",
    "# 모델 학습\n",
    "knn_model.fit(X_train,y_train)\n"
   ]
  },
  {
   "cell_type": "code",
   "execution_count": 19,
   "id": "e0929a06",
   "metadata": {},
   "outputs": [
    {
     "name": "stdout",
     "output_type": "stream",
     "text": [
      "[0 1]\n"
     ]
    },
    {
     "name": "stderr",
     "output_type": "stream",
     "text": [
      "C:\\Users\\smhrd\\anaconda3\\lib\\site-packages\\sklearn\\base.py:450: UserWarning: X does not have valid feature names, but KNeighborsClassifier was fitted with feature names\n",
      "  warnings.warn(\n"
     ]
    },
    {
     "data": {
      "text/plain": [
       "1.0"
      ]
     },
     "execution_count": 19,
     "metadata": {},
     "output_type": "execute_result"
    }
   ],
   "source": [
    "# 모델 예측\n",
    "X_test = [[0,1],[1,1]]\n",
    "pre = knn_model.predict([[0,1],[1,1]])\n",
    "print(pre)\n",
    "# 모델 평가\n",
    "y_test = [0,1] # 실제답\n",
    "\n",
    "from sklearn.metrics import accuracy_score # 정확도를 확인하는 도구\n",
    "accuracy_score(y_test, pre) # 1.0 = 100% 맞춤\n",
    "\n",
    "# 모델 자체 정확도 평가도구\n",
    "knn_model.score(X_test, y_test)\n"
   ]
  },
  {
   "cell_type": "code",
   "execution_count": null,
   "id": "dcb70ad2",
   "metadata": {},
   "outputs": [],
   "source": []
  },
  {
   "cell_type": "code",
   "execution_count": null,
   "id": "78621018",
   "metadata": {},
   "outputs": [],
   "source": []
  },
  {
   "cell_type": "code",
   "execution_count": null,
   "id": "79645a9b",
   "metadata": {},
   "outputs": [],
   "source": []
  },
  {
   "cell_type": "code",
   "execution_count": null,
   "id": "87633d94",
   "metadata": {},
   "outputs": [],
   "source": []
  },
  {
   "cell_type": "code",
   "execution_count": null,
   "id": "9b26b6b8",
   "metadata": {},
   "outputs": [],
   "source": []
  }
 ],
 "metadata": {
  "kernelspec": {
   "display_name": "Python 3 (ipykernel)",
   "language": "python",
   "name": "python3"
  },
  "language_info": {
   "codemirror_mode": {
    "name": "ipython",
    "version": 3
   },
   "file_extension": ".py",
   "mimetype": "text/x-python",
   "name": "python",
   "nbconvert_exporter": "python",
   "pygments_lexer": "ipython3",
   "version": "3.8.8"
  }
 },
 "nbformat": 4,
 "nbformat_minor": 5
}

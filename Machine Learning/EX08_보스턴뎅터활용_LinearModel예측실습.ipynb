{
 "cells": [
  {
   "cell_type": "code",
   "execution_count": 1,
   "id": "783b13bc",
   "metadata": {},
   "outputs": [],
   "source": [
    "import numpy as np\n",
    "import pandas as pd\n",
    "import matplotlib.pyplot as plt\n",
    "from sklearn.datasets import load_boston # 보스턴 주택가격데이터"
   ]
  },
  {
   "cell_type": "code",
   "execution_count": 2,
   "id": "71a51ca3",
   "metadata": {},
   "outputs": [
    {
     "name": "stderr",
     "output_type": "stream",
     "text": [
      "C:\\Users\\smhrd\\anaconda3\\lib\\site-packages\\sklearn\\utils\\deprecation.py:87: FutureWarning: Function load_boston is deprecated; `load_boston` is deprecated in 1.0 and will be removed in 1.2.\n",
      "\n",
      "    The Boston housing prices dataset has an ethical problem. You can refer to\n",
      "    the documentation of this function for further details.\n",
      "\n",
      "    The scikit-learn maintainers therefore strongly discourage the use of this\n",
      "    dataset unless the purpose of the code is to study and educate about\n",
      "    ethical issues in data science and machine learning.\n",
      "\n",
      "    In this special case, you can fetch the dataset from the original\n",
      "    source::\n",
      "\n",
      "        import pandas as pd\n",
      "        import numpy as np\n",
      "\n",
      "\n",
      "        data_url = \"http://lib.stat.cmu.edu/datasets/boston\"\n",
      "        raw_df = pd.read_csv(data_url, sep=\"\\s+\", skiprows=22, header=None)\n",
      "        data = np.hstack([raw_df.values[::2, :], raw_df.values[1::2, :2]])\n",
      "        target = raw_df.values[1::2, 2]\n",
      "\n",
      "    Alternative datasets include the California housing dataset (i.e.\n",
      "    :func:`~sklearn.datasets.fetch_california_housing`) and the Ames housing\n",
      "    dataset. You can load the datasets as follows::\n",
      "\n",
      "        from sklearn.datasets import fetch_california_housing\n",
      "        housing = fetch_california_housing()\n",
      "\n",
      "    for the California housing dataset and::\n",
      "\n",
      "        from sklearn.datasets import fetch_openml\n",
      "        housing = fetch_openml(name=\"house_prices\", as_frame=True)\n",
      "\n",
      "    for the Ames housing dataset.\n",
      "    \n",
      "  warnings.warn(msg, category=FutureWarning)\n"
     ]
    }
   ],
   "source": [
    "# 데이터 불러오기\n",
    "boston = load_boston()"
   ]
  },
  {
   "cell_type": "code",
   "execution_count": 3,
   "id": "ac298789",
   "metadata": {},
   "outputs": [
    {
     "data": {
      "text/plain": [
       "{'data': array([[6.3200e-03, 1.8000e+01, 2.3100e+00, ..., 1.5300e+01, 3.9690e+02,\n",
       "         4.9800e+00],\n",
       "        [2.7310e-02, 0.0000e+00, 7.0700e+00, ..., 1.7800e+01, 3.9690e+02,\n",
       "         9.1400e+00],\n",
       "        [2.7290e-02, 0.0000e+00, 7.0700e+00, ..., 1.7800e+01, 3.9283e+02,\n",
       "         4.0300e+00],\n",
       "        ...,\n",
       "        [6.0760e-02, 0.0000e+00, 1.1930e+01, ..., 2.1000e+01, 3.9690e+02,\n",
       "         5.6400e+00],\n",
       "        [1.0959e-01, 0.0000e+00, 1.1930e+01, ..., 2.1000e+01, 3.9345e+02,\n",
       "         6.4800e+00],\n",
       "        [4.7410e-02, 0.0000e+00, 1.1930e+01, ..., 2.1000e+01, 3.9690e+02,\n",
       "         7.8800e+00]]),\n",
       " 'target': array([24. , 21.6, 34.7, 33.4, 36.2, 28.7, 22.9, 27.1, 16.5, 18.9, 15. ,\n",
       "        18.9, 21.7, 20.4, 18.2, 19.9, 23.1, 17.5, 20.2, 18.2, 13.6, 19.6,\n",
       "        15.2, 14.5, 15.6, 13.9, 16.6, 14.8, 18.4, 21. , 12.7, 14.5, 13.2,\n",
       "        13.1, 13.5, 18.9, 20. , 21. , 24.7, 30.8, 34.9, 26.6, 25.3, 24.7,\n",
       "        21.2, 19.3, 20. , 16.6, 14.4, 19.4, 19.7, 20.5, 25. , 23.4, 18.9,\n",
       "        35.4, 24.7, 31.6, 23.3, 19.6, 18.7, 16. , 22.2, 25. , 33. , 23.5,\n",
       "        19.4, 22. , 17.4, 20.9, 24.2, 21.7, 22.8, 23.4, 24.1, 21.4, 20. ,\n",
       "        20.8, 21.2, 20.3, 28. , 23.9, 24.8, 22.9, 23.9, 26.6, 22.5, 22.2,\n",
       "        23.6, 28.7, 22.6, 22. , 22.9, 25. , 20.6, 28.4, 21.4, 38.7, 43.8,\n",
       "        33.2, 27.5, 26.5, 18.6, 19.3, 20.1, 19.5, 19.5, 20.4, 19.8, 19.4,\n",
       "        21.7, 22.8, 18.8, 18.7, 18.5, 18.3, 21.2, 19.2, 20.4, 19.3, 22. ,\n",
       "        20.3, 20.5, 17.3, 18.8, 21.4, 15.7, 16.2, 18. , 14.3, 19.2, 19.6,\n",
       "        23. , 18.4, 15.6, 18.1, 17.4, 17.1, 13.3, 17.8, 14. , 14.4, 13.4,\n",
       "        15.6, 11.8, 13.8, 15.6, 14.6, 17.8, 15.4, 21.5, 19.6, 15.3, 19.4,\n",
       "        17. , 15.6, 13.1, 41.3, 24.3, 23.3, 27. , 50. , 50. , 50. , 22.7,\n",
       "        25. , 50. , 23.8, 23.8, 22.3, 17.4, 19.1, 23.1, 23.6, 22.6, 29.4,\n",
       "        23.2, 24.6, 29.9, 37.2, 39.8, 36.2, 37.9, 32.5, 26.4, 29.6, 50. ,\n",
       "        32. , 29.8, 34.9, 37. , 30.5, 36.4, 31.1, 29.1, 50. , 33.3, 30.3,\n",
       "        34.6, 34.9, 32.9, 24.1, 42.3, 48.5, 50. , 22.6, 24.4, 22.5, 24.4,\n",
       "        20. , 21.7, 19.3, 22.4, 28.1, 23.7, 25. , 23.3, 28.7, 21.5, 23. ,\n",
       "        26.7, 21.7, 27.5, 30.1, 44.8, 50. , 37.6, 31.6, 46.7, 31.5, 24.3,\n",
       "        31.7, 41.7, 48.3, 29. , 24. , 25.1, 31.5, 23.7, 23.3, 22. , 20.1,\n",
       "        22.2, 23.7, 17.6, 18.5, 24.3, 20.5, 24.5, 26.2, 24.4, 24.8, 29.6,\n",
       "        42.8, 21.9, 20.9, 44. , 50. , 36. , 30.1, 33.8, 43.1, 48.8, 31. ,\n",
       "        36.5, 22.8, 30.7, 50. , 43.5, 20.7, 21.1, 25.2, 24.4, 35.2, 32.4,\n",
       "        32. , 33.2, 33.1, 29.1, 35.1, 45.4, 35.4, 46. , 50. , 32.2, 22. ,\n",
       "        20.1, 23.2, 22.3, 24.8, 28.5, 37.3, 27.9, 23.9, 21.7, 28.6, 27.1,\n",
       "        20.3, 22.5, 29. , 24.8, 22. , 26.4, 33.1, 36.1, 28.4, 33.4, 28.2,\n",
       "        22.8, 20.3, 16.1, 22.1, 19.4, 21.6, 23.8, 16.2, 17.8, 19.8, 23.1,\n",
       "        21. , 23.8, 23.1, 20.4, 18.5, 25. , 24.6, 23. , 22.2, 19.3, 22.6,\n",
       "        19.8, 17.1, 19.4, 22.2, 20.7, 21.1, 19.5, 18.5, 20.6, 19. , 18.7,\n",
       "        32.7, 16.5, 23.9, 31.2, 17.5, 17.2, 23.1, 24.5, 26.6, 22.9, 24.1,\n",
       "        18.6, 30.1, 18.2, 20.6, 17.8, 21.7, 22.7, 22.6, 25. , 19.9, 20.8,\n",
       "        16.8, 21.9, 27.5, 21.9, 23.1, 50. , 50. , 50. , 50. , 50. , 13.8,\n",
       "        13.8, 15. , 13.9, 13.3, 13.1, 10.2, 10.4, 10.9, 11.3, 12.3,  8.8,\n",
       "         7.2, 10.5,  7.4, 10.2, 11.5, 15.1, 23.2,  9.7, 13.8, 12.7, 13.1,\n",
       "        12.5,  8.5,  5. ,  6.3,  5.6,  7.2, 12.1,  8.3,  8.5,  5. , 11.9,\n",
       "        27.9, 17.2, 27.5, 15. , 17.2, 17.9, 16.3,  7. ,  7.2,  7.5, 10.4,\n",
       "         8.8,  8.4, 16.7, 14.2, 20.8, 13.4, 11.7,  8.3, 10.2, 10.9, 11. ,\n",
       "         9.5, 14.5, 14.1, 16.1, 14.3, 11.7, 13.4,  9.6,  8.7,  8.4, 12.8,\n",
       "        10.5, 17.1, 18.4, 15.4, 10.8, 11.8, 14.9, 12.6, 14.1, 13. , 13.4,\n",
       "        15.2, 16.1, 17.8, 14.9, 14.1, 12.7, 13.5, 14.9, 20. , 16.4, 17.7,\n",
       "        19.5, 20.2, 21.4, 19.9, 19. , 19.1, 19.1, 20.1, 19.9, 19.6, 23.2,\n",
       "        29.8, 13.8, 13.3, 16.7, 12. , 14.6, 21.4, 23. , 23.7, 25. , 21.8,\n",
       "        20.6, 21.2, 19.1, 20.6, 15.2,  7. ,  8.1, 13.6, 20.1, 21.8, 24.5,\n",
       "        23.1, 19.7, 18.3, 21.2, 17.5, 16.8, 22.4, 20.6, 23.9, 22. , 11.9]),\n",
       " 'feature_names': array(['CRIM', 'ZN', 'INDUS', 'CHAS', 'NOX', 'RM', 'AGE', 'DIS', 'RAD',\n",
       "        'TAX', 'PTRATIO', 'B', 'LSTAT'], dtype='<U7'),\n",
       " 'DESCR': \".. _boston_dataset:\\n\\nBoston house prices dataset\\n---------------------------\\n\\n**Data Set Characteristics:**  \\n\\n    :Number of Instances: 506 \\n\\n    :Number of Attributes: 13 numeric/categorical predictive. Median Value (attribute 14) is usually the target.\\n\\n    :Attribute Information (in order):\\n        - CRIM     per capita crime rate by town\\n        - ZN       proportion of residential land zoned for lots over 25,000 sq.ft.\\n        - INDUS    proportion of non-retail business acres per town\\n        - CHAS     Charles River dummy variable (= 1 if tract bounds river; 0 otherwise)\\n        - NOX      nitric oxides concentration (parts per 10 million)\\n        - RM       average number of rooms per dwelling\\n        - AGE      proportion of owner-occupied units built prior to 1940\\n        - DIS      weighted distances to five Boston employment centres\\n        - RAD      index of accessibility to radial highways\\n        - TAX      full-value property-tax rate per $10,000\\n        - PTRATIO  pupil-teacher ratio by town\\n        - B        1000(Bk - 0.63)^2 where Bk is the proportion of black people by town\\n        - LSTAT    % lower status of the population\\n        - MEDV     Median value of owner-occupied homes in $1000's\\n\\n    :Missing Attribute Values: None\\n\\n    :Creator: Harrison, D. and Rubinfeld, D.L.\\n\\nThis is a copy of UCI ML housing dataset.\\nhttps://archive.ics.uci.edu/ml/machine-learning-databases/housing/\\n\\n\\nThis dataset was taken from the StatLib library which is maintained at Carnegie Mellon University.\\n\\nThe Boston house-price data of Harrison, D. and Rubinfeld, D.L. 'Hedonic\\nprices and the demand for clean air', J. Environ. Economics & Management,\\nvol.5, 81-102, 1978.   Used in Belsley, Kuh & Welsch, 'Regression diagnostics\\n...', Wiley, 1980.   N.B. Various transformations are used in the table on\\npages 244-261 of the latter.\\n\\nThe Boston house-price data has been used in many machine learning papers that address regression\\nproblems.   \\n     \\n.. topic:: References\\n\\n   - Belsley, Kuh & Welsch, 'Regression diagnostics: Identifying Influential Data and Sources of Collinearity', Wiley, 1980. 244-261.\\n   - Quinlan,R. (1993). Combining Instance-Based and Model-Based Learning. In Proceedings on the Tenth International Conference of Machine Learning, 236-243, University of Massachusetts, Amherst. Morgan Kaufmann.\\n\",\n",
       " 'filename': 'boston_house_prices.csv',\n",
       " 'data_module': 'sklearn.datasets.data'}"
      ]
     },
     "execution_count": 3,
     "metadata": {},
     "output_type": "execute_result"
    }
   ],
   "source": [
    "boston # 번치객체(bunch)"
   ]
  },
  {
   "cell_type": "code",
   "execution_count": 4,
   "id": "d188731c",
   "metadata": {},
   "outputs": [
    {
     "data": {
      "text/plain": [
       "dict_keys(['data', 'target', 'feature_names', 'DESCR', 'filename', 'data_module'])"
      ]
     },
     "execution_count": 4,
     "metadata": {},
     "output_type": "execute_result"
    }
   ],
   "source": [
    "# boston 키값들 확인\n",
    "boston.keys()"
   ]
  },
  {
   "cell_type": "code",
   "execution_count": 5,
   "id": "3c993b27",
   "metadata": {},
   "outputs": [
    {
     "data": {
      "text/plain": [
       "array([[6.3200e-03, 1.8000e+01, 2.3100e+00, ..., 1.5300e+01, 3.9690e+02,\n",
       "        4.9800e+00],\n",
       "       [2.7310e-02, 0.0000e+00, 7.0700e+00, ..., 1.7800e+01, 3.9690e+02,\n",
       "        9.1400e+00],\n",
       "       [2.7290e-02, 0.0000e+00, 7.0700e+00, ..., 1.7800e+01, 3.9283e+02,\n",
       "        4.0300e+00],\n",
       "       ...,\n",
       "       [6.0760e-02, 0.0000e+00, 1.1930e+01, ..., 2.1000e+01, 3.9690e+02,\n",
       "        5.6400e+00],\n",
       "       [1.0959e-01, 0.0000e+00, 1.1930e+01, ..., 2.1000e+01, 3.9345e+02,\n",
       "        6.4800e+00],\n",
       "       [4.7410e-02, 0.0000e+00, 1.1930e+01, ..., 2.1000e+01, 3.9690e+02,\n",
       "        7.8800e+00]])"
      ]
     },
     "execution_count": 5,
     "metadata": {},
     "output_type": "execute_result"
    }
   ],
   "source": [
    "# data 문제\n",
    "boston.data\n",
    "#data['특성']"
   ]
  },
  {
   "cell_type": "code",
   "execution_count": 6,
   "id": "ca6404b5",
   "metadata": {},
   "outputs": [
    {
     "data": {
      "text/plain": [
       "array(['CRIM', 'ZN', 'INDUS', 'CHAS', 'NOX', 'RM', 'AGE', 'DIS', 'RAD',\n",
       "       'TAX', 'PTRATIO', 'B', 'LSTAT'], dtype='<U7')"
      ]
     },
     "execution_count": 6,
     "metadata": {},
     "output_type": "execute_result"
    }
   ],
   "source": [
    "# 특성 이름 확인\n",
    "boston.feature_names"
   ]
  },
  {
   "attachments": {
    "image.png": {
     "image/png": "[encoded data removed]"
    }
   },
   "cell_type": "markdown",
   "id": "8cbac512",
   "metadata": {},
   "source": [
    "![image.png](attachment:image.png)"
   ]
  },
  {
   "cell_type": "code",
   "execution_count": 7,
   "id": "6615013a",
   "metadata": {},
   "outputs": [
    {
     "data": {
      "text/plain": [
       "array([24. , 21.6, 34.7, 33.4, 36.2, 28.7, 22.9, 27.1, 16.5, 18.9, 15. ,\n",
       "       18.9, 21.7, 20.4, 18.2, 19.9, 23.1, 17.5, 20.2, 18.2, 13.6, 19.6,\n",
       "       15.2, 14.5, 15.6, 13.9, 16.6, 14.8, 18.4, 21. , 12.7, 14.5, 13.2,\n",
       "       13.1, 13.5, 18.9, 20. , 21. , 24.7, 30.8, 34.9, 26.6, 25.3, 24.7,\n",
       "       21.2, 19.3, 20. , 16.6, 14.4, 19.4, 19.7, 20.5, 25. , 23.4, 18.9,\n",
       "       35.4, 24.7, 31.6, 23.3, 19.6, 18.7, 16. , 22.2, 25. , 33. , 23.5,\n",
       "       19.4, 22. , 17.4, 20.9, 24.2, 21.7, 22.8, 23.4, 24.1, 21.4, 20. ,\n",
       "       20.8, 21.2, 20.3, 28. , 23.9, 24.8, 22.9, 23.9, 26.6, 22.5, 22.2,\n",
       "       23.6, 28.7, 22.6, 22. , 22.9, 25. , 20.6, 28.4, 21.4, 38.7, 43.8,\n",
       "       33.2, 27.5, 26.5, 18.6, 19.3, 20.1, 19.5, 19.5, 20.4, 19.8, 19.4,\n",
       "       21.7, 22.8, 18.8, 18.7, 18.5, 18.3, 21.2, 19.2, 20.4, 19.3, 22. ,\n",
       "       20.3, 20.5, 17.3, 18.8, 21.4, 15.7, 16.2, 18. , 14.3, 19.2, 19.6,\n",
       "       23. , 18.4, 15.6, 18.1, 17.4, 17.1, 13.3, 17.8, 14. , 14.4, 13.4,\n",
       "       15.6, 11.8, 13.8, 15.6, 14.6, 17.8, 15.4, 21.5, 19.6, 15.3, 19.4,\n",
       "       17. , 15.6, 13.1, 41.3, 24.3, 23.3, 27. , 50. , 50. , 50. , 22.7,\n",
       "       25. , 50. , 23.8, 23.8, 22.3, 17.4, 19.1, 23.1, 23.6, 22.6, 29.4,\n",
       "       23.2, 24.6, 29.9, 37.2, 39.8, 36.2, 37.9, 32.5, 26.4, 29.6, 50. ,\n",
       "       32. , 29.8, 34.9, 37. , 30.5, 36.4, 31.1, 29.1, 50. , 33.3, 30.3,\n",
       "       34.6, 34.9, 32.9, 24.1, 42.3, 48.5, 50. , 22.6, 24.4, 22.5, 24.4,\n",
       "       20. , 21.7, 19.3, 22.4, 28.1, 23.7, 25. , 23.3, 28.7, 21.5, 23. ,\n",
       "       26.7, 21.7, 27.5, 30.1, 44.8, 50. , 37.6, 31.6, 46.7, 31.5, 24.3,\n",
       "       31.7, 41.7, 48.3, 29. , 24. , 25.1, 31.5, 23.7, 23.3, 22. , 20.1,\n",
       "       22.2, 23.7, 17.6, 18.5, 24.3, 20.5, 24.5, 26.2, 24.4, 24.8, 29.6,\n",
       "       42.8, 21.9, 20.9, 44. , 50. , 36. , 30.1, 33.8, 43.1, 48.8, 31. ,\n",
       "       36.5, 22.8, 30.7, 50. , 43.5, 20.7, 21.1, 25.2, 24.4, 35.2, 32.4,\n",
       "       32. , 33.2, 33.1, 29.1, 35.1, 45.4, 35.4, 46. , 50. , 32.2, 22. ,\n",
       "       20.1, 23.2, 22.3, 24.8, 28.5, 37.3, 27.9, 23.9, 21.7, 28.6, 27.1,\n",
       "       20.3, 22.5, 29. , 24.8, 22. , 26.4, 33.1, 36.1, 28.4, 33.4, 28.2,\n",
       "       22.8, 20.3, 16.1, 22.1, 19.4, 21.6, 23.8, 16.2, 17.8, 19.8, 23.1,\n",
       "       21. , 23.8, 23.1, 20.4, 18.5, 25. , 24.6, 23. , 22.2, 19.3, 22.6,\n",
       "       19.8, 17.1, 19.4, 22.2, 20.7, 21.1, 19.5, 18.5, 20.6, 19. , 18.7,\n",
       "       32.7, 16.5, 23.9, 31.2, 17.5, 17.2, 23.1, 24.5, 26.6, 22.9, 24.1,\n",
       "       18.6, 30.1, 18.2, 20.6, 17.8, 21.7, 22.7, 22.6, 25. , 19.9, 20.8,\n",
       "       16.8, 21.9, 27.5, 21.9, 23.1, 50. , 50. , 50. , 50. , 50. , 13.8,\n",
       "       13.8, 15. , 13.9, 13.3, 13.1, 10.2, 10.4, 10.9, 11.3, 12.3,  8.8,\n",
       "        7.2, 10.5,  7.4, 10.2, 11.5, 15.1, 23.2,  9.7, 13.8, 12.7, 13.1,\n",
       "       12.5,  8.5,  5. ,  6.3,  5.6,  7.2, 12.1,  8.3,  8.5,  5. , 11.9,\n",
       "       27.9, 17.2, 27.5, 15. , 17.2, 17.9, 16.3,  7. ,  7.2,  7.5, 10.4,\n",
       "        8.8,  8.4, 16.7, 14.2, 20.8, 13.4, 11.7,  8.3, 10.2, 10.9, 11. ,\n",
       "        9.5, 14.5, 14.1, 16.1, 14.3, 11.7, 13.4,  9.6,  8.7,  8.4, 12.8,\n",
       "       10.5, 17.1, 18.4, 15.4, 10.8, 11.8, 14.9, 12.6, 14.1, 13. , 13.4,\n",
       "       15.2, 16.1, 17.8, 14.9, 14.1, 12.7, 13.5, 14.9, 20. , 16.4, 17.7,\n",
       "       19.5, 20.2, 21.4, 19.9, 19. , 19.1, 19.1, 20.1, 19.9, 19.6, 23.2,\n",
       "       29.8, 13.8, 13.3, 16.7, 12. , 14.6, 21.4, 23. , 23.7, 25. , 21.8,\n",
       "       20.6, 21.2, 19.1, 20.6, 15.2,  7. ,  8.1, 13.6, 20.1, 21.8, 24.5,\n",
       "       23.1, 19.7, 18.3, 21.2, 17.5, 16.8, 22.4, 20.6, 23.9, 22. , 11.9])"
      ]
     },
     "execution_count": 7,
     "metadata": {},
     "output_type": "execute_result"
    }
   ],
   "source": [
    "# Label, target(실제답)\n",
    "boston.target"
   ]
  },
  {
   "cell_type": "code",
   "execution_count": 8,
   "id": "876aedd5",
   "metadata": {},
   "outputs": [
    {
     "name": "stdout",
     "output_type": "stream",
     "text": [
      ".. _boston_dataset:\n",
      "\n",
      "Boston house prices dataset\n",
      "---------------------------\n",
      "\n",
      "**Data Set Characteristics:**  \n",
      "\n",
      "    :Number of Instances: 506 \n",
      "\n",
      "    :Number of Attributes: 13 numeric/categorical predictive. Median Value (attribute 14) is usually the target.\n",
      "\n",
      "    :Attribute Information (in order):\n",
      "        - CRIM     per capita crime rate by town\n",
      "        - ZN       proportion of residential land zoned for lots over 25,000 sq.ft.\n",
      "        - INDUS    proportion of non-retail business acres per town\n",
      "        - CHAS     Charles River dummy variable (= 1 if tract bounds river; 0 otherwise)\n",
      "        - NOX      nitric oxides concentration (parts per 10 million)\n",
      "        - RM       average number of rooms per dwelling\n",
      "        - AGE      proportion of owner-occupied units built prior to 1940\n",
      "        - DIS      weighted distances to five Boston employment centres\n",
      "        - RAD      index of accessibility to radial highways\n",
      "        - TAX      full-value property-tax rate per $10,000\n",
      "        - PTRATIO  pupil-teacher ratio by town\n",
      "        - B        1000(Bk - 0.63)^2 where Bk is the proportion of black people by town\n",
      "        - LSTAT    % lower status of the population\n",
      "        - MEDV     Median value of owner-occupied homes in $1000's\n",
      "\n",
      "    :Missing Attribute Values: None\n",
      "\n",
      "    :Creator: Harrison, D. and Rubinfeld, D.L.\n",
      "\n",
      "This is a copy of UCI ML housing dataset.\n",
      "https://archive.ics.uci.edu/ml/machine-learning-databases/housing/\n",
      "\n",
      "\n",
      "This dataset was taken from the StatLib library which is maintained at Carnegie Mellon University.\n",
      "\n",
      "The Boston house-price data of Harrison, D. and Rubinfeld, D.L. 'Hedonic\n",
      "prices and the demand for clean air', J. Environ. Economics & Management,\n",
      "vol.5, 81-102, 1978.   Used in Belsley, Kuh & Welsch, 'Regression diagnostics\n",
      "...', Wiley, 1980.   N.B. Various transformations are used in the table on\n",
      "pages 244-261 of the latter.\n",
      "\n",
      "The Boston house-price data has been used in many machine learning papers that address regression\n",
      "problems.   \n",
      "     \n",
      ".. topic:: References\n",
      "\n",
      "   - Belsley, Kuh & Welsch, 'Regression diagnostics: Identifying Influential Data and Sources of Collinearity', Wiley, 1980. 244-261.\n",
      "   - Quinlan,R. (1993). Combining Instance-Based and Model-Based Learning. In Proceedings on the Tenth International Conference of Machine Learning, 236-243, University of Massachusetts, Amherst. Morgan Kaufmann.\n",
      "\n"
     ]
    }
   ],
   "source": [
    "# 전체적인 정보 확인\n",
    "print(boston.DESCR)"
   ]
  },
  {
   "cell_type": "markdown",
   "id": "f2fd87f4",
   "metadata": {},
   "source": [
    "### df화"
   ]
  },
  {
   "cell_type": "code",
   "execution_count": 9,
   "id": "1625ad5d",
   "metadata": {},
   "outputs": [
    {
     "data": {
      "text/plain": [
       "(506, 13)"
      ]
     },
     "execution_count": 9,
     "metadata": {},
     "output_type": "execute_result"
    }
   ],
   "source": [
    "boston_df = pd.DataFrame(boston.data,columns=boston.feature_names)\n",
    "boston_df.shape"
   ]
  },
  {
   "cell_type": "code",
   "execution_count": 10,
   "id": "7558c776",
   "metadata": {},
   "outputs": [
    {
     "name": "stdout",
     "output_type": "stream",
     "text": [
      "<class 'pandas.core.frame.DataFrame'>\n",
      "RangeIndex: 506 entries, 0 to 505\n",
      "Data columns (total 13 columns):\n",
      " #   Column   Non-Null Count  Dtype  \n",
      "---  ------   --------------  -----  \n",
      " 0   CRIM     506 non-null    float64\n",
      " 1   ZN       506 non-null    float64\n",
      " 2   INDUS    506 non-null    float64\n",
      " 3   CHAS     506 non-null    float64\n",
      " 4   NOX      506 non-null    float64\n",
      " 5   RM       506 non-null    float64\n",
      " 6   AGE      506 non-null    float64\n",
      " 7   DIS      506 non-null    float64\n",
      " 8   RAD      506 non-null    float64\n",
      " 9   TAX      506 non-null    float64\n",
      " 10  PTRATIO  506 non-null    float64\n",
      " 11  B        506 non-null    float64\n",
      " 12  LSTAT    506 non-null    float64\n",
      "dtypes: float64(13)\n",
      "memory usage: 51.5 KB\n"
     ]
    }
   ],
   "source": [
    "boston_df.info()"
   ]
  },
  {
   "cell_type": "markdown",
   "id": "14e3b1c2",
   "metadata": {},
   "source": [
    "### train, test 분리\n",
    "- train_test_split 함수를 이용하여 train,test로 분리\n",
    "- 변수명 지정 : X_train,X_test,y_train, y_test\n",
    "- 7:3 나눔, random_state = 0"
   ]
  },
  {
   "cell_type": "code",
   "execution_count": 11,
   "id": "29104f58",
   "metadata": {},
   "outputs": [],
   "source": [
    "from sklearn.model_selection import train_test_split"
   ]
  },
  {
   "cell_type": "code",
   "execution_count": 12,
   "id": "460489e8",
   "metadata": {},
   "outputs": [],
   "source": [
    "# 문제 boston_df\n",
    "# 답 boston.target\n",
    "X_train, X_test, y_train, y_test = train_test_split(boston_df, boston.target, test_size=0.3, random_state=0)"
   ]
  },
  {
   "cell_type": "code",
   "execution_count": 13,
   "id": "ffafe195",
   "metadata": {},
   "outputs": [
    {
     "name": "stdout",
     "output_type": "stream",
     "text": [
      "훈련용 문제 (354, 13)\n",
      "훈련용 답 (354,)\n",
      "테스트용 문제 (152, 13)\n",
      "테스트용 답 (152,)\n"
     ]
    }
   ],
   "source": [
    "print('훈련용 문제',X_train.shape)\n",
    "print('훈련용 답',y_train.shape)\n",
    "print('테스트용 문제',X_test.shape)\n",
    "print('테스트용 답',y_test.shape)"
   ]
  },
  {
   "cell_type": "markdown",
   "id": "96e42bf3",
   "metadata": {},
   "source": [
    "### 모델링\n",
    "- 선형회귀모델"
   ]
  },
  {
   "cell_type": "code",
   "execution_count": 14,
   "id": "b170194c",
   "metadata": {},
   "outputs": [],
   "source": [
    "from sklearn.linear_model import LinearRegression # 일반 선형회귀모델(정규화x)\n",
    "from sklearn.model_selection import cross_val_score"
   ]
  },
  {
   "cell_type": "code",
   "execution_count": 15,
   "id": "063e20c3",
   "metadata": {},
   "outputs": [],
   "source": [
    "# 모델 객체 새성\n",
    "linear_model = LinearRegression()\n",
    "# 모델 학습\n",
    "linear_model.fit(X_train,y_train)  # 학습(훈련문제, 훈련실제 답)\n",
    "# 모델 에측\n",
    "pre =linear_model.predict(X_test) # 예측 미지의 문제"
   ]
  },
  {
   "cell_type": "code",
   "execution_count": 16,
   "id": "34ebbb21",
   "metadata": {},
   "outputs": [
    {
     "data": {
      "text/plain": [
       "0.7183293974315905"
      ]
     },
     "execution_count": 16,
     "metadata": {},
     "output_type": "execute_result"
    }
   ],
   "source": [
    "# 모델의 일반적인 성능 확인 (교차검증 cv = 5)\n",
    "result = cross_val_score(linear_model,X_train,y_train,cv=5)\n",
    "# 5개의 정확도 평균 출력해보기\n",
    "result.mean()"
   ]
  },
  {
   "cell_type": "code",
   "execution_count": 17,
   "id": "896d4fd1",
   "metadata": {},
   "outputs": [
    {
     "data": {
      "text/plain": [
       "0.6733825506400202"
      ]
     },
     "execution_count": 17,
     "metadata": {},
     "output_type": "execute_result"
    }
   ],
   "source": [
    "# 모델의 성능 평가\n",
    "# 모델.score() 최종 성능 평가\n",
    "linear_model.score(X_test,y_test)"
   ]
  },
  {
   "cell_type": "code",
   "execution_count": 18,
   "id": "71b4b76a",
   "metadata": {},
   "outputs": [
    {
     "data": {
      "text/plain": [
       "0.7645451026942549"
      ]
     },
     "execution_count": 18,
     "metadata": {},
     "output_type": "execute_result"
    }
   ],
   "source": [
    "# train 데이터의 정확도 확인\n",
    "linear_model.score(X_train, y_train)"
   ]
  },
  {
   "cell_type": "markdown",
   "id": "14ed73df",
   "metadata": {},
   "source": [
    "- 과소적합일 확률이 높은 모델\n",
    "- 모델의 복잡도를 제어 키워드 없음 : 선형 회귀 모델의 특징\n",
    "- 데이터 전처리 통해 모델의 성능을 개선시키기 위해 노력 : 특성곱"
   ]
  },
  {
   "cell_type": "markdown",
   "id": "7450f2e3",
   "metadata": {},
   "source": [
    "#### 특성확장  \n",
    "모델의 성능을 높여보자!  \n",
    "- 어떤 특성을 확장해야할까? 의미가 있는 특성이면 더 큰 의미로 생각하게 만들어줘버림\n",
    "price와 각 특성들의 상관관계 확인하기"
   ]
  },
  {
   "cell_type": "code",
   "execution_count": 19,
   "id": "43cd2e34",
   "metadata": {},
   "outputs": [
    {
     "data": {
      "text/html": [
       "<div>\n",
       "<style scoped>\n",
       "    .dataframe tbody tr th:only-of-type {\n",
       "        vertical-align: middle;\n",
       "    }\n",
       "\n",
       "    .dataframe tbody tr th {\n",
       "        vertical-align: top;\n",
       "    }\n",
       "\n",
       "    .dataframe thead th {\n",
       "        text-align: right;\n",
       "    }\n",
       "</style>\n",
       "<table border=\"1\" class=\"dataframe\">\n",
       "  <thead>\n",
       "    <tr style=\"text-align: right;\">\n",
       "      <th></th>\n",
       "      <th>CRIM</th>\n",
       "      <th>ZN</th>\n",
       "      <th>INDUS</th>\n",
       "      <th>CHAS</th>\n",
       "      <th>NOX</th>\n",
       "      <th>RM</th>\n",
       "      <th>AGE</th>\n",
       "      <th>DIS</th>\n",
       "      <th>RAD</th>\n",
       "      <th>TAX</th>\n",
       "      <th>PTRATIO</th>\n",
       "      <th>B</th>\n",
       "      <th>LSTAT</th>\n",
       "      <th>PRICE</th>\n",
       "    </tr>\n",
       "  </thead>\n",
       "  <tbody>\n",
       "    <tr>\n",
       "      <th>141</th>\n",
       "      <td>1.62864</td>\n",
       "      <td>0.0</td>\n",
       "      <td>21.89</td>\n",
       "      <td>0.0</td>\n",
       "      <td>0.624</td>\n",
       "      <td>5.019</td>\n",
       "      <td>100.0</td>\n",
       "      <td>1.4394</td>\n",
       "      <td>4.0</td>\n",
       "      <td>437.0</td>\n",
       "      <td>21.2</td>\n",
       "      <td>396.90</td>\n",
       "      <td>34.41</td>\n",
       "      <td>14.4</td>\n",
       "    </tr>\n",
       "    <tr>\n",
       "      <th>272</th>\n",
       "      <td>0.11460</td>\n",
       "      <td>20.0</td>\n",
       "      <td>6.96</td>\n",
       "      <td>0.0</td>\n",
       "      <td>0.464</td>\n",
       "      <td>6.538</td>\n",
       "      <td>58.7</td>\n",
       "      <td>3.9175</td>\n",
       "      <td>3.0</td>\n",
       "      <td>223.0</td>\n",
       "      <td>18.6</td>\n",
       "      <td>394.96</td>\n",
       "      <td>7.73</td>\n",
       "      <td>24.4</td>\n",
       "    </tr>\n",
       "    <tr>\n",
       "      <th>135</th>\n",
       "      <td>0.55778</td>\n",
       "      <td>0.0</td>\n",
       "      <td>21.89</td>\n",
       "      <td>0.0</td>\n",
       "      <td>0.624</td>\n",
       "      <td>6.335</td>\n",
       "      <td>98.2</td>\n",
       "      <td>2.1107</td>\n",
       "      <td>4.0</td>\n",
       "      <td>437.0</td>\n",
       "      <td>21.2</td>\n",
       "      <td>394.67</td>\n",
       "      <td>16.96</td>\n",
       "      <td>18.1</td>\n",
       "    </tr>\n",
       "  </tbody>\n",
       "</table>\n",
       "</div>"
      ],
      "text/plain": [
       "        CRIM    ZN  INDUS  CHAS    NOX     RM    AGE     DIS  RAD    TAX  \\\n",
       "141  1.62864   0.0  21.89   0.0  0.624  5.019  100.0  1.4394  4.0  437.0   \n",
       "272  0.11460  20.0   6.96   0.0  0.464  6.538   58.7  3.9175  3.0  223.0   \n",
       "135  0.55778   0.0  21.89   0.0  0.624  6.335   98.2  2.1107  4.0  437.0   \n",
       "\n",
       "     PTRATIO       B  LSTAT  PRICE  \n",
       "141     21.2  396.90  34.41   14.4  \n",
       "272     18.6  394.96   7.73   24.4  \n",
       "135     21.2  394.67  16.96   18.1  "
      ]
     },
     "execution_count": 19,
     "metadata": {},
     "output_type": "execute_result"
    }
   ],
   "source": [
    "# 답과 문제 데이터를 합친 데이터 프레임 만들기\n",
    "boston_copy = X_train.copy() # 복사 당시의 데이터 프레임 상태만 복사되는 깊은 복사\n",
    "# .copy 를 안붙이면 원본에 영향이 갈 수도 있음.\n",
    "boston_copy['PRICE'] = y_train\n",
    "boston_copy.head(3)"
   ]
  },
  {
   "cell_type": "code",
   "execution_count": 22,
   "id": "346e6213",
   "metadata": {},
   "outputs": [
    {
     "data": {
      "text/plain": [
       "PRICE      1.000000\n",
       "LSTAT      0.743289\n",
       "RM         0.708978\n",
       "PTRATIO    0.564733\n",
       "INDUS      0.504361\n",
       "TAX        0.481319\n",
       "NOX        0.426690\n",
       "AGE        0.390942\n",
       "RAD        0.389533\n",
       "CRIM       0.388182\n",
       "ZN         0.386115\n",
       "B          0.324437\n",
       "DIS        0.245634\n",
       "CHAS       0.162395\n",
       "Name: PRICE, dtype: float64"
      ]
     },
     "execution_count": 22,
     "metadata": {},
     "output_type": "execute_result"
    }
   ],
   "source": [
    "# price와 각 특성들의 상관 관게 확인하기 : 1.LSTAT 2. RM\n",
    "boston_copy.corr()['PRICE'].abs().sort_values(ascending=False)"
   ]
  },
  {
   "cell_type": "markdown",
   "id": "d36ff7b6",
   "metadata": {},
   "source": [
    "상관 관계가 높은 특성 확장해보기"
   ]
  },
  {
   "cell_type": "code",
   "execution_count": 28,
   "id": "b3e1f32f",
   "metadata": {},
   "outputs": [
    {
     "data": {
      "image/png": "[encoded data removed]",
      "text/plain": [
       "<Figure size 432x288 with 1 Axes>"
      ]
     },
     "metadata": {
      "needs_background": "light"
     },
     "output_type": "display_data"
    }
   ],
   "source": [
    "# 확장전) 먼저 LSTAT 특성만 가지고 학습시킨 후 선형 모델이 예측을 어떻게 하는지 확인\n",
    "model = LinearRegression()\n",
    "model.fit(X_train[['LSTAT']],y_train)\n",
    "pre = model.predict(X_train[['LSTAT']])\n",
    "\n",
    "# 산점도 그래프를 통해 실제답과 에측값의 차이를 확인해보자\n",
    "plt.scatter(X_train['LSTAT'],y_train, label='y_tr')\n",
    "plt.scatter(X_train['LSTAT'],pre, label='pre')\n",
    "plt.legend() #범례\n",
    "plt.show()"
   ]
  },
  {
   "cell_type": "code",
   "execution_count": 34,
   "id": "be744cfb",
   "metadata": {},
   "outputs": [
    {
     "data": {
      "image/png": "[encoded data removed]",
      "text/plain": [
       "<Figure size 432x288 with 1 Axes>"
      ]
     },
     "metadata": {
      "needs_background": "light"
     },
     "output_type": "display_data"
    }
   ],
   "source": [
    "# 특성 확장 후)\n",
    "X_train['LSTAT * LSTAT'] = X_train['LSTAT'] * X_train['LSTAT'] # 특성확장\n",
    "model2 = LinearRegression()\n",
    "model2.fit(X_train[['LSTAT','LSTAT * LSTAT']],y_train)\n",
    "pre2 = model2.predict(X_train[['LSTAT','LSTAT * LSTAT']])\n",
    "\n",
    "# 산점도 확인해보기\n",
    "plt.scatter(X_train['LSTAT'],y_train, label='y_tr')\n",
    "plt.scatter(X_train['LSTAT'],pre2, label='pre2')\n",
    "plt.legend() # 범례 출력\n",
    "plt.show()"
   ]
  },
  {
   "cell_type": "code",
   "execution_count": 33,
   "id": "f60b09d9",
   "metadata": {
    "collapsed": true
   },
   "outputs": [
    {
     "data": {
      "text/html": [
       "<div>\n",
       "<style scoped>\n",
       "    .dataframe tbody tr th:only-of-type {\n",
       "        vertical-align: middle;\n",
       "    }\n",
       "\n",
       "    .dataframe tbody tr th {\n",
       "        vertical-align: top;\n",
       "    }\n",
       "\n",
       "    .dataframe thead th {\n",
       "        text-align: right;\n",
       "    }\n",
       "</style>\n",
       "<table border=\"1\" class=\"dataframe\">\n",
       "  <thead>\n",
       "    <tr style=\"text-align: right;\">\n",
       "      <th></th>\n",
       "      <th>LSTAT</th>\n",
       "      <th>LSTAT * LSTAT</th>\n",
       "    </tr>\n",
       "  </thead>\n",
       "  <tbody>\n",
       "    <tr>\n",
       "      <th>141</th>\n",
       "      <td>34.41</td>\n",
       "      <td>1184.0481</td>\n",
       "    </tr>\n",
       "    <tr>\n",
       "      <th>272</th>\n",
       "      <td>7.73</td>\n",
       "      <td>59.7529</td>\n",
       "    </tr>\n",
       "    <tr>\n",
       "      <th>135</th>\n",
       "      <td>16.96</td>\n",
       "      <td>287.6416</td>\n",
       "    </tr>\n",
       "    <tr>\n",
       "      <th>298</th>\n",
       "      <td>4.97</td>\n",
       "      <td>24.7009</td>\n",
       "    </tr>\n",
       "    <tr>\n",
       "      <th>122</th>\n",
       "      <td>17.93</td>\n",
       "      <td>321.4849</td>\n",
       "    </tr>\n",
       "    <tr>\n",
       "      <th>...</th>\n",
       "      <td>...</td>\n",
       "      <td>...</td>\n",
       "    </tr>\n",
       "    <tr>\n",
       "      <th>323</th>\n",
       "      <td>11.74</td>\n",
       "      <td>137.8276</td>\n",
       "    </tr>\n",
       "    <tr>\n",
       "      <th>192</th>\n",
       "      <td>2.87</td>\n",
       "      <td>8.2369</td>\n",
       "    </tr>\n",
       "    <tr>\n",
       "      <th>117</th>\n",
       "      <td>10.30</td>\n",
       "      <td>106.0900</td>\n",
       "    </tr>\n",
       "    <tr>\n",
       "      <th>47</th>\n",
       "      <td>18.80</td>\n",
       "      <td>353.4400</td>\n",
       "    </tr>\n",
       "    <tr>\n",
       "      <th>172</th>\n",
       "      <td>14.69</td>\n",
       "      <td>215.7961</td>\n",
       "    </tr>\n",
       "  </tbody>\n",
       "</table>\n",
       "<p>354 rows × 2 columns</p>\n",
       "</div>"
      ],
      "text/plain": [
       "     LSTAT  LSTAT * LSTAT\n",
       "141  34.41      1184.0481\n",
       "272   7.73        59.7529\n",
       "135  16.96       287.6416\n",
       "298   4.97        24.7009\n",
       "122  17.93       321.4849\n",
       "..     ...            ...\n",
       "323  11.74       137.8276\n",
       "192   2.87         8.2369\n",
       "117  10.30       106.0900\n",
       "47   18.80       353.4400\n",
       "172  14.69       215.7961\n",
       "\n",
       "[354 rows x 2 columns]"
      ]
     },
     "execution_count": 33,
     "metadata": {},
     "output_type": "execute_result"
    }
   ],
   "source": [
    "X_train[['LSTAT','LSTAT * LSTAT']]"
   ]
  },
  {
   "cell_type": "code",
   "execution_count": 38,
   "id": "e3451119",
   "metadata": {
    "scrolled": true
   },
   "outputs": [
    {
     "data": {
      "text/plain": [
       "CRIM             0.439369\n",
       "ZN              -0.429178\n",
       "INDUS            0.603374\n",
       "CHAS            -0.059060\n",
       "NOX              0.577154\n",
       "RM              -0.623920\n",
       "AGE              0.606530\n",
       "DIS             -0.501780\n",
       "RAD              0.442783\n",
       "TAX              0.515905\n",
       "PTRATIO          0.387752\n",
       "B               -0.365338\n",
       "LSTAT            1.000000\n",
       "LSTAT * LSTAT    0.960298\n",
       "Name: LSTAT, dtype: float64"
      ]
     },
     "execution_count": 38,
     "metadata": {},
     "output_type": "execute_result"
    }
   ],
   "source": [
    "X_train.corr()['LSTAT']"
   ]
  },
  {
   "cell_type": "code",
   "execution_count": 40,
   "id": "88dc8f87",
   "metadata": {},
   "outputs": [
    {
     "data": {
      "text/plain": [
       "0.6978697736472468"
      ]
     },
     "execution_count": 40,
     "metadata": {},
     "output_type": "execute_result"
    }
   ],
   "source": [
    "# X_test['LSTAT * LSTAT'] 특성확장 시켜주기\n",
    "X_test['LSTAT * LSTAT'] = X_test['LSTAT'] * X_test[\"LSTAT\"]\n",
    "#X_test.info()\n",
    "\n",
    "# X_test 평가\n",
    "linear_model = LinearRegression()\n",
    "linear_model.fit(X_train, y_train)\n",
    "linear_model.score(X_test, y_test)"
   ]
  },
  {
   "cell_type": "code",
   "execution_count": 41,
   "id": "df5bbdda",
   "metadata": {},
   "outputs": [
    {
     "data": {
      "text/plain": [
       "0.8224831400994939"
      ]
     },
     "execution_count": 41,
     "metadata": {},
     "output_type": "execute_result"
    }
   ],
   "source": [
    "linear_model.score(X_train,y_train) # 과소적합이 어느정도 해소되고 있음"
   ]
  },
  {
   "cell_type": "markdown",
   "id": "35a8f7a1",
   "metadata": {},
   "source": [
    "RM 특성 확장해보기"
   ]
  },
  {
   "cell_type": "code",
   "execution_count": 44,
   "id": "e9c82287",
   "metadata": {},
   "outputs": [
    {
     "data": {
      "image/png": "[encoded data removed]",
      "text/plain": [
       "<Figure size 432x288 with 1 Axes>"
      ]
     },
     "metadata": {
      "needs_background": "light"
     },
     "output_type": "display_data"
    }
   ],
   "source": [
    "# 확장전 ) RM특성만 학습시켜서 예측을 어떻게 하는지 시각화\n",
    "model= LinearRegression()\n",
    "model.fit(X_train[['RM']],y_train)\n",
    "pre = model.predict(X_train[['RM']])\n",
    "\n",
    "# 시각화\n",
    "plt.scatter(X_train['RM'], y_train, label='y_tr')\n",
    "plt.scatter(X_train['RM'], pre , label='pre')\n",
    "plt.legend() # 범례 표시\n",
    "plt.show()"
   ]
  },
  {
   "cell_type": "code",
   "execution_count": 47,
   "id": "9aed732c",
   "metadata": {},
   "outputs": [
    {
     "data": {
      "image/png": "[encoded data removed]",
      "text/plain": [
       "<Figure size 432x288 with 1 Axes>"
      ]
     },
     "metadata": {
      "needs_background": "light"
     },
     "output_type": "display_data"
    }
   ],
   "source": [
    "# 확장후 ) RM특성만 확장시키고, RM과 RM * RM 특성을 학습시켜 예측하고 시각화\n",
    "X_train['RM * RM'] = X_train['RM'] * X_train['RM']\n",
    "X_test['RM * RM'] = X_test['RM'] * X_test['RM']\n",
    "\n",
    "model2 = LinearRegression()\n",
    "model2.fit(X_train[['RM','RM * RM']],y_train)\n",
    "pre = model.predict(X_train[['RM','RM * RM']])\n",
    "\n",
    "# 시각화\n",
    "plt.scatter(X_train['RM'],y_train, label='y_tr')\n",
    "plt.scatter(X_train['RM'],pre, label='pre')\n",
    "plt.legend(loc='best')\n",
    "plt.show()"
   ]
  },
  {
   "cell_type": "code",
   "execution_count": 48,
   "id": "9c6a1997",
   "metadata": {},
   "outputs": [
    {
     "data": {
      "text/plain": [
       "0.7460776611187951"
      ]
     },
     "execution_count": 48,
     "metadata": {},
     "output_type": "execute_result"
    }
   ],
   "source": [
    "# RM 특성확장 전과의 모델 점수 비교해보기\n",
    "linear_model = LinearRegression()\n",
    "linear_model.fit(X_train,y_train)\n",
    "linear_model.score(X_test, y_test) # test r-squared : 0.746"
   ]
  },
  {
   "cell_type": "markdown",
   "id": "b57b14db",
   "metadata": {},
   "source": [
    "- 전체 데이터의 특성을 교차해서 특성곱시켜버리면 어떻게 될까?"
   ]
  },
  {
   "cell_type": "code",
   "execution_count": 49,
   "id": "398a8646",
   "metadata": {},
   "outputs": [],
   "source": [
    "X_train.drop(['LSTAT * LSTAT','RM * RM'], axis=1, inplace=True)\n",
    "X_test.drop(['LSTAT * LSTAT','RM * RM'], axis=1, inplace=True)"
   ]
  },
  {
   "cell_type": "code",
   "execution_count": 51,
   "id": "0633c293",
   "metadata": {},
   "outputs": [],
   "source": [
    "# 경고창 무시\n",
    "import warnings\n",
    "warnings.filterwarnings(action='ignore')"
   ]
  },
  {
   "cell_type": "code",
   "execution_count": 52,
   "id": "a01e4cc1",
   "metadata": {
    "collapsed": true
   },
   "outputs": [
    {
     "name": "stdout",
     "output_type": "stream",
     "text": [
      "<class 'pandas.core.frame.DataFrame'>\n",
      "Int64Index: 354 entries, 141 to 172\n",
      "Data columns (total 13 columns):\n",
      " #   Column   Non-Null Count  Dtype  \n",
      "---  ------   --------------  -----  \n",
      " 0   CRIM     354 non-null    float64\n",
      " 1   ZN       354 non-null    float64\n",
      " 2   INDUS    354 non-null    float64\n",
      " 3   CHAS     354 non-null    float64\n",
      " 4   NOX      354 non-null    float64\n",
      " 5   RM       354 non-null    float64\n",
      " 6   AGE      354 non-null    float64\n",
      " 7   DIS      354 non-null    float64\n",
      " 8   RAD      354 non-null    float64\n",
      " 9   TAX      354 non-null    float64\n",
      " 10  PTRATIO  354 non-null    float64\n",
      " 11  B        354 non-null    float64\n",
      " 12  LSTAT    354 non-null    float64\n",
      "dtypes: float64(13)\n",
      "memory usage: 38.7 KB\n",
      "<class 'pandas.core.frame.DataFrame'>\n",
      "Int64Index: 152 entries, 329 to 5\n",
      "Data columns (total 13 columns):\n",
      " #   Column   Non-Null Count  Dtype  \n",
      "---  ------   --------------  -----  \n",
      " 0   CRIM     152 non-null    float64\n",
      " 1   ZN       152 non-null    float64\n",
      " 2   INDUS    152 non-null    float64\n",
      " 3   CHAS     152 non-null    float64\n",
      " 4   NOX      152 non-null    float64\n",
      " 5   RM       152 non-null    float64\n",
      " 6   AGE      152 non-null    float64\n",
      " 7   DIS      152 non-null    float64\n",
      " 8   RAD      152 non-null    float64\n",
      " 9   TAX      152 non-null    float64\n",
      " 10  PTRATIO  152 non-null    float64\n",
      " 11  B        152 non-null    float64\n",
      " 12  LSTAT    152 non-null    float64\n",
      "dtypes: float64(13)\n",
      "memory usage: 16.6 KB\n"
     ]
    }
   ],
   "source": [
    "X_train.info()\n",
    "X_test.info()"
   ]
  },
  {
   "cell_type": "code",
   "execution_count": 53,
   "id": "54a42e90",
   "metadata": {},
   "outputs": [],
   "source": [
    "extended_X_train = X_train.copy()\n",
    "extended_X_test = X_test.copy()"
   ]
  },
  {
   "cell_type": "code",
   "execution_count": 55,
   "id": "14e739e6",
   "metadata": {},
   "outputs": [
    {
     "data": {
      "text/plain": [
       "13"
      ]
     },
     "execution_count": 55,
     "metadata": {},
     "output_type": "execute_result"
    }
   ],
   "source": [
    "X_train.columns.size"
   ]
  },
  {
   "cell_type": "code",
   "execution_count": 56,
   "id": "d08b803d",
   "metadata": {},
   "outputs": [
    {
     "name": "stdout",
     "output_type": "stream",
     "text": [
      "<class 'pandas.core.frame.DataFrame'>\n",
      "Int64Index: 354 entries, 141 to 172\n",
      "Columns: 182 entries, CRIM to LSTAT*LSTAT\n",
      "dtypes: float64(182)\n",
      "memory usage: 506.1 KB\n"
     ]
    }
   ],
   "source": [
    "# X_train 데이터 특성 확장\n",
    "for col1 in X_train.columns: #13번 반복\n",
    "    for col2 in X_train.columns:\n",
    "        extended_X_train[col1+\"*\"+col2] = X_train[col1] * X_train[col2]\n",
    "extended_X_train.info()"
   ]
  },
  {
   "cell_type": "code",
   "execution_count": 57,
   "id": "cc8a7d58",
   "metadata": {},
   "outputs": [
    {
     "data": {
      "text/html": [
       "<div>\n",
       "<style scoped>\n",
       "    .dataframe tbody tr th:only-of-type {\n",
       "        vertical-align: middle;\n",
       "    }\n",
       "\n",
       "    .dataframe tbody tr th {\n",
       "        vertical-align: top;\n",
       "    }\n",
       "\n",
       "    .dataframe thead th {\n",
       "        text-align: right;\n",
       "    }\n",
       "</style>\n",
       "<table border=\"1\" class=\"dataframe\">\n",
       "  <thead>\n",
       "    <tr style=\"text-align: right;\">\n",
       "      <th></th>\n",
       "      <th>CRIM</th>\n",
       "      <th>ZN</th>\n",
       "      <th>INDUS</th>\n",
       "      <th>CHAS</th>\n",
       "      <th>NOX</th>\n",
       "      <th>RM</th>\n",
       "      <th>AGE</th>\n",
       "      <th>DIS</th>\n",
       "      <th>RAD</th>\n",
       "      <th>TAX</th>\n",
       "      <th>...</th>\n",
       "      <th>LSTAT*CHAS</th>\n",
       "      <th>LSTAT*NOX</th>\n",
       "      <th>LSTAT*RM</th>\n",
       "      <th>LSTAT*AGE</th>\n",
       "      <th>LSTAT*DIS</th>\n",
       "      <th>LSTAT*RAD</th>\n",
       "      <th>LSTAT*TAX</th>\n",
       "      <th>LSTAT*PTRATIO</th>\n",
       "      <th>LSTAT*B</th>\n",
       "      <th>LSTAT*LSTAT</th>\n",
       "    </tr>\n",
       "  </thead>\n",
       "  <tbody>\n",
       "    <tr>\n",
       "      <th>141</th>\n",
       "      <td>1.62864</td>\n",
       "      <td>0.0</td>\n",
       "      <td>21.89</td>\n",
       "      <td>0.0</td>\n",
       "      <td>0.624</td>\n",
       "      <td>5.019</td>\n",
       "      <td>100.0</td>\n",
       "      <td>1.4394</td>\n",
       "      <td>4.0</td>\n",
       "      <td>437.0</td>\n",
       "      <td>...</td>\n",
       "      <td>0.0</td>\n",
       "      <td>21.47184</td>\n",
       "      <td>172.70379</td>\n",
       "      <td>3441.000</td>\n",
       "      <td>49.529754</td>\n",
       "      <td>137.64</td>\n",
       "      <td>15037.17</td>\n",
       "      <td>729.492</td>\n",
       "      <td>13657.3290</td>\n",
       "      <td>1184.0481</td>\n",
       "    </tr>\n",
       "    <tr>\n",
       "      <th>272</th>\n",
       "      <td>0.11460</td>\n",
       "      <td>20.0</td>\n",
       "      <td>6.96</td>\n",
       "      <td>0.0</td>\n",
       "      <td>0.464</td>\n",
       "      <td>6.538</td>\n",
       "      <td>58.7</td>\n",
       "      <td>3.9175</td>\n",
       "      <td>3.0</td>\n",
       "      <td>223.0</td>\n",
       "      <td>...</td>\n",
       "      <td>0.0</td>\n",
       "      <td>3.58672</td>\n",
       "      <td>50.53874</td>\n",
       "      <td>453.751</td>\n",
       "      <td>30.282275</td>\n",
       "      <td>23.19</td>\n",
       "      <td>1723.79</td>\n",
       "      <td>143.778</td>\n",
       "      <td>3053.0408</td>\n",
       "      <td>59.7529</td>\n",
       "    </tr>\n",
       "    <tr>\n",
       "      <th>135</th>\n",
       "      <td>0.55778</td>\n",
       "      <td>0.0</td>\n",
       "      <td>21.89</td>\n",
       "      <td>0.0</td>\n",
       "      <td>0.624</td>\n",
       "      <td>6.335</td>\n",
       "      <td>98.2</td>\n",
       "      <td>2.1107</td>\n",
       "      <td>4.0</td>\n",
       "      <td>437.0</td>\n",
       "      <td>...</td>\n",
       "      <td>0.0</td>\n",
       "      <td>10.58304</td>\n",
       "      <td>107.44160</td>\n",
       "      <td>1665.472</td>\n",
       "      <td>35.797472</td>\n",
       "      <td>67.84</td>\n",
       "      <td>7411.52</td>\n",
       "      <td>359.552</td>\n",
       "      <td>6693.6032</td>\n",
       "      <td>287.6416</td>\n",
       "    </tr>\n",
       "    <tr>\n",
       "      <th>298</th>\n",
       "      <td>0.06466</td>\n",
       "      <td>70.0</td>\n",
       "      <td>2.24</td>\n",
       "      <td>0.0</td>\n",
       "      <td>0.400</td>\n",
       "      <td>6.345</td>\n",
       "      <td>20.1</td>\n",
       "      <td>7.8278</td>\n",
       "      <td>5.0</td>\n",
       "      <td>358.0</td>\n",
       "      <td>...</td>\n",
       "      <td>0.0</td>\n",
       "      <td>1.98800</td>\n",
       "      <td>31.53465</td>\n",
       "      <td>99.897</td>\n",
       "      <td>38.904166</td>\n",
       "      <td>24.85</td>\n",
       "      <td>1779.26</td>\n",
       "      <td>73.556</td>\n",
       "      <td>1830.1528</td>\n",
       "      <td>24.7009</td>\n",
       "    </tr>\n",
       "    <tr>\n",
       "      <th>122</th>\n",
       "      <td>0.09299</td>\n",
       "      <td>0.0</td>\n",
       "      <td>25.65</td>\n",
       "      <td>0.0</td>\n",
       "      <td>0.581</td>\n",
       "      <td>5.961</td>\n",
       "      <td>92.9</td>\n",
       "      <td>2.0869</td>\n",
       "      <td>2.0</td>\n",
       "      <td>188.0</td>\n",
       "      <td>...</td>\n",
       "      <td>0.0</td>\n",
       "      <td>10.41733</td>\n",
       "      <td>106.88073</td>\n",
       "      <td>1665.697</td>\n",
       "      <td>37.418117</td>\n",
       "      <td>35.86</td>\n",
       "      <td>3370.84</td>\n",
       "      <td>342.463</td>\n",
       "      <td>6779.1537</td>\n",
       "      <td>321.4849</td>\n",
       "    </tr>\n",
       "  </tbody>\n",
       "</table>\n",
       "<p>5 rows × 182 columns</p>\n",
       "</div>"
      ],
      "text/plain": [
       "        CRIM    ZN  INDUS  CHAS    NOX     RM    AGE     DIS  RAD    TAX  ...  \\\n",
       "141  1.62864   0.0  21.89   0.0  0.624  5.019  100.0  1.4394  4.0  437.0  ...   \n",
       "272  0.11460  20.0   6.96   0.0  0.464  6.538   58.7  3.9175  3.0  223.0  ...   \n",
       "135  0.55778   0.0  21.89   0.0  0.624  6.335   98.2  2.1107  4.0  437.0  ...   \n",
       "298  0.06466  70.0   2.24   0.0  0.400  6.345   20.1  7.8278  5.0  358.0  ...   \n",
       "122  0.09299   0.0  25.65   0.0  0.581  5.961   92.9  2.0869  2.0  188.0  ...   \n",
       "\n",
       "     LSTAT*CHAS  LSTAT*NOX   LSTAT*RM  LSTAT*AGE  LSTAT*DIS  LSTAT*RAD  \\\n",
       "141         0.0   21.47184  172.70379   3441.000  49.529754     137.64   \n",
       "272         0.0    3.58672   50.53874    453.751  30.282275      23.19   \n",
       "135         0.0   10.58304  107.44160   1665.472  35.797472      67.84   \n",
       "298         0.0    1.98800   31.53465     99.897  38.904166      24.85   \n",
       "122         0.0   10.41733  106.88073   1665.697  37.418117      35.86   \n",
       "\n",
       "     LSTAT*TAX  LSTAT*PTRATIO     LSTAT*B  LSTAT*LSTAT  \n",
       "141   15037.17        729.492  13657.3290    1184.0481  \n",
       "272    1723.79        143.778   3053.0408      59.7529  \n",
       "135    7411.52        359.552   6693.6032     287.6416  \n",
       "298    1779.26         73.556   1830.1528      24.7009  \n",
       "122    3370.84        342.463   6779.1537     321.4849  \n",
       "\n",
       "[5 rows x 182 columns]"
      ]
     },
     "execution_count": 57,
     "metadata": {},
     "output_type": "execute_result"
    }
   ],
   "source": [
    "extended_X_train.head()"
   ]
  },
  {
   "cell_type": "code",
   "execution_count": 59,
   "id": "65328c98",
   "metadata": {},
   "outputs": [
    {
     "name": "stdout",
     "output_type": "stream",
     "text": [
      "<class 'pandas.core.frame.DataFrame'>\n",
      "Int64Index: 152 entries, 329 to 5\n",
      "Columns: 182 entries, CRIM to LSTAT*LSTAT\n",
      "dtypes: float64(182)\n",
      "memory usage: 217.3 KB\n"
     ]
    },
    {
     "data": {
      "text/html": [
       "<div>\n",
       "<style scoped>\n",
       "    .dataframe tbody tr th:only-of-type {\n",
       "        vertical-align: middle;\n",
       "    }\n",
       "\n",
       "    .dataframe tbody tr th {\n",
       "        vertical-align: top;\n",
       "    }\n",
       "\n",
       "    .dataframe thead th {\n",
       "        text-align: right;\n",
       "    }\n",
       "</style>\n",
       "<table border=\"1\" class=\"dataframe\">\n",
       "  <thead>\n",
       "    <tr style=\"text-align: right;\">\n",
       "      <th></th>\n",
       "      <th>CRIM</th>\n",
       "      <th>ZN</th>\n",
       "      <th>INDUS</th>\n",
       "      <th>CHAS</th>\n",
       "      <th>NOX</th>\n",
       "      <th>RM</th>\n",
       "      <th>AGE</th>\n",
       "      <th>DIS</th>\n",
       "      <th>RAD</th>\n",
       "      <th>TAX</th>\n",
       "      <th>...</th>\n",
       "      <th>LSTAT*CHAS</th>\n",
       "      <th>LSTAT*NOX</th>\n",
       "      <th>LSTAT*RM</th>\n",
       "      <th>LSTAT*AGE</th>\n",
       "      <th>LSTAT*DIS</th>\n",
       "      <th>LSTAT*RAD</th>\n",
       "      <th>LSTAT*TAX</th>\n",
       "      <th>LSTAT*PTRATIO</th>\n",
       "      <th>LSTAT*B</th>\n",
       "      <th>LSTAT*LSTAT</th>\n",
       "    </tr>\n",
       "  </thead>\n",
       "  <tbody>\n",
       "    <tr>\n",
       "      <th>329</th>\n",
       "      <td>0.06724</td>\n",
       "      <td>0.0</td>\n",
       "      <td>3.24</td>\n",
       "      <td>0.0</td>\n",
       "      <td>0.460</td>\n",
       "      <td>6.333</td>\n",
       "      <td>17.2</td>\n",
       "      <td>5.2146</td>\n",
       "      <td>4.0</td>\n",
       "      <td>430.0</td>\n",
       "      <td>...</td>\n",
       "      <td>0.0</td>\n",
       "      <td>3.37640</td>\n",
       "      <td>46.48422</td>\n",
       "      <td>126.248</td>\n",
       "      <td>38.275164</td>\n",
       "      <td>29.36</td>\n",
       "      <td>3156.20</td>\n",
       "      <td>124.046</td>\n",
       "      <td>2754.0414</td>\n",
       "      <td>53.8756</td>\n",
       "    </tr>\n",
       "    <tr>\n",
       "      <th>371</th>\n",
       "      <td>9.23230</td>\n",
       "      <td>0.0</td>\n",
       "      <td>18.10</td>\n",
       "      <td>0.0</td>\n",
       "      <td>0.631</td>\n",
       "      <td>6.216</td>\n",
       "      <td>100.0</td>\n",
       "      <td>1.1691</td>\n",
       "      <td>24.0</td>\n",
       "      <td>666.0</td>\n",
       "      <td>...</td>\n",
       "      <td>0.0</td>\n",
       "      <td>6.01343</td>\n",
       "      <td>59.23848</td>\n",
       "      <td>953.000</td>\n",
       "      <td>11.141523</td>\n",
       "      <td>228.72</td>\n",
       "      <td>6346.98</td>\n",
       "      <td>192.506</td>\n",
       "      <td>3489.4095</td>\n",
       "      <td>90.8209</td>\n",
       "    </tr>\n",
       "    <tr>\n",
       "      <th>219</th>\n",
       "      <td>0.11425</td>\n",
       "      <td>0.0</td>\n",
       "      <td>13.89</td>\n",
       "      <td>1.0</td>\n",
       "      <td>0.550</td>\n",
       "      <td>6.373</td>\n",
       "      <td>92.4</td>\n",
       "      <td>3.3633</td>\n",
       "      <td>5.0</td>\n",
       "      <td>276.0</td>\n",
       "      <td>...</td>\n",
       "      <td>10.5</td>\n",
       "      <td>5.77500</td>\n",
       "      <td>66.91650</td>\n",
       "      <td>970.200</td>\n",
       "      <td>35.314650</td>\n",
       "      <td>52.50</td>\n",
       "      <td>2898.00</td>\n",
       "      <td>172.200</td>\n",
       "      <td>4134.2700</td>\n",
       "      <td>110.2500</td>\n",
       "    </tr>\n",
       "    <tr>\n",
       "      <th>403</th>\n",
       "      <td>24.80170</td>\n",
       "      <td>0.0</td>\n",
       "      <td>18.10</td>\n",
       "      <td>0.0</td>\n",
       "      <td>0.693</td>\n",
       "      <td>5.349</td>\n",
       "      <td>96.0</td>\n",
       "      <td>1.7028</td>\n",
       "      <td>24.0</td>\n",
       "      <td>666.0</td>\n",
       "      <td>...</td>\n",
       "      <td>0.0</td>\n",
       "      <td>13.70061</td>\n",
       "      <td>105.74973</td>\n",
       "      <td>1897.920</td>\n",
       "      <td>33.664356</td>\n",
       "      <td>474.48</td>\n",
       "      <td>13166.82</td>\n",
       "      <td>399.354</td>\n",
       "      <td>7846.7130</td>\n",
       "      <td>390.8529</td>\n",
       "    </tr>\n",
       "    <tr>\n",
       "      <th>78</th>\n",
       "      <td>0.05646</td>\n",
       "      <td>0.0</td>\n",
       "      <td>12.83</td>\n",
       "      <td>0.0</td>\n",
       "      <td>0.437</td>\n",
       "      <td>6.232</td>\n",
       "      <td>53.7</td>\n",
       "      <td>5.0141</td>\n",
       "      <td>5.0</td>\n",
       "      <td>398.0</td>\n",
       "      <td>...</td>\n",
       "      <td>0.0</td>\n",
       "      <td>5.39258</td>\n",
       "      <td>76.90288</td>\n",
       "      <td>662.658</td>\n",
       "      <td>61.873994</td>\n",
       "      <td>61.70</td>\n",
       "      <td>4911.32</td>\n",
       "      <td>230.758</td>\n",
       "      <td>4768.1760</td>\n",
       "      <td>152.2756</td>\n",
       "    </tr>\n",
       "  </tbody>\n",
       "</table>\n",
       "<p>5 rows × 182 columns</p>\n",
       "</div>"
      ],
      "text/plain": [
       "         CRIM   ZN  INDUS  CHAS    NOX     RM    AGE     DIS   RAD    TAX  \\\n",
       "329   0.06724  0.0   3.24   0.0  0.460  6.333   17.2  5.2146   4.0  430.0   \n",
       "371   9.23230  0.0  18.10   0.0  0.631  6.216  100.0  1.1691  24.0  666.0   \n",
       "219   0.11425  0.0  13.89   1.0  0.550  6.373   92.4  3.3633   5.0  276.0   \n",
       "403  24.80170  0.0  18.10   0.0  0.693  5.349   96.0  1.7028  24.0  666.0   \n",
       "78    0.05646  0.0  12.83   0.0  0.437  6.232   53.7  5.0141   5.0  398.0   \n",
       "\n",
       "     ...  LSTAT*CHAS  LSTAT*NOX   LSTAT*RM  LSTAT*AGE  LSTAT*DIS  LSTAT*RAD  \\\n",
       "329  ...         0.0    3.37640   46.48422    126.248  38.275164      29.36   \n",
       "371  ...         0.0    6.01343   59.23848    953.000  11.141523     228.72   \n",
       "219  ...        10.5    5.77500   66.91650    970.200  35.314650      52.50   \n",
       "403  ...         0.0   13.70061  105.74973   1897.920  33.664356     474.48   \n",
       "78   ...         0.0    5.39258   76.90288    662.658  61.873994      61.70   \n",
       "\n",
       "     LSTAT*TAX  LSTAT*PTRATIO    LSTAT*B  LSTAT*LSTAT  \n",
       "329    3156.20        124.046  2754.0414      53.8756  \n",
       "371    6346.98        192.506  3489.4095      90.8209  \n",
       "219    2898.00        172.200  4134.2700     110.2500  \n",
       "403   13166.82        399.354  7846.7130     390.8529  \n",
       "78     4911.32        230.758  4768.1760     152.2756  \n",
       "\n",
       "[5 rows x 182 columns]"
      ]
     },
     "execution_count": 59,
     "metadata": {},
     "output_type": "execute_result"
    }
   ],
   "source": [
    "# X_test 데이터 특성 확장\n",
    "for col1 in X_test.columns: #13번 반복\n",
    "    for col2 in X_test.columns:\n",
    "        extended_X_test[col1+\"*\"+col2] = X_test[col1] * X_test[col2]\n",
    "extended_X_test.info()\n",
    "extended_X_test.head()"
   ]
  },
  {
   "cell_type": "code",
   "execution_count": 60,
   "id": "06a279de",
   "metadata": {},
   "outputs": [
    {
     "data": {
      "text/plain": [
       "LinearRegression()"
      ]
     },
     "execution_count": 60,
     "metadata": {},
     "output_type": "execute_result"
    }
   ],
   "source": [
    "# 모든 특성을 확장시켰을때 모델의 정확도 더 올라갔을까?\n",
    "linear_model = LinearRegression()\n",
    "# 모델 학습\n",
    "linear_model.fit(extended_X_train,y_train) # 특성확장된 훈련문제, 훈련답"
   ]
  },
  {
   "cell_type": "code",
   "execution_count": 61,
   "id": "8998608a",
   "metadata": {},
   "outputs": [
    {
     "data": {
      "text/plain": [
       "0.6486839500200836"
      ]
     },
     "execution_count": 61,
     "metadata": {},
     "output_type": "execute_result"
    }
   ],
   "source": [
    "# 회귀 성능 평가 지표 : mse, rmse, mae, \n",
    "#r2_score(R Sqaured) : 일반적으로 0~1 , 1에 가까울수록 성능이 좋음 ,실제값의 분산과 예측값의 분산의 차이를 비교\n",
    "linear_model.score(extended_X_test, y_test)"
   ]
  },
  {
   "cell_type": "code",
   "execution_count": 62,
   "id": "27073caa",
   "metadata": {},
   "outputs": [
    {
     "data": {
      "text/plain": [
       "0.9517246762476053"
      ]
     },
     "execution_count": 62,
     "metadata": {},
     "output_type": "execute_result"
    }
   ],
   "source": [
    "linear_model.score(extended_X_train,y_train)"
   ]
  },
  {
   "cell_type": "markdown",
   "id": "1acfb2ec",
   "metadata": {},
   "source": [
    "특성이 너무 많아져서 모델이 복잡해짐 -> 과대적합이 확률이 높음  \n",
    "Linear_model 자체에는 모델의 복잡도를 제어하는 키워드가 없으므로,  \n",
    "규제를 가할 수 있는 정규화 모델을 사용해보자"
   ]
  },
  {
   "cell_type": "markdown",
   "id": "83c52d6c",
   "metadata": {},
   "source": [
    "### 정규화 모델\n",
    "- ridge(L2규제) : L2규제를 가한 정규화 모델, 특정 가중치(W)가 비이상적으로 커지는 상황을 방지, 가중치에 대해서 전체적으로 작아지게 하여 과적합을 방지하는 것\n",
    "- lasso(L1규제) : L1규제를 가한 정규화 모델, 가중치값을 규제하기 위해서 사용, 대부분 모든 가중치를 완전히 0으로 만듬(특성 선택)"
   ]
  },
  {
   "cell_type": "markdown",
   "id": "20743ee1",
   "metadata": {},
   "source": [
    "- Ridge"
   ]
  },
  {
   "cell_type": "code",
   "execution_count": 63,
   "id": "8404d9f2",
   "metadata": {},
   "outputs": [],
   "source": [
    "from sklearn.linear_model import Ridge"
   ]
  },
  {
   "cell_type": "code",
   "execution_count": 66,
   "id": "8d974b00",
   "metadata": {},
   "outputs": [
    {
     "data": {
      "text/plain": [
       "0.7767755128069869"
      ]
     },
     "execution_count": 66,
     "metadata": {},
     "output_type": "execute_result"
    }
   ],
   "source": [
    "# 객체 생성\n",
    "# alpha 하이퍼 파라미터 ( 복잡도 제어 )\n",
    "# alpha 크게 설정하면 규제를 크게 가한 것\n",
    "# alpha 작게 설정하면 규제를 작게 가한 것\n",
    "ridge_model = Ridge(alpha=100) # 기본값 1.0\n",
    "\n",
    "# 확장된 데이터를 이용하여 학습\n",
    "ridge_model.fit(extended_X_train,y_train)\n",
    "\n",
    "# r2_score 성능 평가\n",
    "ridge_model.score(extended_X_test,y_test)"
   ]
  },
  {
   "cell_type": "markdown",
   "id": "66e6830c",
   "metadata": {},
   "source": [
    "### Ridege vs Lasso 비교"
   ]
  },
  {
   "cell_type": "code",
   "execution_count": 68,
   "id": "1d64899f",
   "metadata": {},
   "outputs": [],
   "source": [
    "from sklearn.linear_model import Lasso"
   ]
  },
  {
   "cell_type": "code",
   "execution_count": 69,
   "id": "29e928e8",
   "metadata": {},
   "outputs": [],
   "source": [
    "# 규제의 정도에 따라 가중치값의 변화 출력해보기\n",
    "alpha_lst = [0.001,0.01,0.1,10,100,1000]\n",
    "# 가중치의 변화를 담은 list\n",
    "ridge_coef_lst = []\n",
    "lasso_coef_lst = []\n",
    "\n",
    "for a in alpha_lst:\n",
    "    # 정규화 모델 생성\n",
    "    r_model = Ridge(alpha = a)\n",
    "    l_model = Lasso(alpha = a)\n",
    "    \n",
    "    # 학습\n",
    "    r_model.fit(X_train,y_train)\n",
    "    l_model.fit(X_train,y_train)\n",
    "    \n",
    "    # 가중치 확인\n",
    "    ridge_coef_lst.append(r_model.coef_)\n",
    "    lasso_coef_lst.append(l_model.coef_)"
   ]
  },
  {
   "cell_type": "code",
   "execution_count": 70,
   "id": "a4bcb54c",
   "metadata": {},
   "outputs": [
    {
     "data": {
      "text/plain": [
       "[array([-1.21160937e-01,  4.45260772e-02,  9.92750518e-03,  2.49748982e+00,\n",
       "        -1.58842290e+01,  3.85942935e+00, -1.02917679e-02, -1.49537727e+00,\n",
       "         2.41124865e-01, -1.10965467e-02, -1.01402102e+00,  6.83578700e-03,\n",
       "        -4.87188117e-01]),\n",
       " array([-1.19781267e-01,  4.50927968e-02, -1.20756474e-03,  2.37139386e+00,\n",
       "        -1.27895493e+01,  3.86361448e+00, -1.30345553e-02, -1.45015497e+00,\n",
       "         2.32505393e-01, -1.13659281e-02, -9.81006635e-01,  7.02981602e-03,\n",
       "        -4.91365559e-01]),\n",
       " array([-0.11311792,  0.04725111, -0.03992527,  0.96478874, -0.        ,\n",
       "         3.72289616, -0.02143106, -1.23370405,  0.20469   , -0.0129439 ,\n",
       "        -0.85269025,  0.00795847, -0.52392362]),\n",
       " array([-0.        ,  0.0310504 , -0.        ,  0.        ,  0.        ,\n",
       "         0.        ,  0.        , -0.        ,  0.        , -0.01099723,\n",
       "        -0.        ,  0.00623475, -0.55917947]),\n",
       " array([-0.       ,  0.       , -0.       ,  0.       , -0.       ,\n",
       "         0.       , -0.       ,  0.       , -0.       , -0.0218883,\n",
       "        -0.       ,  0.0032827, -0.       ]),\n",
       " array([-0.,  0., -0.,  0., -0.,  0., -0.,  0., -0., -0., -0.,  0., -0.])]"
      ]
     },
     "execution_count": 70,
     "metadata": {},
     "output_type": "execute_result"
    }
   ],
   "source": [
    "lasso_coef_lst"
   ]
  },
  {
   "cell_type": "code",
   "execution_count": 73,
   "id": "d66e6d0b",
   "metadata": {},
   "outputs": [
    {
     "data": {
      "text/html": [
       "<div>\n",
       "<style scoped>\n",
       "    .dataframe tbody tr th:only-of-type {\n",
       "        vertical-align: middle;\n",
       "    }\n",
       "\n",
       "    .dataframe tbody tr th {\n",
       "        vertical-align: top;\n",
       "    }\n",
       "\n",
       "    .dataframe thead th {\n",
       "        text-align: right;\n",
       "    }\n",
       "</style>\n",
       "<table border=\"1\" class=\"dataframe\">\n",
       "  <thead>\n",
       "    <tr style=\"text-align: right;\">\n",
       "      <th></th>\n",
       "      <th>0.001</th>\n",
       "      <th>0.010</th>\n",
       "      <th>0.100</th>\n",
       "      <th>10.000</th>\n",
       "      <th>100.000</th>\n",
       "      <th>1000.000</th>\n",
       "    </tr>\n",
       "  </thead>\n",
       "  <tbody>\n",
       "    <tr>\n",
       "      <th>0</th>\n",
       "      <td>-0.121161</td>\n",
       "      <td>-0.119781</td>\n",
       "      <td>-0.113118</td>\n",
       "      <td>-0.000000</td>\n",
       "      <td>-0.000000</td>\n",
       "      <td>-0.0</td>\n",
       "    </tr>\n",
       "    <tr>\n",
       "      <th>1</th>\n",
       "      <td>0.044526</td>\n",
       "      <td>0.045093</td>\n",
       "      <td>0.047251</td>\n",
       "      <td>0.031050</td>\n",
       "      <td>0.000000</td>\n",
       "      <td>0.0</td>\n",
       "    </tr>\n",
       "    <tr>\n",
       "      <th>2</th>\n",
       "      <td>0.009928</td>\n",
       "      <td>-0.001208</td>\n",
       "      <td>-0.039925</td>\n",
       "      <td>-0.000000</td>\n",
       "      <td>-0.000000</td>\n",
       "      <td>-0.0</td>\n",
       "    </tr>\n",
       "    <tr>\n",
       "      <th>3</th>\n",
       "      <td>2.497490</td>\n",
       "      <td>2.371394</td>\n",
       "      <td>0.964789</td>\n",
       "      <td>0.000000</td>\n",
       "      <td>0.000000</td>\n",
       "      <td>0.0</td>\n",
       "    </tr>\n",
       "    <tr>\n",
       "      <th>4</th>\n",
       "      <td>-15.884229</td>\n",
       "      <td>-12.789549</td>\n",
       "      <td>-0.000000</td>\n",
       "      <td>0.000000</td>\n",
       "      <td>-0.000000</td>\n",
       "      <td>-0.0</td>\n",
       "    </tr>\n",
       "    <tr>\n",
       "      <th>5</th>\n",
       "      <td>3.859429</td>\n",
       "      <td>3.863614</td>\n",
       "      <td>3.722896</td>\n",
       "      <td>0.000000</td>\n",
       "      <td>0.000000</td>\n",
       "      <td>0.0</td>\n",
       "    </tr>\n",
       "    <tr>\n",
       "      <th>6</th>\n",
       "      <td>-0.010292</td>\n",
       "      <td>-0.013035</td>\n",
       "      <td>-0.021431</td>\n",
       "      <td>0.000000</td>\n",
       "      <td>-0.000000</td>\n",
       "      <td>-0.0</td>\n",
       "    </tr>\n",
       "    <tr>\n",
       "      <th>7</th>\n",
       "      <td>-1.495377</td>\n",
       "      <td>-1.450155</td>\n",
       "      <td>-1.233704</td>\n",
       "      <td>-0.000000</td>\n",
       "      <td>0.000000</td>\n",
       "      <td>0.0</td>\n",
       "    </tr>\n",
       "    <tr>\n",
       "      <th>8</th>\n",
       "      <td>0.241125</td>\n",
       "      <td>0.232505</td>\n",
       "      <td>0.204690</td>\n",
       "      <td>0.000000</td>\n",
       "      <td>-0.000000</td>\n",
       "      <td>-0.0</td>\n",
       "    </tr>\n",
       "    <tr>\n",
       "      <th>9</th>\n",
       "      <td>-0.011097</td>\n",
       "      <td>-0.011366</td>\n",
       "      <td>-0.012944</td>\n",
       "      <td>-0.010997</td>\n",
       "      <td>-0.021888</td>\n",
       "      <td>-0.0</td>\n",
       "    </tr>\n",
       "    <tr>\n",
       "      <th>10</th>\n",
       "      <td>-1.014021</td>\n",
       "      <td>-0.981007</td>\n",
       "      <td>-0.852690</td>\n",
       "      <td>-0.000000</td>\n",
       "      <td>-0.000000</td>\n",
       "      <td>-0.0</td>\n",
       "    </tr>\n",
       "    <tr>\n",
       "      <th>11</th>\n",
       "      <td>0.006836</td>\n",
       "      <td>0.007030</td>\n",
       "      <td>0.007958</td>\n",
       "      <td>0.006235</td>\n",
       "      <td>0.003283</td>\n",
       "      <td>0.0</td>\n",
       "    </tr>\n",
       "    <tr>\n",
       "      <th>12</th>\n",
       "      <td>-0.487188</td>\n",
       "      <td>-0.491366</td>\n",
       "      <td>-0.523924</td>\n",
       "      <td>-0.559179</td>\n",
       "      <td>-0.000000</td>\n",
       "      <td>-0.0</td>\n",
       "    </tr>\n",
       "  </tbody>\n",
       "</table>\n",
       "</div>"
      ],
      "text/plain": [
       "     0.001      0.010     0.100     10.000    100.000   1000.000\n",
       "0   -0.121161  -0.119781 -0.113118 -0.000000 -0.000000      -0.0\n",
       "1    0.044526   0.045093  0.047251  0.031050  0.000000       0.0\n",
       "2    0.009928  -0.001208 -0.039925 -0.000000 -0.000000      -0.0\n",
       "3    2.497490   2.371394  0.964789  0.000000  0.000000       0.0\n",
       "4  -15.884229 -12.789549 -0.000000  0.000000 -0.000000      -0.0\n",
       "5    3.859429   3.863614  3.722896  0.000000  0.000000       0.0\n",
       "6   -0.010292  -0.013035 -0.021431  0.000000 -0.000000      -0.0\n",
       "7   -1.495377  -1.450155 -1.233704 -0.000000  0.000000       0.0\n",
       "8    0.241125   0.232505  0.204690  0.000000 -0.000000      -0.0\n",
       "9   -0.011097  -0.011366 -0.012944 -0.010997 -0.021888      -0.0\n",
       "10  -1.014021  -0.981007 -0.852690 -0.000000 -0.000000      -0.0\n",
       "11   0.006836   0.007030  0.007958  0.006235  0.003283       0.0\n",
       "12  -0.487188  -0.491366 -0.523924 -0.559179 -0.000000      -0.0"
      ]
     },
     "execution_count": 73,
     "metadata": {},
     "output_type": "execute_result"
    }
   ],
   "source": [
    "# lasso 가중치 변화 데이터를 df화\n",
    "lasso_df = pd.DataFrame(np.array(lasso_coef_lst).T, columns=alpha_lst)\n",
    "lasso_df # 특성의 가중치를 완전히 0으로 만들어버림"
   ]
  },
  {
   "cell_type": "code",
   "execution_count": 75,
   "id": "ed52bb3f",
   "metadata": {},
   "outputs": [
    {
     "data": {
      "text/html": [
       "<div>\n",
       "<style scoped>\n",
       "    .dataframe tbody tr th:only-of-type {\n",
       "        vertical-align: middle;\n",
       "    }\n",
       "\n",
       "    .dataframe tbody tr th {\n",
       "        vertical-align: top;\n",
       "    }\n",
       "\n",
       "    .dataframe thead th {\n",
       "        text-align: right;\n",
       "    }\n",
       "</style>\n",
       "<table border=\"1\" class=\"dataframe\">\n",
       "  <thead>\n",
       "    <tr style=\"text-align: right;\">\n",
       "      <th></th>\n",
       "      <th>0.001</th>\n",
       "      <th>0.010</th>\n",
       "      <th>0.100</th>\n",
       "      <th>10.000</th>\n",
       "      <th>100.000</th>\n",
       "      <th>1000.000</th>\n",
       "    </tr>\n",
       "  </thead>\n",
       "  <tbody>\n",
       "    <tr>\n",
       "      <th>CRIM</th>\n",
       "      <td>-0.121304</td>\n",
       "      <td>-0.121251</td>\n",
       "      <td>-0.120763</td>\n",
       "      <td>-0.116008</td>\n",
       "      <td>-0.109848</td>\n",
       "      <td>-0.089402</td>\n",
       "    </tr>\n",
       "    <tr>\n",
       "      <th>ZN</th>\n",
       "      <td>0.044470</td>\n",
       "      <td>0.044497</td>\n",
       "      <td>0.044753</td>\n",
       "      <td>0.048609</td>\n",
       "      <td>0.053624</td>\n",
       "      <td>0.054174</td>\n",
       "    </tr>\n",
       "    <tr>\n",
       "      <th>INDUS</th>\n",
       "      <td>0.011278</td>\n",
       "      <td>0.010711</td>\n",
       "      <td>0.005540</td>\n",
       "      <td>-0.047175</td>\n",
       "      <td>-0.052950</td>\n",
       "      <td>-0.035259</td>\n",
       "    </tr>\n",
       "    <tr>\n",
       "      <th>CHAS</th>\n",
       "      <td>2.511254</td>\n",
       "      <td>2.511310</td>\n",
       "      <td>2.510884</td>\n",
       "      <td>1.785961</td>\n",
       "      <td>0.483850</td>\n",
       "      <td>0.071015</td>\n",
       "    </tr>\n",
       "    <tr>\n",
       "      <th>NOX</th>\n",
       "      <td>-16.215572</td>\n",
       "      <td>-16.075800</td>\n",
       "      <td>-14.800321</td>\n",
       "      <td>-1.540350</td>\n",
       "      <td>-0.163749</td>\n",
       "      <td>-0.006989</td>\n",
       "    </tr>\n",
       "    <tr>\n",
       "      <th>RM</th>\n",
       "      <td>3.859184</td>\n",
       "      <td>3.860214</td>\n",
       "      <td>3.869280</td>\n",
       "      <td>3.620640</td>\n",
       "      <td>1.972206</td>\n",
       "      <td>0.431777</td>\n",
       "    </tr>\n",
       "    <tr>\n",
       "      <th>AGE</th>\n",
       "      <td>-0.010001</td>\n",
       "      <td>-0.010144</td>\n",
       "      <td>-0.011441</td>\n",
       "      <td>-0.021636</td>\n",
       "      <td>-0.005280</td>\n",
       "      <td>0.028926</td>\n",
       "    </tr>\n",
       "    <tr>\n",
       "      <th>DIS</th>\n",
       "      <td>-1.500067</td>\n",
       "      <td>-1.498261</td>\n",
       "      <td>-1.481782</td>\n",
       "      <td>-1.309680</td>\n",
       "      <td>-1.183078</td>\n",
       "      <td>-0.538181</td>\n",
       "    </tr>\n",
       "    <tr>\n",
       "      <th>RAD</th>\n",
       "      <td>0.242095</td>\n",
       "      <td>0.241661</td>\n",
       "      <td>0.237723</td>\n",
       "      <td>0.211507</td>\n",
       "      <td>0.253968</td>\n",
       "      <td>0.239244</td>\n",
       "    </tr>\n",
       "    <tr>\n",
       "      <th>TAX</th>\n",
       "      <td>-0.011073</td>\n",
       "      <td>-0.011082</td>\n",
       "      <td>-0.011165</td>\n",
       "      <td>-0.012664</td>\n",
       "      <td>-0.014718</td>\n",
       "      <td>-0.015490</td>\n",
       "    </tr>\n",
       "    <tr>\n",
       "      <th>PTRATIO</th>\n",
       "      <td>-1.017581</td>\n",
       "      <td>-1.016049</td>\n",
       "      <td>-1.002095</td>\n",
       "      <td>-0.876398</td>\n",
       "      <td>-0.912937</td>\n",
       "      <td>-0.663484</td>\n",
       "    </tr>\n",
       "    <tr>\n",
       "      <th>B</th>\n",
       "      <td>0.006815</td>\n",
       "      <td>0.006823</td>\n",
       "      <td>0.006895</td>\n",
       "      <td>0.007688</td>\n",
       "      <td>0.007424</td>\n",
       "      <td>0.006714</td>\n",
       "    </tr>\n",
       "    <tr>\n",
       "      <th>LSTAT</th>\n",
       "      <td>-0.486749</td>\n",
       "      <td>-0.486849</td>\n",
       "      <td>-0.487785</td>\n",
       "      <td>-0.524099</td>\n",
       "      <td>-0.645917</td>\n",
       "      <td>-0.729910</td>\n",
       "    </tr>\n",
       "  </tbody>\n",
       "</table>\n",
       "</div>"
      ],
      "text/plain": [
       "          0.001      0.010      0.100     10.000    100.000   1000.000\n",
       "CRIM     -0.121304  -0.121251  -0.120763 -0.116008 -0.109848 -0.089402\n",
       "ZN        0.044470   0.044497   0.044753  0.048609  0.053624  0.054174\n",
       "INDUS     0.011278   0.010711   0.005540 -0.047175 -0.052950 -0.035259\n",
       "CHAS      2.511254   2.511310   2.510884  1.785961  0.483850  0.071015\n",
       "NOX     -16.215572 -16.075800 -14.800321 -1.540350 -0.163749 -0.006989\n",
       "RM        3.859184   3.860214   3.869280  3.620640  1.972206  0.431777\n",
       "AGE      -0.010001  -0.010144  -0.011441 -0.021636 -0.005280  0.028926\n",
       "DIS      -1.500067  -1.498261  -1.481782 -1.309680 -1.183078 -0.538181\n",
       "RAD       0.242095   0.241661   0.237723  0.211507  0.253968  0.239244\n",
       "TAX      -0.011073  -0.011082  -0.011165 -0.012664 -0.014718 -0.015490\n",
       "PTRATIO  -1.017581  -1.016049  -1.002095 -0.876398 -0.912937 -0.663484\n",
       "B         0.006815   0.006823   0.006895  0.007688  0.007424  0.006714\n",
       "LSTAT    -0.486749  -0.486849  -0.487785 -0.524099 -0.645917 -0.729910"
      ]
     },
     "execution_count": 75,
     "metadata": {},
     "output_type": "execute_result"
    }
   ],
   "source": [
    "# ridge 가중치 변화 데이터를 df화\n",
    "ridge_df = pd.DataFrame(np.array(ridge_coef_lst).T, columns=alpha_lst, index=X_train.columns)\n",
    "ridge_df"
   ]
  },
  {
   "cell_type": "code",
   "execution_count": null,
   "id": "bf8b9d89",
   "metadata": {},
   "outputs": [],
   "source": []
  }
 ],
 "metadata": {
  "kernelspec": {
   "display_name": "Python 3 (ipykernel)",
   "language": "python",
   "name": "python3"
  },
  "language_info": {
   "codemirror_mode": {
    "name": "ipython",
    "version": 3
   },
   "file_extension": ".py",
   "mimetype": "text/x-python",
   "name": "python",
   "nbconvert_exporter": "python",
   "pygments_lexer": "ipython3",
   "version": "3.8.8"
  }
 },
 "nbformat": 4,
 "nbformat_minor": 5
}

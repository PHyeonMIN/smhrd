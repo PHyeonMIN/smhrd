{
 "cells": [
  {
   "cell_type": "markdown",
   "id": "a60b3437",
   "metadata": {},
   "source": [
    "### 목표\n",
    "- 목표정의  \n",
    "500명의 대한 키와 몸무게 데이터를 활용하여 bmi값 예측하는 모델 만들어보자   \n",
    "머신러닝 과정 이해해보자"
   ]
  },
  {
   "cell_type": "markdown",
   "id": "2334842c",
   "metadata": {},
   "source": [
    "- 머신러닝 종류? 3가지  \n",
    "지도학습(교사학습, Supervised)  \n",
    "비지도학습(Unsupervised)  \n",
    "강화학습(Reinforcement)  \n",
    "\n",
    "\n",
    "- 머신러닝 학습 과정  \n",
    "1. 문제 정의  \n",
    "2. 데이터 수집  \n",
    "3. 데이터 전처리  \n",
    "4. EDA(탐색적 데이터 분석)  \n",
    "5. Model선택, Hyper Parameter 조정  \n",
    "6. 모델 학습( fit, 데이터에 맞춰서 학습해라 ) \n",
    "7. 모델 예측 (predict), 평가(score)"
   ]
  },
  {
   "cell_type": "code",
   "execution_count": 24,
   "id": "a196f1aa",
   "metadata": {},
   "outputs": [],
   "source": [
    "import pandas as pd\n",
    "import numpy as np\n",
    "import matplotlib.pyplot as plt\n",
    "\n",
    "# 머신러닝 모델 불러오기\n",
    "# 머신러닝 패키지 sklearn\n",
    "from sklearn.neighbors import KNeighborsClassifier # 분류 예측\n",
    "from sklearn.metrics import accuracy_score # 정확도 측정 도구 ( 성능평가 도구 )"
   ]
  },
  {
   "cell_type": "markdown",
   "id": "a1dca02d",
   "metadata": {},
   "source": [
    "### 데이터불러오기"
   ]
  },
  {
   "cell_type": "code",
   "execution_count": 25,
   "id": "f0c524e9",
   "metadata": {},
   "outputs": [
    {
     "data": {
      "text/html": [
       "<div>\n",
       "<style scoped>\n",
       "    .dataframe tbody tr th:only-of-type {\n",
       "        vertical-align: middle;\n",
       "    }\n",
       "\n",
       "    .dataframe tbody tr th {\n",
       "        vertical-align: top;\n",
       "    }\n",
       "\n",
       "    .dataframe thead th {\n",
       "        text-align: right;\n",
       "    }\n",
       "</style>\n",
       "<table border=\"1\" class=\"dataframe\">\n",
       "  <thead>\n",
       "    <tr style=\"text-align: right;\">\n",
       "      <th></th>\n",
       "      <th>Gender</th>\n",
       "      <th>Height</th>\n",
       "      <th>Weight</th>\n",
       "    </tr>\n",
       "    <tr>\n",
       "      <th>Label</th>\n",
       "      <th></th>\n",
       "      <th></th>\n",
       "      <th></th>\n",
       "    </tr>\n",
       "  </thead>\n",
       "  <tbody>\n",
       "    <tr>\n",
       "      <th>Obesity</th>\n",
       "      <td>Male</td>\n",
       "      <td>174</td>\n",
       "      <td>96</td>\n",
       "    </tr>\n",
       "    <tr>\n",
       "      <th>Normal</th>\n",
       "      <td>Male</td>\n",
       "      <td>189</td>\n",
       "      <td>87</td>\n",
       "    </tr>\n",
       "    <tr>\n",
       "      <th>Obesity</th>\n",
       "      <td>Female</td>\n",
       "      <td>185</td>\n",
       "      <td>110</td>\n",
       "    </tr>\n",
       "    <tr>\n",
       "      <th>Overweight</th>\n",
       "      <td>Female</td>\n",
       "      <td>195</td>\n",
       "      <td>104</td>\n",
       "    </tr>\n",
       "    <tr>\n",
       "      <th>Overweight</th>\n",
       "      <td>Male</td>\n",
       "      <td>149</td>\n",
       "      <td>61</td>\n",
       "    </tr>\n",
       "    <tr>\n",
       "      <th>...</th>\n",
       "      <td>...</td>\n",
       "      <td>...</td>\n",
       "      <td>...</td>\n",
       "    </tr>\n",
       "    <tr>\n",
       "      <th>Extreme Obesity</th>\n",
       "      <td>Female</td>\n",
       "      <td>150</td>\n",
       "      <td>153</td>\n",
       "    </tr>\n",
       "    <tr>\n",
       "      <th>Obesity</th>\n",
       "      <td>Female</td>\n",
       "      <td>184</td>\n",
       "      <td>121</td>\n",
       "    </tr>\n",
       "    <tr>\n",
       "      <th>Extreme Obesity</th>\n",
       "      <td>Female</td>\n",
       "      <td>141</td>\n",
       "      <td>136</td>\n",
       "    </tr>\n",
       "    <tr>\n",
       "      <th>Extreme Obesity</th>\n",
       "      <td>Male</td>\n",
       "      <td>150</td>\n",
       "      <td>95</td>\n",
       "    </tr>\n",
       "    <tr>\n",
       "      <th>Extreme Obesity</th>\n",
       "      <td>Male</td>\n",
       "      <td>173</td>\n",
       "      <td>131</td>\n",
       "    </tr>\n",
       "  </tbody>\n",
       "</table>\n",
       "<p>500 rows × 3 columns</p>\n",
       "</div>"
      ],
      "text/plain": [
       "                 Gender  Height  Weight\n",
       "Label                                  \n",
       "Obesity            Male     174      96\n",
       "Normal             Male     189      87\n",
       "Obesity          Female     185     110\n",
       "Overweight       Female     195     104\n",
       "Overweight         Male     149      61\n",
       "...                 ...     ...     ...\n",
       "Extreme Obesity  Female     150     153\n",
       "Obesity          Female     184     121\n",
       "Extreme Obesity  Female     141     136\n",
       "Extreme Obesity    Male     150      95\n",
       "Extreme Obesity    Male     173     131\n",
       "\n",
       "[500 rows x 3 columns]"
      ]
     },
     "execution_count": 25,
     "metadata": {},
     "output_type": "execute_result"
    }
   ],
   "source": [
    "# 데이터 불러오기\n",
    "# 컬럼값을 인덱스로 설정해서 불러오기\n",
    "data = pd.read_csv('./data/bmi_500.csv',index_col='Label')\n",
    "data"
   ]
  },
  {
   "cell_type": "code",
   "execution_count": 10,
   "id": "95f7c6c2",
   "metadata": {},
   "outputs": [
    {
     "name": "stdout",
     "output_type": "stream",
     "text": [
      "<class 'pandas.core.frame.DataFrame'>\n",
      "Index: 500 entries, Obesity to Extreme Obesity\n",
      "Data columns (total 3 columns):\n",
      " #   Column  Non-Null Count  Dtype \n",
      "---  ------  --------------  ----- \n",
      " 0   Gender  500 non-null    object\n",
      " 1   Height  500 non-null    int64 \n",
      " 2   Weight  500 non-null    int64 \n",
      "dtypes: int64(2), object(1)\n",
      "memory usage: 15.6+ KB\n"
     ]
    }
   ],
   "source": [
    "# 데이터 정보 확인 \n",
    "# 크기 확인 shape\n",
    "data.shape # 500 행, 3 컬럼\n",
    "\n",
    "# info\n",
    "data.info()\n",
    "# 결측치 여부 : x\n",
    "# 데이터 타입 확인 : 키, 몸무게 정수형태(수치값)"
   ]
  },
  {
   "cell_type": "markdown",
   "id": "5af34421",
   "metadata": {},
   "source": [
    "### 데이터 전처리  \n",
    "- 진행x"
   ]
  },
  {
   "cell_type": "markdown",
   "id": "4499234f",
   "metadata": {},
   "source": [
    "#### 탐색적 데이터 분석  \n",
    "- 데이터를 살펴보자"
   ]
  },
  {
   "cell_type": "code",
   "execution_count": 11,
   "id": "bb1bb86a",
   "metadata": {},
   "outputs": [
    {
     "data": {
      "text/html": [
       "<div>\n",
       "<style scoped>\n",
       "    .dataframe tbody tr th:only-of-type {\n",
       "        vertical-align: middle;\n",
       "    }\n",
       "\n",
       "    .dataframe tbody tr th {\n",
       "        vertical-align: top;\n",
       "    }\n",
       "\n",
       "    .dataframe thead th {\n",
       "        text-align: right;\n",
       "    }\n",
       "</style>\n",
       "<table border=\"1\" class=\"dataframe\">\n",
       "  <thead>\n",
       "    <tr style=\"text-align: right;\">\n",
       "      <th></th>\n",
       "      <th>Height</th>\n",
       "      <th>Weight</th>\n",
       "    </tr>\n",
       "  </thead>\n",
       "  <tbody>\n",
       "    <tr>\n",
       "      <th>count</th>\n",
       "      <td>500.000000</td>\n",
       "      <td>500.000000</td>\n",
       "    </tr>\n",
       "    <tr>\n",
       "      <th>mean</th>\n",
       "      <td>169.944000</td>\n",
       "      <td>106.000000</td>\n",
       "    </tr>\n",
       "    <tr>\n",
       "      <th>std</th>\n",
       "      <td>16.375261</td>\n",
       "      <td>32.382607</td>\n",
       "    </tr>\n",
       "    <tr>\n",
       "      <th>min</th>\n",
       "      <td>140.000000</td>\n",
       "      <td>50.000000</td>\n",
       "    </tr>\n",
       "    <tr>\n",
       "      <th>25%</th>\n",
       "      <td>156.000000</td>\n",
       "      <td>80.000000</td>\n",
       "    </tr>\n",
       "    <tr>\n",
       "      <th>50%</th>\n",
       "      <td>170.500000</td>\n",
       "      <td>106.000000</td>\n",
       "    </tr>\n",
       "    <tr>\n",
       "      <th>75%</th>\n",
       "      <td>184.000000</td>\n",
       "      <td>136.000000</td>\n",
       "    </tr>\n",
       "    <tr>\n",
       "      <th>max</th>\n",
       "      <td>199.000000</td>\n",
       "      <td>160.000000</td>\n",
       "    </tr>\n",
       "  </tbody>\n",
       "</table>\n",
       "</div>"
      ],
      "text/plain": [
       "           Height      Weight\n",
       "count  500.000000  500.000000\n",
       "mean   169.944000  106.000000\n",
       "std     16.375261   32.382607\n",
       "min    140.000000   50.000000\n",
       "25%    156.000000   80.000000\n",
       "50%    170.500000  106.000000\n",
       "75%    184.000000  136.000000\n",
       "max    199.000000  160.000000"
      ]
     },
     "execution_count": 11,
     "metadata": {},
     "output_type": "execute_result"
    }
   ],
   "source": [
    "# 기술통계 : 통계량에 대해서 기술한 것\n",
    "data.describe()\n",
    "\n",
    "# 중앙값이 평균값이랑 비슷함으로 이상치의 영향을 받지않고 있다."
   ]
  },
  {
   "cell_type": "code",
   "execution_count": 15,
   "id": "de7d25be",
   "metadata": {},
   "outputs": [
    {
     "data": {
      "text/plain": [
       "Index(['Obesity', 'Normal', 'Overweight', 'Extreme Obesity', 'Weak',\n",
       "       'Extremely Weak'],\n",
       "      dtype='object', name='Label')"
      ]
     },
     "execution_count": 15,
     "metadata": {},
     "output_type": "execute_result"
    }
   ],
   "source": [
    "# Label 살펴보자\n",
    "# 클래스의 수는 얼마인가? 6개\n",
    "data.index.unique()\n",
    "\n",
    "# Extreme Obesity : 고도비만\n",
    "# Obesity : 비만\n",
    "# Overweight : 과체중\n",
    "# Normal : 정상체중\n",
    "# Weak : 저체중\n",
    "# Extremely Weak : 심한 저체중"
   ]
  },
  {
   "cell_type": "code",
   "execution_count": 16,
   "id": "01df067b",
   "metadata": {},
   "outputs": [
    {
     "data": {
      "text/plain": [
       "Extreme Obesity    198\n",
       "Obesity            130\n",
       "Normal              69\n",
       "Overweight          68\n",
       "Weak                22\n",
       "Extremely Weak      13\n",
       "Name: Label, dtype: int64"
      ]
     },
     "execution_count": 16,
     "metadata": {},
     "output_type": "execute_result"
    }
   ],
   "source": [
    "# 각각의 클래스가 몇개씩 담겨 있는가?\n",
    "data.index.value_counts()\n",
    "\n",
    "# 정답 label은 되도록이면 다양성을 유지해야함 - 평향성 유지!"
   ]
  },
  {
   "cell_type": "code",
   "execution_count": 30,
   "id": "bfb12212",
   "metadata": {},
   "outputs": [
    {
     "data": {
      "image/png": "[encoded data removed]",
      "text/plain": [
       "<Figure size 432x288 with 1 Axes>"
      ]
     },
     "metadata": {
      "needs_background": "light"
     },
     "output_type": "display_data"
    }
   ],
   "source": [
    "# 레이블을 그래프화해서 살펴보자\n",
    "# scatter\n",
    "# Extreme Obesity 산점도 찍어보기\n",
    "# d = data.loc['Extreme Obesity']  # 행값을 알아서 찾아냄!\n",
    "# plt.scatter(d['Height'],d['Weight'], color='red', label='ext ob') # label은 기입만 한 상태\n",
    "\n",
    "# d2 = data.loc['Obesity']  # 행값을 알아서 찾아냄!\n",
    "# plt.scatter(d2['Height'],d2['Weight'], color='orange', label='ext ob') # label은 기입만 한 상태\n",
    "\n",
    "# 함수 정의 \n",
    "def bmi_graph(label,color):\n",
    "    d = data.loc[label]\n",
    "    plt.scatter(d['Height'],d['Weight'], color=color, label=label)\n",
    "    \n",
    "# 함수 호출 6번\n",
    "bmi_graph('Extreme Obesity','red')\n",
    "bmi_graph('Obesity','orange')\n",
    "bmi_graph('Normal','blue')\n",
    "bmi_graph('Overweight','black')\n",
    "bmi_graph('Weak','green')\n",
    "bmi_graph('Extremely Weak','yellow')\n",
    "\n",
    "plt.legend() # 범례표시\n",
    "plt.show()"
   ]
  },
  {
   "cell_type": "markdown",
   "id": "b06221d6",
   "metadata": {},
   "source": [
    "### 모델링  \n",
    "- 문제데이터와 답 데이터로 분리"
   ]
  },
  {
   "cell_type": "code",
   "execution_count": 43,
   "id": "977e42ba",
   "metadata": {},
   "outputs": [
    {
     "data": {
      "text/html": [
       "<div>\n",
       "<style scoped>\n",
       "    .dataframe tbody tr th:only-of-type {\n",
       "        vertical-align: middle;\n",
       "    }\n",
       "\n",
       "    .dataframe tbody tr th {\n",
       "        vertical-align: top;\n",
       "    }\n",
       "\n",
       "    .dataframe thead th {\n",
       "        text-align: right;\n",
       "    }\n",
       "</style>\n",
       "<table border=\"1\" class=\"dataframe\">\n",
       "  <thead>\n",
       "    <tr style=\"text-align: right;\">\n",
       "      <th></th>\n",
       "      <th>Height</th>\n",
       "      <th>Weight</th>\n",
       "    </tr>\n",
       "    <tr>\n",
       "      <th>Label</th>\n",
       "      <th></th>\n",
       "      <th></th>\n",
       "    </tr>\n",
       "  </thead>\n",
       "  <tbody>\n",
       "    <tr>\n",
       "      <th>Obesity</th>\n",
       "      <td>174</td>\n",
       "      <td>96</td>\n",
       "    </tr>\n",
       "    <tr>\n",
       "      <th>Normal</th>\n",
       "      <td>189</td>\n",
       "      <td>87</td>\n",
       "    </tr>\n",
       "    <tr>\n",
       "      <th>Obesity</th>\n",
       "      <td>185</td>\n",
       "      <td>110</td>\n",
       "    </tr>\n",
       "    <tr>\n",
       "      <th>Overweight</th>\n",
       "      <td>195</td>\n",
       "      <td>104</td>\n",
       "    </tr>\n",
       "    <tr>\n",
       "      <th>Overweight</th>\n",
       "      <td>149</td>\n",
       "      <td>61</td>\n",
       "    </tr>\n",
       "  </tbody>\n",
       "</table>\n",
       "</div>"
      ],
      "text/plain": [
       "            Height  Weight\n",
       "Label                     \n",
       "Obesity        174      96\n",
       "Normal         189      87\n",
       "Obesity        185     110\n",
       "Overweight     195     104\n",
       "Overweight     149      61"
      ]
     },
     "metadata": {},
     "output_type": "display_data"
    },
    {
     "data": {
      "text/plain": [
       "Index(['Obesity', 'Normal', 'Obesity', 'Overweight', 'Overweight'], dtype='object', name='Label')"
      ]
     },
     "metadata": {},
     "output_type": "display_data"
    }
   ],
   "source": [
    "# 이런 키값과 이런 몸무게 값 있으면\n",
    "X = data[['Height', 'Weight']]\n",
    "#X = data.loc[:,'Height':'Weight']\n",
    "# 이런 bmi 답이 나온다\n",
    "y = data.index\n",
    "display(X.head())\n",
    "display(y[:5])"
   ]
  },
  {
   "cell_type": "markdown",
   "id": "096a55e0",
   "metadata": {},
   "source": [
    "- train데이터와 test테이터 분리"
   ]
  },
  {
   "cell_type": "code",
   "execution_count": 45,
   "id": "0a24d0af",
   "metadata": {},
   "outputs": [],
   "source": [
    "# 2차원이라 대문자, 1차원이라 소문자\n",
    "X_train = X.iloc[:350] # 훈련용 문제 \n",
    "y_train = y[:350] # 훈련용 답\n",
    "\n",
    "X_test = X.iloc[350:] # 테스트 문제\n",
    "y_test = y[350:] # 테스트 답"
   ]
  },
  {
   "cell_type": "code",
   "execution_count": 47,
   "id": "c48c63e1",
   "metadata": {},
   "outputs": [
    {
     "name": "stdout",
     "output_type": "stream",
     "text": [
      "훈련용 문제 :  (350, 2)\n",
      "훈련용 답 :  (350,)\n",
      "테스트용 문제 :  (150, 2)\n",
      "테스트용 답 :  (150,)\n"
     ]
    }
   ],
   "source": [
    "# 데이터 크기 확인\n",
    "print('훈련용 문제 : ',X_train.shape)\n",
    "print('훈련용 답 : ', y_train.shape)\n",
    "print('테스트용 문제 : ',X_test.shape)\n",
    "print('테스트용 답 : ', y_test.shape)"
   ]
  },
  {
   "cell_type": "code",
   "execution_count": 48,
   "id": "42ca2e09",
   "metadata": {},
   "outputs": [],
   "source": [
    "knn_model = KNeighborsClassifier(n_neighbors =5) \n",
    "# 이웃의 개수 : 5개 (기본값)"
   ]
  },
  {
   "cell_type": "code",
   "execution_count": 60,
   "id": "b00a718c",
   "metadata": {},
   "outputs": [
    {
     "data": {
      "text/plain": [
       "KNeighborsClassifier()"
      ]
     },
     "execution_count": 60,
     "metadata": {},
     "output_type": "execute_result"
    }
   ],
   "source": [
    "# knn_model 학습하기\n",
    "knn_model.fit(X_train,y_train)"
   ]
  },
  {
   "cell_type": "code",
   "execution_count": 61,
   "id": "ae04ba17",
   "metadata": {},
   "outputs": [
    {
     "data": {
      "text/plain": [
       "(150,)"
      ]
     },
     "execution_count": 61,
     "metadata": {},
     "output_type": "execute_result"
    }
   ],
   "source": [
    "# knn_model 예측하기\n",
    "pre = knn_model.predict(X_test)\n",
    "knn_model.predict(X_test).shape"
   ]
  },
  {
   "cell_type": "code",
   "execution_count": 63,
   "id": "8b5df9f8",
   "metadata": {},
   "outputs": [
    {
     "data": {
      "text/plain": [
       "0.9066666666666666"
      ]
     },
     "execution_count": 63,
     "metadata": {},
     "output_type": "execute_result"
    }
   ],
   "source": [
    "# knn_model 평가하기\n",
    "# acaccuracy_score(실제답, 예측값)\n",
    "accuracy_score(y_test, pre)\n",
    "# knn_model.score(테스트문제, 테스트답)\n",
    "knn_model.score(X_test, y_test)"
   ]
  },
  {
   "cell_type": "code",
   "execution_count": null,
   "id": "abd95973",
   "metadata": {},
   "outputs": [],
   "source": []
  },
  {
   "cell_type": "code",
   "execution_count": null,
   "id": "252cbf4c",
   "metadata": {},
   "outputs": [],
   "source": []
  },
  {
   "cell_type": "code",
   "execution_count": null,
   "id": "78401c2d",
   "metadata": {},
   "outputs": [],
   "source": []
  },
  {
   "cell_type": "code",
   "execution_count": null,
   "id": "a2773a03",
   "metadata": {},
   "outputs": [],
   "source": []
  }
 ],
 "metadata": {
  "kernelspec": {
   "display_name": "Python 3 (ipykernel)",
   "language": "python",
   "name": "python3"
  },
  "language_info": {
   "codemirror_mode": {
    "name": "ipython",
    "version": 3
   },
   "file_extension": ".py",
   "mimetype": "text/x-python",
   "name": "python",
   "nbconvert_exporter": "python",
   "pygments_lexer": "ipython3",
   "version": "3.8.8"
  }
 },
 "nbformat": 4,
 "nbformat_minor": 5
}

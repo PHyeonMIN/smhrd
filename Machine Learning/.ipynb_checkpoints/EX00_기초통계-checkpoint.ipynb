{
 "cells": [
  {
   "cell_type": "code",
   "execution_count": 1,
   "id": "f7ebc1da",
   "metadata": {},
   "outputs": [],
   "source": [
    "import pandas as pd"
   ]
  },
  {
   "cell_type": "code",
   "execution_count": 2,
   "id": "d95713a8",
   "metadata": {},
   "outputs": [
    {
     "data": {
      "text/html": [
       "<div>\n",
       "<style scoped>\n",
       "    .dataframe tbody tr th:only-of-type {\n",
       "        vertical-align: middle;\n",
       "    }\n",
       "\n",
       "    .dataframe tbody tr th {\n",
       "        vertical-align: top;\n",
       "    }\n",
       "\n",
       "    .dataframe thead th {\n",
       "        text-align: right;\n",
       "    }\n",
       "</style>\n",
       "<table border=\"1\" class=\"dataframe\">\n",
       "  <thead>\n",
       "    <tr style=\"text-align: right;\">\n",
       "      <th></th>\n",
       "      <th>이름</th>\n",
       "      <th>나이</th>\n",
       "      <th>혈액형</th>\n",
       "      <th>키</th>\n",
       "    </tr>\n",
       "  </thead>\n",
       "  <tbody>\n",
       "    <tr>\n",
       "      <th>0</th>\n",
       "      <td>강성관</td>\n",
       "      <td>45</td>\n",
       "      <td>0</td>\n",
       "      <td>175.5</td>\n",
       "    </tr>\n",
       "    <tr>\n",
       "      <th>1</th>\n",
       "      <td>손지영</td>\n",
       "      <td>35</td>\n",
       "      <td>1</td>\n",
       "      <td>160.2</td>\n",
       "    </tr>\n",
       "    <tr>\n",
       "      <th>2</th>\n",
       "      <td>김운비</td>\n",
       "      <td>27</td>\n",
       "      <td>1</td>\n",
       "      <td>165.5</td>\n",
       "    </tr>\n",
       "    <tr>\n",
       "      <th>3</th>\n",
       "      <td>채수민</td>\n",
       "      <td>25</td>\n",
       "      <td>2</td>\n",
       "      <td>158.2</td>\n",
       "    </tr>\n",
       "  </tbody>\n",
       "</table>\n",
       "</div>"
      ],
      "text/plain": [
       "    이름  나이  혈액형      키\n",
       "0  강성관  45    0  175.5\n",
       "1  손지영  35    1  160.2\n",
       "2  김운비  27    1  165.5\n",
       "3  채수민  25    2  158.2"
      ]
     },
     "execution_count": 2,
     "metadata": {},
     "output_type": "execute_result"
    }
   ],
   "source": [
    "# 혈액형 0:A / 1:O / 2:B / 3:AB\n",
    "df = pd.DataFrame({'이름':['강성관','손지영','김운비','채수민'],\n",
    "                 '나이':[45,35,27,25],\n",
    "                  '혈액형':[0,1,1,2],\n",
    "                  '키':[175.5,160.2,165.5,158.2],})\n",
    "df"
   ]
  },
  {
   "cell_type": "code",
   "execution_count": 24,
   "id": "793df3eb",
   "metadata": {},
   "outputs": [
    {
     "data": {
      "text/html": [
       "<div>\n",
       "<style scoped>\n",
       "    .dataframe tbody tr th:only-of-type {\n",
       "        vertical-align: middle;\n",
       "    }\n",
       "\n",
       "    .dataframe tbody tr th {\n",
       "        vertical-align: top;\n",
       "    }\n",
       "\n",
       "    .dataframe thead th {\n",
       "        text-align: right;\n",
       "    }\n",
       "</style>\n",
       "<table border=\"1\" class=\"dataframe\">\n",
       "  <thead>\n",
       "    <tr style=\"text-align: right;\">\n",
       "      <th></th>\n",
       "      <th>혈액형</th>\n",
       "    </tr>\n",
       "  </thead>\n",
       "  <tbody>\n",
       "    <tr>\n",
       "      <th>0</th>\n",
       "      <td>0</td>\n",
       "    </tr>\n",
       "    <tr>\n",
       "      <th>1</th>\n",
       "      <td>1</td>\n",
       "    </tr>\n",
       "    <tr>\n",
       "      <th>2</th>\n",
       "      <td>1</td>\n",
       "    </tr>\n",
       "    <tr>\n",
       "      <th>3</th>\n",
       "      <td>2</td>\n",
       "    </tr>\n",
       "  </tbody>\n",
       "</table>\n",
       "</div>"
      ],
      "text/plain": [
       "   혈액형\n",
       "0    0\n",
       "1    1\n",
       "2    1\n",
       "3    2"
      ]
     },
     "metadata": {},
     "output_type": "display_data"
    },
    {
     "data": {
      "text/plain": [
       "0    0\n",
       "1    1\n",
       "2    1\n",
       "3    2\n",
       "Name: 혈액형, dtype: int64"
      ]
     },
     "execution_count": 24,
     "metadata": {},
     "output_type": "execute_result"
    }
   ],
   "source": [
    "# 범주형 데이터 접근 count : 빈도수 확인\n",
    "# 혈액형 컬럼 인덱싱\n",
    "display(df[['혈액형']])\n",
    "# 행과 열에 편하게 접근할 수 있는 인덱서 : loc, iloc\n",
    "# 대상.loc[행, 열] : 문자열\n",
    "# 대상.iloc[행, 열] : 인덱스 번호\n",
    "df.iloc[:,2]\n",
    "df.loc[:,'혈액형']"
   ]
  },
  {
   "cell_type": "code",
   "execution_count": 22,
   "id": "8e10a4fd",
   "metadata": {},
   "outputs": [
    {
     "data": {
      "text/plain": [
       "혈액형\n",
       "1      2\n",
       "0      1\n",
       "2      1\n",
       "dtype: int64"
      ]
     },
     "execution_count": 22,
     "metadata": {},
     "output_type": "execute_result"
    }
   ],
   "source": [
    "df[['혈액형']].value_counts()"
   ]
  },
  {
   "cell_type": "code",
   "execution_count": 23,
   "id": "7355a139",
   "metadata": {},
   "outputs": [
    {
     "data": {
      "text/plain": [
       "164.85"
      ]
     },
     "execution_count": 23,
     "metadata": {},
     "output_type": "execute_result"
    }
   ],
   "source": [
    "# 키의 평균\n",
    "df['키'].mean()"
   ]
  },
  {
   "cell_type": "code",
   "execution_count": 25,
   "id": "62fbf848",
   "metadata": {},
   "outputs": [
    {
     "data": {
      "text/plain": [
       "count      4.000000\n",
       "mean     164.850000\n",
       "std        7.739294\n",
       "min      158.200000\n",
       "25%      159.700000\n",
       "50%      162.850000\n",
       "75%      168.000000\n",
       "max      175.500000\n",
       "Name: 키, dtype: float64"
      ]
     },
     "execution_count": 25,
     "metadata": {},
     "output_type": "execute_result"
    }
   ],
   "source": [
    "# 키 데이터의 기술 통계 정보 확인\n",
    "# descibe()\n",
    "df['키'].describe()"
   ]
  },
  {
   "cell_type": "code",
   "execution_count": 34,
   "id": "dab04f9b",
   "metadata": {},
   "outputs": [],
   "source": [
    "# 수치형 자료 -> 범주형 자료\n",
    "# cut\n",
    "# pd.cut(수치형, 구간설정, 구간이름설정<라벨링>)\n",
    "b = [19,29,39,49] # 구간 20대 : 20~29 / 30대 : 30~39 / 40대 : 40~49\n",
    "l = ['20대','30대','40대']\n",
    "df['연령대'] = pd.cut(df['나이'],bins = b,labels = l)"
   ]
  },
  {
   "cell_type": "code",
   "execution_count": 42,
   "id": "3962f7c2",
   "metadata": {},
   "outputs": [
    {
     "data": {
      "text/plain": [
       "35.0"
      ]
     },
     "execution_count": 42,
     "metadata": {},
     "output_type": "execute_result"
    }
   ],
   "source": [
    "# 30대의 평균 나이는?\n",
    "df[df['연령대']=='30대']['나이'].mean()\n",
    "# 불리언 인덱싱을 loc 인덱서랑 호환가능 // iloc는 에러뜸"
   ]
  },
  {
   "cell_type": "code",
   "execution_count": 45,
   "id": "5f75c176",
   "metadata": {},
   "outputs": [
    {
     "data": {
      "text/plain": [
       "35.0"
      ]
     },
     "execution_count": 45,
     "metadata": {},
     "output_type": "execute_result"
    }
   ],
   "source": [
    "df.loc[df['연령대']=='30대','나이'].mean()\n",
    "# loc는 동시에 접근해서 계산의 속도가 빨라진다!"
   ]
  },
  {
   "cell_type": "code",
   "execution_count": 49,
   "id": "dd330891",
   "metadata": {},
   "outputs": [
    {
     "data": {
      "text/plain": [
       "0    0\n",
       "1    1\n",
       "2    3\n",
       "3    2\n",
       "Name: 이름, dtype: int64"
      ]
     },
     "execution_count": 49,
     "metadata": {},
     "output_type": "execute_result"
    }
   ],
   "source": [
    "# 범주형 -> 숫자모양(수치형)\n",
    "# 레이블인코딩, 원핫인코딩\n",
    "\n",
    "# 레이블 인코딩\n",
    "df['이름'].map({'강성관':0, '손지영':1,'김운비':3, '채수민':2})"
   ]
  },
  {
   "cell_type": "code",
   "execution_count": 51,
   "id": "4d4049b8",
   "metadata": {},
   "outputs": [
    {
     "data": {
      "text/html": [
       "<div>\n",
       "<style scoped>\n",
       "    .dataframe tbody tr th:only-of-type {\n",
       "        vertical-align: middle;\n",
       "    }\n",
       "\n",
       "    .dataframe tbody tr th {\n",
       "        vertical-align: top;\n",
       "    }\n",
       "\n",
       "    .dataframe thead th {\n",
       "        text-align: right;\n",
       "    }\n",
       "</style>\n",
       "<table border=\"1\" class=\"dataframe\">\n",
       "  <thead>\n",
       "    <tr style=\"text-align: right;\">\n",
       "      <th></th>\n",
       "      <th>이름_강성관</th>\n",
       "      <th>이름_김운비</th>\n",
       "      <th>이름_손지영</th>\n",
       "      <th>이름_채수민</th>\n",
       "    </tr>\n",
       "  </thead>\n",
       "  <tbody>\n",
       "    <tr>\n",
       "      <th>0</th>\n",
       "      <td>1</td>\n",
       "      <td>0</td>\n",
       "      <td>0</td>\n",
       "      <td>0</td>\n",
       "    </tr>\n",
       "    <tr>\n",
       "      <th>1</th>\n",
       "      <td>0</td>\n",
       "      <td>0</td>\n",
       "      <td>1</td>\n",
       "      <td>0</td>\n",
       "    </tr>\n",
       "    <tr>\n",
       "      <th>2</th>\n",
       "      <td>0</td>\n",
       "      <td>1</td>\n",
       "      <td>0</td>\n",
       "      <td>0</td>\n",
       "    </tr>\n",
       "    <tr>\n",
       "      <th>3</th>\n",
       "      <td>0</td>\n",
       "      <td>0</td>\n",
       "      <td>0</td>\n",
       "      <td>1</td>\n",
       "    </tr>\n",
       "  </tbody>\n",
       "</table>\n",
       "</div>"
      ],
      "text/plain": [
       "   이름_강성관  이름_김운비  이름_손지영  이름_채수민\n",
       "0       1       0       0       0\n",
       "1       0       0       1       0\n",
       "2       0       1       0       0\n",
       "3       0       0       0       1"
      ]
     },
     "execution_count": 51,
     "metadata": {},
     "output_type": "execute_result"
    }
   ],
   "source": [
    "# 원핫인코딩\n",
    "pd.get_dummies(df['이름'],prefix='이름')"
   ]
  },
  {
   "cell_type": "code",
   "execution_count": 62,
   "id": "acef0b50",
   "metadata": {},
   "outputs": [
    {
     "data": {
      "text/plain": [
       "0    175.5\n",
       "2    165.5\n",
       "1    160.2\n",
       "3    158.2\n",
       "Name: 키, dtype: float64"
      ]
     },
     "execution_count": 62,
     "metadata": {},
     "output_type": "execute_result"
    }
   ],
   "source": [
    "# 키 데이터 접근\n",
    "# 정렬하는 함수\n",
    "df['키'].sort_values( ascending=False )"
   ]
  },
  {
   "cell_type": "code",
   "execution_count": 3,
   "id": "84feb31d",
   "metadata": {},
   "outputs": [
    {
     "data": {
      "text/html": [
       "<div>\n",
       "<style scoped>\n",
       "    .dataframe tbody tr th:only-of-type {\n",
       "        vertical-align: middle;\n",
       "    }\n",
       "\n",
       "    .dataframe tbody tr th {\n",
       "        vertical-align: top;\n",
       "    }\n",
       "\n",
       "    .dataframe thead th {\n",
       "        text-align: right;\n",
       "    }\n",
       "</style>\n",
       "<table border=\"1\" class=\"dataframe\">\n",
       "  <thead>\n",
       "    <tr style=\"text-align: right;\">\n",
       "      <th></th>\n",
       "      <th>이름</th>\n",
       "      <th>나이</th>\n",
       "      <th>혈액형</th>\n",
       "      <th>키</th>\n",
       "    </tr>\n",
       "  </thead>\n",
       "  <tbody>\n",
       "    <tr>\n",
       "      <th>0</th>\n",
       "      <td>강성관</td>\n",
       "      <td>45</td>\n",
       "      <td>0</td>\n",
       "      <td>175.5</td>\n",
       "    </tr>\n",
       "    <tr>\n",
       "      <th>2</th>\n",
       "      <td>김운비</td>\n",
       "      <td>27</td>\n",
       "      <td>1</td>\n",
       "      <td>165.5</td>\n",
       "    </tr>\n",
       "    <tr>\n",
       "      <th>1</th>\n",
       "      <td>손지영</td>\n",
       "      <td>35</td>\n",
       "      <td>1</td>\n",
       "      <td>160.2</td>\n",
       "    </tr>\n",
       "    <tr>\n",
       "      <th>3</th>\n",
       "      <td>채수민</td>\n",
       "      <td>25</td>\n",
       "      <td>2</td>\n",
       "      <td>158.2</td>\n",
       "    </tr>\n",
       "  </tbody>\n",
       "</table>\n",
       "</div>"
      ],
      "text/plain": [
       "    이름  나이  혈액형      키\n",
       "0  강성관  45    0  175.5\n",
       "2  김운비  27    1  165.5\n",
       "1  손지영  35    1  160.2\n",
       "3  채수민  25    2  158.2"
      ]
     },
     "execution_count": 3,
     "metadata": {},
     "output_type": "execute_result"
    }
   ],
   "source": [
    "df.sort_values(by='키',ascending=False)"
   ]
  },
  {
   "cell_type": "markdown",
   "id": "44931a08",
   "metadata": {},
   "source": [
    "#### 분산, 표준편차 확인"
   ]
  },
  {
   "cell_type": "code",
   "execution_count": 7,
   "id": "e96c9b0b",
   "metadata": {},
   "outputs": [
    {
     "name": "stdout",
     "output_type": "stream",
     "text": [
      "g1분산 :  625000.0\n",
      "g2분산 :  5875000.0\n",
      "g1 표준편차 :  790.5694150420949\n",
      "g2 표준편차 :  2423.8399287081643\n"
     ]
    }
   ],
   "source": [
    "# 그룹1\n",
    "g1 = pd.Series([9000,9500,10000,10500,11000])\n",
    "# 그룹2\n",
    "g2 = pd.Series([7500,8000,10000,11000,13500])\n",
    "\n",
    "# 어떤 그룹이 더치페이를 했을때 합리적일까\n",
    "print('g1분산 : ',g1.var())\n",
    "print('g2분산 : ',g2.var())\n",
    "# 평균에서 떨어진 정도가 작은 그룹 g1, 더 합리적임\n",
    "\n",
    "# 단위 문제를 해결한 표준편차(분산에 루트씌운것 , 분산의 제곱근)\n",
    "print('g1 표준편차 : ', g1.std())\n",
    "print('g2 표준편차 : ', g2.std())"
   ]
  },
  {
   "cell_type": "markdown",
   "id": "3720784d",
   "metadata": {},
   "source": [
    "### 사분위수(Quartile)"
   ]
  },
  {
   "cell_type": "code",
   "execution_count": 25,
   "id": "e36c6471",
   "metadata": {},
   "outputs": [],
   "source": [
    "# boxplot 그려보기\n",
    "import matplotlib.pyplot as plt\n",
    "import seaborn as sns # 시각화 라이브러리\n",
    "s = pd.Series([2,20,38,56,34,79,95,86,92,64,82,100])\n",
    "s = s.sort_values()"
   ]
  },
  {
   "cell_type": "code",
   "execution_count": 26,
   "id": "88a7b034",
   "metadata": {},
   "outputs": [
    {
     "data": {
      "image/png": "[encoded data removed]",
      "text/plain": [
       "<Figure size 432x288 with 1 Axes>"
      ]
     },
     "metadata": {
      "needs_background": "light"
     },
     "output_type": "display_data"
    }
   ],
   "source": [
    "import warnings # 경고창 무시\n",
    "warnings.filterwarnings(action='ignore')\n",
    "\n",
    "sns.boxplot(s, color='skyblue')\n",
    "sns.swarmplot(s,color='black')  # 데이터 점 찍기\n",
    "plt.xticks(range(0,101,10)) # 눈금축설정\n",
    "plt.show()\n",
    "\n",
    "# boxplot의 선이 중앙값"
   ]
  },
  {
   "cell_type": "markdown",
   "id": "510c1e89",
   "metadata": {},
   "source": [
    "#### 도수분포표, 히스토그램"
   ]
  },
  {
   "cell_type": "code",
   "execution_count": 35,
   "id": "725c436d",
   "metadata": {},
   "outputs": [
    {
     "data": {
      "image/png": "[encoded data removed]",
      "text/plain": [
       "<Figure size 432x288 with 1 Axes>"
      ]
     },
     "metadata": {},
     "output_type": "display_data"
    }
   ],
   "source": [
    "# 옵션 설정\n",
    "sns.set_style('darkgrid')\n",
    "\n",
    "# 히스토그램\n",
    "sns.distplot(s, kde=False, bins=10)\n",
    "plt.show()"
   ]
  },
  {
   "cell_type": "markdown",
   "id": "c19ccfca",
   "metadata": {},
   "source": [
    "### 상관관계 - 변수간의 상관관계"
   ]
  },
  {
   "cell_type": "code",
   "execution_count": null,
   "id": "126c9cf5",
   "metadata": {},
   "outputs": [],
   "source": [
    "# titanic 데이터 - train, test, submission(답안지)\n",
    "# 머신러닝에서 데이터 분석(탐색적 데이터 분석)\n",
    "# train 데이터를 기준으로 분석 진행\n",
    "# 머신러닝 학습 시키는 데이터가 train"
   ]
  },
  {
   "cell_type": "code",
   "execution_count": 38,
   "id": "c96a1e5a",
   "metadata": {},
   "outputs": [
    {
     "data": {
      "text/html": [
       "<div>\n",
       "<style scoped>\n",
       "    .dataframe tbody tr th:only-of-type {\n",
       "        vertical-align: middle;\n",
       "    }\n",
       "\n",
       "    .dataframe tbody tr th {\n",
       "        vertical-align: top;\n",
       "    }\n",
       "\n",
       "    .dataframe thead th {\n",
       "        text-align: right;\n",
       "    }\n",
       "</style>\n",
       "<table border=\"1\" class=\"dataframe\">\n",
       "  <thead>\n",
       "    <tr style=\"text-align: right;\">\n",
       "      <th></th>\n",
       "      <th>PassengerId</th>\n",
       "      <th>Survived</th>\n",
       "      <th>Pclass</th>\n",
       "      <th>Name</th>\n",
       "      <th>Sex</th>\n",
       "      <th>Age</th>\n",
       "      <th>SibSp</th>\n",
       "      <th>Parch</th>\n",
       "      <th>Ticket</th>\n",
       "      <th>Fare</th>\n",
       "      <th>Cabin</th>\n",
       "      <th>Embarked</th>\n",
       "    </tr>\n",
       "  </thead>\n",
       "  <tbody>\n",
       "    <tr>\n",
       "      <th>0</th>\n",
       "      <td>1</td>\n",
       "      <td>0</td>\n",
       "      <td>3</td>\n",
       "      <td>Braund, Mr. Owen Harris</td>\n",
       "      <td>male</td>\n",
       "      <td>22.0</td>\n",
       "      <td>1</td>\n",
       "      <td>0</td>\n",
       "      <td>A/5 21171</td>\n",
       "      <td>7.2500</td>\n",
       "      <td>NaN</td>\n",
       "      <td>S</td>\n",
       "    </tr>\n",
       "    <tr>\n",
       "      <th>1</th>\n",
       "      <td>2</td>\n",
       "      <td>1</td>\n",
       "      <td>1</td>\n",
       "      <td>Cumings, Mrs. John Bradley (Florence Briggs Th...</td>\n",
       "      <td>female</td>\n",
       "      <td>38.0</td>\n",
       "      <td>1</td>\n",
       "      <td>0</td>\n",
       "      <td>PC 17599</td>\n",
       "      <td>71.2833</td>\n",
       "      <td>C85</td>\n",
       "      <td>C</td>\n",
       "    </tr>\n",
       "    <tr>\n",
       "      <th>2</th>\n",
       "      <td>3</td>\n",
       "      <td>1</td>\n",
       "      <td>3</td>\n",
       "      <td>Heikkinen, Miss. Laina</td>\n",
       "      <td>female</td>\n",
       "      <td>26.0</td>\n",
       "      <td>0</td>\n",
       "      <td>0</td>\n",
       "      <td>STON/O2. 3101282</td>\n",
       "      <td>7.9250</td>\n",
       "      <td>NaN</td>\n",
       "      <td>S</td>\n",
       "    </tr>\n",
       "    <tr>\n",
       "      <th>3</th>\n",
       "      <td>4</td>\n",
       "      <td>1</td>\n",
       "      <td>1</td>\n",
       "      <td>Futrelle, Mrs. Jacques Heath (Lily May Peel)</td>\n",
       "      <td>female</td>\n",
       "      <td>35.0</td>\n",
       "      <td>1</td>\n",
       "      <td>0</td>\n",
       "      <td>113803</td>\n",
       "      <td>53.1000</td>\n",
       "      <td>C123</td>\n",
       "      <td>S</td>\n",
       "    </tr>\n",
       "    <tr>\n",
       "      <th>4</th>\n",
       "      <td>5</td>\n",
       "      <td>0</td>\n",
       "      <td>3</td>\n",
       "      <td>Allen, Mr. William Henry</td>\n",
       "      <td>male</td>\n",
       "      <td>35.0</td>\n",
       "      <td>0</td>\n",
       "      <td>0</td>\n",
       "      <td>373450</td>\n",
       "      <td>8.0500</td>\n",
       "      <td>NaN</td>\n",
       "      <td>S</td>\n",
       "    </tr>\n",
       "  </tbody>\n",
       "</table>\n",
       "</div>"
      ],
      "text/plain": [
       "   PassengerId  Survived  Pclass  \\\n",
       "0            1         0       3   \n",
       "1            2         1       1   \n",
       "2            3         1       3   \n",
       "3            4         1       1   \n",
       "4            5         0       3   \n",
       "\n",
       "                                                Name     Sex   Age  SibSp  \\\n",
       "0                            Braund, Mr. Owen Harris    male  22.0      1   \n",
       "1  Cumings, Mrs. John Bradley (Florence Briggs Th...  female  38.0      1   \n",
       "2                             Heikkinen, Miss. Laina  female  26.0      0   \n",
       "3       Futrelle, Mrs. Jacques Heath (Lily May Peel)  female  35.0      1   \n",
       "4                           Allen, Mr. William Henry    male  35.0      0   \n",
       "\n",
       "   Parch            Ticket     Fare Cabin Embarked  \n",
       "0      0         A/5 21171   7.2500   NaN        S  \n",
       "1      0          PC 17599  71.2833   C85        C  \n",
       "2      0  STON/O2. 3101282   7.9250   NaN        S  \n",
       "3      0            113803  53.1000  C123        S  \n",
       "4      0            373450   8.0500   NaN        S  "
      ]
     },
     "execution_count": 38,
     "metadata": {},
     "output_type": "execute_result"
    }
   ],
   "source": [
    "# 데이터 불러와서 Survived 컬럼에 관계있는 컬럼(변수)은 어떤 것인지 확인하기\n",
    "data = pd.read_csv('data/train.csv')\n",
    "data.head(5)"
   ]
  },
  {
   "cell_type": "code",
   "execution_count": 41,
   "id": "1298c1ec",
   "metadata": {},
   "outputs": [
    {
     "data": {
      "text/plain": [
       "PassengerId    0.012658\n",
       "Age            0.096067\n",
       "SibSp          0.159651\n",
       "Parch          0.216225\n",
       "Survived       0.257307\n",
       "Pclass         0.549500\n",
       "Fare           1.000000\n",
       "Name: Fare, dtype: float64"
      ]
     },
     "execution_count": 41,
     "metadata": {},
     "output_type": "execute_result"
    }
   ],
   "source": [
    "# 상관계수 확인 : corr()\n",
    "# 숫자 범위 : -1~1출력\n",
    "# -1에 가까울수록 관계 o(반비례), 1에 가까울수록 관계 o(비례)\n",
    "# 0에 가까울수록 관계 거의 없음\n",
    "data.corr()\n",
    "\n",
    "# Survived 변수와 가장 상관관계가 높은 변수는? \n",
    "# pclass가 다른 변수보다 상관이 있음을 알 수 있다!!!\n",
    "\n",
    "# Fare요금 기준으로 가장 상관관계가 높은 변수는? Pclass\n",
    "d_corr = data.corr()\n",
    "d_corr['Fare'].abs().sort_values()"
   ]
  },
  {
   "cell_type": "code",
   "execution_count": null,
   "id": "f57f545c",
   "metadata": {},
   "outputs": [],
   "source": []
  },
  {
   "cell_type": "code",
   "execution_count": null,
   "id": "0cf1ce0f",
   "metadata": {},
   "outputs": [],
   "source": []
  },
  {
   "cell_type": "code",
   "execution_count": null,
   "id": "7fee6f47",
   "metadata": {},
   "outputs": [],
   "source": []
  }
 ],
 "metadata": {
  "kernelspec": {
   "display_name": "Python 3 (ipykernel)",
   "language": "python",
   "name": "python3"
  },
  "language_info": {
   "codemirror_mode": {
    "name": "ipython",
    "version": 3
   },
   "file_extension": ".py",
   "mimetype": "text/x-python",
   "name": "python",
   "nbconvert_exporter": "python",
   "pygments_lexer": "ipython3",
   "version": "3.8.8"
  }
 },
 "nbformat": 4,
 "nbformat_minor": 5
}

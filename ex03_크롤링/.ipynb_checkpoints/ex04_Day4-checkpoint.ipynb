{
 "cells": [
  {
   "cell_type": "code",
   "execution_count": 1,
   "id": "41049909",
   "metadata": {},
   "outputs": [],
   "source": [
    "from selenium import webdriver as wb\n",
    "from bs4 import BeautifulSoup as bs\n",
    "from selenium.webdriver.common.keys import Keys\n",
    "import time"
   ]
  },
  {
   "cell_type": "markdown",
   "id": "09165ac0",
   "metadata": {},
   "source": [
    "### 이미지 크롤링"
   ]
  },
  {
   "cell_type": "code",
   "execution_count": 3,
   "id": "af10ad10",
   "metadata": {},
   "outputs": [],
   "source": [
    "import os # 파일시스템을 위한 라이브러리 ex) 파일, 폴더를 생성, 삭제, 존재여부\n",
    "from urllib.request import urlretrieve # 이미지경로를 파일로 저장"
   ]
  },
  {
   "cell_type": "code",
   "execution_count": 4,
   "id": "487e87ad",
   "metadata": {},
   "outputs": [
    {
     "data": {
      "text/plain": [
       "False"
      ]
     },
     "execution_count": 4,
     "metadata": {},
     "output_type": "execute_result"
    }
   ],
   "source": [
    "# 파일의 존재 여부를 파악 / 없으면 False라고 나옴\n",
    "#os.path.isdir('./이미지')"
   ]
  },
  {
   "cell_type": "code",
   "execution_count": 5,
   "id": "3861d470",
   "metadata": {},
   "outputs": [],
   "source": [
    "#os.mkdir('./이미지') # 폴더생성"
   ]
  },
  {
   "cell_type": "code",
   "execution_count": 6,
   "id": "71ee4e8b",
   "metadata": {},
   "outputs": [],
   "source": [
    "if not os.path.isdir('./이미지'):  #존재여부\n",
    "    os.mkdir('./이미지')  #폴더생성"
   ]
  },
  {
   "cell_type": "code",
   "execution_count": 7,
   "id": "b2ccf7d4",
   "metadata": {},
   "outputs": [],
   "source": [
    "driver = wb.Chrome()\n",
    "url='https://search.naver.com/search.naver?where=image&sm=tab_jum&query=%EC%95%84%EC%9D%B4%EC%9C%A0'\n",
    "driver.get(url)\n"
   ]
  },
  {
   "cell_type": "markdown",
   "id": "c17d274d",
   "metadata": {},
   "source": [
    "###  스크롤제어 (50번) 해보기"
   ]
  },
  {
   "cell_type": "code",
   "execution_count": 10,
   "id": "13d70a84",
   "metadata": {},
   "outputs": [
    {
     "name": "stderr",
     "output_type": "stream",
     "text": [
      "C:\\Users\\smhrd\\AppData\\Local\\Temp/ipykernel_12596/1995937244.py:1: DeprecationWarning: find_element_by_* commands are deprecated. Please use find_element() instead\n",
      "  body = driver.find_element_by_css_selector('body')\n"
     ]
    },
    {
     "ename": "KeyboardInterrupt",
     "evalue": "",
     "output_type": "error",
     "traceback": [
      "\u001b[1;31m---------------------------------------------------------------------------\u001b[0m",
      "\u001b[1;31mKeyboardInterrupt\u001b[0m                         Traceback (most recent call last)",
      "\u001b[1;32m~\\AppData\\Local\\Temp/ipykernel_12596/1995937244.py\u001b[0m in \u001b[0;36m<module>\u001b[1;34m\u001b[0m\n\u001b[0;32m      2\u001b[0m \u001b[1;32mfor\u001b[0m \u001b[0mi\u001b[0m \u001b[1;32min\u001b[0m \u001b[0mrange\u001b[0m\u001b[1;33m(\u001b[0m\u001b[1;36m50\u001b[0m\u001b[1;33m)\u001b[0m\u001b[1;33m:\u001b[0m\u001b[1;33m\u001b[0m\u001b[1;33m\u001b[0m\u001b[0m\n\u001b[0;32m      3\u001b[0m     \u001b[0mbody\u001b[0m\u001b[1;33m.\u001b[0m\u001b[0msend_keys\u001b[0m\u001b[1;33m(\u001b[0m\u001b[0mKeys\u001b[0m\u001b[1;33m.\u001b[0m\u001b[0mPAGE_DOWN\u001b[0m\u001b[1;33m)\u001b[0m\u001b[1;33m\u001b[0m\u001b[1;33m\u001b[0m\u001b[0m\n\u001b[1;32m----> 4\u001b[1;33m     \u001b[0mtime\u001b[0m\u001b[1;33m.\u001b[0m\u001b[0msleep\u001b[0m\u001b[1;33m(\u001b[0m\u001b[1;36m0.5\u001b[0m\u001b[1;33m)\u001b[0m \u001b[1;31m# 0.5초\u001b[0m\u001b[1;33m\u001b[0m\u001b[1;33m\u001b[0m\u001b[0m\n\u001b[0m",
      "\u001b[1;31mKeyboardInterrupt\u001b[0m: "
     ]
    }
   ],
   "source": [
    "body = driver.find_element_by_css_selector('body')\n",
    "for i in range(50):\n",
    "    body.send_keys(Keys.PAGE_DOWN)\n",
    "    time.sleep(0.5) # 0.5초"
   ]
  },
  {
   "cell_type": "code",
   "execution_count": 44,
   "id": "87247821",
   "metadata": {},
   "outputs": [
    {
     "data": {
      "text/plain": [
       "'https://search.pstatic.net/common/?src=http%3A%2F%2Fblogfiles.naver.net%2FMjAyMTExMTBfMjQ0%2FMDAxNjM2NTQ3OTY4MTM2.CW_8MHY-B54wdU1xxwLa9stYXF2M-PSuRn-URsq9vD4g.wZl8-PTKx1fp0wgRUqZ-0XiKt6EmbsSvR2tI3a5SEBcg.JPEG.sssz7896%2Fdownload_%252829%2529.jpg&type=a340'"
      ]
     },
     "execution_count": 44,
     "metadata": {},
     "output_type": "execute_result"
    }
   ],
   "source": [
    "soup = bs(driver.page_source,'lxml')\n",
    "img = soup.select('img._image._listImage')\n",
    "img[0]['src']"
   ]
  },
  {
   "cell_type": "code",
   "execution_count": 45,
   "id": "597c5984",
   "metadata": {},
   "outputs": [
    {
     "data": {
      "text/plain": [
       "500"
      ]
     },
     "execution_count": 45,
     "metadata": {},
     "output_type": "execute_result"
    }
   ],
   "source": [
    "img_list=[]\n",
    "for i in img:\n",
    "    try:\n",
    "        img_list.append(i['data-lazy-src'])  # 휠로 내릴때 오류? 내리면서 숨겨져있을때 뜨는 src?\n",
    "    except:\n",
    "        img_list.append(i['src'])\n",
    "len(img_list)"
   ]
  },
  {
   "cell_type": "markdown",
   "id": "977e4d8f",
   "metadata": {},
   "source": [
    "### 이미지 파일로 저장"
   ]
  },
  {
   "cell_type": "code",
   "execution_count": 46,
   "id": "72014927",
   "metadata": {},
   "outputs": [],
   "source": [
    "file_num = 0"
   ]
  },
  {
   "cell_type": "code",
   "execution_count": 47,
   "id": "f74ea2ef",
   "metadata": {},
   "outputs": [
    {
     "data": {
      "text/plain": [
       "('./이미지/0.jpg', <http.client.HTTPMessage at 0x1f25186bd00>)"
      ]
     },
     "execution_count": 47,
     "metadata": {},
     "output_type": "execute_result"
    }
   ],
   "source": [
    "# urlretrieve(src, 경로)\n",
    "urlretrieve(img_list[0],'./이미지/'+str(file_num)+'.jpg')"
   ]
  },
  {
   "cell_type": "code",
   "execution_count": 48,
   "id": "45a9ffb6",
   "metadata": {
    "collapsed": true
   },
   "outputs": [
    {
     "name": "stdout",
     "output_type": "stream",
     "text": [
      "1번째 이미지가 저장 중입니다.\n",
      "2번째 이미지가 저장 중입니다.\n",
      "3번째 이미지가 저장 중입니다.\n",
      "4번째 이미지가 저장 중입니다.\n",
      "5번째 이미지가 저장 중입니다.\n",
      "6번째 이미지가 저장 중입니다.\n",
      "7번째 이미지가 저장 중입니다.\n",
      "8번째 이미지가 저장 중입니다.\n",
      "9번째 이미지가 저장 중입니다.\n",
      "10번째 이미지가 저장 중입니다.\n",
      "11번째 이미지가 저장 중입니다.\n",
      "12번째 이미지가 저장 중입니다.\n",
      "13번째 이미지가 저장 중입니다.\n",
      "14번째 이미지가 저장 중입니다.\n",
      "15번째 이미지가 저장 중입니다.\n",
      "16번째 이미지가 저장 중입니다.\n",
      "17번째 이미지가 저장 중입니다.\n",
      "18번째 이미지가 저장 중입니다.\n",
      "19번째 이미지가 저장 중입니다.\n",
      "20번째 이미지가 저장 중입니다.\n",
      "21번째 이미지가 저장 중입니다.\n",
      "22번째 이미지가 저장 중입니다.\n",
      "23번째 이미지가 저장 중입니다.\n",
      "24번째 이미지가 저장 중입니다.\n",
      "25번째 이미지가 저장 중입니다.\n",
      "26번째 이미지가 저장 중입니다.\n",
      "27번째 이미지가 저장 중입니다.\n",
      "28번째 이미지가 저장 중입니다.\n",
      "29번째 이미지가 저장 중입니다.\n",
      "30번째 이미지가 저장 중입니다.\n",
      "31번째 이미지가 저장 중입니다.\n",
      "32번째 이미지가 저장 중입니다.\n",
      "33번째 이미지가 저장 중입니다.\n",
      "34번째 이미지가 저장 중입니다.\n",
      "35번째 이미지가 저장 중입니다.\n",
      "36번째 이미지가 저장 중입니다.\n",
      "37번째 이미지가 저장 중입니다.\n",
      "38번째 이미지가 저장 중입니다.\n",
      "39번째 이미지가 저장 중입니다.\n",
      "40번째 이미지가 저장 중입니다.\n",
      "41번째 이미지가 저장 중입니다.\n",
      "42번째 이미지가 저장 중입니다.\n",
      "43번째 이미지가 저장 중입니다.\n",
      "44번째 이미지가 저장 중입니다.\n",
      "45번째 이미지가 저장 중입니다.\n",
      "46번째 이미지가 저장 중입니다.\n",
      "47번째 이미지가 저장 중입니다.\n",
      "48번째 이미지가 저장 중입니다.\n",
      "49번째 이미지가 저장 중입니다.\n",
      "50번째 이미지가 저장 중입니다.\n",
      "51번째 이미지가 저장 중입니다.\n",
      "52번째 이미지가 저장 중입니다.\n",
      "53번째 이미지가 저장 중입니다.\n",
      "54번째 이미지가 저장 중입니다.\n",
      "55번째 이미지가 저장 중입니다.\n",
      "56번째 이미지가 저장 중입니다.\n",
      "57번째 이미지가 저장 중입니다.\n",
      "58번째 이미지가 저장 중입니다.\n",
      "59번째 이미지가 저장 중입니다.\n",
      "60번째 이미지가 저장 중입니다.\n",
      "61번째 이미지가 저장 중입니다.\n",
      "62번째 이미지가 저장 중입니다.\n",
      "63번째 이미지가 저장 중입니다.\n",
      "64번째 이미지가 저장 중입니다.\n",
      "65번째 이미지가 저장 중입니다.\n",
      "66번째 이미지가 저장 중입니다.\n",
      "67번째 이미지가 저장 중입니다.\n",
      "68번째 이미지가 저장 중입니다.\n",
      "69번째 이미지가 저장 중입니다.\n",
      "70번째 이미지가 저장 중입니다.\n",
      "71번째 이미지가 저장 중입니다.\n",
      "72번째 이미지가 저장 중입니다.\n",
      "73번째 이미지가 저장 중입니다.\n",
      "74번째 이미지가 저장 중입니다.\n",
      "75번째 이미지가 저장 중입니다.\n",
      "76번째 이미지가 저장 중입니다.\n",
      "77번째 이미지가 저장 중입니다.\n",
      "78번째 이미지가 저장 중입니다.\n",
      "79번째 이미지가 저장 중입니다.\n",
      "80번째 이미지가 저장 중입니다.\n",
      "81번째 이미지가 저장 중입니다.\n",
      "82번째 이미지가 저장 중입니다.\n",
      "83번째 이미지가 저장 중입니다.\n",
      "84번째 이미지가 저장 중입니다.\n",
      "85번째 이미지가 저장 중입니다.\n",
      "86번째 이미지가 저장 중입니다.\n",
      "87번째 이미지가 저장 중입니다.\n",
      "88번째 이미지가 저장 중입니다.\n",
      "89번째 이미지가 저장 중입니다.\n",
      "90번째 이미지가 저장 중입니다.\n",
      "91번째 이미지가 저장 중입니다.\n",
      "92번째 이미지가 저장 중입니다.\n",
      "93번째 이미지가 저장 중입니다.\n",
      "94번째 이미지가 저장 중입니다.\n",
      "95번째 이미지가 저장 중입니다.\n",
      "96번째 이미지가 저장 중입니다.\n",
      "97번째 이미지가 저장 중입니다.\n",
      "98번째 이미지가 저장 중입니다.\n",
      "99번째 이미지가 저장 중입니다.\n",
      "100번째 이미지가 저장 중입니다.\n",
      "101번째 이미지가 저장 중입니다.\n",
      "102번째 이미지가 저장 중입니다.\n",
      "103번째 이미지가 저장 중입니다.\n",
      "104번째 이미지가 저장 중입니다.\n",
      "105번째 이미지가 저장 중입니다.\n",
      "106번째 이미지가 저장 중입니다.\n",
      "107번째 이미지가 저장 중입니다.\n",
      "108번째 이미지가 저장 중입니다.\n",
      "109번째 이미지가 저장 중입니다.\n",
      "110번째 이미지가 저장 중입니다.\n",
      "111번째 이미지가 저장 중입니다.\n",
      "112번째 이미지가 저장 중입니다.\n",
      "113번째 이미지가 저장 중입니다.\n",
      "114번째 이미지가 저장 중입니다.\n",
      "115번째 이미지가 저장 중입니다.\n",
      "116번째 이미지가 저장 중입니다.\n",
      "117번째 이미지가 저장 중입니다.\n",
      "118번째 이미지가 저장 중입니다.\n",
      "119번째 이미지가 저장 중입니다.\n",
      "120번째 이미지가 저장 중입니다.\n",
      "121번째 이미지가 저장 중입니다.\n",
      "122번째 이미지가 저장 중입니다.\n",
      "123번째 이미지가 저장 중입니다.\n",
      "124번째 이미지가 저장 중입니다.\n",
      "125번째 이미지가 저장 중입니다.\n",
      "126번째 이미지가 저장 중입니다.\n",
      "127번째 이미지가 저장 중입니다.\n",
      "128번째 이미지가 저장 중입니다.\n",
      "129번째 이미지가 저장 중입니다.\n",
      "130번째 이미지가 저장 중입니다.\n",
      "131번째 이미지가 저장 중입니다.\n",
      "132번째 이미지가 저장 중입니다.\n",
      "133번째 이미지가 저장 중입니다.\n",
      "134번째 이미지가 저장 중입니다.\n",
      "135번째 이미지가 저장 중입니다.\n",
      "136번째 이미지가 저장 중입니다.\n",
      "137번째 이미지가 저장 중입니다.\n",
      "138번째 이미지가 저장 중입니다.\n",
      "139번째 이미지가 저장 중입니다.\n",
      "140번째 이미지가 저장 중입니다.\n",
      "141번째 이미지가 저장 중입니다.\n",
      "142번째 이미지가 저장 중입니다.\n",
      "143번째 이미지가 저장 중입니다.\n",
      "144번째 이미지가 저장 중입니다.\n",
      "145번째 이미지가 저장 중입니다.\n",
      "146번째 이미지가 저장 중입니다.\n",
      "147번째 이미지가 저장 중입니다.\n",
      "148번째 이미지가 저장 중입니다.\n",
      "149번째 이미지가 저장 중입니다.\n",
      "150번째 이미지가 저장 중입니다.\n",
      "151번째 이미지가 저장 중입니다.\n",
      "152번째 이미지가 저장 중입니다.\n",
      "153번째 이미지가 저장 중입니다.\n",
      "154번째 이미지가 저장 중입니다.\n",
      "155번째 이미지가 저장 중입니다.\n",
      "156번째 이미지가 저장 중입니다.\n",
      "157번째 이미지가 저장 중입니다.\n",
      "158번째 이미지가 저장 중입니다.\n",
      "159번째 이미지가 저장 중입니다.\n",
      "160번째 이미지가 저장 중입니다.\n",
      "161번째 이미지가 저장 중입니다.\n",
      "162번째 이미지가 저장 중입니다.\n",
      "163번째 이미지가 저장 중입니다.\n",
      "164번째 이미지가 저장 중입니다.\n",
      "165번째 이미지가 저장 중입니다.\n",
      "166번째 이미지가 저장 중입니다.\n",
      "167번째 이미지가 저장 중입니다.\n",
      "168번째 이미지가 저장 중입니다.\n",
      "169번째 이미지가 저장 중입니다.\n",
      "170번째 이미지가 저장 중입니다.\n",
      "171번째 이미지가 저장 중입니다.\n",
      "172번째 이미지가 저장 중입니다.\n",
      "173번째 이미지가 저장 중입니다.\n",
      "174번째 이미지가 저장 중입니다.\n",
      "175번째 이미지가 저장 중입니다.\n",
      "176번째 이미지가 저장 중입니다.\n",
      "177번째 이미지가 저장 중입니다.\n",
      "178번째 이미지가 저장 중입니다.\n",
      "179번째 이미지가 저장 중입니다.\n",
      "180번째 이미지가 저장 중입니다.\n",
      "181번째 이미지가 저장 중입니다.\n",
      "182번째 이미지가 저장 중입니다.\n",
      "183번째 이미지가 저장 중입니다.\n",
      "184번째 이미지가 저장 중입니다.\n",
      "185번째 이미지가 저장 중입니다.\n",
      "186번째 이미지가 저장 중입니다.\n",
      "187번째 이미지가 저장 중입니다.\n",
      "188번째 이미지가 저장 중입니다.\n",
      "189번째 이미지가 저장 중입니다.\n",
      "190번째 이미지가 저장 중입니다.\n",
      "191번째 이미지가 저장 중입니다.\n",
      "192번째 이미지가 저장 중입니다.\n",
      "193번째 이미지가 저장 중입니다.\n",
      "194번째 이미지가 저장 중입니다.\n",
      "195번째 이미지가 저장 중입니다.\n",
      "196번째 이미지가 저장 중입니다.\n",
      "197번째 이미지가 저장 중입니다.\n",
      "198번째 이미지가 저장 중입니다.\n",
      "199번째 이미지가 저장 중입니다.\n",
      "200번째 이미지가 저장 중입니다.\n",
      "201번째 이미지가 저장 중입니다.\n",
      "202번째 이미지가 저장 중입니다.\n",
      "203번째 이미지가 저장 중입니다.\n",
      "204번째 이미지가 저장 중입니다.\n",
      "205번째 이미지가 저장 중입니다.\n",
      "206번째 이미지가 저장 중입니다.\n",
      "207번째 이미지가 저장 중입니다.\n",
      "208번째 이미지가 저장 중입니다.\n",
      "209번째 이미지가 저장 중입니다.\n",
      "210번째 이미지가 저장 중입니다.\n",
      "211번째 이미지가 저장 중입니다.\n",
      "212번째 이미지가 저장 중입니다.\n",
      "213번째 이미지가 저장 중입니다.\n",
      "214번째 이미지가 저장 중입니다.\n",
      "215번째 이미지가 저장 중입니다.\n",
      "216번째 이미지가 저장 중입니다.\n"
     ]
    },
    {
     "ename": "KeyboardInterrupt",
     "evalue": "",
     "output_type": "error",
     "traceback": [
      "\u001b[1;31m---------------------------------------------------------------------------\u001b[0m",
      "\u001b[1;31mKeyboardInterrupt\u001b[0m                         Traceback (most recent call last)",
      "\u001b[1;32m~\\AppData\\Local\\Temp/ipykernel_12596/907283893.py\u001b[0m in \u001b[0;36m<module>\u001b[1;34m\u001b[0m\n\u001b[0;32m      2\u001b[0m     \u001b[0murlretrieve\u001b[0m\u001b[1;33m(\u001b[0m\u001b[0mimg_list\u001b[0m\u001b[1;33m[\u001b[0m\u001b[0mi\u001b[0m\u001b[1;33m]\u001b[0m\u001b[1;33m,\u001b[0m \u001b[1;34m'./이미지/'\u001b[0m\u001b[1;33m+\u001b[0m\u001b[0mstr\u001b[0m\u001b[1;33m(\u001b[0m\u001b[0mfile_num\u001b[0m\u001b[1;33m)\u001b[0m\u001b[1;33m+\u001b[0m\u001b[1;34m'.jpg'\u001b[0m\u001b[1;33m)\u001b[0m\u001b[1;33m\u001b[0m\u001b[1;33m\u001b[0m\u001b[0m\n\u001b[0;32m      3\u001b[0m     \u001b[0mfile_num\u001b[0m\u001b[1;33m+=\u001b[0m\u001b[1;36m1\u001b[0m\u001b[1;33m\u001b[0m\u001b[1;33m\u001b[0m\u001b[0m\n\u001b[1;32m----> 4\u001b[1;33m     \u001b[0mtime\u001b[0m\u001b[1;33m.\u001b[0m\u001b[0msleep\u001b[0m\u001b[1;33m(\u001b[0m\u001b[1;36m0.5\u001b[0m\u001b[1;33m)\u001b[0m\u001b[1;33m\u001b[0m\u001b[1;33m\u001b[0m\u001b[0m\n\u001b[0m\u001b[0;32m      5\u001b[0m     \u001b[0mprint\u001b[0m\u001b[1;33m(\u001b[0m\u001b[1;34m'%s번째 이미지가 저장 중입니다.'\u001b[0m\u001b[1;33m%\u001b[0m\u001b[0mfile_num\u001b[0m\u001b[1;33m)\u001b[0m\u001b[1;33m\u001b[0m\u001b[1;33m\u001b[0m\u001b[0m\n",
      "\u001b[1;31mKeyboardInterrupt\u001b[0m: "
     ]
    }
   ],
   "source": [
    "for i in range(len(img_list)):\n",
    "    urlretrieve(img_list[i], './이미지/'+str(file_num)+'.jpg')\n",
    "    file_num+=1\n",
    "    time.sleep(0.5)\n",
    "    print('%s번째 이미지가 저장 중입니다.'%file_num)"
   ]
  },
  {
   "cell_type": "code",
   "execution_count": null,
   "id": "e3687eb8",
   "metadata": {},
   "outputs": [],
   "source": [
    "img[65]"
   ]
  },
  {
   "cell_type": "code",
   "execution_count": 42,
   "id": "56b085b7",
   "metadata": {},
   "outputs": [
    {
     "data": {
      "text/plain": [
       "'data:image/gif;base64,R0lGODlhAQABAIAAAAAAAP///yH5BAEAAAAALAAAAAABAAEAAAIBRAA7'"
      ]
     },
     "execution_count": 42,
     "metadata": {},
     "output_type": "execute_result"
    }
   ],
   "source": [
    "# 깨진 사진 형태\n",
    "img_list[65]"
   ]
  },
  {
   "cell_type": "markdown",
   "id": "607fd940",
   "metadata": {},
   "source": [
    "###  G마켓 베스트 크롤링 - 클릭제어"
   ]
  },
  {
   "cell_type": "code",
   "execution_count": 49,
   "id": "540ca63f",
   "metadata": {},
   "outputs": [],
   "source": [
    "driver = wb.Chrome()\n",
    "url = 'http://corners.gmarket.co.kr/Bestsellers'\n",
    "driver.get(url)"
   ]
  },
  {
   "cell_type": "code",
   "execution_count": 71,
   "id": "6a08b0cc",
   "metadata": {
    "scrolled": true
   },
   "outputs": [
    {
     "name": "stderr",
     "output_type": "stream",
     "text": [
      "C:\\Users\\smhrd\\AppData\\Local\\Temp/ipykernel_12596/1133292985.py:1: DeprecationWarning: find_elements_by_* commands are deprecated. Please use find_elements() instead\n",
      "  img = driver.find_elements_by_css_selector('img.lazy')\n"
     ]
    }
   ],
   "source": [
    "img = driver.find_elements_by_css_selector('img.lazy')"
   ]
  },
  {
   "cell_type": "code",
   "execution_count": 72,
   "id": "1e8d4e22",
   "metadata": {
    "scrolled": true
   },
   "outputs": [
    {
     "data": {
      "text/plain": [
       "220"
      ]
     },
     "execution_count": 72,
     "metadata": {},
     "output_type": "execute_result"
    }
   ],
   "source": [
    "len(img)"
   ]
  },
  {
   "cell_type": "code",
   "execution_count": 66,
   "id": "94164d67",
   "metadata": {},
   "outputs": [],
   "source": [
    "# 클릭\n",
    "img[0].click()"
   ]
  },
  {
   "cell_type": "code",
   "execution_count": 67,
   "id": "85328820",
   "metadata": {},
   "outputs": [],
   "source": [
    "# 뒤로가기\n",
    "driver.back()"
   ]
  },
  {
   "cell_type": "code",
   "execution_count": 68,
   "id": "8a2441bd",
   "metadata": {
    "collapsed": true
   },
   "outputs": [
    {
     "ename": "StaleElementReferenceException",
     "evalue": "Message: stale element reference: element is not attached to the page document\n  (Session info: chrome=96.0.4664.45)\nStacktrace:\nBacktrace:\n\tOrdinal0 [0x00356903+2517251]\n\tOrdinal0 [0x002EF8E1+2095329]\n\tOrdinal0 [0x001F2848+1058888]\n\tOrdinal0 [0x001F4F44+1068868]\n\tOrdinal0 [0x001F4E0E+1068558]\n\tOrdinal0 [0x001F5070+1069168]\n\tOrdinal0 [0x0021EC4C+1240140]\n\tOrdinal0 [0x00213F63+1195875]\n\tOrdinal0 [0x002364D3+1336531]\n\tOrdinal0 [0x00213A36+1194550]\n\tOrdinal0 [0x002365BA+1336762]\n\tOrdinal0 [0x00245BBF+1399743]\n\tOrdinal0 [0x0023639B+1336219]\n\tOrdinal0 [0x002127A7+1189799]\n\tOrdinal0 [0x00213609+1193481]\n\tGetHandleVerifier [0x004E5904+1577972]\n\tGetHandleVerifier [0x00590B97+2279047]\n\tGetHandleVerifier [0x003E6D09+534521]\n\tGetHandleVerifier [0x003E5DB9+530601]\n\tOrdinal0 [0x002F4FF9+2117625]\n\tOrdinal0 [0x002F98A8+2136232]\n\tOrdinal0 [0x002F99E2+2136546]\n\tOrdinal0 [0x00303541+2176321]\n\tBaseThreadInitThunk [0x76E6FA29+25]\n\tRtlGetAppContainerNamedObjectPath [0x77A77A9E+286]\n\tRtlGetAppContainerNamedObjectPath [0x77A77A6E+238]\n\t(No symbol) [0x00000000]\n",
     "output_type": "error",
     "traceback": [
      "\u001b[1;31m---------------------------------------------------------------------------\u001b[0m",
      "\u001b[1;31mStaleElementReferenceException\u001b[0m            Traceback (most recent call last)",
      "\u001b[1;32m~\\AppData\\Local\\Temp/ipykernel_12596/2624627011.py\u001b[0m in \u001b[0;36m<module>\u001b[1;34m\u001b[0m\n\u001b[1;32m----> 1\u001b[1;33m \u001b[0mimg\u001b[0m\u001b[1;33m[\u001b[0m\u001b[1;36m1\u001b[0m\u001b[1;33m]\u001b[0m\u001b[1;33m.\u001b[0m\u001b[0mclick\u001b[0m\u001b[1;33m(\u001b[0m\u001b[1;33m)\u001b[0m\u001b[1;33m\u001b[0m\u001b[1;33m\u001b[0m\u001b[0m\n\u001b[0m",
      "\u001b[1;32m~\\anaconda3\\lib\\site-packages\\selenium\\webdriver\\remote\\webelement.py\u001b[0m in \u001b[0;36mclick\u001b[1;34m(self)\u001b[0m\n\u001b[0;32m     79\u001b[0m     \u001b[1;32mdef\u001b[0m \u001b[0mclick\u001b[0m\u001b[1;33m(\u001b[0m\u001b[0mself\u001b[0m\u001b[1;33m)\u001b[0m \u001b[1;33m->\u001b[0m \u001b[1;32mNone\u001b[0m\u001b[1;33m:\u001b[0m\u001b[1;33m\u001b[0m\u001b[1;33m\u001b[0m\u001b[0m\n\u001b[0;32m     80\u001b[0m         \u001b[1;34m\"\"\"Clicks the element.\"\"\"\u001b[0m\u001b[1;33m\u001b[0m\u001b[1;33m\u001b[0m\u001b[0m\n\u001b[1;32m---> 81\u001b[1;33m         \u001b[0mself\u001b[0m\u001b[1;33m.\u001b[0m\u001b[0m_execute\u001b[0m\u001b[1;33m(\u001b[0m\u001b[0mCommand\u001b[0m\u001b[1;33m.\u001b[0m\u001b[0mCLICK_ELEMENT\u001b[0m\u001b[1;33m)\u001b[0m\u001b[1;33m\u001b[0m\u001b[1;33m\u001b[0m\u001b[0m\n\u001b[0m\u001b[0;32m     82\u001b[0m \u001b[1;33m\u001b[0m\u001b[0m\n\u001b[0;32m     83\u001b[0m     \u001b[1;32mdef\u001b[0m \u001b[0msubmit\u001b[0m\u001b[1;33m(\u001b[0m\u001b[0mself\u001b[0m\u001b[1;33m)\u001b[0m\u001b[1;33m:\u001b[0m\u001b[1;33m\u001b[0m\u001b[1;33m\u001b[0m\u001b[0m\n",
      "\u001b[1;32m~\\anaconda3\\lib\\site-packages\\selenium\\webdriver\\remote\\webelement.py\u001b[0m in \u001b[0;36m_execute\u001b[1;34m(self, command, params)\u001b[0m\n\u001b[0;32m    708\u001b[0m             \u001b[0mparams\u001b[0m \u001b[1;33m=\u001b[0m \u001b[1;33m{\u001b[0m\u001b[1;33m}\u001b[0m\u001b[1;33m\u001b[0m\u001b[1;33m\u001b[0m\u001b[0m\n\u001b[0;32m    709\u001b[0m         \u001b[0mparams\u001b[0m\u001b[1;33m[\u001b[0m\u001b[1;34m'id'\u001b[0m\u001b[1;33m]\u001b[0m \u001b[1;33m=\u001b[0m \u001b[0mself\u001b[0m\u001b[1;33m.\u001b[0m\u001b[0m_id\u001b[0m\u001b[1;33m\u001b[0m\u001b[1;33m\u001b[0m\u001b[0m\n\u001b[1;32m--> 710\u001b[1;33m         \u001b[1;32mreturn\u001b[0m \u001b[0mself\u001b[0m\u001b[1;33m.\u001b[0m\u001b[0m_parent\u001b[0m\u001b[1;33m.\u001b[0m\u001b[0mexecute\u001b[0m\u001b[1;33m(\u001b[0m\u001b[0mcommand\u001b[0m\u001b[1;33m,\u001b[0m \u001b[0mparams\u001b[0m\u001b[1;33m)\u001b[0m\u001b[1;33m\u001b[0m\u001b[1;33m\u001b[0m\u001b[0m\n\u001b[0m\u001b[0;32m    711\u001b[0m \u001b[1;33m\u001b[0m\u001b[0m\n\u001b[0;32m    712\u001b[0m     \u001b[1;32mdef\u001b[0m \u001b[0mfind_element\u001b[0m\u001b[1;33m(\u001b[0m\u001b[0mself\u001b[0m\u001b[1;33m,\u001b[0m \u001b[0mby\u001b[0m\u001b[1;33m=\u001b[0m\u001b[0mBy\u001b[0m\u001b[1;33m.\u001b[0m\u001b[0mID\u001b[0m\u001b[1;33m,\u001b[0m \u001b[0mvalue\u001b[0m\u001b[1;33m=\u001b[0m\u001b[1;32mNone\u001b[0m\u001b[1;33m)\u001b[0m\u001b[1;33m:\u001b[0m\u001b[1;33m\u001b[0m\u001b[1;33m\u001b[0m\u001b[0m\n",
      "\u001b[1;32m~\\anaconda3\\lib\\site-packages\\selenium\\webdriver\\remote\\webdriver.py\u001b[0m in \u001b[0;36mexecute\u001b[1;34m(self, driver_command, params)\u001b[0m\n\u001b[0;32m    422\u001b[0m         \u001b[0mresponse\u001b[0m \u001b[1;33m=\u001b[0m \u001b[0mself\u001b[0m\u001b[1;33m.\u001b[0m\u001b[0mcommand_executor\u001b[0m\u001b[1;33m.\u001b[0m\u001b[0mexecute\u001b[0m\u001b[1;33m(\u001b[0m\u001b[0mdriver_command\u001b[0m\u001b[1;33m,\u001b[0m \u001b[0mparams\u001b[0m\u001b[1;33m)\u001b[0m\u001b[1;33m\u001b[0m\u001b[1;33m\u001b[0m\u001b[0m\n\u001b[0;32m    423\u001b[0m         \u001b[1;32mif\u001b[0m \u001b[0mresponse\u001b[0m\u001b[1;33m:\u001b[0m\u001b[1;33m\u001b[0m\u001b[1;33m\u001b[0m\u001b[0m\n\u001b[1;32m--> 424\u001b[1;33m             \u001b[0mself\u001b[0m\u001b[1;33m.\u001b[0m\u001b[0merror_handler\u001b[0m\u001b[1;33m.\u001b[0m\u001b[0mcheck_response\u001b[0m\u001b[1;33m(\u001b[0m\u001b[0mresponse\u001b[0m\u001b[1;33m)\u001b[0m\u001b[1;33m\u001b[0m\u001b[1;33m\u001b[0m\u001b[0m\n\u001b[0m\u001b[0;32m    425\u001b[0m             response['value'] = self._unwrap_value(\n\u001b[0;32m    426\u001b[0m                 response.get('value', None))\n",
      "\u001b[1;32m~\\anaconda3\\lib\\site-packages\\selenium\\webdriver\\remote\\errorhandler.py\u001b[0m in \u001b[0;36mcheck_response\u001b[1;34m(self, response)\u001b[0m\n\u001b[0;32m    245\u001b[0m                 \u001b[0malert_text\u001b[0m \u001b[1;33m=\u001b[0m \u001b[0mvalue\u001b[0m\u001b[1;33m[\u001b[0m\u001b[1;34m'alert'\u001b[0m\u001b[1;33m]\u001b[0m\u001b[1;33m.\u001b[0m\u001b[0mget\u001b[0m\u001b[1;33m(\u001b[0m\u001b[1;34m'text'\u001b[0m\u001b[1;33m)\u001b[0m\u001b[1;33m\u001b[0m\u001b[1;33m\u001b[0m\u001b[0m\n\u001b[0;32m    246\u001b[0m             \u001b[1;32mraise\u001b[0m \u001b[0mexception_class\u001b[0m\u001b[1;33m(\u001b[0m\u001b[0mmessage\u001b[0m\u001b[1;33m,\u001b[0m \u001b[0mscreen\u001b[0m\u001b[1;33m,\u001b[0m \u001b[0mstacktrace\u001b[0m\u001b[1;33m,\u001b[0m \u001b[0malert_text\u001b[0m\u001b[1;33m)\u001b[0m  \u001b[1;31m# type: ignore[call-arg]  # mypy is not smart enough here\u001b[0m\u001b[1;33m\u001b[0m\u001b[1;33m\u001b[0m\u001b[0m\n\u001b[1;32m--> 247\u001b[1;33m         \u001b[1;32mraise\u001b[0m \u001b[0mexception_class\u001b[0m\u001b[1;33m(\u001b[0m\u001b[0mmessage\u001b[0m\u001b[1;33m,\u001b[0m \u001b[0mscreen\u001b[0m\u001b[1;33m,\u001b[0m \u001b[0mstacktrace\u001b[0m\u001b[1;33m)\u001b[0m\u001b[1;33m\u001b[0m\u001b[1;33m\u001b[0m\u001b[0m\n\u001b[0m\u001b[0;32m    248\u001b[0m \u001b[1;33m\u001b[0m\u001b[0m\n\u001b[0;32m    249\u001b[0m     \u001b[1;32mdef\u001b[0m \u001b[0m_value_or_default\u001b[0m\u001b[1;33m(\u001b[0m\u001b[0mself\u001b[0m\u001b[1;33m,\u001b[0m \u001b[0mobj\u001b[0m\u001b[1;33m:\u001b[0m \u001b[0mMapping\u001b[0m\u001b[1;33m[\u001b[0m\u001b[0m_KT\u001b[0m\u001b[1;33m,\u001b[0m \u001b[0m_VT\u001b[0m\u001b[1;33m]\u001b[0m\u001b[1;33m,\u001b[0m \u001b[0mkey\u001b[0m\u001b[1;33m:\u001b[0m \u001b[0m_KT\u001b[0m\u001b[1;33m,\u001b[0m \u001b[0mdefault\u001b[0m\u001b[1;33m:\u001b[0m \u001b[0m_VT\u001b[0m\u001b[1;33m)\u001b[0m \u001b[1;33m->\u001b[0m \u001b[0m_VT\u001b[0m\u001b[1;33m:\u001b[0m\u001b[1;33m\u001b[0m\u001b[1;33m\u001b[0m\u001b[0m\n",
      "\u001b[1;31mStaleElementReferenceException\u001b[0m: Message: stale element reference: element is not attached to the page document\n  (Session info: chrome=96.0.4664.45)\nStacktrace:\nBacktrace:\n\tOrdinal0 [0x00356903+2517251]\n\tOrdinal0 [0x002EF8E1+2095329]\n\tOrdinal0 [0x001F2848+1058888]\n\tOrdinal0 [0x001F4F44+1068868]\n\tOrdinal0 [0x001F4E0E+1068558]\n\tOrdinal0 [0x001F5070+1069168]\n\tOrdinal0 [0x0021EC4C+1240140]\n\tOrdinal0 [0x00213F63+1195875]\n\tOrdinal0 [0x002364D3+1336531]\n\tOrdinal0 [0x00213A36+1194550]\n\tOrdinal0 [0x002365BA+1336762]\n\tOrdinal0 [0x00245BBF+1399743]\n\tOrdinal0 [0x0023639B+1336219]\n\tOrdinal0 [0x002127A7+1189799]\n\tOrdinal0 [0x00213609+1193481]\n\tGetHandleVerifier [0x004E5904+1577972]\n\tGetHandleVerifier [0x00590B97+2279047]\n\tGetHandleVerifier [0x003E6D09+534521]\n\tGetHandleVerifier [0x003E5DB9+530601]\n\tOrdinal0 [0x002F4FF9+2117625]\n\tOrdinal0 [0x002F98A8+2136232]\n\tOrdinal0 [0x002F99E2+2136546]\n\tOrdinal0 [0x00303541+2176321]\n\tBaseThreadInitThunk [0x76E6FA29+25]\n\tRtlGetAppContainerNamedObjectPath [0x77A77A9E+286]\n\tRtlGetAppContainerNamedObjectPath [0x77A77A6E+238]\n\t(No symbol) [0x00000000]\n"
     ]
    }
   ],
   "source": [
    "img[1].click()   # 시간이 지나서 안됨"
   ]
  },
  {
   "cell_type": "code",
   "execution_count": 82,
   "id": "82bdfbc5",
   "metadata": {},
   "outputs": [
    {
     "name": "stderr",
     "output_type": "stream",
     "text": [
      "C:\\Users\\smhrd\\AppData\\Local\\Temp/ipykernel_12596/1545986987.py:4: DeprecationWarning: find_elements_by_* commands are deprecated. Please use find_elements() instead\n",
      "  img = driver.find_elements_by_css_selector('img.lazy')\n",
      "C:\\Users\\smhrd\\AppData\\Local\\Temp/ipykernel_12596/1545986987.py:7: DeprecationWarning: find_elements_by_* commands are deprecated. Please use find_elements() instead\n",
      "  img = driver.find_elements_by_css_selector('img.lazy')\n"
     ]
    }
   ],
   "source": [
    "title_list = []\n",
    "price_list = []\n",
    "rank_list = []\n",
    "img = driver.find_elements_by_css_selector('img.lazy')\n",
    "\n",
    "for i in range(10):\n",
    "    img = driver.find_elements_by_css_selector('img.lazy')\n",
    "    img[i].click()\n",
    "    time.sleep(0.1)\n",
    "    \n",
    "    soup = bs(driver.page_source,'lxml')\n",
    "    title = soup.select_one('h1.itemtit')    # 상품명이 하나라서 select_one\n",
    "    price = soup.select_one('strong.price_real')\n",
    "    title_list.append(title.text)\n",
    "    price_list.append(price.text)\n",
    "    rank_list.append(i+1)\n",
    "    \n",
    "    driver.back()\n",
    "    time.sleep(0.1)"
   ]
  },
  {
   "cell_type": "code",
   "execution_count": 83,
   "id": "2483b296",
   "metadata": {},
   "outputs": [
    {
     "name": "stdout",
     "output_type": "stream",
     "text": [
      "10\n",
      "10\n",
      "10\n"
     ]
    }
   ],
   "source": [
    "print(len(title_list))\n",
    "print(len(price_list))\n",
    "print(len(rank_list))"
   ]
  },
  {
   "cell_type": "markdown",
   "id": "397f0666",
   "metadata": {},
   "source": [
    "### 태그 삭제"
   ]
  },
  {
   "cell_type": "code",
   "execution_count": 84,
   "id": "cc6e75d4",
   "metadata": {},
   "outputs": [],
   "source": [
    "import requests as req"
   ]
  },
  {
   "cell_type": "code",
   "execution_count": 85,
   "id": "69b5652d",
   "metadata": {},
   "outputs": [
    {
     "data": {
      "text/plain": [
       "<Response [200]>"
      ]
     },
     "execution_count": 85,
     "metadata": {},
     "output_type": "execute_result"
    }
   ],
   "source": [
    "url='https://search.naver.com/search.naver?where=nexearch&sm=top_hty&fbm=1&ie=utf8&query=%EA%B4%91%EC%A3%BC%EB%82%A0%EC%94%A8'\n",
    "res = req.get(url)\n",
    "res"
   ]
  },
  {
   "cell_type": "code",
   "execution_count": 92,
   "id": "f56a8ad2",
   "metadata": {},
   "outputs": [],
   "source": [
    "soup = bs(res.text,'lxml')\n",
    "t = soup.select('div.temperature_text > strong')\n"
   ]
  },
  {
   "cell_type": "markdown",
   "id": "322d7bcc",
   "metadata": {},
   "source": [
    "#### extract() 태그삭제 함수"
   ]
  },
  {
   "cell_type": "code",
   "execution_count": 93,
   "id": "5d314d2f",
   "metadata": {},
   "outputs": [],
   "source": [
    "span = soup.select('div.temperature_text > strong > span')"
   ]
  },
  {
   "cell_type": "code",
   "execution_count": 95,
   "id": "5c0a920f",
   "metadata": {},
   "outputs": [],
   "source": [
    "for i in span:\n",
    "    i.extract()\n",
    "# 주의할 점 : 태그의 위치를 정확하게 찾아줘야 한다."
   ]
  },
  {
   "cell_type": "code",
   "execution_count": 97,
   "id": "745a2a61",
   "metadata": {},
   "outputs": [
    {
     "data": {
      "text/plain": [
       "<strong>11</strong>"
      ]
     },
     "execution_count": 97,
     "metadata": {},
     "output_type": "execute_result"
    }
   ],
   "source": [
    "t = soup.select('div.temperature_text > strong')\n",
    "t[0]"
   ]
  },
  {
   "cell_type": "markdown",
   "id": "bb664070",
   "metadata": {},
   "source": [
    "### 예외상황 : 탭전환"
   ]
  },
  {
   "cell_type": "code",
   "execution_count": 98,
   "id": "5aca2f5d",
   "metadata": {},
   "outputs": [],
   "source": [
    "driver = wb.Chrome()\n",
    "url = 'https://www.naver.com/'\n",
    "driver.get(url)"
   ]
  },
  {
   "cell_type": "code",
   "execution_count": 101,
   "id": "9baf2bc4",
   "metadata": {},
   "outputs": [],
   "source": [
    "soup = bs(driver.page_source,'lxml')"
   ]
  },
  {
   "cell_type": "code",
   "execution_count": 106,
   "id": "a291cf4b",
   "metadata": {},
   "outputs": [
    {
     "name": "stdout",
     "output_type": "stream",
     "text": [
      "['CDwindow-B65CDE38321A3FDD6D890FD4236732D8', 'CDwindow-5F80F1EB09F54F5BB8D82264A13D45F8', 'CDwindow-08C926FC45E316E7016349823E3FFC25']\n"
     ]
    }
   ],
   "source": [
    "print(driver.window_handles)  # 탭 현황"
   ]
  },
  {
   "cell_type": "code",
   "execution_count": 111,
   "id": "cc15caa4",
   "metadata": {},
   "outputs": [],
   "source": [
    "# 탭 전환\n",
    "# driver.switch_to.window('CDwindow-5F80F1EB09F54F5BB8D82264A13D45F8')\n",
    "driver.switch_to.window(driver.window_handles[1])"
   ]
  },
  {
   "cell_type": "code",
   "execution_count": 115,
   "id": "6a7cf012",
   "metadata": {},
   "outputs": [],
   "source": [
    "# 크롬창닫기\n",
    "driver.quit()"
   ]
  },
  {
   "cell_type": "markdown",
   "id": "b0980669",
   "metadata": {},
   "source": [
    "### 키보드, 마우스 제어"
   ]
  },
  {
   "cell_type": "code",
   "execution_count": 119,
   "id": "ea8e1891",
   "metadata": {
    "collapsed": true
   },
   "outputs": [
    {
     "name": "stdout",
     "output_type": "stream",
     "text": [
      "Collecting pyautogui\n",
      "  Downloading PyAutoGUI-0.9.53.tar.gz (59 kB)\n",
      "Collecting pymsgbox\n",
      "  Downloading PyMsgBox-1.0.9.tar.gz (18 kB)\n",
      "  Installing build dependencies: started\n",
      "  Installing build dependencies: finished with status 'done'\n",
      "  Getting requirements to build wheel: started\n",
      "  Getting requirements to build wheel: finished with status 'done'\n",
      "    Preparing wheel metadata: started\n",
      "    Preparing wheel metadata: finished with status 'done'\n",
      "Collecting PyTweening>=1.0.1\n",
      "  Downloading pytweening-1.0.4.tar.gz (14 kB)\n",
      "Collecting pyscreeze>=0.1.21\n",
      "  Downloading PyScreeze-0.1.28.tar.gz (25 kB)\n",
      "  Installing build dependencies: started\n",
      "  Installing build dependencies: finished with status 'done'\n",
      "  Getting requirements to build wheel: started\n",
      "  Getting requirements to build wheel: finished with status 'done'\n",
      "    Preparing wheel metadata: started\n",
      "    Preparing wheel metadata: finished with status 'done'\n",
      "Collecting pygetwindow>=0.0.5\n",
      "  Downloading PyGetWindow-0.0.9.tar.gz (9.7 kB)\n",
      "Collecting mouseinfo\n",
      "  Downloading MouseInfo-0.1.3.tar.gz (10 kB)\n",
      "Collecting pyrect\n",
      "  Downloading PyRect-0.1.4.tar.gz (15 kB)\n",
      "Requirement already satisfied: Pillow>=6.2.1 in c:\\users\\smhrd\\anaconda3\\lib\\site-packages (from pyscreeze>=0.1.21->pyautogui) (8.4.0)\n",
      "Collecting pyperclip\n",
      "  Downloading pyperclip-1.8.2.tar.gz (20 kB)\n",
      "Building wheels for collected packages: pyautogui, pygetwindow, pyscreeze, PyTweening, mouseinfo, pymsgbox, pyperclip, pyrect\n",
      "  Building wheel for pyautogui (setup.py): started\n",
      "  Building wheel for pyautogui (setup.py): finished with status 'done'\n",
      "  Created wheel for pyautogui: filename=PyAutoGUI-0.9.53-py3-none-any.whl size=36613 sha256=45315dfb7bf1418d99400b080e3dccf01cfe0184016ca89fe2ea52264d2efe19\n",
      "  Stored in directory: c:\\users\\smhrd\\appdata\\local\\pip\\cache\\wheels\\54\\04\\f7\\55704a9d374ed923785a4fdc0ef00151fa25306b3b93345532\n",
      "  Building wheel for pygetwindow (setup.py): started\n",
      "  Building wheel for pygetwindow (setup.py): finished with status 'done'\n",
      "  Created wheel for pygetwindow: filename=PyGetWindow-0.0.9-py3-none-any.whl size=11080 sha256=0ccb6ba797b11ecb0dea7a61a428753d6aa2a7474d860b3465a643a0aae45662\n",
      "  Stored in directory: c:\\users\\smhrd\\appdata\\local\\pip\\cache\\wheels\\91\\e3\\04\\184bda98ec7f7d5f0ba1f372bcf7b3ba86325151ae1dd690fe\n",
      "  Building wheel for pyscreeze (PEP 517): started\n",
      "  Building wheel for pyscreeze (PEP 517): finished with status 'done'\n",
      "  Created wheel for pyscreeze: filename=PyScreeze-0.1.28-py3-none-any.whl size=13023 sha256=0cb534b42055797c1082f9a82bdcd9379d8c3aeb64de4baf4a3a721d6f382989\n",
      "  Stored in directory: c:\\users\\smhrd\\appdata\\local\\pip\\cache\\wheels\\b1\\b0\\5c\\9fb5beb2d6c708479a670e92f4ab3b54523a15c9cd4a46e24e\n",
      "  Building wheel for PyTweening (setup.py): started\n",
      "  Building wheel for PyTweening (setup.py): finished with status 'done'\n",
      "  Created wheel for PyTweening: filename=pytweening-1.0.4-py3-none-any.whl size=5854 sha256=07c32ed0ac3f463a8cab18e274a0d6c7561a3a1d844e688a7395af75c0f5402e\n",
      "  Stored in directory: c:\\users\\smhrd\\appdata\\local\\pip\\cache\\wheels\\a2\\1b\\69\\dc477653ccc19228bf53af76c623e4e82e5dc1b6f78d5c4d35\n",
      "  Building wheel for mouseinfo (setup.py): started\n",
      "  Building wheel for mouseinfo (setup.py): finished with status 'done'\n",
      "  Created wheel for mouseinfo: filename=MouseInfo-0.1.3-py3-none-any.whl size=10906 sha256=c429fa62b5ac111171226bab83b94a251c7dfcddd8ba132ac424ce4dc0fc2461\n",
      "  Stored in directory: c:\\users\\smhrd\\appdata\\local\\pip\\cache\\wheels\\d1\\72\\fb\\35f403de66285df8ecca7049bcc61bfb57aba0f76d1f08f7eb\n",
      "  Building wheel for pymsgbox (PEP 517): started\n",
      "  Building wheel for pymsgbox (PEP 517): finished with status 'done'\n",
      "  Created wheel for pymsgbox: filename=PyMsgBox-1.0.9-py3-none-any.whl size=7420 sha256=635bbf44fa74b6ca72ec4593eb6089df64a1bfc35cec2d2821d71bb049e9641c\n",
      "  Stored in directory: c:\\users\\smhrd\\appdata\\local\\pip\\cache\\wheels\\91\\28\\0d\\f4eb606d38276836237d6dc2abf094241e6db5682a126e0389\n",
      "  Building wheel for pyperclip (setup.py): started\n",
      "  Building wheel for pyperclip (setup.py): finished with status 'done'\n",
      "  Created wheel for pyperclip: filename=pyperclip-1.8.2-py3-none-any.whl size=11136 sha256=2470f8790ba67a940808a3d876c5ae048ac02f9b49707e304cb5f1a5206b9d8f\n",
      "  Stored in directory: c:\\users\\smhrd\\appdata\\local\\pip\\cache\\wheels\\7f\\1a\\65\\84ff8c386bec21fca6d220ea1f5498a0367883a78dd5ba6122\n",
      "  Building wheel for pyrect (setup.py): started\n",
      "  Building wheel for pyrect (setup.py): finished with status 'done'\n",
      "  Created wheel for pyrect: filename=PyRect-0.1.4-py2.py3-none-any.whl size=9547 sha256=aaef051d08121647137691e3dd7c50316350ac3d2e0475ae07d2c4c2783e2996\n",
      "  Stored in directory: c:\\users\\smhrd\\appdata\\local\\pip\\cache\\wheels\\d1\\e4\\47\\c62f8291b16b6df7e89ac885881ff71f35ca04c6e384251de9\n",
      "Successfully built pyautogui pygetwindow pyscreeze PyTweening mouseinfo pymsgbox pyperclip pyrect\n",
      "Installing collected packages: pyrect, pyperclip, PyTweening, pyscreeze, pymsgbox, pygetwindow, mouseinfo, pyautogui\n",
      "Successfully installed PyTweening-1.0.4 mouseinfo-0.1.3 pyautogui-0.9.53 pygetwindow-0.0.9 pymsgbox-1.0.9 pyperclip-1.8.2 pyrect-0.1.4 pyscreeze-0.1.28\n"
     ]
    }
   ],
   "source": [
    "!pip install pyautogui"
   ]
  },
  {
   "cell_type": "code",
   "execution_count": 120,
   "id": "a5448a12",
   "metadata": {},
   "outputs": [],
   "source": [
    "import pyautogui as py"
   ]
  },
  {
   "cell_type": "code",
   "execution_count": 142,
   "id": "701f088d",
   "metadata": {},
   "outputs": [
    {
     "data": {
      "text/plain": [
       "Point(x=920, y=617)"
      ]
     },
     "execution_count": 142,
     "metadata": {},
     "output_type": "execute_result"
    }
   ],
   "source": [
    "time.sleep(2)\n",
    "py.position() # 마우스현재위치"
   ]
  },
  {
   "cell_type": "code",
   "execution_count": 135,
   "id": "506510b9",
   "metadata": {},
   "outputs": [],
   "source": [
    "py.moveTo(285,712) # 마우스이동\n",
    "py.click() # 마우스클릭"
   ]
  },
  {
   "cell_type": "code",
   "execution_count": 143,
   "id": "8f6d0bc2",
   "metadata": {},
   "outputs": [],
   "source": [
    "py.click(920,617, button='right')"
   ]
  },
  {
   "cell_type": "code",
   "execution_count": null,
   "id": "d95d4a34",
   "metadata": {},
   "outputs": [],
   "source": [
    "py.click(3215,516)\n",
    "time.sleep(1)\n",
    "py.hotkey('ctrl','s') # 키 입력"
   ]
  },
  {
   "cell_type": "code",
   "execution_count": 144,
   "id": "d8ba18d5",
   "metadata": {},
   "outputs": [],
   "source": [
    "py.doubleClick()"
   ]
  },
  {
   "cell_type": "code",
   "execution_count": 145,
   "id": "e5656422",
   "metadata": {},
   "outputs": [],
   "source": [
    "# pyautogui 라이브러리 설명\n",
    "# https://codetorial.net/pyautogui/index.html"
   ]
  },
  {
   "cell_type": "code",
   "execution_count": null,
   "id": "c94d50da",
   "metadata": {},
   "outputs": [],
   "source": [
    "# df.to_csv('./ff', encoding='utf-8')\n",
    "# df.to_csv(파일명, 인코딩)"
   ]
  }
 ],
 "metadata": {
  "kernelspec": {
   "display_name": "Python 3 (ipykernel)",
   "language": "python",
   "name": "python3"
  },
  "language_info": {
   "codemirror_mode": {
    "name": "ipython",
    "version": 3
   },
   "file_extension": ".py",
   "mimetype": "text/x-python",
   "name": "python",
   "nbconvert_exporter": "python",
   "pygments_lexer": "ipython3",
   "version": "3.8.8"
  }
 },
 "nbformat": 4,
 "nbformat_minor": 5
}

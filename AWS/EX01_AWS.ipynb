{
 "cells": [
  {
   "cell_type": "markdown",
   "id": "5e3dff71",
   "metadata": {},
   "source": [
    "# AWS\n",
    "- 이미지를 보내고 AWS로부터 값을 받아올 수 있는 라이브러리 설치\n",
    "- boto3"
   ]
  },
  {
   "cell_type": "code",
   "execution_count": 1,
   "id": "e0af7b33",
   "metadata": {},
   "outputs": [
    {
     "name": "stdout",
     "output_type": "stream",
     "text": [
      "Requirement already satisfied: boto3 in c:\\users\\smhrd\\anaconda3\\lib\\site-packages (1.20.51)\n",
      "Requirement already satisfied: botocore<1.24.0,>=1.23.51 in c:\\users\\smhrd\\anaconda3\\lib\\site-packages (from boto3) (1.23.51)\n",
      "Requirement already satisfied: jmespath<1.0.0,>=0.7.1 in c:\\users\\smhrd\\anaconda3\\lib\\site-packages (from boto3) (0.10.0)\n",
      "Requirement already satisfied: s3transfer<0.6.0,>=0.5.0 in c:\\users\\smhrd\\anaconda3\\lib\\site-packages (from boto3) (0.5.1)\n",
      "Requirement already satisfied: python-dateutil<3.0.0,>=2.1 in c:\\users\\smhrd\\anaconda3\\lib\\site-packages (from botocore<1.24.0,>=1.23.51->boto3) (2.8.2)\n",
      "Requirement already satisfied: urllib3<1.27,>=1.25.4 in c:\\users\\smhrd\\anaconda3\\lib\\site-packages (from botocore<1.24.0,>=1.23.51->boto3) (1.26.7)\n",
      "Requirement already satisfied: six>=1.5 in c:\\users\\smhrd\\anaconda3\\lib\\site-packages (from python-dateutil<3.0.0,>=2.1->botocore<1.24.0,>=1.23.51->boto3) (1.16.0)\n"
     ]
    }
   ],
   "source": [
    "!pip3 install boto3"
   ]
  },
  {
   "cell_type": "markdown",
   "id": "f810bccc",
   "metadata": {},
   "source": [
    "# 레이블 감지"
   ]
  },
  {
   "cell_type": "code",
   "execution_count": 5,
   "id": "33151a01",
   "metadata": {
    "scrolled": true
   },
   "outputs": [
    {
     "name": "stdout",
     "output_type": "stream",
     "text": [
      "Detected labels in dog.jpg\n",
      "강아지일 확률은 92.89%입니다\n",
      "Labels detected: 6\n"
     ]
    }
   ],
   "source": [
    "#Copyright 2018 Amazon.com, Inc. or its affiliates. All Rights Reserved.\n",
    "#PDX-License-Identifier: MIT-0 (For details, see https://github.com/awsdocs/amazon-rekognition-developer-guide/blob/master/LICENSE-SAMPLECODE.)\n",
    "\n",
    "import boto3\n",
    "\n",
    "def detect_labels_local_file(photo):\n",
    "\n",
    "\n",
    "    client=boto3.client('rekognition')\n",
    "    # with 구문은 뭔가 열었을때 자동으로 닫아준다!\n",
    "    with open(photo, 'rb') as image:\n",
    "        response = client.detect_labels(Image={'Bytes': image.read()})\n",
    "        \n",
    "    #    print(response)\n",
    "        \n",
    "    print('Detected labels in ' + photo)\n",
    "    check = True;\n",
    "    for label in response['Labels']:\n",
    "        \n",
    "        if label['Name'] == 'Dog':\n",
    "            print('강아지일 확률은 {:.2f}%입니다'.format(label['Confidence']))\n",
    "            check=False;\n",
    "            \n",
    "        #print (label['Name'] + ' : ' + str(label['Confidence']))\n",
    "        \n",
    "    if check==True:\n",
    "        print('강아지가 아닙니다.')\n",
    "        \n",
    "    \n",
    "    return len(response['Labels'])\n",
    "\n",
    "def main():\n",
    "    photo='dog.jpg'\n",
    "\n",
    "    label_count=detect_labels_local_file(photo)\n",
    "    print(\"Labels detected: \" + str(label_count))\n",
    "\n",
    "\n",
    "if __name__ == \"__main__\":\n",
    "    main()\n",
    "\n",
    "\n",
    "\n"
   ]
  },
  {
   "cell_type": "markdown",
   "id": "4370b94a",
   "metadata": {},
   "source": [
    "# S3 Bucket을 활용한 얼굴 분석"
   ]
  },
  {
   "cell_type": "code",
   "execution_count": 44,
   "id": "3038773d",
   "metadata": {},
   "outputs": [
    {
     "name": "stdout",
     "output_type": "stream",
     "text": [
      "Detected faces for 전혜원.jpg\n",
      "The detected face is between 13 and 21 years old\n",
      "Gender: {'Value': 'Female', 'Confidence': 99.99592590332031}\n",
      "Smile: {'Value': False, 'Confidence': 97.76569366455078}\n",
      "Eyeglasses: {'Value': False, 'Confidence': 98.87838745117188}\n",
      "Emotions: {'Type': 'CALM', 'Confidence': 71.18181610107422}\n",
      "1. 나이는 17세입니다.\n",
      "2. 성별은 여성입니다\n",
      "3. 대표감정은 CALM입니다.\n",
      "Faces detected: 1\n"
     ]
    }
   ],
   "source": [
    "#Copyright 2018 Amazon.com, Inc. or its affiliates. All Rights Reserved.\n",
    "#PDX-License-Identifier: MIT-0 (For details, see https://github.com/awsdocs/amazon-rekognition-developer-guide/blob/master/LICENSE-SAMPLECODE.)\n",
    "\n",
    "import boto3\n",
    "import json\n",
    "\n",
    "def detect_faces(photo, bucket):\n",
    "\n",
    "    client=boto3.client('rekognition')\n",
    "\n",
    "    response = client.detect_faces(Image={'S3Object':{'Bucket':bucket,'Name':photo}},Attributes=['ALL'])\n",
    "\n",
    "    print('Detected faces for ' + photo)    \n",
    "    for faceDetail in response['FaceDetails']:\n",
    "        print('The detected face is between ' + str(faceDetail['AgeRange']['Low']) \n",
    "              + ' and ' + str(faceDetail['AgeRange']['High']) + ' years old')\n",
    "        #print(faceDetail)\n",
    "#         print('Here are the other attributes:')\n",
    "#         print(json.dumps(faceDetail, indent=4, sort_keys=True))\n",
    "\n",
    "\t\t# Access predictions for individual face details and print them\n",
    "        print(\"Gender: \" + str(faceDetail['Gender']))\n",
    "        print(\"Smile: \" + str(faceDetail['Smile']))\n",
    "        print(\"Eyeglasses: \" + str(faceDetail['Eyeglasses']))\n",
    "        print(\"Emotions: \" + str(faceDetail['Emotions'][0]))\n",
    "        \n",
    "        age = (faceDetail['AgeRange'][\"Low\"]+faceDetail['AgeRange'][\"High\"])/2\n",
    "        print(\"1. 현재 나이는 {:.0f}세입니다.\".format(age))\n",
    "        if(faceDetail['Gender']['Value']=='Female'):\n",
    "                g='여성'\n",
    "        else:\n",
    "                g='남성'\n",
    "        \n",
    "        print(\"2. 성별은 {}입니다\".format(g))\n",
    "        print(\"3. 대표감정은 {}입니다.\".format(faceDetail['Emotions'][0]['Type']))\n",
    "        \n",
    "    return len(response['FaceDetails'])\n",
    "def main():\n",
    "    photo='전혜원.jpg'\n",
    "    bucket='phm4902'\n",
    "    face_count=detect_faces(photo, bucket)\n",
    "    print(\"Faces detected: \" + str(face_count))\n",
    "\n",
    "\n",
    "if __name__ == \"__main__\":\n",
    "    main()\n",
    "\n"
   ]
  },
  {
   "cell_type": "markdown",
   "id": "ef18e11a",
   "metadata": {},
   "source": [
    "# 로컬 파일을 활용한 얼굴분석"
   ]
  },
  {
   "cell_type": "code",
   "execution_count": 46,
   "id": "af1ad59e",
   "metadata": {},
   "outputs": [
    {
     "name": "stdout",
     "output_type": "stream",
     "text": [
      "Detected faces for 전혜원.jpg\n",
      "The detected face is between 13 and 21 years old\n",
      "Gender: {'Value': 'Female', 'Confidence': 99.99592590332031}\n",
      "Smile: {'Value': False, 'Confidence': 97.76569366455078}\n",
      "Eyeglasses: {'Value': False, 'Confidence': 98.87838745117188}\n",
      "Emotions: {'Type': 'CALM', 'Confidence': 71.18181610107422}\n",
      "1. 현재 나이는 17세입니다.\n",
      "2. 성별은 여성입니다\n",
      "3. 대표감정은 CALM입니다.\n",
      "Faces detected: 1\n"
     ]
    }
   ],
   "source": [
    "#Copyright 2018 Amazon.com, Inc. or its affiliates. All Rights Reserved.\n",
    "#PDX-License-Identifier: MIT-0 (For details, see https://github.com/awsdocs/amazon-rekognition-developer-guide/blob/master/LICENSE-SAMPLECODE.)\n",
    "\n",
    "import boto3\n",
    "import json\n",
    "\n",
    "def detect_faces(photo):\n",
    "\n",
    "    client=boto3.client('rekognition')\n",
    "    \n",
    "    with open(photo, 'rb') as image:\n",
    "        response = client.detect_faces(Image={'Bytes': image.read()},Attributes=['ALL'])\n",
    "\n",
    "#     response = client.detect_faces(Image={'S3Object':{'Bucket':bucket,'Name':photo}},Attributes=['ALL'])\n",
    "\n",
    "    print('Detected faces for ' + photo)    \n",
    "    for faceDetail in response['FaceDetails']:\n",
    "        print('The detected face is between ' + str(faceDetail['AgeRange']['Low']) \n",
    "              + ' and ' + str(faceDetail['AgeRange']['High']) + ' years old')\n",
    "        #print(faceDetail)\n",
    "#         print('Here are the other attributes:')\n",
    "#         print(json.dumps(faceDetail, indent=4, sort_keys=True))\n",
    "\n",
    "\t\t# Access predictions for individual face details and print them\n",
    "        print(\"Gender: \" + str(faceDetail['Gender']))\n",
    "        print(\"Smile: \" + str(faceDetail['Smile']))\n",
    "        print(\"Eyeglasses: \" + str(faceDetail['Eyeglasses']))\n",
    "        print(\"Emotions: \" + str(faceDetail['Emotions'][0]))\n",
    "        \n",
    "        age = (faceDetail['AgeRange'][\"Low\"]+faceDetail['AgeRange'][\"High\"])/2\n",
    "        print(\"1. 현재 나이는 {:.0f}세입니다.\".format(age))\n",
    "        if(faceDetail['Gender']['Value']=='Female'):\n",
    "                g='여성'\n",
    "        else:\n",
    "                g='남성'\n",
    "        \n",
    "        print(\"2. 성별은 {}입니다\".format(g))\n",
    "        print(\"3. 대표감정은 {}입니다.\".format(faceDetail['Emotions'][0]['Type']))\n",
    "        \n",
    "    return len(response['FaceDetails'])\n",
    "def main():\n",
    "    photo='전혜원.jpg'\n",
    "    face_count=detect_faces(photo)\n",
    "    print(\"Faces detected: \" + str(face_count))\n",
    "\n",
    "\n",
    "if __name__ == \"__main__\":\n",
    "    main()\n",
    "\n"
   ]
  },
  {
   "cell_type": "markdown",
   "id": "16a64799",
   "metadata": {},
   "source": [
    "# 얼굴 비교"
   ]
  },
  {
   "cell_type": "code",
   "execution_count": null,
   "id": "93447880",
   "metadata": {},
   "outputs": [],
   "source": [
    "# 웹페이지 데모 \n",
    "# -> 80% 이하 일치율 같지 않다고 버림\n",
    "# 코드적으로 수정 40%"
   ]
  },
  {
   "cell_type": "code",
   "execution_count": 56,
   "id": "37d78216",
   "metadata": {},
   "outputs": [
    {
     "name": "stdout",
     "output_type": "stream",
     "text": [
      "The face at 0.32063618302345276 0.21564161777496338 matches with 33.17084503173828% confidence\n",
      "동일인물일 확률은 33.17입니다.\n",
      "Face matches: 1\n"
     ]
    }
   ],
   "source": [
    "import boto3\n",
    "\n",
    "def compare_faces(sourceFile, targetFile):\n",
    "\n",
    "    client=boto3.client('rekognition')\n",
    "   \n",
    "    imageSource=open(sourceFile,'rb')\n",
    "    imageTarget=open(targetFile,'rb')\n",
    "                                    # 유사 민감도를 0으로 설정\n",
    "                                    # 0% 이상 확률을 감지\n",
    "    response=client.compare_faces(SimilarityThreshold=0,\n",
    "                                  SourceImage={'Bytes': imageSource.read()},\n",
    "                                  TargetImage={'Bytes': imageTarget.read()})\n",
    "    \n",
    "    for faceMatch in response['FaceMatches']:\n",
    "        position = faceMatch['Face']['BoundingBox']\n",
    "        similarity = str(faceMatch['Similarity'])\n",
    "        print('The face at ' +\n",
    "               str(position['Left']) + ' ' +\n",
    "               str(position['Top']) +\n",
    "               ' matches with ' + similarity + '% confidence')\n",
    "\n",
    "    imageSource.close()\n",
    "    imageTarget.close()     \n",
    "    print(\"동일인물일 확률은 {:.2f}입니다.\".format(faceMatch['Similarity']))\n",
    "    return len(response['FaceMatches'])          \n",
    "\n",
    "def main():\n",
    "    source_file='source.jpg'\n",
    "    target_file='target.jpg'\n",
    "    face_matches=compare_faces(source_file, target_file)\n",
    "    print(\"Face matches: \" + str(face_matches))\n",
    "\n",
    "\n",
    "if __name__ == \"__main__\":\n",
    "    main()"
   ]
  },
  {
   "cell_type": "markdown",
   "id": "cfa69382",
   "metadata": {},
   "source": [
    "# 유명인사 인식"
   ]
  },
  {
   "cell_type": "code",
   "execution_count": 68,
   "id": "795065cb",
   "metadata": {},
   "outputs": [
    {
     "name": "stdout",
     "output_type": "stream",
     "text": [
      "Detected faces for 전혜원.jpg\n",
      "닮은 연예인은 아이유입니다\n",
      "Celebrities detected: 0\n"
     ]
    }
   ],
   "source": [
    "#Copyright 2018 Amazon.com, Inc. or its affiliates. All Rights Reserved.\n",
    "#PDX-License-Identifier: MIT-0 (For details, see https://github.com/awsdocs/amazon-rekognition-developer-guide/blob/master/LICENSE-SAMPLECODE.)\n",
    "\n",
    "import boto3\n",
    "import json\n",
    "import random\n",
    "\n",
    "def recognize_celebrities(photo):\n",
    "\n",
    "    \n",
    "    client=boto3.client('rekognition')\n",
    "\n",
    "    with open(photo, 'rb') as image:\n",
    "        response = client.recognize_celebrities(Image={'Bytes': image.read()})\n",
    "\n",
    "    print('Detected faces for ' + photo)\n",
    "    celeb=['박보검','송강','차은우','아이유','수지']\n",
    "    \n",
    "    for celebrity in response['CelebrityFaces']:\n",
    "        print ('Name: ' + celebrity['Name'])\n",
    "        print('닮은 연예인은 {]입니다}'.format(celebrity['Name']))\n",
    "#         print ('Id: ' + celebrity['Id'])\n",
    "#         print ('KnownGender: ' + celebrity['KnownGender'])\n",
    "#         print ('Smile: ' + celebrity['Smile'])\n",
    "#         print ('Position:')\n",
    "#         print ('   Left: ' + '{:.2f}'.format(celebrity['Face']['BoundingBox']['Height']))\n",
    "#         print ('   Top: ' + '{:.2f}'.format(celebrity['Face']['BoundingBox']['Top']))\n",
    "#         print ('Info')\n",
    "#         for url in celebrity['Urls']:\n",
    "#             print ('   ' + url)\n",
    "#         print\n",
    "    \n",
    "    index = random.randrange(len(celeb))\n",
    "    \n",
    "    if len(response['CelebrityFaces'])==0:\n",
    "        print('닮은 연예인은 {}입니다'.format(celeb[index]))\n",
    "        \n",
    "    return len(response['CelebrityFaces'])\n",
    "\n",
    "def main():\n",
    "    photo='전혜원.jpg'\n",
    "\n",
    "    celeb_count=recognize_celebrities(photo)\n",
    "    print(\"Celebrities detected: \" + str(celeb_count))\n",
    "\n",
    "\n",
    "if __name__ == \"__main__\":\n",
    "    main()"
   ]
  },
  {
   "cell_type": "markdown",
   "id": "d82616d0",
   "metadata": {},
   "source": [
    "# 모듈화된 파이썬 파일 임포트"
   ]
  },
  {
   "cell_type": "code",
   "execution_count": 1,
   "id": "ded4dbc0",
   "metadata": {},
   "outputs": [
    {
     "name": "stdout",
     "output_type": "stream",
     "text": [
      "테스트 중\n"
     ]
    }
   ],
   "source": [
    "import calculator"
   ]
  },
  {
   "cell_type": "code",
   "execution_count": 3,
   "id": "3aff4fef",
   "metadata": {},
   "outputs": [
    {
     "name": "stdout",
     "output_type": "stream",
     "text": [
      "30\n"
     ]
    }
   ],
   "source": [
    "print(calculator.add(10,20))"
   ]
  },
  {
   "cell_type": "markdown",
   "id": "093fabb4",
   "metadata": {},
   "source": [
    "# 파이썬을 통한 S3 bucket에 파일 업로드!"
   ]
  },
  {
   "cell_type": "code",
   "execution_count": 7,
   "id": "7a0552e5",
   "metadata": {},
   "outputs": [],
   "source": [
    "import boto3\n",
    "\n",
    "# s3 클라이언트 생성\n",
    "s3 = boto3.client('s3')\n",
    "\n",
    "# 업로드할 파일 ( 시작 경로는 파이썬 파일 위치와 동일 )\n",
    "filename = 'source.jpg'\n",
    "\n",
    "# 업로드할 s3 버킷 이름\n",
    "bucket_name = 'phm4902'\n",
    "\n",
    "# 저장될 이름\n",
    "savename = 'pd.jpg'\n",
    "\n",
    "s3.upload_file(filename, bucket_name, savename)"
   ]
  },
  {
   "cell_type": "markdown",
   "id": "7b686bbf",
   "metadata": {},
   "source": [
    "# Flask란?\n",
    "- pyrhon을 활용한 웹 마이크로 프레임워크\n",
    "- 코드가 단순하고 개발이 쉬움"
   ]
  },
  {
   "cell_type": "code",
   "execution_count": 8,
   "id": "f69ef81a",
   "metadata": {},
   "outputs": [
    {
     "name": "stdout",
     "output_type": "stream",
     "text": [
      "Collecting flask\n",
      "  Downloading Flask-2.0.2-py3-none-any.whl (95 kB)\n",
      "Collecting Jinja2>=3.0\n",
      "  Downloading Jinja2-3.0.3-py3-none-any.whl (133 kB)\n",
      "Collecting itsdangerous>=2.0\n",
      "  Downloading itsdangerous-2.0.1-py3-none-any.whl (18 kB)\n",
      "Requirement already satisfied: click>=7.1.2 in c:\\users\\smhrd\\anaconda3\\lib\\site-packages (from flask) (8.0.3)\n",
      "Collecting Werkzeug>=2.0\n",
      "  Downloading Werkzeug-2.0.3-py3-none-any.whl (289 kB)\n",
      "Requirement already satisfied: colorama in c:\\users\\smhrd\\anaconda3\\lib\\site-packages (from click>=7.1.2->flask) (0.4.4)\n",
      "Requirement already satisfied: MarkupSafe>=2.0 in c:\\users\\smhrd\\anaconda3\\lib\\site-packages (from Jinja2>=3.0->flask) (2.0.1)\n",
      "Installing collected packages: Werkzeug, Jinja2, itsdangerous, flask\n",
      "  Attempting uninstall: Jinja2\n",
      "    Found existing installation: Jinja2 2.11.3\n",
      "    Uninstalling Jinja2-2.11.3:\n",
      "      Successfully uninstalled Jinja2-2.11.3\n",
      "Successfully installed Jinja2-3.0.3 Werkzeug-2.0.3 flask-2.0.2 itsdangerous-2.0.1\n"
     ]
    }
   ],
   "source": [
    "!pip3 install flask"
   ]
  },
  {
   "cell_type": "code",
   "execution_count": 27,
   "id": "72e37da9",
   "metadata": {},
   "outputs": [
    {
     "name": "stdout",
     "output_type": "stream",
     "text": [
      " * Serving Flask app '__main__' (lazy loading)\n",
      " * Environment: production\n",
      "\u001b[31m   WARNING: This is a development server. Do not use it in a production deployment.\u001b[0m\n",
      "\u001b[2m   Use a production WSGI server instead.\u001b[0m\n",
      " * Debug mode: off\n"
     ]
    },
    {
     "name": "stderr",
     "output_type": "stream",
     "text": [
      " * Running on http://172.30.1.27:5025/ (Press CTRL+C to quit)\n",
      "172.30.1.27 - - [11/Feb/2022 11:34:42] \"GET / HTTP/1.1\" 200 -\n",
      "[2022-02-11 11:34:44,158] ERROR in app: Exception on /label [POST]\n",
      "Traceback (most recent call last):\n",
      "  File \"C:\\Users\\smhrd\\anaconda3\\lib\\site-packages\\flask\\app.py\", line 2073, in wsgi_app\n",
      "    response = self.full_dispatch_request()\n",
      "  File \"C:\\Users\\smhrd\\anaconda3\\lib\\site-packages\\flask\\app.py\", line 1518, in full_dispatch_request\n",
      "    rv = self.handle_user_exception(e)\n",
      "  File \"C:\\Users\\smhrd\\anaconda3\\lib\\site-packages\\flask\\app.py\", line 1516, in full_dispatch_request\n",
      "    rv = self.dispatch_request()\n",
      "  File \"C:\\Users\\smhrd\\anaconda3\\lib\\site-packages\\flask\\app.py\", line 1502, in dispatch_request\n",
      "    return self.ensure_sync(self.view_functions[rule.endpoint])(**req.view_args)\n",
      "  File \"C:\\Users\\smhrd\\AppData\\Local\\Temp/ipykernel_3480/3450938028.py\", line 32, in label\n",
      "    f.save(secure_filename(f.filename))\n",
      "  File \"C:\\Users\\smhrd\\anaconda3\\lib\\site-packages\\werkzeug\\datastructures.py\", line 3021, in save\n",
      "    dst = open(dst, \"wb\")\n",
      "FileNotFoundError: [Errno 2] No such file or directory: ''\n",
      "172.30.1.27 - - [11/Feb/2022 11:34:44] \"POST /label HTTP/1.1\" 500 -\n",
      "172.30.1.27 - - [11/Feb/2022 11:34:56] \"POST /label HTTP/1.1\" 200 -\n",
      "172.30.1.27 - - [11/Feb/2022 11:39:41] \"POST /label HTTP/1.1\" 200 -\n",
      "172.30.1.27 - - [11/Feb/2022 11:39:45] \"GET / HTTP/1.1\" 200 -\n",
      "[2022-02-11 11:39:46,401] ERROR in app: Exception on /label [POST]\n",
      "Traceback (most recent call last):\n",
      "  File \"C:\\Users\\smhrd\\anaconda3\\lib\\site-packages\\flask\\app.py\", line 2073, in wsgi_app\n",
      "    response = self.full_dispatch_request()\n",
      "  File \"C:\\Users\\smhrd\\anaconda3\\lib\\site-packages\\flask\\app.py\", line 1518, in full_dispatch_request\n",
      "    rv = self.handle_user_exception(e)\n",
      "  File \"C:\\Users\\smhrd\\anaconda3\\lib\\site-packages\\flask\\app.py\", line 1516, in full_dispatch_request\n",
      "    rv = self.dispatch_request()\n",
      "  File \"C:\\Users\\smhrd\\anaconda3\\lib\\site-packages\\flask\\app.py\", line 1502, in dispatch_request\n",
      "    return self.ensure_sync(self.view_functions[rule.endpoint])(**req.view_args)\n",
      "  File \"C:\\Users\\smhrd\\AppData\\Local\\Temp/ipykernel_3480/3450938028.py\", line 32, in label\n",
      "    f.save(secure_filename(f.filename))\n",
      "  File \"C:\\Users\\smhrd\\anaconda3\\lib\\site-packages\\werkzeug\\datastructures.py\", line 3021, in save\n",
      "    dst = open(dst, \"wb\")\n",
      "FileNotFoundError: [Errno 2] No such file or directory: ''\n",
      "172.30.1.27 - - [11/Feb/2022 11:39:46] \"POST /label HTTP/1.1\" 500 -\n",
      "[2022-02-11 11:39:48,611] ERROR in app: Exception on /label [POST]\n",
      "Traceback (most recent call last):\n",
      "  File \"C:\\Users\\smhrd\\anaconda3\\lib\\site-packages\\flask\\app.py\", line 2073, in wsgi_app\n",
      "    response = self.full_dispatch_request()\n",
      "  File \"C:\\Users\\smhrd\\anaconda3\\lib\\site-packages\\flask\\app.py\", line 1518, in full_dispatch_request\n",
      "    rv = self.handle_user_exception(e)\n",
      "  File \"C:\\Users\\smhrd\\anaconda3\\lib\\site-packages\\flask\\app.py\", line 1516, in full_dispatch_request\n",
      "    rv = self.dispatch_request()\n",
      "  File \"C:\\Users\\smhrd\\anaconda3\\lib\\site-packages\\flask\\app.py\", line 1502, in dispatch_request\n",
      "    return self.ensure_sync(self.view_functions[rule.endpoint])(**req.view_args)\n",
      "  File \"C:\\Users\\smhrd\\AppData\\Local\\Temp/ipykernel_3480/3450938028.py\", line 32, in label\n",
      "    f.save(secure_filename(f.filename))\n",
      "  File \"C:\\Users\\smhrd\\anaconda3\\lib\\site-packages\\werkzeug\\datastructures.py\", line 3021, in save\n",
      "    dst = open(dst, \"wb\")\n",
      "FileNotFoundError: [Errno 2] No such file or directory: ''\n",
      "172.30.1.27 - - [11/Feb/2022 11:39:48] \"POST /label HTTP/1.1\" 500 -\n"
     ]
    }
   ],
   "source": [
    "from flask import Flask, render_template, request\n",
    "from werkzeug.utils import secure_filename\n",
    "\n",
    "app = Flask(__name__)\n",
    "\n",
    "@app.route('/')\n",
    "def index():\n",
    "    return render_template('main.html')\n",
    "\n",
    "@app.route('/cal',methods=['GET','POST'])\n",
    "def cal():\n",
    "    if request.method =='GET':\n",
    "        # GET방식으로 data가 넘어왔을 때 로직\n",
    "        num1 = request.args['num1']\n",
    "        num2 = request.args['num2']\n",
    "        sum = int(num1)+int(num2)\n",
    "        result = num1+'+'+num2+'='+str(sum)\n",
    "    elif request.method == 'POST':\n",
    "        num1 = request.form['num1']\n",
    "        num2 = request.form['num2']\n",
    "        sum = int(num1)+int(num2)\n",
    "        result = num1+'+'+num2+'='+str(sum)\n",
    "    \n",
    "    return result                  # return은 html형식\n",
    "\n",
    "@app.route('/label', methods=['GET','POST'])\n",
    "def label():\n",
    "    \n",
    "    # post 방식으로 파일(key : file) 전송 받음\n",
    "    if request.method =='POST':\n",
    "        f = request.files['file']\n",
    "        f.save(secure_filename(f.filename))\n",
    "        labeling = request.form['target']\n",
    "    # local 이미지를 레이블 감지\n",
    "        result = detect_labels_local_file(f.filename,labeling)\n",
    "\n",
    "    return result\n",
    "\n",
    "\n",
    "\n",
    "# 서버를 동작시키는 app.run()\n",
    "# 최하단에 작성  -- 다음 코드 밑은 실행 x\n",
    "if __name__ == '__main__':\n",
    "    app.run(host = '172.30.1.27',port = 5025)\n",
    "    "
   ]
  },
  {
   "cell_type": "code",
   "execution_count": 23,
   "id": "db1ebd2c",
   "metadata": {},
   "outputs": [
    {
     "name": "stdout",
     "output_type": "stream",
     "text": [
      "레이블 감지 함수 활성화\n"
     ]
    }
   ],
   "source": [
    "import boto3\n",
    "\n",
    "def detect_labels_local_file(photo, labeling):\n",
    "    \n",
    "    result=''\n",
    "    \n",
    "    client=boto3.client('rekognition')\n",
    "    with open(photo, 'rb') as image:\n",
    "        response = client.detect_labels(Image={'Bytes': image.read()})\n",
    "    \n",
    "    # 전체 결과 출력\n",
    "    if labeling == 'default':\n",
    "        for label in response['Labels']:\n",
    "            result +=(label['Name'] + ' : ' + str(label['Confidence']))\n",
    "            result +='<br>'\n",
    "        return result\n",
    "    \n",
    "    # labeling에 따른 확률결과 출력\n",
    "    else:\n",
    "        check = True;\n",
    "        for label in response['Labels']:\n",
    "\n",
    "            if label['Name'] == labeling:\n",
    "                result+= labeling+'일 확률은 {:.2f}%입니다'.format(label['Confidence'])\n",
    "                check=False;\n",
    "\n",
    "        if check==True:\n",
    "            result+= labeling+'가(이) 아닙니다.'\n",
    "\n",
    "        return result\n",
    "    \n",
    "    return '결과없음'\n",
    "\n",
    "\n",
    "def main():\n",
    "    print('레이블 감지 함수 활성화')\n",
    "\n",
    "    \n",
    "if __name__ == \"__main__\":\n",
    "    main()"
   ]
  }
 ],
 "metadata": {
  "kernelspec": {
   "display_name": "Python 3 (ipykernel)",
   "language": "python",
   "name": "python3"
  },
  "language_info": {
   "codemirror_mode": {
    "name": "ipython",
    "version": 3
   },
   "file_extension": ".py",
   "mimetype": "text/x-python",
   "name": "python",
   "nbconvert_exporter": "python",
   "pygments_lexer": "ipython3",
   "version": "3.8.8"
  }
 },
 "nbformat": 4,
 "nbformat_minor": 5
}

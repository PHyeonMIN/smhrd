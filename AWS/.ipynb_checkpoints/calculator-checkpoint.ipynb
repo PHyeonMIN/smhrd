{
 "cells": [
  {
   "cell_type": "code",
   "execution_count": 9,
   "id": "cbd0ac1f",
   "metadata": {},
   "outputs": [
    {
     "name": "stdout",
     "output_type": "stream",
     "text": [
      "테스트 중\n",
      "Hello World\n"
     ]
    }
   ],
   "source": [
    "def add(num1, num2):\n",
    "    return num1 + num2\n",
    "\n",
    "def sub(num1, num2):\n",
    "    return num1 - num2\n",
    "\n",
    "def mul(num1, num2):\n",
    "    return num1 * num2\n",
    "\n",
    "def div(num1, num2):\n",
    "    return num1 / num2\n",
    "\n",
    "def hello():\n",
    "    print('Hello World')\n",
    "    \n",
    "def test():\n",
    "    print('테스트 중')\n",
    "    \n",
    "test()\n",
    "\n",
    "if __name__ == '__main__':\n",
    "    hello()"
   ]
  },
  {
   "cell_type": "markdown",
   "id": "4735d50a",
   "metadata": {},
   "source": [
    "# 모듈화된 파이썬 파일 임포트"
   ]
  },
  {
   "cell_type": "code",
   "execution_count": 22,
   "id": "db6d34f2",
   "metadata": {},
   "outputs": [],
   "source": [
    "import calculator"
   ]
  },
  {
   "cell_type": "code",
   "execution_count": null,
   "id": "f47948b5",
   "metadata": {},
   "outputs": [],
   "source": []
  },
  {
   "cell_type": "code",
   "execution_count": null,
   "id": "f31ea5bc",
   "metadata": {},
   "outputs": [],
   "source": []
  }
 ],
 "metadata": {
  "kernelspec": {
   "display_name": "Python 3 (ipykernel)",
   "language": "python",
   "name": "python3"
  },
  "language_info": {
   "codemirror_mode": {
    "name": "ipython",
    "version": 3
   },
   "file_extension": ".py",
   "mimetype": "text/x-python",
   "name": "python",
   "nbconvert_exporter": "python",
   "pygments_lexer": "ipython3",
   "version": "3.8.8"
  }
 },
 "nbformat": 4,
 "nbformat_minor": 5
}

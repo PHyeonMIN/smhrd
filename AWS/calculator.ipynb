{
 "cells": [
  {
   "cell_type": "code",
   "execution_count": 9,
   "id": "47775031",
   "metadata": {},
   "outputs": [
    {
     "name": "stdout",
     "output_type": "stream",
     "text": [
      "테스트 중\n",
      "Hello World\n"
     ]
    }
   ],
   "source": [
    "\n",
    "def add(num1, num2):\n",
    "    return num1 + num2\n",
    "\n",
    "def sub(num1, num2):\n",
    "    return num1 - num2\n",
    "\n",
    "def mul(num1, num2):\n",
    "    return num1 * num2\n",
    "\n",
    "def div(num1, num2):\n",
    "    return num1 / num2\n",
    "\n",
    "def hello():\n",
    "    print('Hello World')\n",
    "    \n",
    "def test():\n",
    "    print('테스트 중')\n",
    "    \n",
    "test()\n",
    "\n",
    "# 내가 직접 실행하게 되면 __main__ 으로 변경\n",
    "# main은 해당 파일에서만 실행\n",
    "if __name__ == '__main__':    \n",
    "    hello()"
   ]
  },
  {
   "cell_type": "markdown",
   "id": "07f4c72d",
   "metadata": {},
   "source": [
    "# 모듈화된 파이썬 파일 임포트"
   ]
  },
  {
   "cell_type": "code",
   "execution_count": 1,
   "id": "32f45939",
   "metadata": {},
   "outputs": [
    {
     "name": "stdout",
     "output_type": "stream",
     "text": [
      "테스트 중\n"
     ]
    }
   ],
   "source": [
    "import calculator"
   ]
  },
  {
   "cell_type": "code",
   "execution_count": 2,
   "id": "c8d90ab0",
   "metadata": {},
   "outputs": [
    {
     "data": {
      "text/plain": [
       "30"
      ]
     },
     "execution_count": 2,
     "metadata": {},
     "output_type": "execute_result"
    }
   ],
   "source": [
    "calculator.add(10,20)"
   ]
  },
  {
   "cell_type": "code",
   "execution_count": 4,
   "id": "8743397c",
   "metadata": {},
   "outputs": [],
   "source": [
    "# python은 모듈화가 쉽다.\n",
    "# main 함수 : \n",
    "\n",
    "# __name__\n",
    "#1. __main__ 직접 실행\n",
    "#2. __name__ 외부 실행"
   ]
  },
  {
   "cell_type": "code",
   "execution_count": null,
   "id": "83e3127b",
   "metadata": {},
   "outputs": [],
   "source": []
  }
 ],
 "metadata": {
  "kernelspec": {
   "display_name": "Python 3 (ipykernel)",
   "language": "python",
   "name": "python3"
  },
  "language_info": {
   "codemirror_mode": {
    "name": "ipython",
    "version": 3
   },
   "file_extension": ".py",
   "mimetype": "text/x-python",
   "name": "python",
   "nbconvert_exporter": "python",
   "pygments_lexer": "ipython3",
   "version": "3.8.8"
  }
 },
 "nbformat": 4,
 "nbformat_minor": 5
}

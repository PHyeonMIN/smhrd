{
 "cells": [
  {
   "cell_type": "markdown",
   "id": "9ea54feb",
   "metadata": {},
   "source": [
    "#### 함수(function, 기능)"
   ]
  },
  {
   "cell_type": "code",
   "execution_count": null,
   "id": "66a37f0e",
   "metadata": {},
   "outputs": [],
   "source": [
    "# 함수 정의\n",
    "def 함수명(매개변수):\n",
    "    함수의 기능(수행 코드)\n",
    "    return 반환변수(반환결과)"
   ]
  },
  {
   "cell_type": "code",
   "execution_count": 4,
   "id": "3e34052a",
   "metadata": {},
   "outputs": [],
   "source": [
    "# 더하기 기능\n",
    "# 매개변수 2개 : 숫자 2개\n",
    "# 더하는 수행 코드\n",
    "# 더해진 결과반환\n",
    "def number_sum(num1,num2):\n",
    "    return num1+num2\n"
   ]
  },
  {
   "cell_type": "code",
   "execution_count": 6,
   "id": "95019339",
   "metadata": {},
   "outputs": [
    {
     "data": {
      "text/plain": [
       "13"
      ]
     },
     "execution_count": 6,
     "metadata": {},
     "output_type": "execute_result"
    }
   ],
   "source": [
    "# 함수사용법\n",
    "# 함수를 불러야함(호출)\n",
    "num1 = 3 \n",
    "num2 = 10\n",
    "number_sum(num1,num2)"
   ]
  },
  {
   "cell_type": "code",
   "execution_count": 7,
   "id": "d302e7d6",
   "metadata": {},
   "outputs": [
    {
     "name": "stdout",
     "output_type": "stream",
     "text": [
      "첫번째 정수 입력>>> 10\n",
      "두번째 정수 입력>>> 3\n",
      "7\n"
     ]
    }
   ],
   "source": [
    "def number_sub(a,b):\n",
    "    return a-b\n",
    "num1 = int(input('첫번째 정수 입력>>> '))\n",
    "num2 = int(input('두번째 정수 입력>>> '))\n",
    "result = number_sub(num1,num2)\n",
    "print(result)"
   ]
  },
  {
   "cell_type": "code",
   "execution_count": 10,
   "id": "f5e492c6",
   "metadata": {},
   "outputs": [
    {
     "name": "stdout",
     "output_type": "stream",
     "text": [
      "문자열 입력>>>ㅇ남읔ㅋㅋㅋㅋㅋㅋ\n"
     ]
    },
    {
     "data": {
      "text/plain": [
       "'ㅇ남읔'"
      ]
     },
     "execution_count": 10,
     "metadata": {},
     "output_type": "execute_result"
    }
   ],
   "source": [
    "def s_replace(s):\n",
    "    \"\"\"ㅋ을 제거하는 기능(함수)\"\"\"\n",
    "    return s.replace('ㅋ','')\n",
    "    \n",
    "s = input('문자열 입력>>>')\n",
    "result = s_replace(s)\n",
    "result"
   ]
  },
  {
   "cell_type": "markdown",
   "id": "7066eab5",
   "metadata": {},
   "source": [
    "가변 매개변수"
   ]
  },
  {
   "cell_type": "code",
   "execution_count": null,
   "id": "76c99960",
   "metadata": {},
   "outputs": [],
   "source": [
    "# 함수를 정의할때, 변수 개수가 몇개인지 모름\n",
    "def 함수명(*매개변수):\n",
    "    실행문장\n",
    "    return 반환변수"
   ]
  },
  {
   "cell_type": "code",
   "execution_count": 11,
   "id": "3f107d53",
   "metadata": {},
   "outputs": [],
   "source": [
    "# 가변매개변수 가진 함수정의\n",
    "def test(*args):\n",
    "    print(args)"
   ]
  },
  {
   "cell_type": "code",
   "execution_count": 16,
   "id": "26076ef1",
   "metadata": {},
   "outputs": [
    {
     "name": "stdout",
     "output_type": "stream",
     "text": [
      "(1,)\n",
      "(1, 2, 3, 4, 5)\n"
     ]
    }
   ],
   "source": [
    "# test 사용(호출)\n",
    "test(1)\n",
    "test(1,2,3,4,5)"
   ]
  },
  {
   "cell_type": "code",
   "execution_count": 18,
   "id": "8c81136d",
   "metadata": {},
   "outputs": [
    {
     "data": {
      "text/plain": [
       "15"
      ]
     },
     "execution_count": 18,
     "metadata": {},
     "output_type": "execute_result"
    }
   ],
   "source": [
    "# 가변 매개변수 활용하여 더하는 기능 함수 정의\n",
    "# sum() 함수 이용\n",
    "# * 별, 아스타리크\n",
    "def add(*a):\n",
    "    return sum(a)\n",
    "    \n",
    "add(1,2,3,4,5)"
   ]
  },
  {
   "cell_type": "code",
   "execution_count": 19,
   "id": "df871555",
   "metadata": {},
   "outputs": [
    {
     "data": {
      "text/plain": [
       "10"
      ]
     },
     "execution_count": 19,
     "metadata": {},
     "output_type": "execute_result"
    }
   ],
   "source": [
    "# sum(데이터)\n",
    "sum((1,2,3))\n",
    "sum([1,2,3,4])"
   ]
  },
  {
   "cell_type": "code",
   "execution_count": 20,
   "id": "aeffa5c3",
   "metadata": {},
   "outputs": [
    {
     "data": {
      "text/plain": [
       "36"
      ]
     },
     "execution_count": 20,
     "metadata": {},
     "output_type": "execute_result"
    }
   ],
   "source": [
    "# add함수호출\n",
    "add(1,2,3,4,5,6,7,8)"
   ]
  },
  {
   "cell_type": "markdown",
   "id": "84be3624",
   "metadata": {},
   "source": [
    "매개변수 기본값 설정"
   ]
  },
  {
   "cell_type": "code",
   "execution_count": 21,
   "id": "314aa22c",
   "metadata": {},
   "outputs": [],
   "source": [
    "# 지수 연산하는 함수\n",
    "# 정의\n",
    "def power_of_N(num,power=2):\n",
    "    return num**power"
   ]
  },
  {
   "cell_type": "code",
   "execution_count": 25,
   "id": "28677e32",
   "metadata": {},
   "outputs": [
    {
     "data": {
      "text/plain": [
       "9"
      ]
     },
     "execution_count": 25,
     "metadata": {},
     "output_type": "execute_result"
    }
   ],
   "source": [
    "# 함수 호출\n",
    "power_of_N(3)"
   ]
  },
  {
   "cell_type": "markdown",
   "id": "e4b0ad77",
   "metadata": {},
   "source": [
    "return 정리"
   ]
  },
  {
   "cell_type": "code",
   "execution_count": null,
   "id": "b0b95256",
   "metadata": {},
   "outputs": [],
   "source": [
    "# 1. return 함수 안에서 한번만 실행\n",
    "# 2. return 을 만나면 함수 끝남\n",
    "# 3. return result,result2"
   ]
  },
  {
   "cell_type": "code",
   "execution_count": 26,
   "id": "3e0b0aa1",
   "metadata": {},
   "outputs": [],
   "source": [
    "def add_sub(num1,num2):\n",
    "    return num1+num2, num1-num2"
   ]
  },
  {
   "cell_type": "code",
   "execution_count": 29,
   "id": "0fafead3",
   "metadata": {},
   "outputs": [
    {
     "name": "stdout",
     "output_type": "stream",
     "text": [
      "17 3\n"
     ]
    }
   ],
   "source": [
    "add, sub = add_sub(10,7)\n",
    "print(add,sub)"
   ]
  },
  {
   "cell_type": "markdown",
   "id": "63b641f3",
   "metadata": {},
   "source": [
    "함수의 4가지 형태"
   ]
  },
  {
   "cell_type": "code",
   "execution_count": 30,
   "id": "17eb02ea",
   "metadata": {},
   "outputs": [],
   "source": [
    "# 1, 매개변수x, return x\n",
    "def hi():\n",
    "    print('안녕~~~')"
   ]
  },
  {
   "cell_type": "code",
   "execution_count": 32,
   "id": "d81c60b6",
   "metadata": {},
   "outputs": [
    {
     "name": "stdout",
     "output_type": "stream",
     "text": [
      "안녕~~~\n",
      "None\n"
     ]
    }
   ],
   "source": [
    "a = hi()\n",
    "print(a)"
   ]
  },
  {
   "cell_type": "code",
   "execution_count": 34,
   "id": "1dca5bca",
   "metadata": {},
   "outputs": [],
   "source": [
    "# 2. 매개변수x, retrun o\n",
    "def hi2():\n",
    "    return '안녕~~~'\n"
   ]
  },
  {
   "cell_type": "code",
   "execution_count": 37,
   "id": "15b495ea",
   "metadata": {},
   "outputs": [
    {
     "name": "stdout",
     "output_type": "stream",
     "text": [
      "안녕~~~\n"
     ]
    }
   ],
   "source": [
    "b = hi2()\n",
    "print(b)"
   ]
  },
  {
   "cell_type": "code",
   "execution_count": 38,
   "id": "9ff9dd1e",
   "metadata": {},
   "outputs": [],
   "source": [
    "# 3. 매개변수o, return x\n",
    "def hi3(name):\n",
    "    print(f'{name} 안녕~~~')"
   ]
  },
  {
   "cell_type": "code",
   "execution_count": 40,
   "id": "715df2df",
   "metadata": {},
   "outputs": [
    {
     "name": "stdout",
     "output_type": "stream",
     "text": [
      "현민 안녕~~~\n"
     ]
    }
   ],
   "source": [
    "hi3('현민')"
   ]
  },
  {
   "cell_type": "code",
   "execution_count": 41,
   "id": "38a81c68",
   "metadata": {},
   "outputs": [],
   "source": [
    "# 4. 매개변수o, return o\n",
    "def hi4(name):\n",
    "    return f'{name} 안녕~~~'"
   ]
  },
  {
   "cell_type": "code",
   "execution_count": 1,
   "id": "005673be",
   "metadata": {},
   "outputs": [
    {
     "ename": "NameError",
     "evalue": "name 'hi4' is not defined",
     "output_type": "error",
     "traceback": [
      "\u001b[1;31m---------------------------------------------------------------------------\u001b[0m",
      "\u001b[1;31mNameError\u001b[0m                                 Traceback (most recent call last)",
      "\u001b[1;32m~\\AppData\\Local\\Temp/ipykernel_1212/2546042059.py\u001b[0m in \u001b[0;36m<module>\u001b[1;34m\u001b[0m\n\u001b[1;32m----> 1\u001b[1;33m \u001b[0mc\u001b[0m \u001b[1;33m=\u001b[0m \u001b[0mhi4\u001b[0m\u001b[1;33m(\u001b[0m\u001b[1;34m'현민'\u001b[0m\u001b[1;33m)\u001b[0m\u001b[1;33m\u001b[0m\u001b[1;33m\u001b[0m\u001b[0m\n\u001b[0m\u001b[0;32m      2\u001b[0m \u001b[0mprint\u001b[0m\u001b[1;33m(\u001b[0m\u001b[0mc\u001b[0m\u001b[1;33m)\u001b[0m\u001b[1;33m\u001b[0m\u001b[1;33m\u001b[0m\u001b[0m\n",
      "\u001b[1;31mNameError\u001b[0m: name 'hi4' is not defined"
     ]
    }
   ],
   "source": [
    "c = hi4('현민')\n",
    "print(c)"
   ]
  },
  {
   "cell_type": "code",
   "execution_count": 2,
   "id": "b3c1cc3f",
   "metadata": {},
   "outputs": [
    {
     "data": {
      "text/plain": [
       "<function list.count(value, /)>"
      ]
     },
     "execution_count": 2,
     "metadata": {},
     "output_type": "execute_result"
    }
   ],
   "source": [
    "list1 = [1,2,3,4]\n",
    "list1.count"
   ]
  },
  {
   "cell_type": "code",
   "execution_count": null,
   "id": "a734b3dd",
   "metadata": {},
   "outputs": [],
   "source": []
  },
  {
   "cell_type": "code",
   "execution_count": null,
   "id": "142c63ad",
   "metadata": {},
   "outputs": [],
   "source": []
  }
 ],
 "metadata": {
  "kernelspec": {
   "display_name": "Python 3 (ipykernel)",
   "language": "python",
   "name": "python3"
  },
  "language_info": {
   "codemirror_mode": {
    "name": "ipython",
    "version": 3
   },
   "file_extension": ".py",
   "mimetype": "text/x-python",
   "name": "python",
   "nbconvert_exporter": "python",
   "pygments_lexer": "ipython3",
   "version": "3.8.8"
  }
 },
 "nbformat": 4,
 "nbformat_minor": 5
}

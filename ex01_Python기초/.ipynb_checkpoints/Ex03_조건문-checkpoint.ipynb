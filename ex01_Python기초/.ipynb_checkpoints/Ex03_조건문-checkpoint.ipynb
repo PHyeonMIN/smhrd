{
 "cells": [
  {
   "cell_type": "markdown",
   "id": "43c1a919",
   "metadata": {},
   "source": [
    "### 조건문"
   ]
  },
  {
   "cell_type": "markdown",
   "id": "26cc463a",
   "metadata": {},
   "source": [
    "if"
   ]
  },
  {
   "cell_type": "code",
   "execution_count": 1,
   "id": "9519b357",
   "metadata": {},
   "outputs": [
    {
     "name": "stdout",
     "output_type": "stream",
     "text": [
      "조건문 안 실행문장\n",
      "조건문 밖 실행문장\n"
     ]
    }
   ],
   "source": [
    "if True:\n",
    "    print('조건문 안 실행문장')\n",
    "print('조건문 밖 실행문장')"
   ]
  },
  {
   "cell_type": "code",
   "execution_count": 2,
   "id": "fc2aa936",
   "metadata": {},
   "outputs": [
    {
     "name": "stdout",
     "output_type": "stream",
     "text": [
      "조건문 밖 실행문장\n"
     ]
    }
   ],
   "source": [
    "if False:\n",
    "    print('조건문 안 실행문장')\n",
    "print('조건문 밖 실행문장')"
   ]
  },
  {
   "cell_type": "code",
   "execution_count": 5,
   "id": "03493128",
   "metadata": {},
   "outputs": [
    {
     "name": "stdout",
     "output_type": "stream",
     "text": [
      "b가 더큼\n"
     ]
    }
   ],
   "source": [
    "a = 1000\n",
    "b =500\n",
    "if a>b:\n",
    "    print('a가 더 크다')\n",
    "else :\n",
    "    print('b가 더큼')"
   ]
  },
  {
   "cell_type": "code",
   "execution_count": 7,
   "id": "18387d91",
   "metadata": {},
   "outputs": [
    {
     "name": "stdout",
     "output_type": "stream",
     "text": [
      "b가 더 크다\n"
     ]
    }
   ],
   "source": [
    "# 조건이 더 많아졌을 경우\n",
    "# if elif else\n",
    "a=5000\n",
    "b=10000\n",
    "if a>b:\n",
    "    print('a가 더 크다')\n",
    "elif a<b:\n",
    "    print('b가 더 크다')\n",
    "else:\n",
    "    print('같다')"
   ]
  },
  {
   "cell_type": "code",
   "execution_count": 10,
   "id": "bfc37c3b",
   "metadata": {},
   "outputs": [
    {
     "name": "stdout",
     "output_type": "stream",
     "text": [
      "score90\n",
      "90점은 A학점 입니다.\n"
     ]
    }
   ],
   "source": [
    "score = int(input('score'))\n",
    "if score>=90:\n",
    "    str1='A'\n",
    "elif score>=80:\n",
    "    str1='B'\n",
    "elif score>=70:\n",
    "    str1='C'\n",
    "elif score>=60:\n",
    "    str1='D'\n",
    "else:\n",
    "    str1='F'\n",
    "print(f\"{score}점은 {str1}학점 입니다.\")"
   ]
  },
  {
   "cell_type": "code",
   "execution_count": 13,
   "id": "e312312e",
   "metadata": {},
   "outputs": [
    {
     "name": "stdout",
     "output_type": "stream",
     "text": [
      "5418\n",
      "1806\n",
      "8127\n",
      "836178\n"
     ]
    }
   ],
   "source": [
    "import random\n",
    "a= random.randint(100,1000)\n",
    "b= random.randint(100,1000)\n",
    "#a,b = map(int, input().split(' '))\n",
    "print(a*(b%10))\n",
    "print(a*(int(b/10)%10))\n",
    "print(a*int(b/100))\n",
    "print(a*b)"
   ]
  },
  {
   "cell_type": "code",
   "execution_count": 32,
   "id": "e1522cd3",
   "metadata": {},
   "outputs": [
    {
     "name": "stdout",
     "output_type": "stream",
     "text": [
      "마스크 개수 입력>>16\n",
      "8개들이 포장지 개수 :  2\n",
      "5개들이 포장지 개수 :  0\n"
     ]
    }
   ],
   "source": [
    "countOfMask = int(input(\"마스크 개수 입력>>\"))\n",
    "\n",
    "print('8개들이 포장지 개수 : ',countOfMask//8)\n",
    "countOfMask%=8\n",
    "\n",
    "if countOfMask%5!=0:\n",
    "    print('5개들이 포장지 개수 : ',countOfMask//5+1)\n",
    "else:\n",
    "    print('5개들이 포장지 개수 : ',countOfMask//5)"
   ]
  },
  {
   "cell_type": "code",
   "execution_count": null,
   "id": "086fea01",
   "metadata": {},
   "outputs": [],
   "source": []
  },
  {
   "cell_type": "code",
   "execution_count": null,
   "id": "c3b67448",
   "metadata": {},
   "outputs": [],
   "source": []
  }
 ],
 "metadata": {
  "kernelspec": {
   "display_name": "Python 3 (ipykernel)",
   "language": "python",
   "name": "python3"
  },
  "language_info": {
   "codemirror_mode": {
    "name": "ipython",
    "version": 3
   },
   "file_extension": ".py",
   "mimetype": "text/x-python",
   "name": "python",
   "nbconvert_exporter": "python",
   "pygments_lexer": "ipython3",
   "version": "3.8.8"
  }
 },
 "nbformat": 4,
 "nbformat_minor": 5
}

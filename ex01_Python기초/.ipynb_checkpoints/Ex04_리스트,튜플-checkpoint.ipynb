{
 "cells": [
  {
   "cell_type": "markdown",
   "id": "bcf1e586",
   "metadata": {},
   "source": [
    "#### 리스트"
   ]
  },
  {
   "cell_type": "code",
   "execution_count": null,
   "id": "a45aa892",
   "metadata": {},
   "outputs": [],
   "source": [
    "# 파이썬 자료 구조\n",
    "# 순서가 있는 수정가능한 대상\n",
    "# 대괄호([]) 로  작성 되어짐. 리스트 내부의 값은 (,)콤마로 구분\n",
    "# 추가, 수정, 삭제"
   ]
  },
  {
   "cell_type": "markdown",
   "id": "830afb46",
   "metadata": {},
   "source": [
    "리스트 선언"
   ]
  },
  {
   "cell_type": "code",
   "execution_count": 2,
   "id": "0281c124",
   "metadata": {},
   "outputs": [],
   "source": [
    "a = [] # 빈 리스트 선언\n",
    "b = [1,2,3] # 정수를 담은 리스트 선언\n",
    "c = ['a', 'b', 'c'] # 문자를 담은 리스트 선언\n",
    "d = [1,2,'a','b'] # 어떤 데이터든지 자료형 상관없이 선언가능\n",
    "e = [1,2,['a','b']] # 이중 리스트 선언 가능"
   ]
  },
  {
   "cell_type": "markdown",
   "id": "942e523c",
   "metadata": {},
   "source": [
    "리스트 인덱싱과 슬라이싱"
   ]
  },
  {
   "cell_type": "code",
   "execution_count": 3,
   "id": "8d6d617d",
   "metadata": {},
   "outputs": [],
   "source": [
    "# 인덱싱 - 딱딱 꼬집어서 '가리킴'\n",
    "# 슬라이싱 - 무엇인가를 '잘라냄'"
   ]
  },
  {
   "cell_type": "code",
   "execution_count": 7,
   "id": "0b57f3dc",
   "metadata": {},
   "outputs": [
    {
     "data": {
      "text/plain": [
       "90"
      ]
     },
     "execution_count": 7,
     "metadata": {},
     "output_type": "execute_result"
    }
   ],
   "source": [
    "# 리스트[인덱스번호]\n",
    "list1 = [80,90,85,100,93]\n",
    "list1\n",
    "\n",
    "# in 연산자\n",
    "100 in list1\n",
    "# 100 접근\n",
    "list1[3]\n",
    "\n",
    "# 90 접근\n",
    "list1[1]"
   ]
  },
  {
   "cell_type": "code",
   "execution_count": 14,
   "id": "df12ce09",
   "metadata": {},
   "outputs": [
    {
     "data": {
      "text/plain": [
       "[['병관', 80], ['선재', 90], ['현지', 85], ['현준', 100], ['석현', 93]]"
      ]
     },
     "execution_count": 14,
     "metadata": {},
     "output_type": "execute_result"
    }
   ],
   "source": [
    "# 이중 리스트 생성 후 접근\n",
    "list2 = [['병관', 80],['선재', 90],['현지', 85],['현준', 100],['석현', 93]]\n",
    "list2"
   ]
  },
  {
   "cell_type": "code",
   "execution_count": 16,
   "id": "0bf92082",
   "metadata": {},
   "outputs": [
    {
     "data": {
      "text/plain": [
       "89.6"
      ]
     },
     "execution_count": 16,
     "metadata": {},
     "output_type": "execute_result"
    }
   ],
   "source": [
    "# 병관의 점수 확인\n",
    "list2[0][1]\n",
    "\n",
    "# 병관, 현지, 현준의 평균 점수 확인하고 싶어요\n",
    "total=0\n",
    "for i in range(0,5):\n",
    "    total += list2[i][1]\n",
    "total/5"
   ]
  },
  {
   "cell_type": "code",
   "execution_count": 17,
   "id": "800e7da0",
   "metadata": {},
   "outputs": [
    {
     "data": {
      "text/plain": [
       "['초코나무치즈', '아몬드봉봉', '민트초코', '레인보우샤베트', '엄마는 외계인']"
      ]
     },
     "execution_count": 17,
     "metadata": {},
     "output_type": "execute_result"
    }
   ],
   "source": [
    "# 리스트[시작인덱스번호 : 끝인덱스번호+1]\n",
    "list3 = ['초코나무치즈', '아몬드봉봉', '민트초코', '레인보우샤베트', '엄마는 외계인']\n",
    "list3"
   ]
  },
  {
   "cell_type": "code",
   "execution_count": 18,
   "id": "3cb6ec35",
   "metadata": {},
   "outputs": [
    {
     "data": {
      "text/plain": [
       "['초코나무치즈', '아몬드봉봉']"
      ]
     },
     "execution_count": 18,
     "metadata": {},
     "output_type": "execute_result"
    }
   ],
   "source": [
    "# 초코나무숲, 아몬드 봉봉 접근\n",
    "list3[:2]"
   ]
  },
  {
   "cell_type": "code",
   "execution_count": 19,
   "id": "22b5333c",
   "metadata": {},
   "outputs": [
    {
     "data": {
      "text/plain": [
       "['초코나무치즈', '민트초코']"
      ]
     },
     "execution_count": 19,
     "metadata": {},
     "output_type": "execute_result"
    }
   ],
   "source": [
    "# 초코나무치즈, 민트초코 접근\n",
    "# 슬라이싱으로\n",
    "list3[:4:2]"
   ]
  },
  {
   "cell_type": "markdown",
   "id": "35f845aa",
   "metadata": {},
   "source": [
    "리시트 더하기"
   ]
  },
  {
   "cell_type": "code",
   "execution_count": 20,
   "id": "a98fe2db",
   "metadata": {},
   "outputs": [
    {
     "data": {
      "text/plain": [
       "[80, 90, 85, 100, 93, '초코나무치즈', '아몬드봉봉', '민트초코', '레인보우샤베트', '엄마는 외계인']"
      ]
     },
     "execution_count": 20,
     "metadata": {},
     "output_type": "execute_result"
    }
   ],
   "source": [
    "list1+list3"
   ]
  },
  {
   "cell_type": "markdown",
   "id": "4e39e4d0",
   "metadata": {},
   "source": [
    "리스트 값 추가하기"
   ]
  },
  {
   "cell_type": "code",
   "execution_count": 22,
   "id": "f1b548a9",
   "metadata": {},
   "outputs": [
    {
     "data": {
      "text/plain": [
       "['초코나무치즈', '아몬드봉봉', '민트초코', '레인보우샤베트', '엄마는 외계인', '마법사의 할로윈']"
      ]
     },
     "execution_count": 22,
     "metadata": {},
     "output_type": "execute_result"
    }
   ],
   "source": [
    "# append : 맨뒤에 값을 추가\n",
    "list3.append('마법사의 할로윈')\n",
    "list3"
   ]
  },
  {
   "cell_type": "code",
   "execution_count": 47,
   "id": "a296e22e",
   "metadata": {},
   "outputs": [
    {
     "data": {
      "text/plain": [
       "['초코나무숲',\n",
       " '피스타치오',\n",
       " '아몬드봉봉',\n",
       " '민트초코',\n",
       " '레인보우샤베트',\n",
       " '엄마는 외계인',\n",
       " '마법사의 할로윈',\n",
       " '체리쥬빌레',\n",
       " ['이상한나라의 솜사탕', '고구마고구마']]"
      ]
     },
     "execution_count": 47,
     "metadata": {},
     "output_type": "execute_result"
    }
   ],
   "source": [
    "list3.append('체리쥬빌레')\n",
    "list3.append(['이상한나라의 솜사탕','고구마고구마'])\n",
    "list3"
   ]
  },
  {
   "cell_type": "code",
   "execution_count": 28,
   "id": "0211891e",
   "metadata": {},
   "outputs": [
    {
     "data": {
      "text/plain": [
       "[['병관', 80],\n",
       " ['선재', 90],\n",
       " ['현지', 85],\n",
       " ['현준', 100],\n",
       " ['석현', 93],\n",
       " ['웅철', '92'],\n",
       " ['웅철', '92'],\n",
       " ['웅철', '92'],\n",
       " ['웅철', '92']]"
      ]
     },
     "execution_count": 28,
     "metadata": {},
     "output_type": "execute_result"
    }
   ],
   "source": [
    "list2.append(['웅철','92'])\n",
    "list2"
   ]
  },
  {
   "cell_type": "code",
   "execution_count": 32,
   "id": "7259e83c",
   "metadata": {},
   "outputs": [
    {
     "data": {
      "text/plain": [
       "['초코나무치즈',\n",
       " '피스타치오',\n",
       " '아몬드봉봉',\n",
       " '민트초코',\n",
       " '레인보우샤베트',\n",
       " '엄마는 외계인',\n",
       " '마법사의 할로윈',\n",
       " '체리쥬빌레',\n",
       " ['이상한나라의 솜사탕', '고구마고구마']]"
      ]
     },
     "execution_count": 32,
     "metadata": {},
     "output_type": "execute_result"
    }
   ],
   "source": [
    "# insert : 인덱스 위치에 값 추가\n",
    "list3\n",
    "# 인덱스 번호 1번째에 '피스타치오'\n",
    "list3.insert(1,'피스타치오')\n",
    "list3"
   ]
  },
  {
   "cell_type": "code",
   "execution_count": 40,
   "id": "e47a21fe",
   "metadata": {},
   "outputs": [
    {
     "name": "stdout",
     "output_type": "stream",
     "text": [
      "인덱스위치입력>>>2\n",
      "노래제목입력 >>>롤린\n",
      "가수입력 >>>브레이브걸스\n",
      "music_list :  [['Butter', '방탄'], ['헤픈 우연', '헤이즈'], ['롤린', '브레이브걸스'], ['아이유', '라일락']]\n"
     ]
    }
   ],
   "source": [
    "music_list = [['Butter','방탄'],['헤픈 우연','헤이즈'],['아이유','라일락']]\n",
    "loc = int(input('인덱스위치입력>>>'))\n",
    "song = input('노래제목입력 >>>')\n",
    "singer = input('가수입력 >>>')\n",
    "\n",
    "\n",
    "music_list.insert(loc,[song,singer])\n",
    "print('music_list : ', music_list)"
   ]
  },
  {
   "cell_type": "markdown",
   "id": "8cae5fa4",
   "metadata": {},
   "source": [
    "리스트 값 수정"
   ]
  },
  {
   "cell_type": "code",
   "execution_count": 42,
   "id": "e8d69066",
   "metadata": {},
   "outputs": [
    {
     "data": {
      "text/plain": [
       "['초코나무숲',\n",
       " '피스타치오',\n",
       " '아몬드봉봉',\n",
       " '민트초코',\n",
       " '레인보우샤베트',\n",
       " '엄마는 외계인',\n",
       " '마법사의 할로윈',\n",
       " '체리쥬빌레',\n",
       " ['이상한나라의 솜사탕', '고구마고구마']]"
      ]
     },
     "execution_count": 42,
     "metadata": {},
     "output_type": "execute_result"
    }
   ],
   "source": [
    "# 해당 위치 접근\n",
    "# 대입\n",
    "list3[0] = '초코나무숲'\n",
    "list3"
   ]
  },
  {
   "cell_type": "code",
   "execution_count": 44,
   "id": "26f5d4d2",
   "metadata": {},
   "outputs": [
    {
     "data": {
      "text/plain": [
       "['초코나무숲',\n",
       " '피스타치오',\n",
       " '아몬드봉봉',\n",
       " '민트초코',\n",
       " '레인보우샤베트',\n",
       " '엄마는 외계인',\n",
       " '마법사의 할로윈',\n",
       " '뉴욕치즈',\n",
       " ['이상한나라의 솜사탕', '고구마고구마']]"
      ]
     },
     "execution_count": 44,
     "metadata": {},
     "output_type": "execute_result"
    }
   ],
   "source": [
    "# 체리쥬빌레 -> 뉴욕치즈 바꾸기\n",
    "list3[7] = '뉴욕치즈'\n",
    "list3"
   ]
  },
  {
   "cell_type": "code",
   "execution_count": 49,
   "id": "914e163f",
   "metadata": {},
   "outputs": [
    {
     "data": {
      "text/plain": [
       "['초코나무숲',\n",
       " '피스타치오',\n",
       " '민트초코',\n",
       " '레인보우샤베트',\n",
       " '엄마는 외계인',\n",
       " '마법사의 할로윈',\n",
       " ['이상한나라의 솜사탕', '고구마고구마']]"
      ]
     },
     "execution_count": 49,
     "metadata": {},
     "output_type": "execute_result"
    }
   ],
   "source": [
    "# del 키워드 이용 삭제\n",
    "del list3[-2]\n",
    "list3"
   ]
  },
  {
   "cell_type": "code",
   "execution_count": 50,
   "id": "53ba3063",
   "metadata": {},
   "outputs": [
    {
     "ename": "ValueError",
     "evalue": "list.remove(x): x not in list",
     "output_type": "error",
     "traceback": [
      "\u001b[1;31m---------------------------------------------------------------------------\u001b[0m",
      "\u001b[1;31mValueError\u001b[0m                                Traceback (most recent call last)",
      "\u001b[1;32m~\\AppData\\Local\\Temp/ipykernel_4900/3670816135.py\u001b[0m in \u001b[0;36m<module>\u001b[1;34m\u001b[0m\n\u001b[1;32m----> 1\u001b[1;33m \u001b[0mlist3\u001b[0m\u001b[1;33m.\u001b[0m\u001b[0mremove\u001b[0m\u001b[1;33m(\u001b[0m\u001b[1;34m'아몬드봉봉'\u001b[0m\u001b[1;33m)\u001b[0m\u001b[1;33m\u001b[0m\u001b[1;33m\u001b[0m\u001b[0m\n\u001b[0m\u001b[0;32m      2\u001b[0m \u001b[0mlist3\u001b[0m\u001b[1;33m\u001b[0m\u001b[1;33m\u001b[0m\u001b[0m\n",
      "\u001b[1;31mValueError\u001b[0m: list.remove(x): x not in list"
     ]
    }
   ],
   "source": [
    "list3.remove('아몬드봉봉')\n",
    "list3"
   ]
  },
  {
   "cell_type": "markdown",
   "id": "27709ed9",
   "metadata": {},
   "source": [
    "리스트 정렬, 뒤집기"
   ]
  },
  {
   "cell_type": "code",
   "execution_count": 64,
   "id": "a7ac269c",
   "metadata": {},
   "outputs": [
    {
     "data": {
      "text/plain": [
       "[12, 53, 75, 80, 90]"
      ]
     },
     "execution_count": 64,
     "metadata": {},
     "output_type": "execute_result"
    }
   ],
   "source": [
    "list5 = [80,75,90,12,53]\n",
    "list5.sort()\n",
    "list5"
   ]
  },
  {
   "cell_type": "code",
   "execution_count": 65,
   "id": "8f50ce02",
   "metadata": {},
   "outputs": [
    {
     "data": {
      "text/plain": [
       "[90, 80, 75, 53, 12]"
      ]
     },
     "execution_count": 65,
     "metadata": {},
     "output_type": "execute_result"
    }
   ],
   "source": [
    "list5[::-1]"
   ]
  },
  {
   "cell_type": "code",
   "execution_count": 66,
   "id": "a1ae1e64",
   "metadata": {},
   "outputs": [
    {
     "data": {
      "text/plain": [
       "[90, 80, 75, 53, 12]"
      ]
     },
     "execution_count": 66,
     "metadata": {},
     "output_type": "execute_result"
    }
   ],
   "source": [
    "list5.reverse()\n",
    "list5"
   ]
  },
  {
   "cell_type": "markdown",
   "id": "f87365cb",
   "metadata": {},
   "source": [
    "리스트 값 위치 알려줌"
   ]
  },
  {
   "cell_type": "code",
   "execution_count": 68,
   "id": "9b922244",
   "metadata": {},
   "outputs": [
    {
     "data": {
      "text/plain": [
       "1"
      ]
     },
     "execution_count": 68,
     "metadata": {},
     "output_type": "execute_result"
    }
   ],
   "source": [
    "list5\n",
    "# 80 위치 확인\n",
    "list5.index(80)"
   ]
  },
  {
   "cell_type": "raw",
   "id": "4714092f",
   "metadata": {},
   "source": [
    "리스트의 길이 확인"
   ]
  },
  {
   "cell_type": "code",
   "execution_count": 73,
   "id": "35821ff7",
   "metadata": {},
   "outputs": [
    {
     "data": {
      "text/plain": [
       "9"
      ]
     },
     "execution_count": 73,
     "metadata": {},
     "output_type": "execute_result"
    }
   ],
   "source": [
    "len(list2)"
   ]
  },
  {
   "cell_type": "code",
   "execution_count": 74,
   "id": "c4f03f4a",
   "metadata": {},
   "outputs": [
    {
     "data": {
      "text/plain": [
       "10"
      ]
     },
     "execution_count": 74,
     "metadata": {},
     "output_type": "execute_result"
    }
   ],
   "source": [
    "s = '오늘 점심 뭐먹지?'\n",
    "len(s)"
   ]
  },
  {
   "cell_type": "markdown",
   "id": "942d7565",
   "metadata": {},
   "source": [
    "#### 튜플(tuple)"
   ]
  },
  {
   "cell_type": "code",
   "execution_count": 75,
   "id": "f8bcc9b3",
   "metadata": {},
   "outputs": [],
   "source": [
    "# 파이썬 자료 구조 중 하나\n",
    "# 순서가 있는 대상\n",
    "# 소괄호() 로 작성, 내부 요소는 , 로 구분\n",
    "# 추가, 삭제, 수정 불가능"
   ]
  },
  {
   "cell_type": "code",
   "execution_count": 77,
   "id": "c3594853",
   "metadata": {},
   "outputs": [],
   "source": [
    "# 튜플 선언\n",
    "a = () # 빈 튜플 선언\n",
    "b = (1,2,3) # 정수형 데이터 담은 튜플\n",
    "c = ('a','b','c') # 문자열 담은 튜플\n",
    "d = (1,2,'a','b') # 자료형 상관없이 선언 가능\n",
    "e = (1,2,('a','b')) # 이중 튜플 선언 가능"
   ]
  },
  {
   "cell_type": "markdown",
   "id": "eb0da4a7",
   "metadata": {},
   "source": [
    "튜플 인덱싱 슬라이싱"
   ]
  },
  {
   "cell_type": "code",
   "execution_count": 79,
   "id": "4a277dc8",
   "metadata": {},
   "outputs": [
    {
     "data": {
      "text/plain": [
       "'b'"
      ]
     },
     "execution_count": 79,
     "metadata": {},
     "output_type": "execute_result"
    }
   ],
   "source": [
    "# 인덱싱\n",
    "e[-1]\n",
    "# 'b' 요소에 접근\n",
    "e[2][1]"
   ]
  },
  {
   "cell_type": "code",
   "execution_count": 80,
   "id": "caef50ff",
   "metadata": {},
   "outputs": [
    {
     "data": {
      "text/plain": [
       "(2, ('a', 'b'))"
      ]
     },
     "execution_count": 80,
     "metadata": {},
     "output_type": "execute_result"
    }
   ],
   "source": [
    "# 슬라이싱\n",
    "e[1:]"
   ]
  },
  {
   "cell_type": "code",
   "execution_count": 81,
   "id": "f527bce4",
   "metadata": {},
   "outputs": [
    {
     "data": {
      "text/plain": [
       "3"
      ]
     },
     "execution_count": 81,
     "metadata": {},
     "output_type": "execute_result"
    }
   ],
   "source": [
    "len(e)"
   ]
  },
  {
   "cell_type": "markdown",
   "id": "f71673ee",
   "metadata": {},
   "source": [
    "튜플 수정 진짜 안되나???"
   ]
  },
  {
   "cell_type": "code",
   "execution_count": 83,
   "id": "82c9cd2a",
   "metadata": {},
   "outputs": [
    {
     "ename": "TypeError",
     "evalue": "'tuple' object does not support item assignment",
     "output_type": "error",
     "traceback": [
      "\u001b[1;31m---------------------------------------------------------------------------\u001b[0m",
      "\u001b[1;31mTypeError\u001b[0m                                 Traceback (most recent call last)",
      "\u001b[1;32m~\\AppData\\Local\\Temp/ipykernel_4900/2691701820.py\u001b[0m in \u001b[0;36m<module>\u001b[1;34m\u001b[0m\n\u001b[1;32m----> 1\u001b[1;33m \u001b[0me\u001b[0m\u001b[1;33m[\u001b[0m\u001b[1;36m2\u001b[0m\u001b[1;33m]\u001b[0m \u001b[1;33m=\u001b[0m \u001b[1;33m(\u001b[0m\u001b[1;36m1\u001b[0m\u001b[1;33m,\u001b[0m\u001b[1;36m2\u001b[0m\u001b[1;33m,\u001b[0m\u001b[1;36m3\u001b[0m\u001b[1;33m)\u001b[0m\u001b[1;33m\u001b[0m\u001b[1;33m\u001b[0m\u001b[0m\n\u001b[0m",
      "\u001b[1;31mTypeError\u001b[0m: 'tuple' object does not support item assignment"
     ]
    }
   ],
   "source": [
    "e[2] = (1,2,3)"
   ]
  },
  {
   "attachments": {
    "image.png": {
     "image/png": "[encoded data removed]"
    }
   },
   "cell_type": "markdown",
   "id": "60d02ea6",
   "metadata": {},
   "source": [
    "![image.png](attachment:image.png)"
   ]
  },
  {
   "cell_type": "code",
   "execution_count": 89,
   "id": "a9ecce17",
   "metadata": {},
   "outputs": [
    {
     "name": "stdout",
     "output_type": "stream",
     "text": [
      "검색할 문자를 입력하세요 >> 수박\n",
      "수박는 리스트에 2번째 인덱스에 들어있습니다.\n"
     ]
    }
   ],
   "source": [
    "lst = ['딸기','바나나','수박','체리','포도']\n",
    "s = input('검색할 문자를 입력하세요 >> ')\n",
    "if s in lst:\n",
    "    print(f'{s}는 리스트에 {lst.index(s)}번째 인덱스에 들어있습니다.')\n",
    "else:\n",
    "    print(f'{s}는 리스트에 들어 있지 않습니다.')"
   ]
  },
  {
   "cell_type": "code",
   "execution_count": 95,
   "id": "e95d7fd2",
   "metadata": {},
   "outputs": [
    {
     "name": "stdout",
     "output_type": "stream",
     "text": [
      "검색할 문자를 입력하세요 : i\n",
      "'i'는 3 번 들어 있습니다.\n"
     ]
    }
   ],
   "source": [
    "s =\"Hi, My name is Mihee\"\n",
    "s=s.lower()\n",
    "a = input('검색할 문자를 입력하세요 : ')\n",
    "if a in s:\n",
    "    print(\"'{}'는 {} 번 들어 있습니다.\".format(a,s.count(a)))\n",
    "else:\n",
    "    print(\"'{}'는 문자열에 들어있지 않습니다.\".format(a))"
   ]
  },
  {
   "cell_type": "code",
   "execution_count": 96,
   "id": "c56d1eaa",
   "metadata": {},
   "outputs": [
    {
     "data": {
      "text/plain": [
       "658"
      ]
     },
     "execution_count": 96,
     "metadata": {},
     "output_type": "execute_result"
    }
   ],
   "source": [
    "strToInt=\"329\"\n",
    "strToInt = int(strToInt)\n",
    "strToInt*2"
   ]
  },
  {
   "cell_type": "code",
   "execution_count": 101,
   "id": "ab080cde",
   "metadata": {
    "scrolled": true
   },
   "outputs": [
    {
     "data": {
      "text/plain": [
       "'01051798179'"
      ]
     },
     "execution_count": 101,
     "metadata": {},
     "output_type": "execute_result"
    }
   ],
   "source": [
    "phone_number = \"010-5179-8179\"\n",
    "phone_number.replace('-','')"
   ]
  },
  {
   "cell_type": "code",
   "execution_count": 105,
   "id": "ed8b0872",
   "metadata": {},
   "outputs": [
    {
     "name": "stdout",
     "output_type": "stream",
     "text": [
      "문자열을 입력하시오>>2021-05-21\n",
      "분리 기준 문자 >>-\n"
     ]
    },
    {
     "data": {
      "text/plain": [
       "'21'"
      ]
     },
     "execution_count": 105,
     "metadata": {},
     "output_type": "execute_result"
    }
   ],
   "source": [
    "s = input('문자열을 입력하시오>>')\n",
    "a = input('분리 기준 문자 >>')\n",
    "s.split(a)[2]"
   ]
  },
  {
   "cell_type": "code",
   "execution_count": null,
   "id": "88c915b1",
   "metadata": {},
   "outputs": [],
   "source": []
  },
  {
   "cell_type": "code",
   "execution_count": null,
   "id": "9d5ae8ea",
   "metadata": {},
   "outputs": [],
   "source": []
  },
  {
   "cell_type": "code",
   "execution_count": null,
   "id": "5035b6f1",
   "metadata": {},
   "outputs": [],
   "source": []
  },
  {
   "cell_type": "code",
   "execution_count": null,
   "id": "597bfc2c",
   "metadata": {},
   "outputs": [],
   "source": []
  }
 ],
 "metadata": {
  "kernelspec": {
   "display_name": "Python 3 (ipykernel)",
   "language": "python",
   "name": "python3"
  },
  "language_info": {
   "codemirror_mode": {
    "name": "ipython",
    "version": 3
   },
   "file_extension": ".py",
   "mimetype": "text/x-python",
   "name": "python",
   "nbconvert_exporter": "python",
   "pygments_lexer": "ipython3",
   "version": "3.8.8"
  }
 },
 "nbformat": 4,
 "nbformat_minor": 5
}

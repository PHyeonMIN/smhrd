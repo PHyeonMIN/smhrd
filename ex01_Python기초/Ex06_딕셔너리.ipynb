{
 "cells": [
  {
   "cell_type": "markdown",
   "id": "363b4a4d",
   "metadata": {},
   "source": [
    "#### 딕셔너리"
   ]
  },
  {
   "cell_type": "code",
   "execution_count": 3,
   "id": "0acd6379",
   "metadata": {},
   "outputs": [],
   "source": [
    "d = {} # 빈 딕셔너리\n",
    "d2 = {'name':'문석현', 'age':28} \n",
    "# 요소를 구별(,콤마), key(변하지않음) : value(값,변해도됨)\n",
    "d3 = {1:'str',2:2}\n"
   ]
  },
  {
   "cell_type": "code",
   "execution_count": 4,
   "id": "46dd138f",
   "metadata": {},
   "outputs": [
    {
     "name": "stdout",
     "output_type": "stream",
     "text": [
      "{}\n",
      "{'name': '문석현', 'age': 28}\n",
      "{1: 'str', 2: 2}\n"
     ]
    }
   ],
   "source": [
    "print(d)\n",
    "print(d2)\n",
    "print(d3)"
   ]
  },
  {
   "cell_type": "code",
   "execution_count": 5,
   "id": "99922e9f",
   "metadata": {},
   "outputs": [
    {
     "data": {
      "text/plain": [
       "{'name': 'JY', 'age': 20, 'phone': '010-1234-5678'}"
      ]
     },
     "execution_count": 5,
     "metadata": {},
     "output_type": "execute_result"
    }
   ],
   "source": [
    "# 지영의 정보\n",
    "dic1 ={'name':'JY','age':20,'phone':'010-1234-5678'}\n",
    "dic1"
   ]
  },
  {
   "cell_type": "code",
   "execution_count": 6,
   "id": "20f7abaa",
   "metadata": {},
   "outputs": [
    {
     "name": "stdout",
     "output_type": "stream",
     "text": [
      "<class 'dict'>\n"
     ]
    }
   ],
   "source": [
    "print(type(dic1)) # 딕셔너리 자료형이다!"
   ]
  },
  {
   "cell_type": "markdown",
   "id": "466c2bc1",
   "metadata": {},
   "source": [
    "딕셔너리 값 가져오기(접근)"
   ]
  },
  {
   "cell_type": "code",
   "execution_count": 7,
   "id": "3788d814",
   "metadata": {},
   "outputs": [
    {
     "data": {
      "text/plain": [
       "{'name': 'JY', 'age': 20, 'phone': '010-1234-5678'}"
      ]
     },
     "execution_count": 7,
     "metadata": {},
     "output_type": "execute_result"
    }
   ],
   "source": [
    "dic1"
   ]
  },
  {
   "cell_type": "code",
   "execution_count": 8,
   "id": "672ce210",
   "metadata": {},
   "outputs": [
    {
     "data": {
      "text/plain": [
       "'JY'"
      ]
     },
     "execution_count": 8,
     "metadata": {},
     "output_type": "execute_result"
    }
   ],
   "source": [
    "dic1['name']"
   ]
  },
  {
   "cell_type": "code",
   "execution_count": 9,
   "id": "945ba213",
   "metadata": {},
   "outputs": [
    {
     "data": {
      "text/plain": [
       "'010-1234-5678'"
      ]
     },
     "execution_count": 9,
     "metadata": {},
     "output_type": "execute_result"
    }
   ],
   "source": [
    "# 폰 번호 접근해보기\n",
    "dic1['phone']"
   ]
  },
  {
   "cell_type": "code",
   "execution_count": 10,
   "id": "2f36e06c",
   "metadata": {},
   "outputs": [],
   "source": [
    "# 성별, 키, 무게, 혈액형, 생일, 가족의 수, 애인유무, 친구수, 결혼여부"
   ]
  },
  {
   "cell_type": "markdown",
   "id": "9f191fcb",
   "metadata": {},
   "source": [
    "딕셔너리 값 추가"
   ]
  },
  {
   "cell_type": "code",
   "execution_count": 13,
   "id": "a68012e2",
   "metadata": {},
   "outputs": [],
   "source": [
    "dic1['birth'] = '0211' # 맨 뒤쪽으로 추가됨"
   ]
  },
  {
   "cell_type": "code",
   "execution_count": 17,
   "id": "73a29481",
   "metadata": {},
   "outputs": [
    {
     "data": {
      "text/plain": [
       "{'name': 'JY',\n",
       " 'age': 20,\n",
       " 'phone': '010-1234-5678',\n",
       " 'birth': '0211',\n",
       " '혈액형': 'o'}"
      ]
     },
     "execution_count": 17,
     "metadata": {},
     "output_type": "execute_result"
    }
   ],
   "source": [
    "dic1['혈액형'] = 'o'\n",
    "dic1"
   ]
  },
  {
   "cell_type": "code",
   "execution_count": 19,
   "id": "3555e791",
   "metadata": {},
   "outputs": [
    {
     "data": {
      "text/plain": [
       "{'노래제목': '아무노래', '가수': '지코', '날짜': '2020.01.13'}"
      ]
     },
     "execution_count": 19,
     "metadata": {},
     "output_type": "execute_result"
    }
   ],
   "source": [
    "dic_test = {'노래제목':'아무노래'}\n",
    "dic_test['가수'] = '지코'\n",
    "dic_test['날짜'] = '2020.01.13'\n",
    "dic_test"
   ]
  },
  {
   "cell_type": "code",
   "execution_count": 20,
   "id": "d12c3448",
   "metadata": {},
   "outputs": [
    {
     "data": {
      "text/plain": [
       "dict_keys(['노래제목', '가수', '날짜'])"
      ]
     },
     "execution_count": 20,
     "metadata": {},
     "output_type": "execute_result"
    }
   ],
   "source": [
    "# 키값 확인\n",
    "dic_test.keys()"
   ]
  },
  {
   "cell_type": "code",
   "execution_count": 24,
   "id": "4b8306c5",
   "metadata": {},
   "outputs": [
    {
     "data": {
      "text/plain": [
       "['아무노래', '지코', '2020.01.13']"
      ]
     },
     "execution_count": 24,
     "metadata": {},
     "output_type": "execute_result"
    }
   ],
   "source": [
    "# 값 확인\n",
    "dic_test.values()\n",
    "# 리스트로 사용하고 싶으면\n",
    "list(dic_test.values())"
   ]
  },
  {
   "cell_type": "markdown",
   "id": "c89483b3",
   "metadata": {},
   "source": [
    "keys(), values(), items() 이용해서 for문 돌려보기"
   ]
  },
  {
   "cell_type": "code",
   "execution_count": 27,
   "id": "5c92a97c",
   "metadata": {},
   "outputs": [
    {
     "name": "stdout",
     "output_type": "stream",
     "text": [
      "아무노래\n",
      "지코\n",
      "2020.01.13\n"
     ]
    }
   ],
   "source": [
    "for value in dic_test.values():\n",
    "    print(value)"
   ]
  },
  {
   "cell_type": "code",
   "execution_count": 28,
   "id": "d3b0b0bb",
   "metadata": {
    "scrolled": false
   },
   "outputs": [
    {
     "name": "stdout",
     "output_type": "stream",
     "text": [
      "노래제목 아무노래\n",
      "가수 지코\n",
      "날짜 2020.01.13\n"
     ]
    }
   ],
   "source": [
    "for key,value in dic_test.items():\n",
    "    print(key, value)"
   ]
  },
  {
   "cell_type": "code",
   "execution_count": 29,
   "id": "5c72e7c6",
   "metadata": {},
   "outputs": [
    {
     "data": {
      "text/plain": [
       "True"
      ]
     },
     "execution_count": 29,
     "metadata": {},
     "output_type": "execute_result"
    }
   ],
   "source": [
    "# 멤버 연산자랑 같이 사용 : key 값을 비교함\n",
    "'가수' in dic_test "
   ]
  },
  {
   "cell_type": "code",
   "execution_count": 30,
   "id": "60e30e41",
   "metadata": {},
   "outputs": [
    {
     "data": {
      "text/plain": [
       "False"
      ]
     },
     "execution_count": 30,
     "metadata": {},
     "output_type": "execute_result"
    }
   ],
   "source": [
    "'사진' in dic_test"
   ]
  },
  {
   "cell_type": "code",
   "execution_count": 31,
   "id": "b1876884",
   "metadata": {},
   "outputs": [
    {
     "data": {
      "text/plain": [
       "False"
      ]
     },
     "execution_count": 31,
     "metadata": {},
     "output_type": "execute_result"
    }
   ],
   "source": [
    "'지코' in dic_test"
   ]
  },
  {
   "cell_type": "markdown",
   "id": "45d19df7",
   "metadata": {},
   "source": [
    "딕셔너리 값 삭제"
   ]
  },
  {
   "cell_type": "code",
   "execution_count": 32,
   "id": "6d0e49d8",
   "metadata": {},
   "outputs": [
    {
     "data": {
      "text/plain": [
       "{'노래제목': '아무노래', '가수': '지코'}"
      ]
     },
     "execution_count": 32,
     "metadata": {},
     "output_type": "execute_result"
    }
   ],
   "source": [
    "# 하나\n",
    "del dic_test['날짜']\n",
    "dic_test"
   ]
  },
  {
   "cell_type": "code",
   "execution_count": 33,
   "id": "8da5da80",
   "metadata": {},
   "outputs": [],
   "source": [
    "dic_test.clear()"
   ]
  },
  {
   "cell_type": "code",
   "execution_count": 34,
   "id": "18f89900",
   "metadata": {},
   "outputs": [
    {
     "data": {
      "text/plain": [
       "{}"
      ]
     },
     "execution_count": 34,
     "metadata": {},
     "output_type": "execute_result"
    }
   ],
   "source": [
    "dic_test"
   ]
  },
  {
   "cell_type": "code",
   "execution_count": 35,
   "id": "8a1a3452",
   "metadata": {},
   "outputs": [
    {
     "data": {
      "text/plain": [
       "[{'노래제목': '사랑은 늘 도망가', '가수': '임영웅'},\n",
       " {'노래제목': '신호등', '가수명': '이무진'},\n",
       " {'노래제목': '문득', '가수명': '비오'}]"
      ]
     },
     "execution_count": 35,
     "metadata": {},
     "output_type": "execute_result"
    }
   ],
   "source": [
    "play_list = [{'노래제목':'사랑은 늘 도망가','가수':'임영웅'},\n",
    " {'노래제목':'신호등','가수명':'이무진'},\n",
    " {'노래제목':'문득','가수명':'비오'}]\n",
    "play_list"
   ]
  },
  {
   "cell_type": "code",
   "execution_count": 42,
   "id": "c197f8dd",
   "metadata": {},
   "outputs": [
    {
     "name": "stdout",
     "output_type": "stream",
     "text": [
      "사랑은 늘 도망가\n",
      "신호등\n",
      "문득\n"
     ]
    }
   ],
   "source": [
    "# paly_list for문 돌리기\n",
    "for s in play_list:\n",
    "    print(s['노래제목'])\n",
    "    \n",
    "# 노래 제목만 출력해보기\n"
   ]
  },
  {
   "cell_type": "code",
   "execution_count": 43,
   "id": "7f9a1faa",
   "metadata": {},
   "outputs": [
    {
     "name": "stdout",
     "output_type": "stream",
     "text": [
      "임영웅\n",
      "None\n",
      "==========\n",
      "None\n",
      "이무진\n",
      "==========\n",
      "None\n",
      "비오\n",
      "==========\n"
     ]
    }
   ],
   "source": [
    "for s in play_list:\n",
    "    print(s.get('가수'))\n",
    "    print(s.get('가수명'))\n",
    "    print('='*10)\n",
    "# get함수는 에러가 아니라 none으로 받는다!!!!!!!!!!!!!!!!!!!!!!!!!!!!\n",
    "# 없으면 에러 x , None(null) 반환"
   ]
  },
  {
   "cell_type": "markdown",
   "id": "6b68e495",
   "metadata": {},
   "source": [
    "# 딕셔너리 데이터 접근  \n",
    "- dict['키값'] : 없으면 에러남\n",
    "- dict.get('키값'): 없으면 None반환"
   ]
  },
  {
   "cell_type": "code",
   "execution_count": 46,
   "id": "7e4d28b5",
   "metadata": {},
   "outputs": [
    {
     "data": {
      "text/plain": [
       "{'노래제목': '아무노래'}"
      ]
     },
     "execution_count": 46,
     "metadata": {},
     "output_type": "execute_result"
    }
   ],
   "source": [
    "dic_test['노래제목'] = '아무노래'\n",
    "dic_test"
   ]
  },
  {
   "cell_type": "code",
   "execution_count": 55,
   "id": "81e9e119",
   "metadata": {},
   "outputs": [
    {
     "data": {
      "text/plain": [
       "{'노래제목': '문득'}"
      ]
     },
     "execution_count": 55,
     "metadata": {},
     "output_type": "execute_result"
    }
   ],
   "source": [
    "dic_test['노래제목'] = '문득'\n",
    "dic_test"
   ]
  },
  {
   "cell_type": "code",
   "execution_count": 63,
   "id": "2ad5fc0e",
   "metadata": {},
   "outputs": [
    {
     "data": {
      "text/plain": [
       "dict_items([('노래제목', '문득')])"
      ]
     },
     "execution_count": 63,
     "metadata": {},
     "output_type": "execute_result"
    }
   ],
   "source": [
    "dic_test.items()"
   ]
  },
  {
   "cell_type": "code",
   "execution_count": 53,
   "id": "e8daa9e7",
   "metadata": {},
   "outputs": [],
   "source": [
    "a,b = list(dic_test.items())[0]"
   ]
  },
  {
   "cell_type": "code",
   "execution_count": null,
   "id": "1d18b3a0",
   "metadata": {},
   "outputs": [],
   "source": []
  },
  {
   "cell_type": "code",
   "execution_count": null,
   "id": "14c56d14",
   "metadata": {},
   "outputs": [],
   "source": []
  }
 ],
 "metadata": {
  "kernelspec": {
   "display_name": "Python 3 (ipykernel)",
   "language": "python",
   "name": "python3"
  },
  "language_info": {
   "codemirror_mode": {
    "name": "ipython",
    "version": 3
   },
   "file_extension": ".py",
   "mimetype": "text/x-python",
   "name": "python",
   "nbconvert_exporter": "python",
   "pygments_lexer": "ipython3",
   "version": "3.8.8"
  }
 },
 "nbformat": 4,
 "nbformat_minor": 5
}

{
 "cells": [
  {
   "cell_type": "code",
   "execution_count": 308,
   "id": "aea489fc",
   "metadata": {},
   "outputs": [],
   "source": [
    "import pandas as pd"
   ]
  },
  {
   "cell_type": "code",
   "execution_count": 309,
   "id": "6a09558f",
   "metadata": {},
   "outputs": [
    {
     "data": {
      "text/plain": [
       "0    9602000\n",
       "1    3344000\n",
       "2    1488000\n",
       "3    2419000\n",
       "dtype: int64"
      ]
     },
     "execution_count": 309,
     "metadata": {},
     "output_type": "execute_result"
    }
   ],
   "source": [
    "# Series 생성하기\n",
    "population = pd.Series([9602000, 3344000, 1488000, 2419000])\n",
    "population"
   ]
  },
  {
   "cell_type": "code",
   "execution_count": 310,
   "id": "04827ce6",
   "metadata": {},
   "outputs": [
    {
     "data": {
      "text/plain": [
       "서울    9602000\n",
       "부산    3344000\n",
       "광주    1488000\n",
       "대구    2419000\n",
       "dtype: int64"
      ]
     },
     "execution_count": 310,
     "metadata": {},
     "output_type": "execute_result"
    }
   ],
   "source": [
    "# 인덱스를 지정하는 방법 -> index\n",
    "population.index = ['서울','부산','광주','대구']\n",
    "population"
   ]
  },
  {
   "cell_type": "code",
   "execution_count": 311,
   "id": "f8772cb7",
   "metadata": {},
   "outputs": [
    {
     "data": {
      "text/plain": [
       "서울    9602000\n",
       "부산    3344000\n",
       "광주    1488000\n",
       "대구    2419000\n",
       "dtype: int64"
      ]
     },
     "execution_count": 311,
     "metadata": {},
     "output_type": "execute_result"
    }
   ],
   "source": [
    "# Series 생성시 index 동시에 지정하기\n",
    "population = pd.Series([9602000, 3344000, 1488000, 2419000], \n",
    "              index=['서울','부산','광주','대구'])\n",
    "population"
   ]
  },
  {
   "cell_type": "code",
   "execution_count": 312,
   "id": "1d78c3da",
   "metadata": {},
   "outputs": [
    {
     "data": {
      "text/plain": [
       "서울    605.2\n",
       "부산    770.1\n",
       "광주    501.1\n",
       "대구    883.5\n",
       "dtype: float64"
      ]
     },
     "execution_count": 312,
     "metadata": {},
     "output_type": "execute_result"
    }
   ],
   "source": [
    "# Series 생성시 리스트 형태가 아닌 딕셔너리도 가능하다!\n",
    "# 리시트 -> [요소1, 요소2]\n",
    "# 딕셔너리 -> {'키':'값'}\n",
    "# 함수 -> (요소1, 요소2)\n",
    "area = pd.Series({'서울':605.2,'부산':770.1,'광주':501.1,'대구':883.5})\n",
    "area"
   ]
  },
  {
   "cell_type": "code",
   "execution_count": 313,
   "id": "ebe1d8d0",
   "metadata": {},
   "outputs": [
    {
     "data": {
      "text/plain": [
       "array([9602000, 3344000, 1488000, 2419000], dtype=int64)"
      ]
     },
     "execution_count": 313,
     "metadata": {},
     "output_type": "execute_result"
    }
   ],
   "source": [
    "# Series의 값을 확인하는 방법\n",
    "population.values"
   ]
  },
  {
   "cell_type": "code",
   "execution_count": 314,
   "id": "bade8875",
   "metadata": {},
   "outputs": [
    {
     "data": {
      "text/plain": [
       "Index(['서울', '부산', '광주', '대구'], dtype='object')"
      ]
     },
     "execution_count": 314,
     "metadata": {},
     "output_type": "execute_result"
    }
   ],
   "source": [
    "# 인덱스만 가지고 오는 방법\n",
    "population.index"
   ]
  },
  {
   "cell_type": "code",
   "execution_count": 315,
   "id": "2fbdab97",
   "metadata": {},
   "outputs": [
    {
     "data": {
      "text/plain": [
       "dtype('int64')"
      ]
     },
     "execution_count": 315,
     "metadata": {},
     "output_type": "execute_result"
    }
   ],
   "source": [
    "# 데이터 타입 확인하는 방법\n",
    "population.dtype"
   ]
  },
  {
   "cell_type": "code",
   "execution_count": 316,
   "id": "79303793",
   "metadata": {},
   "outputs": [
    {
     "data": {
      "text/plain": [
       "서울    9602000\n",
       "부산    3344000\n",
       "광주    1488000\n",
       "대구    2419000\n",
       "Name: 2020 인구, dtype: int64"
      ]
     },
     "execution_count": 316,
     "metadata": {},
     "output_type": "execute_result"
    }
   ],
   "source": [
    "# Series 자체에 이름 부여하기\n",
    "population.name = '2020 인구'\n",
    "population"
   ]
  },
  {
   "cell_type": "code",
   "execution_count": 317,
   "id": "035338a0",
   "metadata": {},
   "outputs": [
    {
     "data": {
      "text/plain": [
       "지역\n",
       "서울    9602000\n",
       "부산    3344000\n",
       "광주    1488000\n",
       "대구    2419000\n",
       "Name: 2020 인구, dtype: int64"
      ]
     },
     "execution_count": 317,
     "metadata": {},
     "output_type": "execute_result"
    }
   ],
   "source": [
    "# 인덱스의 이름 부여하기\n",
    "population.index.name ='지역'\n",
    "population"
   ]
  },
  {
   "cell_type": "code",
   "execution_count": 318,
   "id": "4b4d86f5",
   "metadata": {},
   "outputs": [
    {
     "data": {
      "text/plain": [
       "지역\n",
       "서울    9602000\n",
       "부산    3344000\n",
       "광주    1488000\n",
       "대구    2419000\n",
       "대전    1500000\n",
       "Name: 2020 인구, dtype: int64"
      ]
     },
     "execution_count": 318,
     "metadata": {},
     "output_type": "execute_result"
    }
   ],
   "source": [
    "# Series 데이터에 대하여 추가, 수정, 삭제\n",
    "# 대전 150000\n",
    "# population에 새로운 컬럼 이름 추가 후 값 대입하기\n",
    "population['대전'] = 1500000\n",
    "population"
   ]
  },
  {
   "cell_type": "code",
   "execution_count": 319,
   "id": "707d56b2",
   "metadata": {},
   "outputs": [
    {
     "data": {
      "text/plain": [
       "지역\n",
       "서울    9602000\n",
       "부산    3500000\n",
       "광주    1488000\n",
       "대구    2419000\n",
       "대전    1500000\n",
       "Name: 2020 인구, dtype: int64"
      ]
     },
     "execution_count": 319,
     "metadata": {},
     "output_type": "execute_result"
    }
   ],
   "source": [
    "# 부산 3344000 -> 3500000 으로 값 수정하기!\n",
    "population['부산'] = 3500000\n",
    "population"
   ]
  },
  {
   "cell_type": "code",
   "execution_count": 320,
   "id": "6d3d7629",
   "metadata": {},
   "outputs": [
    {
     "data": {
      "text/plain": [
       "지역\n",
       "부산    3500000\n",
       "광주    1488000\n",
       "대구    2419000\n",
       "대전    1500000\n",
       "Name: 2020 인구, dtype: int64"
      ]
     },
     "execution_count": 320,
     "metadata": {},
     "output_type": "execute_result"
    }
   ],
   "source": [
    "# 값 삭제하기\n",
    "# 1. del 키워드\n",
    "# 2. drop() 함수\n",
    "\n",
    "del population['서울']\n",
    "population"
   ]
  },
  {
   "cell_type": "code",
   "execution_count": 321,
   "id": "c8f4c23c",
   "metadata": {},
   "outputs": [
    {
     "data": {
      "text/plain": [
       "지역\n",
       "부산    3500000\n",
       "광주    1488000\n",
       "대구    2419000\n",
       "대전    1500000\n",
       "서울     100000\n",
       "Name: 2020 인구, dtype: int64"
      ]
     },
     "execution_count": 321,
     "metadata": {},
     "output_type": "execute_result"
    }
   ],
   "source": [
    "population['서울'] = 100000\n",
    "population"
   ]
  },
  {
   "cell_type": "code",
   "execution_count": 322,
   "id": "ba5182df",
   "metadata": {},
   "outputs": [
    {
     "data": {
      "text/plain": [
       "지역\n",
       "부산    3500000\n",
       "광주    1488000\n",
       "대구    2419000\n",
       "대전    1500000\n",
       "Name: 2020 인구, dtype: int64"
      ]
     },
     "execution_count": 322,
     "metadata": {},
     "output_type": "execute_result"
    }
   ],
   "source": [
    "# drop() : 실행했을때의 결과값만 삭제된 값을 반환해주는 함수\n",
    "population = population.drop('서울')\n",
    "population"
   ]
  },
  {
   "cell_type": "code",
   "execution_count": 323,
   "id": "4126446d",
   "metadata": {},
   "outputs": [
    {
     "data": {
      "text/plain": [
       "지역\n",
       "부산    3344000\n",
       "광주    1488000\n",
       "대구    2419000\n",
       "대전    1500000\n",
       "인천    2951000\n",
       "서울    9602000\n",
       "Name: 2020 인구, dtype: int64"
      ]
     },
     "execution_count": 323,
     "metadata": {},
     "output_type": "execute_result"
    }
   ],
   "source": [
    "# population에 새로운 컬럼값 추가하기\n",
    "# 부산 3344000 (원본에서 값을 수정)\n",
    "# 인천 2951000 (원본에 새로운 값 추가)\n",
    "# 서울 9602000 (원본에 새로운 값 추가)\n",
    "\n",
    "# 부산, 광주, 대구, 대전, 부산, 인천, 서울 의 데이터 값이 나오도록!\n",
    "population['부산'] = 3344000 \n",
    "population['인천'] = 2951000 \n",
    "population['서울'] = 9602000 \n",
    "population"
   ]
  },
  {
   "cell_type": "code",
   "execution_count": 324,
   "id": "4bc5a05f",
   "metadata": {},
   "outputs": [
    {
     "data": {
      "text/plain": [
       "지역\n",
       "서울    9602000\n",
       "부산    3344000\n",
       "광주    1488000\n",
       "대구    2419000\n",
       "대전    1500000\n",
       "인천    2951000\n",
       "Name: 2020 인구, dtype: int64"
      ]
     },
     "execution_count": 324,
     "metadata": {},
     "output_type": "execute_result"
    }
   ],
   "source": [
    "# 인덱스의 순서를 재정의하는 함수 : reindex([원하는 순서의 인덱스 지정])\n",
    "# reindex()의 경우 반환되는 값에서만 수정을 확인할 수 있다\n",
    "population= population.reindex(['서울','부산','광주','대구','대전','인천'])\n",
    "population"
   ]
  },
  {
   "cell_type": "code",
   "execution_count": 325,
   "id": "1fcb21d2",
   "metadata": {},
   "outputs": [
    {
     "data": {
      "text/plain": [
       "지역\n",
       "서울     605.2\n",
       "부산     770.1\n",
       "광주     501.1\n",
       "대구     883.5\n",
       "대전     883.5\n",
       "인천    1065.2\n",
       "Name: 면적(㎢), dtype: float64"
      ]
     },
     "execution_count": 325,
     "metadata": {},
     "output_type": "execute_result"
    }
   ],
   "source": [
    "area = pd.Series([605.2,770.1,501.1,883.5],\n",
    "                index=['서울','부산','광주','대구'])\n",
    "area.index.name = '지역'\n",
    "area.name = '면적(㎢)'\n",
    "area['대전'] = 883.5\n",
    "area['인천'] =1065.2\n",
    "area"
   ]
  },
  {
   "cell_type": "code",
   "execution_count": 326,
   "id": "9be1f5bd",
   "metadata": {},
   "outputs": [
    {
     "data": {
      "text/plain": [
       "[[9602000, 605.2], [3344000, 770.1], [1488000, 501.1], [2419000, 883.5]]"
      ]
     },
     "execution_count": 326,
     "metadata": {},
     "output_type": "execute_result"
    }
   ],
   "source": [
    "# DataFrame 생성하기\n",
    "# pd.DataFrame(데이터 값, index정의, column정의)\n",
    "\n",
    "data = [[9602000,605.2],[3344000,770.1],[1488000,501.1],[2419000,883.5]]\n",
    "data"
   ]
  },
  {
   "cell_type": "code",
   "execution_count": 327,
   "id": "9b02ce3b",
   "metadata": {},
   "outputs": [
    {
     "data": {
      "text/html": [
       "<div>\n",
       "<style scoped>\n",
       "    .dataframe tbody tr th:only-of-type {\n",
       "        vertical-align: middle;\n",
       "    }\n",
       "\n",
       "    .dataframe tbody tr th {\n",
       "        vertical-align: top;\n",
       "    }\n",
       "\n",
       "    .dataframe thead th {\n",
       "        text-align: right;\n",
       "    }\n",
       "</style>\n",
       "<table border=\"1\" class=\"dataframe\">\n",
       "  <thead>\n",
       "    <tr style=\"text-align: right;\">\n",
       "      <th></th>\n",
       "      <th>2020 인구</th>\n",
       "      <th>면적(㎢)</th>\n",
       "    </tr>\n",
       "  </thead>\n",
       "  <tbody>\n",
       "    <tr>\n",
       "      <th>서울</th>\n",
       "      <td>9602000</td>\n",
       "      <td>605.2</td>\n",
       "    </tr>\n",
       "    <tr>\n",
       "      <th>부산</th>\n",
       "      <td>3344000</td>\n",
       "      <td>770.1</td>\n",
       "    </tr>\n",
       "    <tr>\n",
       "      <th>광주</th>\n",
       "      <td>1488000</td>\n",
       "      <td>501.1</td>\n",
       "    </tr>\n",
       "    <tr>\n",
       "      <th>대구</th>\n",
       "      <td>2419000</td>\n",
       "      <td>883.5</td>\n",
       "    </tr>\n",
       "  </tbody>\n",
       "</table>\n",
       "</div>"
      ],
      "text/plain": [
       "    2020 인구  면적(㎢)\n",
       "서울  9602000  605.2\n",
       "부산  3344000  770.1\n",
       "광주  1488000  501.1\n",
       "대구  2419000  883.5"
      ]
     },
     "execution_count": 327,
     "metadata": {},
     "output_type": "execute_result"
    }
   ],
   "source": [
    "df = pd.DataFrame(data,index=['서울','부산','광주','대구'],\n",
    "                    columns=['2020 인구','면적(㎢)'])\n",
    "df"
   ]
  },
  {
   "cell_type": "code",
   "execution_count": 328,
   "id": "e79c3c7f",
   "metadata": {},
   "outputs": [
    {
     "data": {
      "text/plain": [
       "{'2020 인구': [9602000, 3344000, 1488000, 2419000],\n",
       " '면적(㎢)': [605.2, 770.1, 501.1, 883.5]}"
      ]
     },
     "execution_count": 328,
     "metadata": {},
     "output_type": "execute_result"
    }
   ],
   "source": [
    "# 딕셔너리 형태로 DataFrame 생성하기\n",
    "# 실제 들어갈 데이터(컬럼 이름, 실 데이터), index만 지정!\n",
    "data = {'2020 인구':[9602000,3344000,1488000,2419000], \n",
    "        '면적(㎢)':[605.2,770.1,501.1,883.5]}\n",
    "data"
   ]
  },
  {
   "cell_type": "code",
   "execution_count": 329,
   "id": "2164fbe7",
   "metadata": {},
   "outputs": [
    {
     "data": {
      "text/html": [
       "<div>\n",
       "<style scoped>\n",
       "    .dataframe tbody tr th:only-of-type {\n",
       "        vertical-align: middle;\n",
       "    }\n",
       "\n",
       "    .dataframe tbody tr th {\n",
       "        vertical-align: top;\n",
       "    }\n",
       "\n",
       "    .dataframe thead th {\n",
       "        text-align: right;\n",
       "    }\n",
       "</style>\n",
       "<table border=\"1\" class=\"dataframe\">\n",
       "  <thead>\n",
       "    <tr style=\"text-align: right;\">\n",
       "      <th></th>\n",
       "      <th>2020 인구</th>\n",
       "      <th>면적(㎢)</th>\n",
       "    </tr>\n",
       "  </thead>\n",
       "  <tbody>\n",
       "    <tr>\n",
       "      <th>서울</th>\n",
       "      <td>9602000</td>\n",
       "      <td>605.2</td>\n",
       "    </tr>\n",
       "    <tr>\n",
       "      <th>부산</th>\n",
       "      <td>3344000</td>\n",
       "      <td>770.1</td>\n",
       "    </tr>\n",
       "    <tr>\n",
       "      <th>광주</th>\n",
       "      <td>1488000</td>\n",
       "      <td>501.1</td>\n",
       "    </tr>\n",
       "    <tr>\n",
       "      <th>대구</th>\n",
       "      <td>2419000</td>\n",
       "      <td>883.5</td>\n",
       "    </tr>\n",
       "  </tbody>\n",
       "</table>\n",
       "</div>"
      ],
      "text/plain": [
       "    2020 인구  면적(㎢)\n",
       "서울  9602000  605.2\n",
       "부산  3344000  770.1\n",
       "광주  1488000  501.1\n",
       "대구  2419000  883.5"
      ]
     },
     "execution_count": 329,
     "metadata": {},
     "output_type": "execute_result"
    }
   ],
   "source": [
    "df = pd.DataFrame(data,index=['서울','부산','광주','대구'])\n",
    "df"
   ]
  },
  {
   "cell_type": "code",
   "execution_count": 330,
   "id": "7a21b270",
   "metadata": {},
   "outputs": [
    {
     "data": {
      "text/html": [
       "<div>\n",
       "<style scoped>\n",
       "    .dataframe tbody tr th:only-of-type {\n",
       "        vertical-align: middle;\n",
       "    }\n",
       "\n",
       "    .dataframe tbody tr th {\n",
       "        vertical-align: top;\n",
       "    }\n",
       "\n",
       "    .dataframe thead th {\n",
       "        text-align: right;\n",
       "    }\n",
       "</style>\n",
       "<table border=\"1\" class=\"dataframe\">\n",
       "  <thead>\n",
       "    <tr style=\"text-align: right;\">\n",
       "      <th></th>\n",
       "      <th>키</th>\n",
       "      <th>몸무게</th>\n",
       "      <th>나이</th>\n",
       "    </tr>\n",
       "  </thead>\n",
       "  <tbody>\n",
       "    <tr>\n",
       "      <th>홍길동</th>\n",
       "      <td>175.3</td>\n",
       "      <td>66.2</td>\n",
       "      <td>27</td>\n",
       "    </tr>\n",
       "    <tr>\n",
       "      <th>김사또</th>\n",
       "      <td>180.2</td>\n",
       "      <td>78.9</td>\n",
       "      <td>49</td>\n",
       "    </tr>\n",
       "    <tr>\n",
       "      <th>임꺽정</th>\n",
       "      <td>178.6</td>\n",
       "      <td>55.1</td>\n",
       "      <td>35</td>\n",
       "    </tr>\n",
       "  </tbody>\n",
       "</table>\n",
       "</div>"
      ],
      "text/plain": [
       "         키   몸무게  나이\n",
       "홍길동  175.3  66.2  27\n",
       "김사또  180.2  78.9  49\n",
       "임꺽정  178.6  55.1  35"
      ]
     },
     "execution_count": 330,
     "metadata": {},
     "output_type": "execute_result"
    }
   ],
   "source": [
    "data = {'키':[175.3,180.2,178.6],'몸무게':[66.2,78.9,55.1],'나이':[27,49,35]}\n",
    "df1 = pd.DataFrame(data, index=['홍길동','김사또','임꺽정'])\n",
    "df1"
   ]
  },
  {
   "cell_type": "code",
   "execution_count": 331,
   "id": "b4e5b0ee",
   "metadata": {},
   "outputs": [
    {
     "data": {
      "text/html": [
       "<div>\n",
       "<style scoped>\n",
       "    .dataframe tbody tr th:only-of-type {\n",
       "        vertical-align: middle;\n",
       "    }\n",
       "\n",
       "    .dataframe tbody tr th {\n",
       "        vertical-align: top;\n",
       "    }\n",
       "\n",
       "    .dataframe thead th {\n",
       "        text-align: right;\n",
       "    }\n",
       "</style>\n",
       "<table border=\"1\" class=\"dataframe\">\n",
       "  <thead>\n",
       "    <tr style=\"text-align: right;\">\n",
       "      <th></th>\n",
       "      <th>홍길동</th>\n",
       "      <th>김사또</th>\n",
       "      <th>임꺽정</th>\n",
       "    </tr>\n",
       "  </thead>\n",
       "  <tbody>\n",
       "    <tr>\n",
       "      <th>키</th>\n",
       "      <td>175.3</td>\n",
       "      <td>180.2</td>\n",
       "      <td>178.6</td>\n",
       "    </tr>\n",
       "    <tr>\n",
       "      <th>몸무게</th>\n",
       "      <td>66.2</td>\n",
       "      <td>78.9</td>\n",
       "      <td>55.1</td>\n",
       "    </tr>\n",
       "    <tr>\n",
       "      <th>나이</th>\n",
       "      <td>27.0</td>\n",
       "      <td>49.0</td>\n",
       "      <td>35.0</td>\n",
       "    </tr>\n",
       "  </tbody>\n",
       "</table>\n",
       "</div>"
      ],
      "text/plain": [
       "       홍길동    김사또    임꺽정\n",
       "키    175.3  180.2  178.6\n",
       "몸무게   66.2   78.9   55.1\n",
       "나이    27.0   49.0   35.0"
      ]
     },
     "execution_count": 331,
     "metadata": {},
     "output_type": "execute_result"
    }
   ],
   "source": [
    "data = [[175.3,180.2,178.6],[66.2,78.9,55.1],[27,49,35]]\n",
    "df1 = pd.DataFrame(data, index=['키','몸무게','나이'],\n",
    "                    columns=['홍길동','김사또','임꺽정'])\n",
    "df1"
   ]
  },
  {
   "cell_type": "code",
   "execution_count": 332,
   "id": "7b19f816",
   "metadata": {},
   "outputs": [
    {
     "data": {
      "text/html": [
       "<div>\n",
       "<style scoped>\n",
       "    .dataframe tbody tr th:only-of-type {\n",
       "        vertical-align: middle;\n",
       "    }\n",
       "\n",
       "    .dataframe tbody tr th {\n",
       "        vertical-align: top;\n",
       "    }\n",
       "\n",
       "    .dataframe thead th {\n",
       "        text-align: right;\n",
       "    }\n",
       "</style>\n",
       "<table border=\"1\" class=\"dataframe\">\n",
       "  <thead>\n",
       "    <tr style=\"text-align: right;\">\n",
       "      <th></th>\n",
       "      <th>키</th>\n",
       "      <th>몸무게</th>\n",
       "      <th>나이</th>\n",
       "    </tr>\n",
       "  </thead>\n",
       "  <tbody>\n",
       "    <tr>\n",
       "      <th>홍길동</th>\n",
       "      <td>175.3</td>\n",
       "      <td>66.2</td>\n",
       "      <td>27.0</td>\n",
       "    </tr>\n",
       "    <tr>\n",
       "      <th>김사또</th>\n",
       "      <td>180.2</td>\n",
       "      <td>78.9</td>\n",
       "      <td>49.0</td>\n",
       "    </tr>\n",
       "    <tr>\n",
       "      <th>임꺽정</th>\n",
       "      <td>178.6</td>\n",
       "      <td>55.1</td>\n",
       "      <td>35.0</td>\n",
       "    </tr>\n",
       "  </tbody>\n",
       "</table>\n",
       "</div>"
      ],
      "text/plain": [
       "         키   몸무게    나이\n",
       "홍길동  175.3  66.2  27.0\n",
       "김사또  180.2  78.9  49.0\n",
       "임꺽정  178.6  55.1  35.0"
      ]
     },
     "execution_count": 332,
     "metadata": {},
     "output_type": "execute_result"
    }
   ],
   "source": [
    "# .T -> DataFrame의 인덱스와 컬럼의 위치를 회전시키는 속성\n",
    "df1.T"
   ]
  },
  {
   "cell_type": "code",
   "execution_count": 333,
   "id": "c96d8d95",
   "metadata": {},
   "outputs": [
    {
     "name": "stdout",
     "output_type": "stream",
     "text": [
      "       홍길동    김사또    임꺽정\n",
      "키    175.3  180.2  178.6\n",
      "몸무게   66.2   78.9   55.1\n",
      "나이    27.0   49.0   35.0\n",
      "         키   몸무게    나이\n",
      "홍길동  175.3  66.2  27.0\n",
      "김사또  180.2  78.9  49.0\n",
      "임꺽정  178.6  55.1  35.0\n"
     ]
    }
   ],
   "source": [
    "# print()\n",
    "print(df1)\n",
    "print(df1.T)"
   ]
  },
  {
   "cell_type": "code",
   "execution_count": 334,
   "id": "d0a521f6",
   "metadata": {},
   "outputs": [
    {
     "data": {
      "text/html": [
       "<div>\n",
       "<style scoped>\n",
       "    .dataframe tbody tr th:only-of-type {\n",
       "        vertical-align: middle;\n",
       "    }\n",
       "\n",
       "    .dataframe tbody tr th {\n",
       "        vertical-align: top;\n",
       "    }\n",
       "\n",
       "    .dataframe thead th {\n",
       "        text-align: right;\n",
       "    }\n",
       "</style>\n",
       "<table border=\"1\" class=\"dataframe\">\n",
       "  <thead>\n",
       "    <tr style=\"text-align: right;\">\n",
       "      <th></th>\n",
       "      <th>홍길동</th>\n",
       "      <th>김사또</th>\n",
       "      <th>임꺽정</th>\n",
       "    </tr>\n",
       "  </thead>\n",
       "  <tbody>\n",
       "    <tr>\n",
       "      <th>키</th>\n",
       "      <td>175.3</td>\n",
       "      <td>180.2</td>\n",
       "      <td>178.6</td>\n",
       "    </tr>\n",
       "    <tr>\n",
       "      <th>몸무게</th>\n",
       "      <td>66.2</td>\n",
       "      <td>78.9</td>\n",
       "      <td>55.1</td>\n",
       "    </tr>\n",
       "    <tr>\n",
       "      <th>나이</th>\n",
       "      <td>27.0</td>\n",
       "      <td>49.0</td>\n",
       "      <td>35.0</td>\n",
       "    </tr>\n",
       "  </tbody>\n",
       "</table>\n",
       "</div>"
      ],
      "text/plain": [
       "       홍길동    김사또    임꺽정\n",
       "키    175.3  180.2  178.6\n",
       "몸무게   66.2   78.9   55.1\n",
       "나이    27.0   49.0   35.0"
      ]
     },
     "metadata": {},
     "output_type": "display_data"
    },
    {
     "data": {
      "text/html": [
       "<div>\n",
       "<style scoped>\n",
       "    .dataframe tbody tr th:only-of-type {\n",
       "        vertical-align: middle;\n",
       "    }\n",
       "\n",
       "    .dataframe tbody tr th {\n",
       "        vertical-align: top;\n",
       "    }\n",
       "\n",
       "    .dataframe thead th {\n",
       "        text-align: right;\n",
       "    }\n",
       "</style>\n",
       "<table border=\"1\" class=\"dataframe\">\n",
       "  <thead>\n",
       "    <tr style=\"text-align: right;\">\n",
       "      <th></th>\n",
       "      <th>키</th>\n",
       "      <th>몸무게</th>\n",
       "      <th>나이</th>\n",
       "    </tr>\n",
       "  </thead>\n",
       "  <tbody>\n",
       "    <tr>\n",
       "      <th>홍길동</th>\n",
       "      <td>175.3</td>\n",
       "      <td>66.2</td>\n",
       "      <td>27.0</td>\n",
       "    </tr>\n",
       "    <tr>\n",
       "      <th>김사또</th>\n",
       "      <td>180.2</td>\n",
       "      <td>78.9</td>\n",
       "      <td>49.0</td>\n",
       "    </tr>\n",
       "    <tr>\n",
       "      <th>임꺽정</th>\n",
       "      <td>178.6</td>\n",
       "      <td>55.1</td>\n",
       "      <td>35.0</td>\n",
       "    </tr>\n",
       "  </tbody>\n",
       "</table>\n",
       "</div>"
      ],
      "text/plain": [
       "         키   몸무게    나이\n",
       "홍길동  175.3  66.2  27.0\n",
       "김사또  180.2  78.9  49.0\n",
       "임꺽정  178.6  55.1  35.0"
      ]
     },
     "metadata": {},
     "output_type": "display_data"
    }
   ],
   "source": [
    "# display()\n",
    "display(df1)\n",
    "display(df1.T)"
   ]
  },
  {
   "cell_type": "code",
   "execution_count": 335,
   "id": "bd0a97b9",
   "metadata": {},
   "outputs": [
    {
     "data": {
      "text/plain": [
       "array([[175.3, 180.2, 178.6],\n",
       "       [ 66.2,  78.9,  55.1],\n",
       "       [ 27. ,  49. ,  35. ]])"
      ]
     },
     "execution_count": 335,
     "metadata": {},
     "output_type": "execute_result"
    }
   ],
   "source": [
    "# DataFrame의 여러가지 속성 확인하기\n",
    "# 1. values\n",
    "df1.values"
   ]
  },
  {
   "cell_type": "code",
   "execution_count": 336,
   "id": "11fe0035",
   "metadata": {},
   "outputs": [
    {
     "data": {
      "text/plain": [
       "Index(['키', '몸무게', '나이'], dtype='object')"
      ]
     },
     "execution_count": 336,
     "metadata": {},
     "output_type": "execute_result"
    }
   ],
   "source": [
    "# index 만 가지고 오기\n",
    "df1.index"
   ]
  },
  {
   "cell_type": "code",
   "execution_count": 337,
   "id": "7713cb3a",
   "metadata": {},
   "outputs": [
    {
     "data": {
      "text/plain": [
       "Index(['홍길동', '김사또', '임꺽정'], dtype='object')"
      ]
     },
     "execution_count": 337,
     "metadata": {},
     "output_type": "execute_result"
    }
   ],
   "source": [
    "# columns만 가지고 오기\n",
    "df1.columns"
   ]
  },
  {
   "cell_type": "code",
   "execution_count": 338,
   "id": "b806b85b",
   "metadata": {},
   "outputs": [
    {
     "data": {
      "text/plain": [
       "서울    15865.829478\n",
       "부산     4342.293209\n",
       "광주     2969.467172\n",
       "대구     2737.973967\n",
       "dtype: float64"
      ]
     },
     "execution_count": 338,
     "metadata": {},
     "output_type": "execute_result"
    }
   ],
   "source": [
    "pop_dense = df['2020 인구'] / df['면적(㎢)']\n",
    "pop_dense"
   ]
  },
  {
   "cell_type": "code",
   "execution_count": 339,
   "id": "890847c7",
   "metadata": {},
   "outputs": [
    {
     "data": {
      "text/html": [
       "<div>\n",
       "<style scoped>\n",
       "    .dataframe tbody tr th:only-of-type {\n",
       "        vertical-align: middle;\n",
       "    }\n",
       "\n",
       "    .dataframe tbody tr th {\n",
       "        vertical-align: top;\n",
       "    }\n",
       "\n",
       "    .dataframe thead th {\n",
       "        text-align: right;\n",
       "    }\n",
       "</style>\n",
       "<table border=\"1\" class=\"dataframe\">\n",
       "  <thead>\n",
       "    <tr style=\"text-align: right;\">\n",
       "      <th></th>\n",
       "      <th>2020 인구</th>\n",
       "      <th>면적(㎢)</th>\n",
       "      <th>2020 인구 밀도</th>\n",
       "    </tr>\n",
       "  </thead>\n",
       "  <tbody>\n",
       "    <tr>\n",
       "      <th>서울</th>\n",
       "      <td>9602000</td>\n",
       "      <td>605.2</td>\n",
       "      <td>15871</td>\n",
       "    </tr>\n",
       "    <tr>\n",
       "      <th>부산</th>\n",
       "      <td>3344000</td>\n",
       "      <td>770.1</td>\n",
       "      <td>4342</td>\n",
       "    </tr>\n",
       "    <tr>\n",
       "      <th>광주</th>\n",
       "      <td>1488000</td>\n",
       "      <td>501.1</td>\n",
       "      <td>2970</td>\n",
       "    </tr>\n",
       "    <tr>\n",
       "      <th>대구</th>\n",
       "      <td>2419000</td>\n",
       "      <td>883.5</td>\n",
       "      <td>2739</td>\n",
       "    </tr>\n",
       "  </tbody>\n",
       "</table>\n",
       "</div>"
      ],
      "text/plain": [
       "    2020 인구  면적(㎢)  2020 인구 밀도\n",
       "서울  9602000  605.2       15871\n",
       "부산  3344000  770.1        4342\n",
       "광주  1488000  501.1        2970\n",
       "대구  2419000  883.5        2739"
      ]
     },
     "execution_count": 339,
     "metadata": {},
     "output_type": "execute_result"
    }
   ],
   "source": [
    "#pop_dense.name = '2020 인구밀도'\n",
    "#pd.concat([df,pop_dense],axis=1)\n",
    "df['2020 인구 밀도'] = df['2020 인구'] // df['면적(㎢)'].astype('int')\n",
    "df"
   ]
  },
  {
   "cell_type": "code",
   "execution_count": 340,
   "id": "781885c8",
   "metadata": {},
   "outputs": [
    {
     "data": {
      "text/plain": [
       "java         95\n",
       "python      100\n",
       "ml           85\n",
       "html/css     70\n",
       "dtype: int64"
      ]
     },
     "execution_count": 340,
     "metadata": {},
     "output_type": "execute_result"
    }
   ],
   "source": [
    "# Pandas의 인덱싱과 슬라이싱\n",
    "student = pd.Series({'java':95,'python':100,'ml':85,'html/css':70})\n",
    "student"
   ]
  },
  {
   "cell_type": "code",
   "execution_count": 341,
   "id": "832fef0a",
   "metadata": {},
   "outputs": [
    {
     "data": {
      "text/plain": [
       "100"
      ]
     },
     "execution_count": 341,
     "metadata": {},
     "output_type": "execute_result"
    }
   ],
   "source": [
    "# 인덱싱을 사용하여 python점수 인덱싱하기!\n",
    "# 변수명[인덱스 번호/이름]\n",
    "student[1]\n",
    "student['python']"
   ]
  },
  {
   "cell_type": "code",
   "execution_count": 342,
   "id": "d2ce8669",
   "metadata": {},
   "outputs": [
    {
     "data": {
      "text/plain": [
       "python      100\n",
       "html/css     70\n",
       "ml           85\n",
       "dtype: int64"
      ]
     },
     "execution_count": 342,
     "metadata": {},
     "output_type": "execute_result"
    }
   ],
   "source": [
    "# python, html/css, ml ->한번에 인덱싱해오기!\n",
    "student[[1,3,2,]]\n",
    "student[['python','html/css','ml']]"
   ]
  },
  {
   "cell_type": "code",
   "execution_count": 343,
   "id": "4fa16efa",
   "metadata": {},
   "outputs": [
    {
     "data": {
      "text/plain": [
       "java       95\n",
       "python    100\n",
       "ml         85\n",
       "dtype: int64"
      ]
     },
     "execution_count": 343,
     "metadata": {},
     "output_type": "execute_result"
    }
   ],
   "source": [
    "# Series의 boolean 색인 사용하기\n",
    "# studnet로 부터 85 이상의 점수 찾아오기\n",
    "student[student>=85]"
   ]
  },
  {
   "cell_type": "code",
   "execution_count": 344,
   "id": "81249ae1",
   "metadata": {},
   "outputs": [
    {
     "data": {
      "text/plain": [
       "ml    85\n",
       "dtype: int64"
      ]
     },
     "execution_count": 344,
     "metadata": {},
     "output_type": "execute_result"
    }
   ],
   "source": [
    "# and, or 접목되는 비교연산도 가능하다!\n",
    "# pandas and->& / or->|\n",
    "# 성적이 75점 이상 90미만인 과목 찾아내기!\n",
    "student[(student>=75) & (student<90)]"
   ]
  },
  {
   "cell_type": "code",
   "execution_count": 345,
   "id": "57e1de9e",
   "metadata": {},
   "outputs": [
    {
     "name": "stdout",
     "output_type": "stream",
     "text": [
      "java       95\n",
      "python    100\n",
      "dtype: int64\n",
      "\n",
      "java       95\n",
      "python    100\n",
      "dtype: int64\n"
     ]
    }
   ],
   "source": [
    "# Series의 슬라이싱\n",
    "# 인덱스 번호를 사용하는 경우 : student[시작이상 : 끝 미만]\n",
    "# 실제 index 이름을 사용하는 경우 : student [시작이름 : 끝이름]\n",
    "print(student[:2])\n",
    "print()\n",
    "print(student[:'python'])"
   ]
  },
  {
   "cell_type": "code",
   "execution_count": 346,
   "id": "dfa43476",
   "metadata": {},
   "outputs": [
    {
     "data": {
      "text/html": [
       "<div>\n",
       "<style scoped>\n",
       "    .dataframe tbody tr th:only-of-type {\n",
       "        vertical-align: middle;\n",
       "    }\n",
       "\n",
       "    .dataframe tbody tr th {\n",
       "        vertical-align: top;\n",
       "    }\n",
       "\n",
       "    .dataframe thead th {\n",
       "        text-align: right;\n",
       "    }\n",
       "</style>\n",
       "<table border=\"1\" class=\"dataframe\">\n",
       "  <thead>\n",
       "    <tr style=\"text-align: right;\">\n",
       "      <th></th>\n",
       "      <th>java</th>\n",
       "      <th>python</th>\n",
       "      <th>ml</th>\n",
       "      <th>html/csss</th>\n",
       "    </tr>\n",
       "  </thead>\n",
       "  <tbody>\n",
       "    <tr>\n",
       "      <th>홍길동</th>\n",
       "      <td>95</td>\n",
       "      <td>100</td>\n",
       "      <td>85</td>\n",
       "      <td>70</td>\n",
       "    </tr>\n",
       "    <tr>\n",
       "      <th>김길동</th>\n",
       "      <td>85</td>\n",
       "      <td>95</td>\n",
       "      <td>85</td>\n",
       "      <td>75</td>\n",
       "    </tr>\n",
       "  </tbody>\n",
       "</table>\n",
       "</div>"
      ],
      "text/plain": [
       "     java  python  ml  html/csss\n",
       "홍길동    95     100  85         70\n",
       "김길동    85      95  85         75"
      ]
     },
     "execution_count": 346,
     "metadata": {},
     "output_type": "execute_result"
    }
   ],
   "source": [
    "data = [[95,100,85,70],[85,95,85,75]]\n",
    "df_stu = pd.DataFrame(data,index=['홍길동','김길동'],\n",
    "                     columns=['java','python','ml','html/csss'])\n",
    "df_stu"
   ]
  },
  {
   "cell_type": "code",
   "execution_count": 347,
   "id": "c4b2fe24",
   "metadata": {},
   "outputs": [
    {
     "data": {
      "text/plain": [
       "홍길동    100\n",
       "김길동     95\n",
       "Name: python, dtype: int64"
      ]
     },
     "execution_count": 347,
     "metadata": {},
     "output_type": "execute_result"
    }
   ],
   "source": [
    "df_stu['python']"
   ]
  },
  {
   "cell_type": "code",
   "execution_count": 348,
   "id": "6652fa47",
   "metadata": {},
   "outputs": [
    {
     "data": {
      "text/html": [
       "<div>\n",
       "<style scoped>\n",
       "    .dataframe tbody tr th:only-of-type {\n",
       "        vertical-align: middle;\n",
       "    }\n",
       "\n",
       "    .dataframe tbody tr th {\n",
       "        vertical-align: top;\n",
       "    }\n",
       "\n",
       "    .dataframe thead th {\n",
       "        text-align: right;\n",
       "    }\n",
       "</style>\n",
       "<table border=\"1\" class=\"dataframe\">\n",
       "  <thead>\n",
       "    <tr style=\"text-align: right;\">\n",
       "      <th></th>\n",
       "      <th>python</th>\n",
       "    </tr>\n",
       "  </thead>\n",
       "  <tbody>\n",
       "    <tr>\n",
       "      <th>홍길동</th>\n",
       "      <td>100</td>\n",
       "    </tr>\n",
       "    <tr>\n",
       "      <th>김길동</th>\n",
       "      <td>95</td>\n",
       "    </tr>\n",
       "  </tbody>\n",
       "</table>\n",
       "</div>"
      ],
      "text/plain": [
       "     python\n",
       "홍길동     100\n",
       "김길동      95"
      ]
     },
     "execution_count": 348,
     "metadata": {},
     "output_type": "execute_result"
    }
   ],
   "source": [
    "# 찾고자 하는 값을 원본에 다시 넣어주면 DataFrame형태로 반환이 된다.\n",
    "df_stu[['python']]"
   ]
  },
  {
   "cell_type": "code",
   "execution_count": 349,
   "id": "b2bcff7f",
   "metadata": {},
   "outputs": [
    {
     "data": {
      "text/html": [
       "<div>\n",
       "<style scoped>\n",
       "    .dataframe tbody tr th:only-of-type {\n",
       "        vertical-align: middle;\n",
       "    }\n",
       "\n",
       "    .dataframe tbody tr th {\n",
       "        vertical-align: top;\n",
       "    }\n",
       "\n",
       "    .dataframe thead th {\n",
       "        text-align: right;\n",
       "    }\n",
       "</style>\n",
       "<table border=\"1\" class=\"dataframe\">\n",
       "  <thead>\n",
       "    <tr style=\"text-align: right;\">\n",
       "      <th></th>\n",
       "      <th>python</th>\n",
       "      <th>ml</th>\n",
       "      <th>java</th>\n",
       "    </tr>\n",
       "  </thead>\n",
       "  <tbody>\n",
       "    <tr>\n",
       "      <th>홍길동</th>\n",
       "      <td>100</td>\n",
       "      <td>85</td>\n",
       "      <td>95</td>\n",
       "    </tr>\n",
       "    <tr>\n",
       "      <th>김길동</th>\n",
       "      <td>95</td>\n",
       "      <td>85</td>\n",
       "      <td>85</td>\n",
       "    </tr>\n",
       "  </tbody>\n",
       "</table>\n",
       "</div>"
      ],
      "text/plain": [
       "     python  ml  java\n",
       "홍길동     100  85    95\n",
       "김길동      95  85    85"
      ]
     },
     "execution_count": 349,
     "metadata": {},
     "output_type": "execute_result"
    }
   ],
   "source": [
    "df_stu[['python','ml','java']]"
   ]
  },
  {
   "cell_type": "code",
   "execution_count": 350,
   "id": "74939373",
   "metadata": {
    "scrolled": true
   },
   "outputs": [
    {
     "data": {
      "text/html": [
       "<div>\n",
       "<style scoped>\n",
       "    .dataframe tbody tr th:only-of-type {\n",
       "        vertical-align: middle;\n",
       "    }\n",
       "\n",
       "    .dataframe tbody tr th {\n",
       "        vertical-align: top;\n",
       "    }\n",
       "\n",
       "    .dataframe thead th {\n",
       "        text-align: right;\n",
       "    }\n",
       "</style>\n",
       "<table border=\"1\" class=\"dataframe\">\n",
       "  <thead>\n",
       "    <tr style=\"text-align: right;\">\n",
       "      <th></th>\n",
       "      <th>java</th>\n",
       "      <th>python</th>\n",
       "      <th>ml</th>\n",
       "      <th>html/csss</th>\n",
       "    </tr>\n",
       "  </thead>\n",
       "  <tbody>\n",
       "    <tr>\n",
       "      <th>홍길동</th>\n",
       "      <td>95</td>\n",
       "      <td>100</td>\n",
       "      <td>85</td>\n",
       "      <td>70</td>\n",
       "    </tr>\n",
       "  </tbody>\n",
       "</table>\n",
       "</div>"
      ],
      "text/plain": [
       "     java  python  ml  html/csss\n",
       "홍길동    95     100  85         70"
      ]
     },
     "execution_count": 350,
     "metadata": {},
     "output_type": "execute_result"
    }
   ],
   "source": [
    "# df_stu로 부터 홍길동에 해당하는 행의 값 가져오기!\n",
    "df_stu[0:1]\n",
    "df_stu['홍길동':'홍길동']"
   ]
  },
  {
   "cell_type": "code",
   "execution_count": 351,
   "id": "86dc2e63",
   "metadata": {},
   "outputs": [
    {
     "data": {
      "text/html": [
       "<div>\n",
       "<style scoped>\n",
       "    .dataframe tbody tr th:only-of-type {\n",
       "        vertical-align: middle;\n",
       "    }\n",
       "\n",
       "    .dataframe tbody tr th {\n",
       "        vertical-align: top;\n",
       "    }\n",
       "\n",
       "    .dataframe thead th {\n",
       "        text-align: right;\n",
       "    }\n",
       "</style>\n",
       "<table border=\"1\" class=\"dataframe\">\n",
       "  <thead>\n",
       "    <tr style=\"text-align: right;\">\n",
       "      <th></th>\n",
       "      <th>java</th>\n",
       "      <th>python</th>\n",
       "      <th>ml</th>\n",
       "      <th>html/csss</th>\n",
       "    </tr>\n",
       "  </thead>\n",
       "  <tbody>\n",
       "    <tr>\n",
       "      <th>홍길동</th>\n",
       "      <td>95</td>\n",
       "      <td>100</td>\n",
       "      <td>85</td>\n",
       "      <td>70</td>\n",
       "    </tr>\n",
       "  </tbody>\n",
       "</table>\n",
       "</div>"
      ],
      "text/plain": [
       "     java  python  ml  html/csss\n",
       "홍길동    95     100  85         70"
      ]
     },
     "execution_count": 351,
     "metadata": {},
     "output_type": "execute_result"
    }
   ],
   "source": [
    "# DataFrame의 boolean 인덱싱\n",
    "df_stu['java']>=90\n",
    "df_stu[df_stu['java']>=90]"
   ]
  },
  {
   "cell_type": "code",
   "execution_count": 352,
   "id": "8563d92d",
   "metadata": {},
   "outputs": [
    {
     "data": {
      "text/plain": [
       "70"
      ]
     },
     "execution_count": 352,
     "metadata": {},
     "output_type": "execute_result"
    }
   ],
   "source": [
    "# loc[] / iloc[]\n",
    "# loc[] : 실제 인덱스명이나 컬럼명을 사용하여 인덱싱 방법\n",
    "\n",
    "df_stu.loc['홍길동', 'html/csss']"
   ]
  },
  {
   "cell_type": "code",
   "execution_count": 353,
   "id": "93330291",
   "metadata": {},
   "outputs": [
    {
     "data": {
      "text/plain": [
       "java          95\n",
       "python       100\n",
       "ml            85\n",
       "html/csss     70\n",
       "Name: 홍길동, dtype: int64"
      ]
     },
     "execution_count": 353,
     "metadata": {},
     "output_type": "execute_result"
    }
   ],
   "source": [
    "# iloc[] : numpy의 array방식으로 인덱싱 하는 방식\n",
    "df_stu.iloc[0]"
   ]
  },
  {
   "cell_type": "code",
   "execution_count": 354,
   "id": "f720e247",
   "metadata": {},
   "outputs": [
    {
     "data": {
      "text/plain": [
       "java         85\n",
       "python       95\n",
       "ml           85\n",
       "html/csss    75\n",
       "Name: 김길동, dtype: int64"
      ]
     },
     "execution_count": 354,
     "metadata": {},
     "output_type": "execute_result"
    }
   ],
   "source": [
    "df_stu.iloc[1]"
   ]
  },
  {
   "cell_type": "code",
   "execution_count": 355,
   "id": "a39288f2",
   "metadata": {},
   "outputs": [
    {
     "data": {
      "text/plain": [
       "85"
      ]
     },
     "execution_count": 355,
     "metadata": {},
     "output_type": "execute_result"
    }
   ],
   "source": [
    "df_stu.iloc[0,2]"
   ]
  },
  {
   "cell_type": "code",
   "execution_count": 356,
   "id": "d1c3c0ca",
   "metadata": {
    "scrolled": true
   },
   "outputs": [
    {
     "data": {
      "text/html": [
       "<div>\n",
       "<style scoped>\n",
       "    .dataframe tbody tr th:only-of-type {\n",
       "        vertical-align: middle;\n",
       "    }\n",
       "\n",
       "    .dataframe tbody tr th {\n",
       "        vertical-align: top;\n",
       "    }\n",
       "\n",
       "    .dataframe thead th {\n",
       "        text-align: right;\n",
       "    }\n",
       "</style>\n",
       "<table border=\"1\" class=\"dataframe\">\n",
       "  <thead>\n",
       "    <tr style=\"text-align: right;\">\n",
       "      <th></th>\n",
       "      <th>2016</th>\n",
       "      <th>2017</th>\n",
       "      <th>2018</th>\n",
       "      <th>2019</th>\n",
       "      <th>2020</th>\n",
       "    </tr>\n",
       "    <tr>\n",
       "      <th>지역</th>\n",
       "      <th></th>\n",
       "      <th></th>\n",
       "      <th></th>\n",
       "      <th></th>\n",
       "      <th></th>\n",
       "    </tr>\n",
       "  </thead>\n",
       "  <tbody>\n",
       "    <tr>\n",
       "      <th>서울</th>\n",
       "      <td>9843000</td>\n",
       "      <td>9766000.0</td>\n",
       "      <td>9705000.0</td>\n",
       "      <td>9662000.0</td>\n",
       "      <td>9602000.0</td>\n",
       "    </tr>\n",
       "    <tr>\n",
       "      <th>부산</th>\n",
       "      <td>3447000</td>\n",
       "      <td>3424000.0</td>\n",
       "      <td>3400000.0</td>\n",
       "      <td>3373000.0</td>\n",
       "      <td>3344000.0</td>\n",
       "    </tr>\n",
       "    <tr>\n",
       "      <th>대구</th>\n",
       "      <td>2461000</td>\n",
       "      <td>2458000.0</td>\n",
       "      <td>2450000.0</td>\n",
       "      <td>2432000.0</td>\n",
       "      <td>2419000.0</td>\n",
       "    </tr>\n",
       "    <tr>\n",
       "      <th>인천</th>\n",
       "      <td>2907000</td>\n",
       "      <td>NaN</td>\n",
       "      <td>NaN</td>\n",
       "      <td>NaN</td>\n",
       "      <td>NaN</td>\n",
       "    </tr>\n",
       "    <tr>\n",
       "      <th>광주</th>\n",
       "      <td>1502000</td>\n",
       "      <td>1495000.0</td>\n",
       "      <td>1493000.0</td>\n",
       "      <td>1494000.0</td>\n",
       "      <td>1488000.0</td>\n",
       "    </tr>\n",
       "    <tr>\n",
       "      <th>대전</th>\n",
       "      <td>1536000</td>\n",
       "      <td>1528000.0</td>\n",
       "      <td>1518000.0</td>\n",
       "      <td>1509000.0</td>\n",
       "      <td>1500000.0</td>\n",
       "    </tr>\n",
       "    <tr>\n",
       "      <th>울산</th>\n",
       "      <td>1166000</td>\n",
       "      <td>1159000.0</td>\n",
       "      <td>1154000.0</td>\n",
       "      <td>1147000.0</td>\n",
       "      <td>1140000.0</td>\n",
       "    </tr>\n",
       "    <tr>\n",
       "      <th>세종</th>\n",
       "      <td>234000</td>\n",
       "      <td>266000.0</td>\n",
       "      <td>304000.0</td>\n",
       "      <td>331000.0</td>\n",
       "      <td>349000.0</td>\n",
       "    </tr>\n",
       "    <tr>\n",
       "      <th>경기</th>\n",
       "      <td>12600000</td>\n",
       "      <td>12786000.0</td>\n",
       "      <td>13031000.0</td>\n",
       "      <td>13238000.0</td>\n",
       "      <td>13405000.0</td>\n",
       "    </tr>\n",
       "    <tr>\n",
       "      <th>강원</th>\n",
       "      <td>1521000</td>\n",
       "      <td>1521000.0</td>\n",
       "      <td>1521000.0</td>\n",
       "      <td>1517000.0</td>\n",
       "      <td>1515000.0</td>\n",
       "    </tr>\n",
       "    <tr>\n",
       "      <th>충북</th>\n",
       "      <td>1601000</td>\n",
       "      <td>1609000.0</td>\n",
       "      <td>1619000.0</td>\n",
       "      <td>1626000.0</td>\n",
       "      <td>1632000.0</td>\n",
       "    </tr>\n",
       "    <tr>\n",
       "      <th>충남</th>\n",
       "      <td>2126000</td>\n",
       "      <td>2153000.0</td>\n",
       "      <td>2180000.0</td>\n",
       "      <td>2188000.0</td>\n",
       "      <td>2204000.0</td>\n",
       "    </tr>\n",
       "    <tr>\n",
       "      <th>전북</th>\n",
       "      <td>1835000</td>\n",
       "      <td>1829000.0</td>\n",
       "      <td>1820000.0</td>\n",
       "      <td>1803000.0</td>\n",
       "      <td>1792000.0</td>\n",
       "    </tr>\n",
       "    <tr>\n",
       "      <th>전남</th>\n",
       "      <td>1798000</td>\n",
       "      <td>1795000.0</td>\n",
       "      <td>1790000.0</td>\n",
       "      <td>1773000.0</td>\n",
       "      <td>1764000.0</td>\n",
       "    </tr>\n",
       "    <tr>\n",
       "      <th>경북</th>\n",
       "      <td>2683000</td>\n",
       "      <td>2675000.0</td>\n",
       "      <td>2674000.0</td>\n",
       "      <td>2665000.0</td>\n",
       "      <td>2655000.0</td>\n",
       "    </tr>\n",
       "    <tr>\n",
       "      <th>경남</th>\n",
       "      <td>3338000</td>\n",
       "      <td>3339000.0</td>\n",
       "      <td>3356000.0</td>\n",
       "      <td>3350000.0</td>\n",
       "      <td>3350000.0</td>\n",
       "    </tr>\n",
       "    <tr>\n",
       "      <th>제주</th>\n",
       "      <td>618000</td>\n",
       "      <td>635000.0</td>\n",
       "      <td>653000.0</td>\n",
       "      <td>660000.0</td>\n",
       "      <td>670000.0</td>\n",
       "    </tr>\n",
       "    <tr>\n",
       "      <th>수도권</th>\n",
       "      <td>25350000</td>\n",
       "      <td>25476000.0</td>\n",
       "      <td>25675000.0</td>\n",
       "      <td>25844000.0</td>\n",
       "      <td>25958000.0</td>\n",
       "    </tr>\n",
       "  </tbody>\n",
       "</table>\n",
       "</div>"
      ],
      "text/plain": [
       "         2016        2017        2018        2019        2020\n",
       "지역                                                           \n",
       "서울    9843000   9766000.0   9705000.0   9662000.0   9602000.0\n",
       "부산    3447000   3424000.0   3400000.0   3373000.0   3344000.0\n",
       "대구    2461000   2458000.0   2450000.0   2432000.0   2419000.0\n",
       "인천    2907000         NaN         NaN         NaN         NaN\n",
       "광주    1502000   1495000.0   1493000.0   1494000.0   1488000.0\n",
       "대전    1536000   1528000.0   1518000.0   1509000.0   1500000.0\n",
       "울산    1166000   1159000.0   1154000.0   1147000.0   1140000.0\n",
       "세종     234000    266000.0    304000.0    331000.0    349000.0\n",
       "경기   12600000  12786000.0  13031000.0  13238000.0  13405000.0\n",
       "강원    1521000   1521000.0   1521000.0   1517000.0   1515000.0\n",
       "충북    1601000   1609000.0   1619000.0   1626000.0   1632000.0\n",
       "충남    2126000   2153000.0   2180000.0   2188000.0   2204000.0\n",
       "전북    1835000   1829000.0   1820000.0   1803000.0   1792000.0\n",
       "전남    1798000   1795000.0   1790000.0   1773000.0   1764000.0\n",
       "경북    2683000   2675000.0   2674000.0   2665000.0   2655000.0\n",
       "경남    3338000   3339000.0   3356000.0   3350000.0   3350000.0\n",
       "제주     618000    635000.0    653000.0    660000.0    670000.0\n",
       "수도권  25350000  25476000.0  25675000.0  25844000.0  25958000.0"
      ]
     },
     "execution_count": 356,
     "metadata": {},
     "output_type": "execute_result"
    }
   ],
   "source": [
    "# pandas (표) 라이브러리를 통해 외부 파일 읽어오기 -> 엑셀\n",
    "# read_csv('파일명.csv',index_col,encoding)\n",
    "data = pd.read_csv('population_number(16-17).csv',index_col='지역')\n",
    "data"
   ]
  },
  {
   "cell_type": "code",
   "execution_count": 357,
   "id": "a8c781cb",
   "metadata": {},
   "outputs": [
    {
     "data": {
      "text/html": [
       "<div>\n",
       "<style scoped>\n",
       "    .dataframe tbody tr th:only-of-type {\n",
       "        vertical-align: middle;\n",
       "    }\n",
       "\n",
       "    .dataframe tbody tr th {\n",
       "        vertical-align: top;\n",
       "    }\n",
       "\n",
       "    .dataframe thead th {\n",
       "        text-align: right;\n",
       "    }\n",
       "</style>\n",
       "<table border=\"1\" class=\"dataframe\">\n",
       "  <thead>\n",
       "    <tr style=\"text-align: right;\">\n",
       "      <th></th>\n",
       "      <th>2016</th>\n",
       "      <th>2017</th>\n",
       "      <th>2018</th>\n",
       "      <th>2019</th>\n",
       "      <th>2020</th>\n",
       "    </tr>\n",
       "    <tr>\n",
       "      <th>지역</th>\n",
       "      <th></th>\n",
       "      <th></th>\n",
       "      <th></th>\n",
       "      <th></th>\n",
       "      <th></th>\n",
       "    </tr>\n",
       "  </thead>\n",
       "  <tbody>\n",
       "    <tr>\n",
       "      <th>서울</th>\n",
       "      <td>9843000</td>\n",
       "      <td>9766000.0</td>\n",
       "      <td>9705000.0</td>\n",
       "      <td>9662000.0</td>\n",
       "      <td>9602000.0</td>\n",
       "    </tr>\n",
       "    <tr>\n",
       "      <th>부산</th>\n",
       "      <td>3447000</td>\n",
       "      <td>3424000.0</td>\n",
       "      <td>3400000.0</td>\n",
       "      <td>3373000.0</td>\n",
       "      <td>3344000.0</td>\n",
       "    </tr>\n",
       "    <tr>\n",
       "      <th>대구</th>\n",
       "      <td>2461000</td>\n",
       "      <td>2458000.0</td>\n",
       "      <td>2450000.0</td>\n",
       "      <td>2432000.0</td>\n",
       "      <td>2419000.0</td>\n",
       "    </tr>\n",
       "    <tr>\n",
       "      <th>인천</th>\n",
       "      <td>2907000</td>\n",
       "      <td>NaN</td>\n",
       "      <td>NaN</td>\n",
       "      <td>NaN</td>\n",
       "      <td>NaN</td>\n",
       "    </tr>\n",
       "    <tr>\n",
       "      <th>광주</th>\n",
       "      <td>1502000</td>\n",
       "      <td>1495000.0</td>\n",
       "      <td>1493000.0</td>\n",
       "      <td>1494000.0</td>\n",
       "      <td>1488000.0</td>\n",
       "    </tr>\n",
       "  </tbody>\n",
       "</table>\n",
       "</div>"
      ],
      "text/plain": [
       "       2016       2017       2018       2019       2020\n",
       "지역                                                     \n",
       "서울  9843000  9766000.0  9705000.0  9662000.0  9602000.0\n",
       "부산  3447000  3424000.0  3400000.0  3373000.0  3344000.0\n",
       "대구  2461000  2458000.0  2450000.0  2432000.0  2419000.0\n",
       "인천  2907000        NaN        NaN        NaN        NaN\n",
       "광주  1502000  1495000.0  1493000.0  1494000.0  1488000.0"
      ]
     },
     "execution_count": 357,
     "metadata": {},
     "output_type": "execute_result"
    }
   ],
   "source": [
    "# pandas에서 데이터 확인시 활용할 수 있는 함수\n",
    "# head() - 상위 5개의 행을 가지고 오는 함수  \n",
    "# tail() - 하위 5개의 행을 가지고 오는 함수\n",
    "data.head()"
   ]
  },
  {
   "cell_type": "code",
   "execution_count": 358,
   "id": "857772f2",
   "metadata": {},
   "outputs": [
    {
     "data": {
      "text/html": [
       "<div>\n",
       "<style scoped>\n",
       "    .dataframe tbody tr th:only-of-type {\n",
       "        vertical-align: middle;\n",
       "    }\n",
       "\n",
       "    .dataframe tbody tr th {\n",
       "        vertical-align: top;\n",
       "    }\n",
       "\n",
       "    .dataframe thead th {\n",
       "        text-align: right;\n",
       "    }\n",
       "</style>\n",
       "<table border=\"1\" class=\"dataframe\">\n",
       "  <thead>\n",
       "    <tr style=\"text-align: right;\">\n",
       "      <th></th>\n",
       "      <th>2016</th>\n",
       "      <th>2017</th>\n",
       "      <th>2018</th>\n",
       "      <th>2019</th>\n",
       "      <th>2020</th>\n",
       "    </tr>\n",
       "    <tr>\n",
       "      <th>지역</th>\n",
       "      <th></th>\n",
       "      <th></th>\n",
       "      <th></th>\n",
       "      <th></th>\n",
       "      <th></th>\n",
       "    </tr>\n",
       "  </thead>\n",
       "  <tbody>\n",
       "    <tr>\n",
       "      <th>경남</th>\n",
       "      <td>3338000</td>\n",
       "      <td>3339000.0</td>\n",
       "      <td>3356000.0</td>\n",
       "      <td>3350000.0</td>\n",
       "      <td>3350000.0</td>\n",
       "    </tr>\n",
       "    <tr>\n",
       "      <th>제주</th>\n",
       "      <td>618000</td>\n",
       "      <td>635000.0</td>\n",
       "      <td>653000.0</td>\n",
       "      <td>660000.0</td>\n",
       "      <td>670000.0</td>\n",
       "    </tr>\n",
       "    <tr>\n",
       "      <th>수도권</th>\n",
       "      <td>25350000</td>\n",
       "      <td>25476000.0</td>\n",
       "      <td>25675000.0</td>\n",
       "      <td>25844000.0</td>\n",
       "      <td>25958000.0</td>\n",
       "    </tr>\n",
       "  </tbody>\n",
       "</table>\n",
       "</div>"
      ],
      "text/plain": [
       "         2016        2017        2018        2019        2020\n",
       "지역                                                           \n",
       "경남    3338000   3339000.0   3356000.0   3350000.0   3350000.0\n",
       "제주     618000    635000.0    653000.0    660000.0    670000.0\n",
       "수도권  25350000  25476000.0  25675000.0  25844000.0  25958000.0"
      ]
     },
     "execution_count": 358,
     "metadata": {},
     "output_type": "execute_result"
    }
   ],
   "source": [
    "data.tail(3)"
   ]
  },
  {
   "cell_type": "code",
   "execution_count": 359,
   "id": "35b13006",
   "metadata": {},
   "outputs": [
    {
     "data": {
      "text/plain": [
       "2017   NaN\n",
       "2018   NaN\n",
       "2019   NaN\n",
       "2020   NaN\n",
       "Name: 인천, dtype: float64"
      ]
     },
     "execution_count": 359,
     "metadata": {},
     "output_type": "execute_result"
    }
   ],
   "source": [
    "# 인천 행의 NaN값에 새로운 값들 추가하기\n",
    "# 1. 전체 데이터로부터 원하는 인천행의 NaN부분들 가져오기\n",
    "data.loc['인천','2017':'2020']"
   ]
  },
  {
   "cell_type": "code",
   "execution_count": 360,
   "id": "3a9d0be1",
   "metadata": {},
   "outputs": [
    {
     "data": {
      "text/html": [
       "<div>\n",
       "<style scoped>\n",
       "    .dataframe tbody tr th:only-of-type {\n",
       "        vertical-align: middle;\n",
       "    }\n",
       "\n",
       "    .dataframe tbody tr th {\n",
       "        vertical-align: top;\n",
       "    }\n",
       "\n",
       "    .dataframe thead th {\n",
       "        text-align: right;\n",
       "    }\n",
       "</style>\n",
       "<table border=\"1\" class=\"dataframe\">\n",
       "  <thead>\n",
       "    <tr style=\"text-align: right;\">\n",
       "      <th></th>\n",
       "      <th>2016</th>\n",
       "      <th>2017</th>\n",
       "      <th>2018</th>\n",
       "      <th>2019</th>\n",
       "      <th>2020</th>\n",
       "    </tr>\n",
       "    <tr>\n",
       "      <th>지역</th>\n",
       "      <th></th>\n",
       "      <th></th>\n",
       "      <th></th>\n",
       "      <th></th>\n",
       "      <th></th>\n",
       "    </tr>\n",
       "  </thead>\n",
       "  <tbody>\n",
       "    <tr>\n",
       "      <th>서울</th>\n",
       "      <td>9843000</td>\n",
       "      <td>9766000.0</td>\n",
       "      <td>9705000.0</td>\n",
       "      <td>9662000.0</td>\n",
       "      <td>9602000.0</td>\n",
       "    </tr>\n",
       "    <tr>\n",
       "      <th>부산</th>\n",
       "      <td>3447000</td>\n",
       "      <td>3424000.0</td>\n",
       "      <td>3400000.0</td>\n",
       "      <td>3373000.0</td>\n",
       "      <td>3344000.0</td>\n",
       "    </tr>\n",
       "    <tr>\n",
       "      <th>대구</th>\n",
       "      <td>2461000</td>\n",
       "      <td>2458000.0</td>\n",
       "      <td>2450000.0</td>\n",
       "      <td>2432000.0</td>\n",
       "      <td>2419000.0</td>\n",
       "    </tr>\n",
       "    <tr>\n",
       "      <th>인천</th>\n",
       "      <td>2907000</td>\n",
       "      <td>2924000.0</td>\n",
       "      <td>2939000.0</td>\n",
       "      <td>2944000.0</td>\n",
       "      <td>2951000.0</td>\n",
       "    </tr>\n",
       "    <tr>\n",
       "      <th>광주</th>\n",
       "      <td>1502000</td>\n",
       "      <td>1495000.0</td>\n",
       "      <td>1493000.0</td>\n",
       "      <td>1494000.0</td>\n",
       "      <td>1488000.0</td>\n",
       "    </tr>\n",
       "    <tr>\n",
       "      <th>대전</th>\n",
       "      <td>1536000</td>\n",
       "      <td>1528000.0</td>\n",
       "      <td>1518000.0</td>\n",
       "      <td>1509000.0</td>\n",
       "      <td>1500000.0</td>\n",
       "    </tr>\n",
       "    <tr>\n",
       "      <th>울산</th>\n",
       "      <td>1166000</td>\n",
       "      <td>1159000.0</td>\n",
       "      <td>1154000.0</td>\n",
       "      <td>1147000.0</td>\n",
       "      <td>1140000.0</td>\n",
       "    </tr>\n",
       "    <tr>\n",
       "      <th>세종</th>\n",
       "      <td>234000</td>\n",
       "      <td>266000.0</td>\n",
       "      <td>304000.0</td>\n",
       "      <td>331000.0</td>\n",
       "      <td>349000.0</td>\n",
       "    </tr>\n",
       "    <tr>\n",
       "      <th>경기</th>\n",
       "      <td>12600000</td>\n",
       "      <td>12786000.0</td>\n",
       "      <td>13031000.0</td>\n",
       "      <td>13238000.0</td>\n",
       "      <td>13405000.0</td>\n",
       "    </tr>\n",
       "    <tr>\n",
       "      <th>강원</th>\n",
       "      <td>1521000</td>\n",
       "      <td>1521000.0</td>\n",
       "      <td>1521000.0</td>\n",
       "      <td>1517000.0</td>\n",
       "      <td>1515000.0</td>\n",
       "    </tr>\n",
       "    <tr>\n",
       "      <th>충북</th>\n",
       "      <td>1601000</td>\n",
       "      <td>1609000.0</td>\n",
       "      <td>1619000.0</td>\n",
       "      <td>1626000.0</td>\n",
       "      <td>1632000.0</td>\n",
       "    </tr>\n",
       "    <tr>\n",
       "      <th>충남</th>\n",
       "      <td>2126000</td>\n",
       "      <td>2153000.0</td>\n",
       "      <td>2180000.0</td>\n",
       "      <td>2188000.0</td>\n",
       "      <td>2204000.0</td>\n",
       "    </tr>\n",
       "    <tr>\n",
       "      <th>전북</th>\n",
       "      <td>1835000</td>\n",
       "      <td>1829000.0</td>\n",
       "      <td>1820000.0</td>\n",
       "      <td>1803000.0</td>\n",
       "      <td>1792000.0</td>\n",
       "    </tr>\n",
       "    <tr>\n",
       "      <th>전남</th>\n",
       "      <td>1798000</td>\n",
       "      <td>1795000.0</td>\n",
       "      <td>1790000.0</td>\n",
       "      <td>1773000.0</td>\n",
       "      <td>1764000.0</td>\n",
       "    </tr>\n",
       "    <tr>\n",
       "      <th>경북</th>\n",
       "      <td>2683000</td>\n",
       "      <td>2675000.0</td>\n",
       "      <td>2674000.0</td>\n",
       "      <td>2665000.0</td>\n",
       "      <td>2655000.0</td>\n",
       "    </tr>\n",
       "    <tr>\n",
       "      <th>경남</th>\n",
       "      <td>3338000</td>\n",
       "      <td>3339000.0</td>\n",
       "      <td>3356000.0</td>\n",
       "      <td>3350000.0</td>\n",
       "      <td>3350000.0</td>\n",
       "    </tr>\n",
       "    <tr>\n",
       "      <th>제주</th>\n",
       "      <td>618000</td>\n",
       "      <td>635000.0</td>\n",
       "      <td>653000.0</td>\n",
       "      <td>660000.0</td>\n",
       "      <td>670000.0</td>\n",
       "    </tr>\n",
       "    <tr>\n",
       "      <th>수도권</th>\n",
       "      <td>25350000</td>\n",
       "      <td>25476000.0</td>\n",
       "      <td>25675000.0</td>\n",
       "      <td>25844000.0</td>\n",
       "      <td>25958000.0</td>\n",
       "    </tr>\n",
       "  </tbody>\n",
       "</table>\n",
       "</div>"
      ],
      "text/plain": [
       "         2016        2017        2018        2019        2020\n",
       "지역                                                           \n",
       "서울    9843000   9766000.0   9705000.0   9662000.0   9602000.0\n",
       "부산    3447000   3424000.0   3400000.0   3373000.0   3344000.0\n",
       "대구    2461000   2458000.0   2450000.0   2432000.0   2419000.0\n",
       "인천    2907000   2924000.0   2939000.0   2944000.0   2951000.0\n",
       "광주    1502000   1495000.0   1493000.0   1494000.0   1488000.0\n",
       "대전    1536000   1528000.0   1518000.0   1509000.0   1500000.0\n",
       "울산    1166000   1159000.0   1154000.0   1147000.0   1140000.0\n",
       "세종     234000    266000.0    304000.0    331000.0    349000.0\n",
       "경기   12600000  12786000.0  13031000.0  13238000.0  13405000.0\n",
       "강원    1521000   1521000.0   1521000.0   1517000.0   1515000.0\n",
       "충북    1601000   1609000.0   1619000.0   1626000.0   1632000.0\n",
       "충남    2126000   2153000.0   2180000.0   2188000.0   2204000.0\n",
       "전북    1835000   1829000.0   1820000.0   1803000.0   1792000.0\n",
       "전남    1798000   1795000.0   1790000.0   1773000.0   1764000.0\n",
       "경북    2683000   2675000.0   2674000.0   2665000.0   2655000.0\n",
       "경남    3338000   3339000.0   3356000.0   3350000.0   3350000.0\n",
       "제주     618000    635000.0    653000.0    660000.0    670000.0\n",
       "수도권  25350000  25476000.0  25675000.0  25844000.0  25958000.0"
      ]
     },
     "execution_count": 360,
     "metadata": {},
     "output_type": "execute_result"
    }
   ],
   "source": [
    "# 2. 찾아온 NaN 값에 새로운 값 추가하기\n",
    "data.loc['인천','2017':'2020'] = [2924000,2939000,2944000,2951000]\n",
    "data"
   ]
  },
  {
   "cell_type": "code",
   "execution_count": 361,
   "id": "af365d84",
   "metadata": {},
   "outputs": [
    {
     "data": {
      "text/html": [
       "<div>\n",
       "<style scoped>\n",
       "    .dataframe tbody tr th:only-of-type {\n",
       "        vertical-align: middle;\n",
       "    }\n",
       "\n",
       "    .dataframe tbody tr th {\n",
       "        vertical-align: top;\n",
       "    }\n",
       "\n",
       "    .dataframe thead th {\n",
       "        text-align: right;\n",
       "    }\n",
       "</style>\n",
       "<table border=\"1\" class=\"dataframe\">\n",
       "  <thead>\n",
       "    <tr style=\"text-align: right;\">\n",
       "      <th></th>\n",
       "      <th>2016</th>\n",
       "      <th>2017</th>\n",
       "      <th>2018</th>\n",
       "      <th>2019</th>\n",
       "      <th>2020</th>\n",
       "    </tr>\n",
       "    <tr>\n",
       "      <th>지역</th>\n",
       "      <th></th>\n",
       "      <th></th>\n",
       "      <th></th>\n",
       "      <th></th>\n",
       "      <th></th>\n",
       "    </tr>\n",
       "  </thead>\n",
       "  <tbody>\n",
       "    <tr>\n",
       "      <th>서울</th>\n",
       "      <td>9843000</td>\n",
       "      <td>9766000</td>\n",
       "      <td>9705000</td>\n",
       "      <td>9662000</td>\n",
       "      <td>9602000</td>\n",
       "    </tr>\n",
       "    <tr>\n",
       "      <th>부산</th>\n",
       "      <td>3447000</td>\n",
       "      <td>3424000</td>\n",
       "      <td>3400000</td>\n",
       "      <td>3373000</td>\n",
       "      <td>3344000</td>\n",
       "    </tr>\n",
       "    <tr>\n",
       "      <th>대구</th>\n",
       "      <td>2461000</td>\n",
       "      <td>2458000</td>\n",
       "      <td>2450000</td>\n",
       "      <td>2432000</td>\n",
       "      <td>2419000</td>\n",
       "    </tr>\n",
       "    <tr>\n",
       "      <th>인천</th>\n",
       "      <td>2907000</td>\n",
       "      <td>2924000</td>\n",
       "      <td>2939000</td>\n",
       "      <td>2944000</td>\n",
       "      <td>2951000</td>\n",
       "    </tr>\n",
       "    <tr>\n",
       "      <th>광주</th>\n",
       "      <td>1502000</td>\n",
       "      <td>1495000</td>\n",
       "      <td>1493000</td>\n",
       "      <td>1494000</td>\n",
       "      <td>1488000</td>\n",
       "    </tr>\n",
       "    <tr>\n",
       "      <th>대전</th>\n",
       "      <td>1536000</td>\n",
       "      <td>1528000</td>\n",
       "      <td>1518000</td>\n",
       "      <td>1509000</td>\n",
       "      <td>1500000</td>\n",
       "    </tr>\n",
       "    <tr>\n",
       "      <th>울산</th>\n",
       "      <td>1166000</td>\n",
       "      <td>1159000</td>\n",
       "      <td>1154000</td>\n",
       "      <td>1147000</td>\n",
       "      <td>1140000</td>\n",
       "    </tr>\n",
       "    <tr>\n",
       "      <th>세종</th>\n",
       "      <td>234000</td>\n",
       "      <td>266000</td>\n",
       "      <td>304000</td>\n",
       "      <td>331000</td>\n",
       "      <td>349000</td>\n",
       "    </tr>\n",
       "    <tr>\n",
       "      <th>경기</th>\n",
       "      <td>12600000</td>\n",
       "      <td>12786000</td>\n",
       "      <td>13031000</td>\n",
       "      <td>13238000</td>\n",
       "      <td>13405000</td>\n",
       "    </tr>\n",
       "    <tr>\n",
       "      <th>강원</th>\n",
       "      <td>1521000</td>\n",
       "      <td>1521000</td>\n",
       "      <td>1521000</td>\n",
       "      <td>1517000</td>\n",
       "      <td>1515000</td>\n",
       "    </tr>\n",
       "    <tr>\n",
       "      <th>충북</th>\n",
       "      <td>1601000</td>\n",
       "      <td>1609000</td>\n",
       "      <td>1619000</td>\n",
       "      <td>1626000</td>\n",
       "      <td>1632000</td>\n",
       "    </tr>\n",
       "    <tr>\n",
       "      <th>충남</th>\n",
       "      <td>2126000</td>\n",
       "      <td>2153000</td>\n",
       "      <td>2180000</td>\n",
       "      <td>2188000</td>\n",
       "      <td>2204000</td>\n",
       "    </tr>\n",
       "    <tr>\n",
       "      <th>전북</th>\n",
       "      <td>1835000</td>\n",
       "      <td>1829000</td>\n",
       "      <td>1820000</td>\n",
       "      <td>1803000</td>\n",
       "      <td>1792000</td>\n",
       "    </tr>\n",
       "    <tr>\n",
       "      <th>전남</th>\n",
       "      <td>1798000</td>\n",
       "      <td>1795000</td>\n",
       "      <td>1790000</td>\n",
       "      <td>1773000</td>\n",
       "      <td>1764000</td>\n",
       "    </tr>\n",
       "    <tr>\n",
       "      <th>경북</th>\n",
       "      <td>2683000</td>\n",
       "      <td>2675000</td>\n",
       "      <td>2674000</td>\n",
       "      <td>2665000</td>\n",
       "      <td>2655000</td>\n",
       "    </tr>\n",
       "    <tr>\n",
       "      <th>경남</th>\n",
       "      <td>3338000</td>\n",
       "      <td>3339000</td>\n",
       "      <td>3356000</td>\n",
       "      <td>3350000</td>\n",
       "      <td>3350000</td>\n",
       "    </tr>\n",
       "    <tr>\n",
       "      <th>제주</th>\n",
       "      <td>618000</td>\n",
       "      <td>635000</td>\n",
       "      <td>653000</td>\n",
       "      <td>660000</td>\n",
       "      <td>670000</td>\n",
       "    </tr>\n",
       "    <tr>\n",
       "      <th>수도권</th>\n",
       "      <td>25350000</td>\n",
       "      <td>25476000</td>\n",
       "      <td>25675000</td>\n",
       "      <td>25844000</td>\n",
       "      <td>25958000</td>\n",
       "    </tr>\n",
       "  </tbody>\n",
       "</table>\n",
       "</div>"
      ],
      "text/plain": [
       "         2016      2017      2018      2019      2020\n",
       "지역                                                   \n",
       "서울    9843000   9766000   9705000   9662000   9602000\n",
       "부산    3447000   3424000   3400000   3373000   3344000\n",
       "대구    2461000   2458000   2450000   2432000   2419000\n",
       "인천    2907000   2924000   2939000   2944000   2951000\n",
       "광주    1502000   1495000   1493000   1494000   1488000\n",
       "대전    1536000   1528000   1518000   1509000   1500000\n",
       "울산    1166000   1159000   1154000   1147000   1140000\n",
       "세종     234000    266000    304000    331000    349000\n",
       "경기   12600000  12786000  13031000  13238000  13405000\n",
       "강원    1521000   1521000   1521000   1517000   1515000\n",
       "충북    1601000   1609000   1619000   1626000   1632000\n",
       "충남    2126000   2153000   2180000   2188000   2204000\n",
       "전북    1835000   1829000   1820000   1803000   1792000\n",
       "전남    1798000   1795000   1790000   1773000   1764000\n",
       "경북    2683000   2675000   2674000   2665000   2655000\n",
       "경남    3338000   3339000   3356000   3350000   3350000\n",
       "제주     618000    635000    653000    660000    670000\n",
       "수도권  25350000  25476000  25675000  25844000  25958000"
      ]
     },
     "execution_count": 361,
     "metadata": {},
     "output_type": "execute_result"
    }
   ],
   "source": [
    "# data 타입 int형으로 수정하기 -> astype(형식)\n",
    "data = data.astype('int')\n",
    "data"
   ]
  },
  {
   "cell_type": "code",
   "execution_count": 362,
   "id": "20865ecb",
   "metadata": {},
   "outputs": [
    {
     "data": {
      "text/html": [
       "<div>\n",
       "<style scoped>\n",
       "    .dataframe tbody tr th:only-of-type {\n",
       "        vertical-align: middle;\n",
       "    }\n",
       "\n",
       "    .dataframe tbody tr th {\n",
       "        vertical-align: top;\n",
       "    }\n",
       "\n",
       "    .dataframe thead th {\n",
       "        text-align: right;\n",
       "    }\n",
       "</style>\n",
       "<table border=\"1\" class=\"dataframe\">\n",
       "  <thead>\n",
       "    <tr style=\"text-align: right;\">\n",
       "      <th></th>\n",
       "      <th>2016</th>\n",
       "      <th>2017</th>\n",
       "      <th>2018</th>\n",
       "      <th>2019</th>\n",
       "      <th>2020</th>\n",
       "    </tr>\n",
       "    <tr>\n",
       "      <th>지역</th>\n",
       "      <th></th>\n",
       "      <th></th>\n",
       "      <th></th>\n",
       "      <th></th>\n",
       "      <th></th>\n",
       "    </tr>\n",
       "  </thead>\n",
       "  <tbody>\n",
       "    <tr>\n",
       "      <th>서울</th>\n",
       "      <td>9843000</td>\n",
       "      <td>9766000</td>\n",
       "      <td>9705000</td>\n",
       "      <td>9662000</td>\n",
       "      <td>9602000</td>\n",
       "    </tr>\n",
       "    <tr>\n",
       "      <th>부산</th>\n",
       "      <td>3447000</td>\n",
       "      <td>3424000</td>\n",
       "      <td>3400000</td>\n",
       "      <td>3373000</td>\n",
       "      <td>3344000</td>\n",
       "    </tr>\n",
       "    <tr>\n",
       "      <th>경기</th>\n",
       "      <td>12600000</td>\n",
       "      <td>12786000</td>\n",
       "      <td>13031000</td>\n",
       "      <td>13238000</td>\n",
       "      <td>13405000</td>\n",
       "    </tr>\n",
       "    <tr>\n",
       "      <th>경남</th>\n",
       "      <td>3338000</td>\n",
       "      <td>3339000</td>\n",
       "      <td>3356000</td>\n",
       "      <td>3350000</td>\n",
       "      <td>3350000</td>\n",
       "    </tr>\n",
       "    <tr>\n",
       "      <th>수도권</th>\n",
       "      <td>25350000</td>\n",
       "      <td>25476000</td>\n",
       "      <td>25675000</td>\n",
       "      <td>25844000</td>\n",
       "      <td>25958000</td>\n",
       "    </tr>\n",
       "  </tbody>\n",
       "</table>\n",
       "</div>"
      ],
      "text/plain": [
       "         2016      2017      2018      2019      2020\n",
       "지역                                                   \n",
       "서울    9843000   9766000   9705000   9662000   9602000\n",
       "부산    3447000   3424000   3400000   3373000   3344000\n",
       "경기   12600000  12786000  13031000  13238000  13405000\n",
       "경남    3338000   3339000   3356000   3350000   3350000\n",
       "수도권  25350000  25476000  25675000  25844000  25958000"
      ]
     },
     "execution_count": 362,
     "metadata": {},
     "output_type": "execute_result"
    }
   ],
   "source": [
    "# 3백만 이상의 도시 찾아보기! -> boolean 색인하기\n",
    "data[data['2020'] >= 3000000]"
   ]
  },
  {
   "cell_type": "code",
   "execution_count": 363,
   "id": "2d40fad2",
   "metadata": {},
   "outputs": [
    {
     "data": {
      "text/plain": [
       "9662000     1\n",
       "3373000     1\n",
       "660000      1\n",
       "3350000     1\n",
       "2665000     1\n",
       "1773000     1\n",
       "1803000     1\n",
       "2188000     1\n",
       "1626000     1\n",
       "1517000     1\n",
       "13238000    1\n",
       "331000      1\n",
       "1147000     1\n",
       "1509000     1\n",
       "1494000     1\n",
       "2944000     1\n",
       "2432000     1\n",
       "25844000    1\n",
       "Name: 2019, dtype: int64"
      ]
     },
     "execution_count": 363,
     "metadata": {},
     "output_type": "execute_result"
    }
   ],
   "source": [
    "# pandas의 함수\n",
    "# 실제 데이터의 갯수를 확인할 수 있는 함수 -> value_counts()\n",
    "data['2019'].value_counts()"
   ]
  },
  {
   "cell_type": "code",
   "execution_count": 364,
   "id": "498ce92e",
   "metadata": {},
   "outputs": [
    {
     "data": {
      "text/html": [
       "<div>\n",
       "<style scoped>\n",
       "    .dataframe tbody tr th:only-of-type {\n",
       "        vertical-align: middle;\n",
       "    }\n",
       "\n",
       "    .dataframe tbody tr th {\n",
       "        vertical-align: top;\n",
       "    }\n",
       "\n",
       "    .dataframe thead th {\n",
       "        text-align: right;\n",
       "    }\n",
       "</style>\n",
       "<table border=\"1\" class=\"dataframe\">\n",
       "  <thead>\n",
       "    <tr style=\"text-align: right;\">\n",
       "      <th></th>\n",
       "      <th>data1</th>\n",
       "      <th>data2</th>\n",
       "      <th>data3</th>\n",
       "    </tr>\n",
       "  </thead>\n",
       "  <tbody>\n",
       "    <tr>\n",
       "      <th>num1</th>\n",
       "      <td>1</td>\n",
       "      <td>2</td>\n",
       "      <td>1</td>\n",
       "    </tr>\n",
       "    <tr>\n",
       "      <th>num2</th>\n",
       "      <td>0</td>\n",
       "      <td>1</td>\n",
       "      <td>3</td>\n",
       "    </tr>\n",
       "    <tr>\n",
       "      <th>num3</th>\n",
       "      <td>1</td>\n",
       "      <td>0</td>\n",
       "      <td>3</td>\n",
       "    </tr>\n",
       "  </tbody>\n",
       "</table>\n",
       "</div>"
      ],
      "text/plain": [
       "      data1  data2  data3\n",
       "num1      1      2      1\n",
       "num2      0      1      3\n",
       "num3      1      0      3"
      ]
     },
     "execution_count": 364,
     "metadata": {},
     "output_type": "execute_result"
    }
   ],
   "source": [
    "df_num = pd.DataFrame({'data1':[1,0,1],'data2':[2,1,0],'data3':[1,3,3]},\n",
    "                      index = ['num1','num2','num3'])\n",
    "df_num"
   ]
  },
  {
   "cell_type": "code",
   "execution_count": 365,
   "id": "f28533eb",
   "metadata": {},
   "outputs": [
    {
     "data": {
      "text/plain": [
       "1    2\n",
       "0    1\n",
       "Name: data1, dtype: int64"
      ]
     },
     "execution_count": 365,
     "metadata": {},
     "output_type": "execute_result"
    }
   ],
   "source": [
    "df_num['data1'].value_counts()"
   ]
  },
  {
   "cell_type": "code",
   "execution_count": 366,
   "id": "1ead8047",
   "metadata": {},
   "outputs": [
    {
     "data": {
      "text/plain": [
       "지역\n",
       "강원      1517000\n",
       "경기     13238000\n",
       "경남      3350000\n",
       "경북      2665000\n",
       "광주      1494000\n",
       "대구      2432000\n",
       "대전      1509000\n",
       "부산      3373000\n",
       "서울      9662000\n",
       "세종       331000\n",
       "수도권    25844000\n",
       "울산      1147000\n",
       "인천      2944000\n",
       "전남      1773000\n",
       "전북      1803000\n",
       "제주       660000\n",
       "충남      2188000\n",
       "충북      1626000\n",
       "Name: 2019, dtype: int32"
      ]
     },
     "execution_count": 366,
     "metadata": {},
     "output_type": "execute_result"
    }
   ],
   "source": [
    "# sort() : 정렬을 할 수 있는 함수\n",
    "# 정렬의 기준 : 1. 인덱스 이름(sort_index) / 2. 데이터 값(sort_values)\n",
    "data['2019'].sort_index()"
   ]
  },
  {
   "cell_type": "code",
   "execution_count": 367,
   "id": "a855e234",
   "metadata": {},
   "outputs": [
    {
     "data": {
      "text/plain": [
       "지역\n",
       "세종       331000\n",
       "제주       660000\n",
       "울산      1147000\n",
       "광주      1494000\n",
       "대전      1509000\n",
       "강원      1517000\n",
       "충북      1626000\n",
       "전남      1773000\n",
       "전북      1803000\n",
       "충남      2188000\n",
       "대구      2432000\n",
       "경북      2665000\n",
       "인천      2944000\n",
       "경남      3350000\n",
       "부산      3373000\n",
       "서울      9662000\n",
       "경기     13238000\n",
       "수도권    25844000\n",
       "Name: 2019, dtype: int32"
      ]
     },
     "execution_count": 367,
     "metadata": {},
     "output_type": "execute_result"
    }
   ],
   "source": [
    "data['2019'].sort_values()"
   ]
  },
  {
   "cell_type": "code",
   "execution_count": 368,
   "id": "b1e76fe5",
   "metadata": {},
   "outputs": [
    {
     "data": {
      "text/plain": [
       "지역\n",
       "충북      1626000\n",
       "충남      2188000\n",
       "제주       660000\n",
       "전북      1803000\n",
       "전남      1773000\n",
       "인천      2944000\n",
       "울산      1147000\n",
       "수도권    25844000\n",
       "세종       331000\n",
       "서울      9662000\n",
       "부산      3373000\n",
       "대전      1509000\n",
       "대구      2432000\n",
       "광주      1494000\n",
       "경북      2665000\n",
       "경남      3350000\n",
       "경기     13238000\n",
       "강원      1517000\n",
       "Name: 2019, dtype: int32"
      ]
     },
     "execution_count": 368,
     "metadata": {},
     "output_type": "execute_result"
    }
   ],
   "source": [
    "# sort() 사용시 내림차순 속성 : ascending (기본값 : True)\n",
    "data['2019'].sort_index(ascending=False)"
   ]
  },
  {
   "cell_type": "code",
   "execution_count": 369,
   "id": "62cff43c",
   "metadata": {},
   "outputs": [
    {
     "data": {
      "text/html": [
       "<div>\n",
       "<style scoped>\n",
       "    .dataframe tbody tr th:only-of-type {\n",
       "        vertical-align: middle;\n",
       "    }\n",
       "\n",
       "    .dataframe tbody tr th {\n",
       "        vertical-align: top;\n",
       "    }\n",
       "\n",
       "    .dataframe thead th {\n",
       "        text-align: right;\n",
       "    }\n",
       "</style>\n",
       "<table border=\"1\" class=\"dataframe\">\n",
       "  <thead>\n",
       "    <tr style=\"text-align: right;\">\n",
       "      <th></th>\n",
       "      <th>2016</th>\n",
       "      <th>2017</th>\n",
       "      <th>2018</th>\n",
       "      <th>2019</th>\n",
       "      <th>2020</th>\n",
       "    </tr>\n",
       "    <tr>\n",
       "      <th>지역</th>\n",
       "      <th></th>\n",
       "      <th></th>\n",
       "      <th></th>\n",
       "      <th></th>\n",
       "      <th></th>\n",
       "    </tr>\n",
       "  </thead>\n",
       "  <tbody>\n",
       "    <tr>\n",
       "      <th>세종</th>\n",
       "      <td>234000</td>\n",
       "      <td>266000</td>\n",
       "      <td>304000</td>\n",
       "      <td>331000</td>\n",
       "      <td>349000</td>\n",
       "    </tr>\n",
       "    <tr>\n",
       "      <th>제주</th>\n",
       "      <td>618000</td>\n",
       "      <td>635000</td>\n",
       "      <td>653000</td>\n",
       "      <td>660000</td>\n",
       "      <td>670000</td>\n",
       "    </tr>\n",
       "    <tr>\n",
       "      <th>울산</th>\n",
       "      <td>1166000</td>\n",
       "      <td>1159000</td>\n",
       "      <td>1154000</td>\n",
       "      <td>1147000</td>\n",
       "      <td>1140000</td>\n",
       "    </tr>\n",
       "    <tr>\n",
       "      <th>광주</th>\n",
       "      <td>1502000</td>\n",
       "      <td>1495000</td>\n",
       "      <td>1493000</td>\n",
       "      <td>1494000</td>\n",
       "      <td>1488000</td>\n",
       "    </tr>\n",
       "    <tr>\n",
       "      <th>대전</th>\n",
       "      <td>1536000</td>\n",
       "      <td>1528000</td>\n",
       "      <td>1518000</td>\n",
       "      <td>1509000</td>\n",
       "      <td>1500000</td>\n",
       "    </tr>\n",
       "    <tr>\n",
       "      <th>강원</th>\n",
       "      <td>1521000</td>\n",
       "      <td>1521000</td>\n",
       "      <td>1521000</td>\n",
       "      <td>1517000</td>\n",
       "      <td>1515000</td>\n",
       "    </tr>\n",
       "    <tr>\n",
       "      <th>충북</th>\n",
       "      <td>1601000</td>\n",
       "      <td>1609000</td>\n",
       "      <td>1619000</td>\n",
       "      <td>1626000</td>\n",
       "      <td>1632000</td>\n",
       "    </tr>\n",
       "    <tr>\n",
       "      <th>전남</th>\n",
       "      <td>1798000</td>\n",
       "      <td>1795000</td>\n",
       "      <td>1790000</td>\n",
       "      <td>1773000</td>\n",
       "      <td>1764000</td>\n",
       "    </tr>\n",
       "    <tr>\n",
       "      <th>전북</th>\n",
       "      <td>1835000</td>\n",
       "      <td>1829000</td>\n",
       "      <td>1820000</td>\n",
       "      <td>1803000</td>\n",
       "      <td>1792000</td>\n",
       "    </tr>\n",
       "    <tr>\n",
       "      <th>충남</th>\n",
       "      <td>2126000</td>\n",
       "      <td>2153000</td>\n",
       "      <td>2180000</td>\n",
       "      <td>2188000</td>\n",
       "      <td>2204000</td>\n",
       "    </tr>\n",
       "    <tr>\n",
       "      <th>대구</th>\n",
       "      <td>2461000</td>\n",
       "      <td>2458000</td>\n",
       "      <td>2450000</td>\n",
       "      <td>2432000</td>\n",
       "      <td>2419000</td>\n",
       "    </tr>\n",
       "    <tr>\n",
       "      <th>경북</th>\n",
       "      <td>2683000</td>\n",
       "      <td>2675000</td>\n",
       "      <td>2674000</td>\n",
       "      <td>2665000</td>\n",
       "      <td>2655000</td>\n",
       "    </tr>\n",
       "    <tr>\n",
       "      <th>인천</th>\n",
       "      <td>2907000</td>\n",
       "      <td>2924000</td>\n",
       "      <td>2939000</td>\n",
       "      <td>2944000</td>\n",
       "      <td>2951000</td>\n",
       "    </tr>\n",
       "    <tr>\n",
       "      <th>경남</th>\n",
       "      <td>3338000</td>\n",
       "      <td>3339000</td>\n",
       "      <td>3356000</td>\n",
       "      <td>3350000</td>\n",
       "      <td>3350000</td>\n",
       "    </tr>\n",
       "    <tr>\n",
       "      <th>부산</th>\n",
       "      <td>3447000</td>\n",
       "      <td>3424000</td>\n",
       "      <td>3400000</td>\n",
       "      <td>3373000</td>\n",
       "      <td>3344000</td>\n",
       "    </tr>\n",
       "    <tr>\n",
       "      <th>서울</th>\n",
       "      <td>9843000</td>\n",
       "      <td>9766000</td>\n",
       "      <td>9705000</td>\n",
       "      <td>9662000</td>\n",
       "      <td>9602000</td>\n",
       "    </tr>\n",
       "    <tr>\n",
       "      <th>경기</th>\n",
       "      <td>12600000</td>\n",
       "      <td>12786000</td>\n",
       "      <td>13031000</td>\n",
       "      <td>13238000</td>\n",
       "      <td>13405000</td>\n",
       "    </tr>\n",
       "    <tr>\n",
       "      <th>수도권</th>\n",
       "      <td>25350000</td>\n",
       "      <td>25476000</td>\n",
       "      <td>25675000</td>\n",
       "      <td>25844000</td>\n",
       "      <td>25958000</td>\n",
       "    </tr>\n",
       "  </tbody>\n",
       "</table>\n",
       "</div>"
      ],
      "text/plain": [
       "         2016      2017      2018      2019      2020\n",
       "지역                                                   \n",
       "세종     234000    266000    304000    331000    349000\n",
       "제주     618000    635000    653000    660000    670000\n",
       "울산    1166000   1159000   1154000   1147000   1140000\n",
       "광주    1502000   1495000   1493000   1494000   1488000\n",
       "대전    1536000   1528000   1518000   1509000   1500000\n",
       "강원    1521000   1521000   1521000   1517000   1515000\n",
       "충북    1601000   1609000   1619000   1626000   1632000\n",
       "전남    1798000   1795000   1790000   1773000   1764000\n",
       "전북    1835000   1829000   1820000   1803000   1792000\n",
       "충남    2126000   2153000   2180000   2188000   2204000\n",
       "대구    2461000   2458000   2450000   2432000   2419000\n",
       "경북    2683000   2675000   2674000   2665000   2655000\n",
       "인천    2907000   2924000   2939000   2944000   2951000\n",
       "경남    3338000   3339000   3356000   3350000   3350000\n",
       "부산    3447000   3424000   3400000   3373000   3344000\n",
       "서울    9843000   9766000   9705000   9662000   9602000\n",
       "경기   12600000  12786000  13031000  13238000  13405000\n",
       "수도권  25350000  25476000  25675000  25844000  25958000"
      ]
     },
     "execution_count": 369,
     "metadata": {},
     "output_type": "execute_result"
    }
   ],
   "source": [
    "data.sort_values(by = '2018')"
   ]
  },
  {
   "cell_type": "code",
   "execution_count": 370,
   "id": "94d75f6a",
   "metadata": {},
   "outputs": [
    {
     "data": {
      "text/html": [
       "<div>\n",
       "<style scoped>\n",
       "    .dataframe tbody tr th:only-of-type {\n",
       "        vertical-align: middle;\n",
       "    }\n",
       "\n",
       "    .dataframe tbody tr th {\n",
       "        vertical-align: top;\n",
       "    }\n",
       "\n",
       "    .dataframe thead th {\n",
       "        text-align: right;\n",
       "    }\n",
       "</style>\n",
       "<table border=\"1\" class=\"dataframe\">\n",
       "  <thead>\n",
       "    <tr style=\"text-align: right;\">\n",
       "      <th></th>\n",
       "      <th>2016</th>\n",
       "      <th>2017</th>\n",
       "      <th>2018</th>\n",
       "      <th>2019</th>\n",
       "      <th>2020</th>\n",
       "    </tr>\n",
       "    <tr>\n",
       "      <th>지역</th>\n",
       "      <th></th>\n",
       "      <th></th>\n",
       "      <th></th>\n",
       "      <th></th>\n",
       "      <th></th>\n",
       "    </tr>\n",
       "  </thead>\n",
       "  <tbody>\n",
       "    <tr>\n",
       "      <th>서울</th>\n",
       "      <td>9843000</td>\n",
       "      <td>9766000</td>\n",
       "      <td>9705000</td>\n",
       "      <td>9662000</td>\n",
       "      <td>9602000</td>\n",
       "    </tr>\n",
       "    <tr>\n",
       "      <th>부산</th>\n",
       "      <td>3447000</td>\n",
       "      <td>3424000</td>\n",
       "      <td>3400000</td>\n",
       "      <td>3373000</td>\n",
       "      <td>3344000</td>\n",
       "    </tr>\n",
       "    <tr>\n",
       "      <th>대구</th>\n",
       "      <td>2461000</td>\n",
       "      <td>2458000</td>\n",
       "      <td>2450000</td>\n",
       "      <td>2432000</td>\n",
       "      <td>2419000</td>\n",
       "    </tr>\n",
       "    <tr>\n",
       "      <th>인천</th>\n",
       "      <td>2907000</td>\n",
       "      <td>2924000</td>\n",
       "      <td>2939000</td>\n",
       "      <td>2944000</td>\n",
       "      <td>2951000</td>\n",
       "    </tr>\n",
       "    <tr>\n",
       "      <th>광주</th>\n",
       "      <td>1502000</td>\n",
       "      <td>1495000</td>\n",
       "      <td>1493000</td>\n",
       "      <td>1494000</td>\n",
       "      <td>1488000</td>\n",
       "    </tr>\n",
       "    <tr>\n",
       "      <th>대전</th>\n",
       "      <td>1536000</td>\n",
       "      <td>1528000</td>\n",
       "      <td>1518000</td>\n",
       "      <td>1509000</td>\n",
       "      <td>1500000</td>\n",
       "    </tr>\n",
       "    <tr>\n",
       "      <th>울산</th>\n",
       "      <td>1166000</td>\n",
       "      <td>1159000</td>\n",
       "      <td>1154000</td>\n",
       "      <td>1147000</td>\n",
       "      <td>1140000</td>\n",
       "    </tr>\n",
       "    <tr>\n",
       "      <th>세종</th>\n",
       "      <td>234000</td>\n",
       "      <td>266000</td>\n",
       "      <td>304000</td>\n",
       "      <td>331000</td>\n",
       "      <td>349000</td>\n",
       "    </tr>\n",
       "    <tr>\n",
       "      <th>경기</th>\n",
       "      <td>12600000</td>\n",
       "      <td>12786000</td>\n",
       "      <td>13031000</td>\n",
       "      <td>13238000</td>\n",
       "      <td>13405000</td>\n",
       "    </tr>\n",
       "    <tr>\n",
       "      <th>강원</th>\n",
       "      <td>1521000</td>\n",
       "      <td>1521000</td>\n",
       "      <td>1521000</td>\n",
       "      <td>1517000</td>\n",
       "      <td>1515000</td>\n",
       "    </tr>\n",
       "    <tr>\n",
       "      <th>충북</th>\n",
       "      <td>1601000</td>\n",
       "      <td>1609000</td>\n",
       "      <td>1619000</td>\n",
       "      <td>1626000</td>\n",
       "      <td>1632000</td>\n",
       "    </tr>\n",
       "    <tr>\n",
       "      <th>충남</th>\n",
       "      <td>2126000</td>\n",
       "      <td>2153000</td>\n",
       "      <td>2180000</td>\n",
       "      <td>2188000</td>\n",
       "      <td>2204000</td>\n",
       "    </tr>\n",
       "    <tr>\n",
       "      <th>전북</th>\n",
       "      <td>1835000</td>\n",
       "      <td>1829000</td>\n",
       "      <td>1820000</td>\n",
       "      <td>1803000</td>\n",
       "      <td>1792000</td>\n",
       "    </tr>\n",
       "    <tr>\n",
       "      <th>전남</th>\n",
       "      <td>1798000</td>\n",
       "      <td>1795000</td>\n",
       "      <td>1790000</td>\n",
       "      <td>1773000</td>\n",
       "      <td>1764000</td>\n",
       "    </tr>\n",
       "    <tr>\n",
       "      <th>경북</th>\n",
       "      <td>2683000</td>\n",
       "      <td>2675000</td>\n",
       "      <td>2674000</td>\n",
       "      <td>2665000</td>\n",
       "      <td>2655000</td>\n",
       "    </tr>\n",
       "    <tr>\n",
       "      <th>경남</th>\n",
       "      <td>3338000</td>\n",
       "      <td>3339000</td>\n",
       "      <td>3356000</td>\n",
       "      <td>3350000</td>\n",
       "      <td>3350000</td>\n",
       "    </tr>\n",
       "    <tr>\n",
       "      <th>제주</th>\n",
       "      <td>618000</td>\n",
       "      <td>635000</td>\n",
       "      <td>653000</td>\n",
       "      <td>660000</td>\n",
       "      <td>670000</td>\n",
       "    </tr>\n",
       "  </tbody>\n",
       "</table>\n",
       "</div>"
      ],
      "text/plain": [
       "        2016      2017      2018      2019      2020\n",
       "지역                                                  \n",
       "서울   9843000   9766000   9705000   9662000   9602000\n",
       "부산   3447000   3424000   3400000   3373000   3344000\n",
       "대구   2461000   2458000   2450000   2432000   2419000\n",
       "인천   2907000   2924000   2939000   2944000   2951000\n",
       "광주   1502000   1495000   1493000   1494000   1488000\n",
       "대전   1536000   1528000   1518000   1509000   1500000\n",
       "울산   1166000   1159000   1154000   1147000   1140000\n",
       "세종    234000    266000    304000    331000    349000\n",
       "경기  12600000  12786000  13031000  13238000  13405000\n",
       "강원   1521000   1521000   1521000   1517000   1515000\n",
       "충북   1601000   1609000   1619000   1626000   1632000\n",
       "충남   2126000   2153000   2180000   2188000   2204000\n",
       "전북   1835000   1829000   1820000   1803000   1792000\n",
       "전남   1798000   1795000   1790000   1773000   1764000\n",
       "경북   2683000   2675000   2674000   2665000   2655000\n",
       "경남   3338000   3339000   3356000   3350000   3350000\n",
       "제주    618000    635000    653000    660000    670000"
      ]
     },
     "execution_count": 370,
     "metadata": {},
     "output_type": "execute_result"
    }
   ],
   "source": [
    "# dataFrame 삭제 함수 -> drop() -> 행 삭제\n",
    "data = data.drop('수도권')\n",
    "data"
   ]
  },
  {
   "cell_type": "code",
   "execution_count": 371,
   "id": "35f7a517",
   "metadata": {},
   "outputs": [
    {
     "data": {
      "text/html": [
       "<div>\n",
       "<style scoped>\n",
       "    .dataframe tbody tr th:only-of-type {\n",
       "        vertical-align: middle;\n",
       "    }\n",
       "\n",
       "    .dataframe tbody tr th {\n",
       "        vertical-align: top;\n",
       "    }\n",
       "\n",
       "    .dataframe thead th {\n",
       "        text-align: right;\n",
       "    }\n",
       "</style>\n",
       "<table border=\"1\" class=\"dataframe\">\n",
       "  <thead>\n",
       "    <tr style=\"text-align: right;\">\n",
       "      <th></th>\n",
       "      <th>2017</th>\n",
       "      <th>2018</th>\n",
       "      <th>2019</th>\n",
       "      <th>2020</th>\n",
       "    </tr>\n",
       "    <tr>\n",
       "      <th>지역</th>\n",
       "      <th></th>\n",
       "      <th></th>\n",
       "      <th></th>\n",
       "      <th></th>\n",
       "    </tr>\n",
       "  </thead>\n",
       "  <tbody>\n",
       "    <tr>\n",
       "      <th>서울</th>\n",
       "      <td>9766000</td>\n",
       "      <td>9705000</td>\n",
       "      <td>9662000</td>\n",
       "      <td>9602000</td>\n",
       "    </tr>\n",
       "    <tr>\n",
       "      <th>부산</th>\n",
       "      <td>3424000</td>\n",
       "      <td>3400000</td>\n",
       "      <td>3373000</td>\n",
       "      <td>3344000</td>\n",
       "    </tr>\n",
       "    <tr>\n",
       "      <th>대구</th>\n",
       "      <td>2458000</td>\n",
       "      <td>2450000</td>\n",
       "      <td>2432000</td>\n",
       "      <td>2419000</td>\n",
       "    </tr>\n",
       "    <tr>\n",
       "      <th>인천</th>\n",
       "      <td>2924000</td>\n",
       "      <td>2939000</td>\n",
       "      <td>2944000</td>\n",
       "      <td>2951000</td>\n",
       "    </tr>\n",
       "    <tr>\n",
       "      <th>광주</th>\n",
       "      <td>1495000</td>\n",
       "      <td>1493000</td>\n",
       "      <td>1494000</td>\n",
       "      <td>1488000</td>\n",
       "    </tr>\n",
       "    <tr>\n",
       "      <th>대전</th>\n",
       "      <td>1528000</td>\n",
       "      <td>1518000</td>\n",
       "      <td>1509000</td>\n",
       "      <td>1500000</td>\n",
       "    </tr>\n",
       "    <tr>\n",
       "      <th>울산</th>\n",
       "      <td>1159000</td>\n",
       "      <td>1154000</td>\n",
       "      <td>1147000</td>\n",
       "      <td>1140000</td>\n",
       "    </tr>\n",
       "    <tr>\n",
       "      <th>세종</th>\n",
       "      <td>266000</td>\n",
       "      <td>304000</td>\n",
       "      <td>331000</td>\n",
       "      <td>349000</td>\n",
       "    </tr>\n",
       "    <tr>\n",
       "      <th>경기</th>\n",
       "      <td>12786000</td>\n",
       "      <td>13031000</td>\n",
       "      <td>13238000</td>\n",
       "      <td>13405000</td>\n",
       "    </tr>\n",
       "    <tr>\n",
       "      <th>강원</th>\n",
       "      <td>1521000</td>\n",
       "      <td>1521000</td>\n",
       "      <td>1517000</td>\n",
       "      <td>1515000</td>\n",
       "    </tr>\n",
       "    <tr>\n",
       "      <th>충북</th>\n",
       "      <td>1609000</td>\n",
       "      <td>1619000</td>\n",
       "      <td>1626000</td>\n",
       "      <td>1632000</td>\n",
       "    </tr>\n",
       "    <tr>\n",
       "      <th>충남</th>\n",
       "      <td>2153000</td>\n",
       "      <td>2180000</td>\n",
       "      <td>2188000</td>\n",
       "      <td>2204000</td>\n",
       "    </tr>\n",
       "    <tr>\n",
       "      <th>전북</th>\n",
       "      <td>1829000</td>\n",
       "      <td>1820000</td>\n",
       "      <td>1803000</td>\n",
       "      <td>1792000</td>\n",
       "    </tr>\n",
       "    <tr>\n",
       "      <th>전남</th>\n",
       "      <td>1795000</td>\n",
       "      <td>1790000</td>\n",
       "      <td>1773000</td>\n",
       "      <td>1764000</td>\n",
       "    </tr>\n",
       "    <tr>\n",
       "      <th>경북</th>\n",
       "      <td>2675000</td>\n",
       "      <td>2674000</td>\n",
       "      <td>2665000</td>\n",
       "      <td>2655000</td>\n",
       "    </tr>\n",
       "    <tr>\n",
       "      <th>경남</th>\n",
       "      <td>3339000</td>\n",
       "      <td>3356000</td>\n",
       "      <td>3350000</td>\n",
       "      <td>3350000</td>\n",
       "    </tr>\n",
       "    <tr>\n",
       "      <th>제주</th>\n",
       "      <td>635000</td>\n",
       "      <td>653000</td>\n",
       "      <td>660000</td>\n",
       "      <td>670000</td>\n",
       "    </tr>\n",
       "  </tbody>\n",
       "</table>\n",
       "</div>"
      ],
      "text/plain": [
       "        2017      2018      2019      2020\n",
       "지역                                        \n",
       "서울   9766000   9705000   9662000   9602000\n",
       "부산   3424000   3400000   3373000   3344000\n",
       "대구   2458000   2450000   2432000   2419000\n",
       "인천   2924000   2939000   2944000   2951000\n",
       "광주   1495000   1493000   1494000   1488000\n",
       "대전   1528000   1518000   1509000   1500000\n",
       "울산   1159000   1154000   1147000   1140000\n",
       "세종    266000    304000    331000    349000\n",
       "경기  12786000  13031000  13238000  13405000\n",
       "강원   1521000   1521000   1517000   1515000\n",
       "충북   1609000   1619000   1626000   1632000\n",
       "충남   2153000   2180000   2188000   2204000\n",
       "전북   1829000   1820000   1803000   1792000\n",
       "전남   1795000   1790000   1773000   1764000\n",
       "경북   2675000   2674000   2665000   2655000\n",
       "경남   3339000   3356000   3350000   3350000\n",
       "제주    635000    653000    660000    670000"
      ]
     },
     "execution_count": 371,
     "metadata": {},
     "output_type": "execute_result"
    }
   ],
   "source": [
    "# axis -> DataFrame의 축의 기준을 잡을 수 있는 속성\n",
    "# 0 -> 행 / 1 -> 열\n",
    "data.drop('2016', axis=1)"
   ]
  },
  {
   "cell_type": "code",
   "execution_count": 372,
   "id": "d8cd6f4c",
   "metadata": {},
   "outputs": [
    {
     "data": {
      "text/html": [
       "<div>\n",
       "<style scoped>\n",
       "    .dataframe tbody tr th:only-of-type {\n",
       "        vertical-align: middle;\n",
       "    }\n",
       "\n",
       "    .dataframe tbody tr th {\n",
       "        vertical-align: top;\n",
       "    }\n",
       "\n",
       "    .dataframe thead th {\n",
       "        text-align: right;\n",
       "    }\n",
       "</style>\n",
       "<table border=\"1\" class=\"dataframe\">\n",
       "  <thead>\n",
       "    <tr style=\"text-align: right;\">\n",
       "      <th></th>\n",
       "      <th>1반</th>\n",
       "      <th>2반</th>\n",
       "      <th>3반</th>\n",
       "      <th>4반</th>\n",
       "    </tr>\n",
       "    <tr>\n",
       "      <th>과목</th>\n",
       "      <th></th>\n",
       "      <th></th>\n",
       "      <th></th>\n",
       "      <th></th>\n",
       "    </tr>\n",
       "  </thead>\n",
       "  <tbody>\n",
       "    <tr>\n",
       "      <th>파이썬</th>\n",
       "      <td>45</td>\n",
       "      <td>44</td>\n",
       "      <td>73</td>\n",
       "      <td>39</td>\n",
       "    </tr>\n",
       "    <tr>\n",
       "      <th>DB</th>\n",
       "      <td>76</td>\n",
       "      <td>92</td>\n",
       "      <td>45</td>\n",
       "      <td>69</td>\n",
       "    </tr>\n",
       "    <tr>\n",
       "      <th>자바</th>\n",
       "      <td>47</td>\n",
       "      <td>92</td>\n",
       "      <td>45</td>\n",
       "      <td>69</td>\n",
       "    </tr>\n",
       "    <tr>\n",
       "      <th>크롤링</th>\n",
       "      <td>92</td>\n",
       "      <td>81</td>\n",
       "      <td>85</td>\n",
       "      <td>40</td>\n",
       "    </tr>\n",
       "    <tr>\n",
       "      <th>Web</th>\n",
       "      <td>11</td>\n",
       "      <td>79</td>\n",
       "      <td>47</td>\n",
       "      <td>26</td>\n",
       "    </tr>\n",
       "  </tbody>\n",
       "</table>\n",
       "</div>"
      ],
      "text/plain": [
       "     1반  2반  3반  4반\n",
       "과목                 \n",
       "파이썬  45  44  73  39\n",
       "DB   76  92  45  69\n",
       "자바   47  92  45  69\n",
       "크롤링  92  81  85  40\n",
       "Web  11  79  47  26"
      ]
     },
     "execution_count": 372,
     "metadata": {},
     "output_type": "execute_result"
    }
   ],
   "source": [
    "# score 파일 불러오기\n",
    "score = pd.read_csv('score.csv',encoding='euc-kr',index_col = '과목')\n",
    "score"
   ]
  },
  {
   "cell_type": "code",
   "execution_count": 373,
   "id": "10f32090",
   "metadata": {},
   "outputs": [
    {
     "data": {
      "text/plain": [
       "1반    271\n",
       "2반    388\n",
       "3반    295\n",
       "4반    243\n",
       "dtype: int64"
      ]
     },
     "execution_count": 373,
     "metadata": {},
     "output_type": "execute_result"
    }
   ],
   "source": [
    "score.sum()"
   ]
  },
  {
   "cell_type": "code",
   "execution_count": 374,
   "id": "449725ec",
   "metadata": {},
   "outputs": [
    {
     "data": {
      "text/plain": [
       "과목\n",
       "파이썬    201\n",
       "DB     282\n",
       "자바     253\n",
       "크롤링    298\n",
       "Web    163\n",
       "dtype: int64"
      ]
     },
     "execution_count": 374,
     "metadata": {},
     "output_type": "execute_result"
    }
   ],
   "source": [
    "# 과목을 기준으로 총합구하기\n",
    "score.sum(axis=1)"
   ]
  },
  {
   "cell_type": "code",
   "execution_count": 375,
   "id": "8d565e1d",
   "metadata": {},
   "outputs": [
    {
     "data": {
      "text/html": [
       "<div>\n",
       "<style scoped>\n",
       "    .dataframe tbody tr th:only-of-type {\n",
       "        vertical-align: middle;\n",
       "    }\n",
       "\n",
       "    .dataframe tbody tr th {\n",
       "        vertical-align: top;\n",
       "    }\n",
       "\n",
       "    .dataframe thead th {\n",
       "        text-align: right;\n",
       "    }\n",
       "</style>\n",
       "<table border=\"1\" class=\"dataframe\">\n",
       "  <thead>\n",
       "    <tr style=\"text-align: right;\">\n",
       "      <th></th>\n",
       "      <th>1반</th>\n",
       "      <th>2반</th>\n",
       "      <th>3반</th>\n",
       "      <th>4반</th>\n",
       "      <th>합계</th>\n",
       "    </tr>\n",
       "    <tr>\n",
       "      <th>과목</th>\n",
       "      <th></th>\n",
       "      <th></th>\n",
       "      <th></th>\n",
       "      <th></th>\n",
       "      <th></th>\n",
       "    </tr>\n",
       "  </thead>\n",
       "  <tbody>\n",
       "    <tr>\n",
       "      <th>파이썬</th>\n",
       "      <td>45</td>\n",
       "      <td>44</td>\n",
       "      <td>73</td>\n",
       "      <td>39</td>\n",
       "      <td>201</td>\n",
       "    </tr>\n",
       "    <tr>\n",
       "      <th>DB</th>\n",
       "      <td>76</td>\n",
       "      <td>92</td>\n",
       "      <td>45</td>\n",
       "      <td>69</td>\n",
       "      <td>282</td>\n",
       "    </tr>\n",
       "    <tr>\n",
       "      <th>자바</th>\n",
       "      <td>47</td>\n",
       "      <td>92</td>\n",
       "      <td>45</td>\n",
       "      <td>69</td>\n",
       "      <td>253</td>\n",
       "    </tr>\n",
       "    <tr>\n",
       "      <th>크롤링</th>\n",
       "      <td>92</td>\n",
       "      <td>81</td>\n",
       "      <td>85</td>\n",
       "      <td>40</td>\n",
       "      <td>298</td>\n",
       "    </tr>\n",
       "    <tr>\n",
       "      <th>Web</th>\n",
       "      <td>11</td>\n",
       "      <td>79</td>\n",
       "      <td>47</td>\n",
       "      <td>26</td>\n",
       "      <td>163</td>\n",
       "    </tr>\n",
       "  </tbody>\n",
       "</table>\n",
       "</div>"
      ],
      "text/plain": [
       "     1반  2반  3반  4반   합계\n",
       "과목                      \n",
       "파이썬  45  44  73  39  201\n",
       "DB   76  92  45  69  282\n",
       "자바   47  92  45  69  253\n",
       "크롤링  92  81  85  40  298\n",
       "Web  11  79  47  26  163"
      ]
     },
     "execution_count": 375,
     "metadata": {},
     "output_type": "execute_result"
    }
   ],
   "source": [
    "score['합계'] = score.sum(axis=1)\n",
    "score"
   ]
  },
  {
   "cell_type": "code",
   "execution_count": 376,
   "id": "0730cc41",
   "metadata": {},
   "outputs": [],
   "source": [
    "#score['평균'] = score.loc[:,'합계']/4 #열 추가\n",
    "#score"
   ]
  },
  {
   "cell_type": "code",
   "execution_count": 377,
   "id": "d6e14f3b",
   "metadata": {},
   "outputs": [
    {
     "data": {
      "text/html": [
       "<div>\n",
       "<style scoped>\n",
       "    .dataframe tbody tr th:only-of-type {\n",
       "        vertical-align: middle;\n",
       "    }\n",
       "\n",
       "    .dataframe tbody tr th {\n",
       "        vertical-align: top;\n",
       "    }\n",
       "\n",
       "    .dataframe thead th {\n",
       "        text-align: right;\n",
       "    }\n",
       "</style>\n",
       "<table border=\"1\" class=\"dataframe\">\n",
       "  <thead>\n",
       "    <tr style=\"text-align: right;\">\n",
       "      <th></th>\n",
       "      <th>1반</th>\n",
       "      <th>2반</th>\n",
       "      <th>3반</th>\n",
       "      <th>4반</th>\n",
       "      <th>합계</th>\n",
       "      <th>평균</th>\n",
       "    </tr>\n",
       "    <tr>\n",
       "      <th>과목</th>\n",
       "      <th></th>\n",
       "      <th></th>\n",
       "      <th></th>\n",
       "      <th></th>\n",
       "      <th></th>\n",
       "      <th></th>\n",
       "    </tr>\n",
       "  </thead>\n",
       "  <tbody>\n",
       "    <tr>\n",
       "      <th>파이썬</th>\n",
       "      <td>45</td>\n",
       "      <td>44</td>\n",
       "      <td>73</td>\n",
       "      <td>39</td>\n",
       "      <td>201</td>\n",
       "      <td>50.25</td>\n",
       "    </tr>\n",
       "    <tr>\n",
       "      <th>DB</th>\n",
       "      <td>76</td>\n",
       "      <td>92</td>\n",
       "      <td>45</td>\n",
       "      <td>69</td>\n",
       "      <td>282</td>\n",
       "      <td>70.50</td>\n",
       "    </tr>\n",
       "    <tr>\n",
       "      <th>자바</th>\n",
       "      <td>47</td>\n",
       "      <td>92</td>\n",
       "      <td>45</td>\n",
       "      <td>69</td>\n",
       "      <td>253</td>\n",
       "      <td>63.25</td>\n",
       "    </tr>\n",
       "    <tr>\n",
       "      <th>크롤링</th>\n",
       "      <td>92</td>\n",
       "      <td>81</td>\n",
       "      <td>85</td>\n",
       "      <td>40</td>\n",
       "      <td>298</td>\n",
       "      <td>74.50</td>\n",
       "    </tr>\n",
       "    <tr>\n",
       "      <th>Web</th>\n",
       "      <td>11</td>\n",
       "      <td>79</td>\n",
       "      <td>47</td>\n",
       "      <td>26</td>\n",
       "      <td>163</td>\n",
       "      <td>40.75</td>\n",
       "    </tr>\n",
       "  </tbody>\n",
       "</table>\n",
       "</div>"
      ],
      "text/plain": [
       "     1반  2반  3반  4반   합계     평균\n",
       "과목                             \n",
       "파이썬  45  44  73  39  201  50.25\n",
       "DB   76  92  45  69  282  70.50\n",
       "자바   47  92  45  69  253  63.25\n",
       "크롤링  92  81  85  40  298  74.50\n",
       "Web  11  79  47  26  163  40.75"
      ]
     },
     "execution_count": 377,
     "metadata": {},
     "output_type": "execute_result"
    }
   ],
   "source": [
    "# '평균' : 1~4반까지의 과목별 평균\n",
    "score['평균'] = score.loc[:,'1반':'4반'].mean(axis=1)\n",
    "score"
   ]
  },
  {
   "cell_type": "code",
   "execution_count": 379,
   "id": "f821c38e",
   "metadata": {},
   "outputs": [
    {
     "data": {
      "text/html": [
       "<div>\n",
       "<style scoped>\n",
       "    .dataframe tbody tr th:only-of-type {\n",
       "        vertical-align: middle;\n",
       "    }\n",
       "\n",
       "    .dataframe tbody tr th {\n",
       "        vertical-align: top;\n",
       "    }\n",
       "\n",
       "    .dataframe thead th {\n",
       "        text-align: right;\n",
       "    }\n",
       "</style>\n",
       "<table border=\"1\" class=\"dataframe\">\n",
       "  <thead>\n",
       "    <tr style=\"text-align: right;\">\n",
       "      <th></th>\n",
       "      <th>1반</th>\n",
       "      <th>2반</th>\n",
       "      <th>3반</th>\n",
       "      <th>4반</th>\n",
       "      <th>합계</th>\n",
       "      <th>평균</th>\n",
       "    </tr>\n",
       "    <tr>\n",
       "      <th>과목</th>\n",
       "      <th></th>\n",
       "      <th></th>\n",
       "      <th></th>\n",
       "      <th></th>\n",
       "      <th></th>\n",
       "      <th></th>\n",
       "    </tr>\n",
       "  </thead>\n",
       "  <tbody>\n",
       "    <tr>\n",
       "      <th>파이썬</th>\n",
       "      <td>45.0</td>\n",
       "      <td>44.0</td>\n",
       "      <td>73.0</td>\n",
       "      <td>39.0</td>\n",
       "      <td>201.0</td>\n",
       "      <td>50.25</td>\n",
       "    </tr>\n",
       "    <tr>\n",
       "      <th>DB</th>\n",
       "      <td>76.0</td>\n",
       "      <td>92.0</td>\n",
       "      <td>45.0</td>\n",
       "      <td>69.0</td>\n",
       "      <td>282.0</td>\n",
       "      <td>70.50</td>\n",
       "    </tr>\n",
       "    <tr>\n",
       "      <th>자바</th>\n",
       "      <td>47.0</td>\n",
       "      <td>92.0</td>\n",
       "      <td>45.0</td>\n",
       "      <td>69.0</td>\n",
       "      <td>253.0</td>\n",
       "      <td>63.25</td>\n",
       "    </tr>\n",
       "    <tr>\n",
       "      <th>크롤링</th>\n",
       "      <td>92.0</td>\n",
       "      <td>81.0</td>\n",
       "      <td>85.0</td>\n",
       "      <td>40.0</td>\n",
       "      <td>298.0</td>\n",
       "      <td>74.50</td>\n",
       "    </tr>\n",
       "    <tr>\n",
       "      <th>Web</th>\n",
       "      <td>11.0</td>\n",
       "      <td>79.0</td>\n",
       "      <td>47.0</td>\n",
       "      <td>26.0</td>\n",
       "      <td>163.0</td>\n",
       "      <td>40.75</td>\n",
       "    </tr>\n",
       "    <tr>\n",
       "      <th>반평균</th>\n",
       "      <td>54.2</td>\n",
       "      <td>77.6</td>\n",
       "      <td>59.0</td>\n",
       "      <td>48.6</td>\n",
       "      <td>239.4</td>\n",
       "      <td>59.85</td>\n",
       "    </tr>\n",
       "  </tbody>\n",
       "</table>\n",
       "</div>"
      ],
      "text/plain": [
       "       1반    2반    3반    4반     합계     평균\n",
       "과목                                       \n",
       "파이썬  45.0  44.0  73.0  39.0  201.0  50.25\n",
       "DB   76.0  92.0  45.0  69.0  282.0  70.50\n",
       "자바   47.0  92.0  45.0  69.0  253.0  63.25\n",
       "크롤링  92.0  81.0  85.0  40.0  298.0  74.50\n",
       "Web  11.0  79.0  47.0  26.0  163.0  40.75\n",
       "반평균  54.2  77.6  59.0  48.6  239.4  59.85"
      ]
     },
     "execution_count": 379,
     "metadata": {},
     "output_type": "execute_result"
    }
   ],
   "source": [
    "# 새로운 행 추가하기 ->\n",
    "score.loc['반평균'] = score.mean()\n",
    "score"
   ]
  },
  {
   "cell_type": "code",
   "execution_count": 380,
   "id": "87b5e169",
   "metadata": {},
   "outputs": [
    {
     "data": {
      "text/plain": [
       "1반     92.0\n",
       "2반     92.0\n",
       "3반     85.0\n",
       "4반     69.0\n",
       "합계    298.0\n",
       "평균     74.5\n",
       "dtype: float64"
      ]
     },
     "execution_count": 380,
     "metadata": {},
     "output_type": "execute_result"
    }
   ],
   "source": [
    "# 최대값 최소값 구하기 -> max(),min()\n",
    "score.max()"
   ]
  },
  {
   "cell_type": "code",
   "execution_count": 381,
   "id": "2cd206e9",
   "metadata": {},
   "outputs": [
    {
     "data": {
      "text/plain": [
       "1반     11.00\n",
       "2반     44.00\n",
       "3반     45.00\n",
       "4반     26.00\n",
       "합계    163.00\n",
       "평균     40.75\n",
       "dtype: float64"
      ]
     },
     "execution_count": 381,
     "metadata": {},
     "output_type": "execute_result"
    }
   ],
   "source": [
    "score.min()"
   ]
  },
  {
   "cell_type": "code",
   "execution_count": 387,
   "id": "8bcf5978",
   "metadata": {},
   "outputs": [
    {
     "data": {
      "text/plain": [
       "과목\n",
       "파이썬    73.0\n",
       "DB     92.0\n",
       "자바     92.0\n",
       "크롤링    92.0\n",
       "Web    79.0\n",
       "dtype: float64"
      ]
     },
     "execution_count": 387,
     "metadata": {},
     "output_type": "execute_result"
    }
   ],
   "source": [
    "# 각반 과목별 가장 큰 점수와 작은 점수의 차이값 구하기\n",
    "maxArr = score.loc[:'Web',:'4반'].max(axis=1)\n",
    "maxArr"
   ]
  },
  {
   "cell_type": "code",
   "execution_count": 388,
   "id": "aa4fc897",
   "metadata": {},
   "outputs": [
    {
     "data": {
      "text/plain": [
       "과목\n",
       "파이썬    39.0\n",
       "DB     45.0\n",
       "자바     45.0\n",
       "크롤링    40.0\n",
       "Web    11.0\n",
       "dtype: float64"
      ]
     },
     "execution_count": 388,
     "metadata": {},
     "output_type": "execute_result"
    }
   ],
   "source": [
    "minArr = score.loc[:'Web',:'4반'].min(axis=1)\n",
    "minArr"
   ]
  },
  {
   "cell_type": "code",
   "execution_count": 389,
   "id": "6c9f89f7",
   "metadata": {},
   "outputs": [
    {
     "data": {
      "text/plain": [
       "과목\n",
       "파이썬    34.0\n",
       "DB     47.0\n",
       "자바     47.0\n",
       "크롤링    52.0\n",
       "Web    68.0\n",
       "dtype: float64"
      ]
     },
     "execution_count": 389,
     "metadata": {},
     "output_type": "execute_result"
    }
   ],
   "source": [
    "maxArr - minArr"
   ]
  },
  {
   "cell_type": "code",
   "execution_count": 390,
   "id": "d8a6cdd9",
   "metadata": {},
   "outputs": [],
   "source": [
    "# apply() : 행이나 열 단위로 더 복잡한 연산을 진행할 수 있는 함수\n",
    "# apply(func, axis =?)\n",
    "\n",
    "# apply()를 활용하여 간단하게 최대-최소 차이 값구하기\n",
    "# 1. 사용자가 사용하고자 하는 함수 생성하기 -> 최대-최소\n",
    "def max_min(x):\n",
    "    return x.max()-x.min()\n"
   ]
  },
  {
   "cell_type": "code",
   "execution_count": 391,
   "id": "7153382c",
   "metadata": {},
   "outputs": [
    {
     "data": {
      "text/plain": [
       "과목\n",
       "파이썬    34.0\n",
       "DB     47.0\n",
       "자바     47.0\n",
       "크롤링    52.0\n",
       "Web    68.0\n",
       "dtype: float64"
      ]
     },
     "execution_count": 391,
     "metadata": {},
     "output_type": "execute_result"
    }
   ],
   "source": [
    "score.loc[:'Web',:'4반'].apply(max_min,axis=1)\n"
   ]
  },
  {
   "cell_type": "code",
   "execution_count": 398,
   "id": "207707e4",
   "metadata": {},
   "outputs": [
    {
     "data": {
      "text/plain": [
       "[0, 2, 10, 21, 23, 37, 31, 61, 20, 41, 32, 100]"
      ]
     },
     "execution_count": 398,
     "metadata": {},
     "output_type": "execute_result"
    }
   ],
   "source": [
    "ages = [0, 2, 10, 21, 23, 37, 31, 61, 20, 41, 32, 100]\n",
    "ages"
   ]
  },
  {
   "cell_type": "code",
   "execution_count": 400,
   "id": "7b41b221",
   "metadata": {},
   "outputs": [
    {
     "name": "stdout",
     "output_type": "stream",
     "text": [
      "[0, 15, 25, 35, 60, 99]\n",
      "['미성년자', '청년', '중년', '장년', '노년']\n"
     ]
    }
   ],
   "source": [
    "# 1~15(미성년자), 16~25(청년), 26~35(중년), 36~60(장년), 61~99(노년)\n",
    "# 시작범위는 항상 실제 데이터보다 -1 작아야 한다.\n",
    "bins = [0, 15, 25, 35, 60, 99]\n",
    "\n",
    "# 각 구간에 들어갈 이름 데이터 생성하기\n",
    "lb = ['미성년자','청년','중년','장년','노년']\n",
    "\n",
    "print(bins)\n",
    "print(lb)"
   ]
  },
  {
   "cell_type": "code",
   "execution_count": 404,
   "id": "d93ae411",
   "metadata": {},
   "outputs": [
    {
     "data": {
      "text/plain": [
       "[NaN, '미성년자', '미성년자', '청년', '청년', ..., '노년', '청년', '장년', '중년', NaN]\n",
       "Length: 12\n",
       "Categories (5, object): ['미성년자' < '청년' < '중년' < '장년' < '노년']"
      ]
     },
     "execution_count": 404,
     "metadata": {},
     "output_type": "execute_result"
    }
   ],
   "source": [
    "# cut(전체 데이터, 구분 기준(bins), 구분 이름(labels)) \n",
    "data = pd.cut(ages, bins ,labels = lb)\n",
    "data"
   ]
  },
  {
   "cell_type": "code",
   "execution_count": 408,
   "id": "d26267a2",
   "metadata": {
    "collapsed": true
   },
   "outputs": [
    {
     "data": {
      "text/html": [
       "<div>\n",
       "<style scoped>\n",
       "    .dataframe tbody tr th:only-of-type {\n",
       "        vertical-align: middle;\n",
       "    }\n",
       "\n",
       "    .dataframe tbody tr th {\n",
       "        vertical-align: top;\n",
       "    }\n",
       "\n",
       "    .dataframe thead th {\n",
       "        text-align: right;\n",
       "    }\n",
       "</style>\n",
       "<table border=\"1\" class=\"dataframe\">\n",
       "  <thead>\n",
       "    <tr style=\"text-align: right;\">\n",
       "      <th></th>\n",
       "      <th>ages</th>\n",
       "      <th>age_cat</th>\n",
       "    </tr>\n",
       "  </thead>\n",
       "  <tbody>\n",
       "    <tr>\n",
       "      <th>0</th>\n",
       "      <td>0</td>\n",
       "      <td>NaN</td>\n",
       "    </tr>\n",
       "    <tr>\n",
       "      <th>1</th>\n",
       "      <td>2</td>\n",
       "      <td>미성년자</td>\n",
       "    </tr>\n",
       "    <tr>\n",
       "      <th>2</th>\n",
       "      <td>10</td>\n",
       "      <td>미성년자</td>\n",
       "    </tr>\n",
       "    <tr>\n",
       "      <th>3</th>\n",
       "      <td>21</td>\n",
       "      <td>청년</td>\n",
       "    </tr>\n",
       "    <tr>\n",
       "      <th>4</th>\n",
       "      <td>23</td>\n",
       "      <td>청년</td>\n",
       "    </tr>\n",
       "    <tr>\n",
       "      <th>5</th>\n",
       "      <td>37</td>\n",
       "      <td>장년</td>\n",
       "    </tr>\n",
       "    <tr>\n",
       "      <th>6</th>\n",
       "      <td>31</td>\n",
       "      <td>중년</td>\n",
       "    </tr>\n",
       "    <tr>\n",
       "      <th>7</th>\n",
       "      <td>61</td>\n",
       "      <td>노년</td>\n",
       "    </tr>\n",
       "    <tr>\n",
       "      <th>8</th>\n",
       "      <td>20</td>\n",
       "      <td>청년</td>\n",
       "    </tr>\n",
       "    <tr>\n",
       "      <th>9</th>\n",
       "      <td>41</td>\n",
       "      <td>장년</td>\n",
       "    </tr>\n",
       "    <tr>\n",
       "      <th>10</th>\n",
       "      <td>32</td>\n",
       "      <td>중년</td>\n",
       "    </tr>\n",
       "    <tr>\n",
       "      <th>11</th>\n",
       "      <td>100</td>\n",
       "      <td>NaN</td>\n",
       "    </tr>\n",
       "  </tbody>\n",
       "</table>\n",
       "</div>"
      ],
      "text/plain": [
       "    ages age_cat\n",
       "0      0     NaN\n",
       "1      2    미성년자\n",
       "2     10    미성년자\n",
       "3     21      청년\n",
       "4     23      청년\n",
       "5     37      장년\n",
       "6     31      중년\n",
       "7     61      노년\n",
       "8     20      청년\n",
       "9     41      장년\n",
       "10    32      중년\n",
       "11   100     NaN"
      ]
     },
     "execution_count": 408,
     "metadata": {},
     "output_type": "execute_result"
    }
   ],
   "source": [
    "df_age = pd.DataFrame(ages, columns=['ages'])\n",
    "df_age"
   ]
  },
  {
   "cell_type": "code",
   "execution_count": 409,
   "id": "0f0e6fb3",
   "metadata": {},
   "outputs": [
    {
     "data": {
      "text/html": [
       "<div>\n",
       "<style scoped>\n",
       "    .dataframe tbody tr th:only-of-type {\n",
       "        vertical-align: middle;\n",
       "    }\n",
       "\n",
       "    .dataframe tbody tr th {\n",
       "        vertical-align: top;\n",
       "    }\n",
       "\n",
       "    .dataframe thead th {\n",
       "        text-align: right;\n",
       "    }\n",
       "</style>\n",
       "<table border=\"1\" class=\"dataframe\">\n",
       "  <thead>\n",
       "    <tr style=\"text-align: right;\">\n",
       "      <th></th>\n",
       "      <th>ages</th>\n",
       "      <th>age_cat</th>\n",
       "    </tr>\n",
       "  </thead>\n",
       "  <tbody>\n",
       "    <tr>\n",
       "      <th>0</th>\n",
       "      <td>0</td>\n",
       "      <td>NaN</td>\n",
       "    </tr>\n",
       "    <tr>\n",
       "      <th>1</th>\n",
       "      <td>2</td>\n",
       "      <td>미성년자</td>\n",
       "    </tr>\n",
       "    <tr>\n",
       "      <th>2</th>\n",
       "      <td>10</td>\n",
       "      <td>미성년자</td>\n",
       "    </tr>\n",
       "    <tr>\n",
       "      <th>3</th>\n",
       "      <td>21</td>\n",
       "      <td>청년</td>\n",
       "    </tr>\n",
       "    <tr>\n",
       "      <th>4</th>\n",
       "      <td>23</td>\n",
       "      <td>청년</td>\n",
       "    </tr>\n",
       "    <tr>\n",
       "      <th>5</th>\n",
       "      <td>37</td>\n",
       "      <td>장년</td>\n",
       "    </tr>\n",
       "    <tr>\n",
       "      <th>6</th>\n",
       "      <td>31</td>\n",
       "      <td>중년</td>\n",
       "    </tr>\n",
       "    <tr>\n",
       "      <th>7</th>\n",
       "      <td>61</td>\n",
       "      <td>노년</td>\n",
       "    </tr>\n",
       "    <tr>\n",
       "      <th>8</th>\n",
       "      <td>20</td>\n",
       "      <td>청년</td>\n",
       "    </tr>\n",
       "    <tr>\n",
       "      <th>9</th>\n",
       "      <td>41</td>\n",
       "      <td>장년</td>\n",
       "    </tr>\n",
       "    <tr>\n",
       "      <th>10</th>\n",
       "      <td>32</td>\n",
       "      <td>중년</td>\n",
       "    </tr>\n",
       "    <tr>\n",
       "      <th>11</th>\n",
       "      <td>100</td>\n",
       "      <td>NaN</td>\n",
       "    </tr>\n",
       "  </tbody>\n",
       "</table>\n",
       "</div>"
      ],
      "text/plain": [
       "    ages age_cat\n",
       "0      0     NaN\n",
       "1      2    미성년자\n",
       "2     10    미성년자\n",
       "3     21      청년\n",
       "4     23      청년\n",
       "5     37      장년\n",
       "6     31      중년\n",
       "7     61      노년\n",
       "8     20      청년\n",
       "9     41      장년\n",
       "10    32      중년\n",
       "11   100     NaN"
      ]
     },
     "execution_count": 409,
     "metadata": {},
     "output_type": "execute_result"
    }
   ],
   "source": [
    "df_age['age_cat']= pd.cut(ages,bins,labels=lb)\n",
    "df_age"
   ]
  },
  {
   "cell_type": "code",
   "execution_count": 411,
   "id": "86e2458e",
   "metadata": {},
   "outputs": [
    {
     "data": {
      "text/plain": [
       "청년      3\n",
       "미성년자    2\n",
       "중년      2\n",
       "장년      2\n",
       "노년      1\n",
       "Name: age_cat, dtype: int64"
      ]
     },
     "execution_count": 411,
     "metadata": {},
     "output_type": "execute_result"
    }
   ],
   "source": [
    "# 미성년자 -> ?, 청년 -> ?\n",
    "df_age['age_cat'].value_counts()"
   ]
  },
  {
   "cell_type": "code",
   "execution_count": 415,
   "id": "e27929a9",
   "metadata": {},
   "outputs": [
    {
     "data": {
      "text/plain": [
       "Index(['미성년자', '청년', '중년', '장년', '노년'], dtype='object')"
      ]
     },
     "execution_count": 415,
     "metadata": {},
     "output_type": "execute_result"
    }
   ],
   "source": [
    "data.categories"
   ]
  },
  {
   "cell_type": "code",
   "execution_count": 416,
   "id": "7383583f",
   "metadata": {},
   "outputs": [],
   "source": [
    "df1 = pd.DataFrame({'A': ['A0', 'A1', 'A2', 'A3'], \n",
    "                    'B': ['B0', 'B1', 'B2', 'B3'],\n",
    "                    'C': ['C0', 'C1', 'C2', 'C3'],\n",
    "                    'D': ['D0', 'D1', 'D2', 'D3']},\n",
    "                   index=[0, 1, 2, 3])\n",
    "\n",
    "df2 = pd.DataFrame({'A': ['A4', 'A5', 'A6', 'A7'],\n",
    "                    'B': ['B4', 'B5', 'B6', 'B7'],\n",
    "                    'C': ['C4', 'C5', 'C6', 'C7'],\n",
    "                    'D': ['D4', 'D5', 'D6', 'D7']},\n",
    "                   index=[4, 5, 6, 7])\n",
    "\n",
    "df3 = pd.DataFrame({'A': ['A8', 'A9', 'A10', 'A11'],\n",
    "                    'B': ['B8', 'B9', 'B10', 'B11'],\n",
    "                    'C': ['C8', 'C9', 'C10', 'C11'],\n",
    "                    'D': ['D8', 'D9', 'D10', 'D11']},\n",
    "                   index=[8, 9, 10, 11])"
   ]
  },
  {
   "cell_type": "code",
   "execution_count": 417,
   "id": "385e1bb0",
   "metadata": {},
   "outputs": [
    {
     "data": {
      "text/html": [
       "<div>\n",
       "<style scoped>\n",
       "    .dataframe tbody tr th:only-of-type {\n",
       "        vertical-align: middle;\n",
       "    }\n",
       "\n",
       "    .dataframe tbody tr th {\n",
       "        vertical-align: top;\n",
       "    }\n",
       "\n",
       "    .dataframe thead th {\n",
       "        text-align: right;\n",
       "    }\n",
       "</style>\n",
       "<table border=\"1\" class=\"dataframe\">\n",
       "  <thead>\n",
       "    <tr style=\"text-align: right;\">\n",
       "      <th></th>\n",
       "      <th>A</th>\n",
       "      <th>B</th>\n",
       "      <th>C</th>\n",
       "      <th>D</th>\n",
       "    </tr>\n",
       "  </thead>\n",
       "  <tbody>\n",
       "    <tr>\n",
       "      <th>0</th>\n",
       "      <td>A0</td>\n",
       "      <td>B0</td>\n",
       "      <td>C0</td>\n",
       "      <td>D0</td>\n",
       "    </tr>\n",
       "    <tr>\n",
       "      <th>1</th>\n",
       "      <td>A1</td>\n",
       "      <td>B1</td>\n",
       "      <td>C1</td>\n",
       "      <td>D1</td>\n",
       "    </tr>\n",
       "    <tr>\n",
       "      <th>2</th>\n",
       "      <td>A2</td>\n",
       "      <td>B2</td>\n",
       "      <td>C2</td>\n",
       "      <td>D2</td>\n",
       "    </tr>\n",
       "    <tr>\n",
       "      <th>3</th>\n",
       "      <td>A3</td>\n",
       "      <td>B3</td>\n",
       "      <td>C3</td>\n",
       "      <td>D3</td>\n",
       "    </tr>\n",
       "  </tbody>\n",
       "</table>\n",
       "</div>"
      ],
      "text/plain": [
       "    A   B   C   D\n",
       "0  A0  B0  C0  D0\n",
       "1  A1  B1  C1  D1\n",
       "2  A2  B2  C2  D2\n",
       "3  A3  B3  C3  D3"
      ]
     },
     "metadata": {},
     "output_type": "display_data"
    },
    {
     "data": {
      "text/html": [
       "<div>\n",
       "<style scoped>\n",
       "    .dataframe tbody tr th:only-of-type {\n",
       "        vertical-align: middle;\n",
       "    }\n",
       "\n",
       "    .dataframe tbody tr th {\n",
       "        vertical-align: top;\n",
       "    }\n",
       "\n",
       "    .dataframe thead th {\n",
       "        text-align: right;\n",
       "    }\n",
       "</style>\n",
       "<table border=\"1\" class=\"dataframe\">\n",
       "  <thead>\n",
       "    <tr style=\"text-align: right;\">\n",
       "      <th></th>\n",
       "      <th>A</th>\n",
       "      <th>B</th>\n",
       "      <th>C</th>\n",
       "      <th>D</th>\n",
       "    </tr>\n",
       "  </thead>\n",
       "  <tbody>\n",
       "    <tr>\n",
       "      <th>4</th>\n",
       "      <td>A4</td>\n",
       "      <td>B4</td>\n",
       "      <td>C4</td>\n",
       "      <td>D4</td>\n",
       "    </tr>\n",
       "    <tr>\n",
       "      <th>5</th>\n",
       "      <td>A5</td>\n",
       "      <td>B5</td>\n",
       "      <td>C5</td>\n",
       "      <td>D5</td>\n",
       "    </tr>\n",
       "    <tr>\n",
       "      <th>6</th>\n",
       "      <td>A6</td>\n",
       "      <td>B6</td>\n",
       "      <td>C6</td>\n",
       "      <td>D6</td>\n",
       "    </tr>\n",
       "    <tr>\n",
       "      <th>7</th>\n",
       "      <td>A7</td>\n",
       "      <td>B7</td>\n",
       "      <td>C7</td>\n",
       "      <td>D7</td>\n",
       "    </tr>\n",
       "  </tbody>\n",
       "</table>\n",
       "</div>"
      ],
      "text/plain": [
       "    A   B   C   D\n",
       "4  A4  B4  C4  D4\n",
       "5  A5  B5  C5  D5\n",
       "6  A6  B6  C6  D6\n",
       "7  A7  B7  C7  D7"
      ]
     },
     "metadata": {},
     "output_type": "display_data"
    },
    {
     "data": {
      "text/html": [
       "<div>\n",
       "<style scoped>\n",
       "    .dataframe tbody tr th:only-of-type {\n",
       "        vertical-align: middle;\n",
       "    }\n",
       "\n",
       "    .dataframe tbody tr th {\n",
       "        vertical-align: top;\n",
       "    }\n",
       "\n",
       "    .dataframe thead th {\n",
       "        text-align: right;\n",
       "    }\n",
       "</style>\n",
       "<table border=\"1\" class=\"dataframe\">\n",
       "  <thead>\n",
       "    <tr style=\"text-align: right;\">\n",
       "      <th></th>\n",
       "      <th>A</th>\n",
       "      <th>B</th>\n",
       "      <th>C</th>\n",
       "      <th>D</th>\n",
       "    </tr>\n",
       "  </thead>\n",
       "  <tbody>\n",
       "    <tr>\n",
       "      <th>8</th>\n",
       "      <td>A8</td>\n",
       "      <td>B8</td>\n",
       "      <td>C8</td>\n",
       "      <td>D8</td>\n",
       "    </tr>\n",
       "    <tr>\n",
       "      <th>9</th>\n",
       "      <td>A9</td>\n",
       "      <td>B9</td>\n",
       "      <td>C9</td>\n",
       "      <td>D9</td>\n",
       "    </tr>\n",
       "    <tr>\n",
       "      <th>10</th>\n",
       "      <td>A10</td>\n",
       "      <td>B10</td>\n",
       "      <td>C10</td>\n",
       "      <td>D10</td>\n",
       "    </tr>\n",
       "    <tr>\n",
       "      <th>11</th>\n",
       "      <td>A11</td>\n",
       "      <td>B11</td>\n",
       "      <td>C11</td>\n",
       "      <td>D11</td>\n",
       "    </tr>\n",
       "  </tbody>\n",
       "</table>\n",
       "</div>"
      ],
      "text/plain": [
       "      A    B    C    D\n",
       "8    A8   B8   C8   D8\n",
       "9    A9   B9   C9   D9\n",
       "10  A10  B10  C10  D10\n",
       "11  A11  B11  C11  D11"
      ]
     },
     "metadata": {},
     "output_type": "display_data"
    }
   ],
   "source": [
    "display(df1)\n",
    "display(df2)\n",
    "display(df3)"
   ]
  },
  {
   "cell_type": "code",
   "execution_count": 419,
   "id": "5f6c6a1f",
   "metadata": {},
   "outputs": [
    {
     "data": {
      "text/html": [
       "<div>\n",
       "<style scoped>\n",
       "    .dataframe tbody tr th:only-of-type {\n",
       "        vertical-align: middle;\n",
       "    }\n",
       "\n",
       "    .dataframe tbody tr th {\n",
       "        vertical-align: top;\n",
       "    }\n",
       "\n",
       "    .dataframe thead th {\n",
       "        text-align: right;\n",
       "    }\n",
       "</style>\n",
       "<table border=\"1\" class=\"dataframe\">\n",
       "  <thead>\n",
       "    <tr style=\"text-align: right;\">\n",
       "      <th></th>\n",
       "      <th>A</th>\n",
       "      <th>B</th>\n",
       "      <th>C</th>\n",
       "      <th>D</th>\n",
       "    </tr>\n",
       "  </thead>\n",
       "  <tbody>\n",
       "    <tr>\n",
       "      <th>0</th>\n",
       "      <td>A0</td>\n",
       "      <td>B0</td>\n",
       "      <td>C0</td>\n",
       "      <td>D0</td>\n",
       "    </tr>\n",
       "    <tr>\n",
       "      <th>1</th>\n",
       "      <td>A1</td>\n",
       "      <td>B1</td>\n",
       "      <td>C1</td>\n",
       "      <td>D1</td>\n",
       "    </tr>\n",
       "    <tr>\n",
       "      <th>2</th>\n",
       "      <td>A2</td>\n",
       "      <td>B2</td>\n",
       "      <td>C2</td>\n",
       "      <td>D2</td>\n",
       "    </tr>\n",
       "    <tr>\n",
       "      <th>3</th>\n",
       "      <td>A3</td>\n",
       "      <td>B3</td>\n",
       "      <td>C3</td>\n",
       "      <td>D3</td>\n",
       "    </tr>\n",
       "    <tr>\n",
       "      <th>4</th>\n",
       "      <td>A4</td>\n",
       "      <td>B4</td>\n",
       "      <td>C4</td>\n",
       "      <td>D4</td>\n",
       "    </tr>\n",
       "    <tr>\n",
       "      <th>5</th>\n",
       "      <td>A5</td>\n",
       "      <td>B5</td>\n",
       "      <td>C5</td>\n",
       "      <td>D5</td>\n",
       "    </tr>\n",
       "    <tr>\n",
       "      <th>6</th>\n",
       "      <td>A6</td>\n",
       "      <td>B6</td>\n",
       "      <td>C6</td>\n",
       "      <td>D6</td>\n",
       "    </tr>\n",
       "    <tr>\n",
       "      <th>7</th>\n",
       "      <td>A7</td>\n",
       "      <td>B7</td>\n",
       "      <td>C7</td>\n",
       "      <td>D7</td>\n",
       "    </tr>\n",
       "    <tr>\n",
       "      <th>8</th>\n",
       "      <td>A8</td>\n",
       "      <td>B8</td>\n",
       "      <td>C8</td>\n",
       "      <td>D8</td>\n",
       "    </tr>\n",
       "    <tr>\n",
       "      <th>9</th>\n",
       "      <td>A9</td>\n",
       "      <td>B9</td>\n",
       "      <td>C9</td>\n",
       "      <td>D9</td>\n",
       "    </tr>\n",
       "    <tr>\n",
       "      <th>10</th>\n",
       "      <td>A10</td>\n",
       "      <td>B10</td>\n",
       "      <td>C10</td>\n",
       "      <td>D10</td>\n",
       "    </tr>\n",
       "    <tr>\n",
       "      <th>11</th>\n",
       "      <td>A11</td>\n",
       "      <td>B11</td>\n",
       "      <td>C11</td>\n",
       "      <td>D11</td>\n",
       "    </tr>\n",
       "  </tbody>\n",
       "</table>\n",
       "</div>"
      ],
      "text/plain": [
       "      A    B    C    D\n",
       "0    A0   B0   C0   D0\n",
       "1    A1   B1   C1   D1\n",
       "2    A2   B2   C2   D2\n",
       "3    A3   B3   C3   D3\n",
       "4    A4   B4   C4   D4\n",
       "5    A5   B5   C5   D5\n",
       "6    A6   B6   C6   D6\n",
       "7    A7   B7   C7   D7\n",
       "8    A8   B8   C8   D8\n",
       "9    A9   B9   C9   D9\n",
       "10  A10  B10  C10  D10\n",
       "11  A11  B11  C11  D11"
      ]
     },
     "execution_count": 419,
     "metadata": {},
     "output_type": "execute_result"
    }
   ],
   "source": [
    "# DataFrame 병합을 위한 함수 -> concat([df1, df2, ...])\n",
    "# 병합의 기준 axis = 0\n",
    "result = pd.concat([df1,df2,df3])\n",
    "result"
   ]
  },
  {
   "cell_type": "code",
   "execution_count": 420,
   "id": "a1f54e24",
   "metadata": {},
   "outputs": [
    {
     "data": {
      "text/html": [
       "<div>\n",
       "<style scoped>\n",
       "    .dataframe tbody tr th:only-of-type {\n",
       "        vertical-align: middle;\n",
       "    }\n",
       "\n",
       "    .dataframe tbody tr th {\n",
       "        vertical-align: top;\n",
       "    }\n",
       "\n",
       "    .dataframe thead th {\n",
       "        text-align: right;\n",
       "    }\n",
       "</style>\n",
       "<table border=\"1\" class=\"dataframe\">\n",
       "  <thead>\n",
       "    <tr style=\"text-align: right;\">\n",
       "      <th></th>\n",
       "      <th></th>\n",
       "      <th>A</th>\n",
       "      <th>B</th>\n",
       "      <th>C</th>\n",
       "      <th>D</th>\n",
       "    </tr>\n",
       "  </thead>\n",
       "  <tbody>\n",
       "    <tr>\n",
       "      <th rowspan=\"4\" valign=\"top\">x</th>\n",
       "      <th>0</th>\n",
       "      <td>A0</td>\n",
       "      <td>B0</td>\n",
       "      <td>C0</td>\n",
       "      <td>D0</td>\n",
       "    </tr>\n",
       "    <tr>\n",
       "      <th>1</th>\n",
       "      <td>A1</td>\n",
       "      <td>B1</td>\n",
       "      <td>C1</td>\n",
       "      <td>D1</td>\n",
       "    </tr>\n",
       "    <tr>\n",
       "      <th>2</th>\n",
       "      <td>A2</td>\n",
       "      <td>B2</td>\n",
       "      <td>C2</td>\n",
       "      <td>D2</td>\n",
       "    </tr>\n",
       "    <tr>\n",
       "      <th>3</th>\n",
       "      <td>A3</td>\n",
       "      <td>B3</td>\n",
       "      <td>C3</td>\n",
       "      <td>D3</td>\n",
       "    </tr>\n",
       "    <tr>\n",
       "      <th rowspan=\"4\" valign=\"top\">y</th>\n",
       "      <th>4</th>\n",
       "      <td>A4</td>\n",
       "      <td>B4</td>\n",
       "      <td>C4</td>\n",
       "      <td>D4</td>\n",
       "    </tr>\n",
       "    <tr>\n",
       "      <th>5</th>\n",
       "      <td>A5</td>\n",
       "      <td>B5</td>\n",
       "      <td>C5</td>\n",
       "      <td>D5</td>\n",
       "    </tr>\n",
       "    <tr>\n",
       "      <th>6</th>\n",
       "      <td>A6</td>\n",
       "      <td>B6</td>\n",
       "      <td>C6</td>\n",
       "      <td>D6</td>\n",
       "    </tr>\n",
       "    <tr>\n",
       "      <th>7</th>\n",
       "      <td>A7</td>\n",
       "      <td>B7</td>\n",
       "      <td>C7</td>\n",
       "      <td>D7</td>\n",
       "    </tr>\n",
       "    <tr>\n",
       "      <th rowspan=\"4\" valign=\"top\">z</th>\n",
       "      <th>8</th>\n",
       "      <td>A8</td>\n",
       "      <td>B8</td>\n",
       "      <td>C8</td>\n",
       "      <td>D8</td>\n",
       "    </tr>\n",
       "    <tr>\n",
       "      <th>9</th>\n",
       "      <td>A9</td>\n",
       "      <td>B9</td>\n",
       "      <td>C9</td>\n",
       "      <td>D9</td>\n",
       "    </tr>\n",
       "    <tr>\n",
       "      <th>10</th>\n",
       "      <td>A10</td>\n",
       "      <td>B10</td>\n",
       "      <td>C10</td>\n",
       "      <td>D10</td>\n",
       "    </tr>\n",
       "    <tr>\n",
       "      <th>11</th>\n",
       "      <td>A11</td>\n",
       "      <td>B11</td>\n",
       "      <td>C11</td>\n",
       "      <td>D11</td>\n",
       "    </tr>\n",
       "  </tbody>\n",
       "</table>\n",
       "</div>"
      ],
      "text/plain": [
       "        A    B    C    D\n",
       "x 0    A0   B0   C0   D0\n",
       "  1    A1   B1   C1   D1\n",
       "  2    A2   B2   C2   D2\n",
       "  3    A3   B3   C3   D3\n",
       "y 4    A4   B4   C4   D4\n",
       "  5    A5   B5   C5   D5\n",
       "  6    A6   B6   C6   D6\n",
       "  7    A7   B7   C7   D7\n",
       "z 8    A8   B8   C8   D8\n",
       "  9    A9   B9   C9   D9\n",
       "  10  A10  B10  C10  D10\n",
       "  11  A11  B11  C11  D11"
      ]
     },
     "execution_count": 420,
     "metadata": {},
     "output_type": "execute_result"
    }
   ],
   "source": [
    "# concat 함수에서 사용할 수 있는 속성 확인하기\n",
    "result = pd.concat([df1,df2,df3], keys=['x','y','z'])\n",
    "result"
   ]
  },
  {
   "cell_type": "code",
   "execution_count": 421,
   "id": "cfe6e020",
   "metadata": {},
   "outputs": [
    {
     "data": {
      "text/plain": [
       "MultiIndex([('x',  0),\n",
       "            ('x',  1),\n",
       "            ('x',  2),\n",
       "            ('x',  3),\n",
       "            ('y',  4),\n",
       "            ('y',  5),\n",
       "            ('y',  6),\n",
       "            ('y',  7),\n",
       "            ('z',  8),\n",
       "            ('z',  9),\n",
       "            ('z', 10),\n",
       "            ('z', 11)],\n",
       "           )"
      ]
     },
     "execution_count": 421,
     "metadata": {},
     "output_type": "execute_result"
    }
   ],
   "source": [
    "# 다중 인덱스 속성 살펴보기\n",
    "result.index"
   ]
  },
  {
   "cell_type": "code",
   "execution_count": 426,
   "id": "ddcb6e63",
   "metadata": {},
   "outputs": [
    {
     "data": {
      "text/plain": [
       "Index(['x', 'x', 'x', 'x', 'y', 'y', 'y', 'y', 'z', 'z', 'z', 'z'], dtype='object')"
      ]
     },
     "execution_count": 426,
     "metadata": {},
     "output_type": "execute_result"
    }
   ],
   "source": [
    "result.index.get_level_values(0)"
   ]
  },
  {
   "cell_type": "code",
   "execution_count": 427,
   "id": "39d04f73",
   "metadata": {},
   "outputs": [
    {
     "data": {
      "text/html": [
       "<div>\n",
       "<style scoped>\n",
       "    .dataframe tbody tr th:only-of-type {\n",
       "        vertical-align: middle;\n",
       "    }\n",
       "\n",
       "    .dataframe tbody tr th {\n",
       "        vertical-align: top;\n",
       "    }\n",
       "\n",
       "    .dataframe thead th {\n",
       "        text-align: right;\n",
       "    }\n",
       "</style>\n",
       "<table border=\"1\" class=\"dataframe\">\n",
       "  <thead>\n",
       "    <tr style=\"text-align: right;\">\n",
       "      <th></th>\n",
       "      <th>A</th>\n",
       "      <th>B</th>\n",
       "      <th>C</th>\n",
       "      <th>D</th>\n",
       "    </tr>\n",
       "  </thead>\n",
       "  <tbody>\n",
       "    <tr>\n",
       "      <th>0</th>\n",
       "      <td>A0</td>\n",
       "      <td>B0</td>\n",
       "      <td>C0</td>\n",
       "      <td>D0</td>\n",
       "    </tr>\n",
       "    <tr>\n",
       "      <th>1</th>\n",
       "      <td>A1</td>\n",
       "      <td>B1</td>\n",
       "      <td>C1</td>\n",
       "      <td>D1</td>\n",
       "    </tr>\n",
       "    <tr>\n",
       "      <th>2</th>\n",
       "      <td>A2</td>\n",
       "      <td>B2</td>\n",
       "      <td>C2</td>\n",
       "      <td>D2</td>\n",
       "    </tr>\n",
       "    <tr>\n",
       "      <th>3</th>\n",
       "      <td>A3</td>\n",
       "      <td>B3</td>\n",
       "      <td>C3</td>\n",
       "      <td>D3</td>\n",
       "    </tr>\n",
       "  </tbody>\n",
       "</table>\n",
       "</div>"
      ],
      "text/plain": [
       "    A   B   C   D\n",
       "0  A0  B0  C0  D0\n",
       "1  A1  B1  C1  D1\n",
       "2  A2  B2  C2  D2\n",
       "3  A3  B3  C3  D3"
      ]
     },
     "execution_count": 427,
     "metadata": {},
     "output_type": "execute_result"
    }
   ],
   "source": [
    "result.loc['x']"
   ]
  },
  {
   "cell_type": "code",
   "execution_count": 466,
   "id": "4e59571a",
   "metadata": {},
   "outputs": [
    {
     "data": {
      "text/plain": [
       "A    A0\n",
       "B    B0\n",
       "C    C0\n",
       "D    D0\n",
       "Name: (x, 0), dtype: object"
      ]
     },
     "execution_count": 466,
     "metadata": {},
     "output_type": "execute_result"
    }
   ],
   "source": [
    "# 멀티 인덱스의 인덱싱 -> 튜플!!!!!!!!!!의 형태로 인덱스들을 묶어서 탐색\n",
    "result.loc[('x',0)]"
   ]
  },
  {
   "cell_type": "code",
   "execution_count": 430,
   "id": "a0833aad",
   "metadata": {},
   "outputs": [
    {
     "data": {
      "text/html": [
       "<div>\n",
       "<style scoped>\n",
       "    .dataframe tbody tr th:only-of-type {\n",
       "        vertical-align: middle;\n",
       "    }\n",
       "\n",
       "    .dataframe tbody tr th {\n",
       "        vertical-align: top;\n",
       "    }\n",
       "\n",
       "    .dataframe thead th {\n",
       "        text-align: right;\n",
       "    }\n",
       "</style>\n",
       "<table border=\"1\" class=\"dataframe\">\n",
       "  <thead>\n",
       "    <tr style=\"text-align: right;\">\n",
       "      <th></th>\n",
       "      <th></th>\n",
       "      <th>A</th>\n",
       "      <th>B</th>\n",
       "      <th>C</th>\n",
       "      <th>D</th>\n",
       "    </tr>\n",
       "  </thead>\n",
       "  <tbody>\n",
       "    <tr>\n",
       "      <th rowspan=\"4\" valign=\"top\">x</th>\n",
       "      <th>0</th>\n",
       "      <td>A0</td>\n",
       "      <td>B0</td>\n",
       "      <td>C0</td>\n",
       "      <td>D0</td>\n",
       "    </tr>\n",
       "    <tr>\n",
       "      <th>1</th>\n",
       "      <td>A1</td>\n",
       "      <td>B1</td>\n",
       "      <td>C1</td>\n",
       "      <td>D1</td>\n",
       "    </tr>\n",
       "    <tr>\n",
       "      <th>2</th>\n",
       "      <td>A2</td>\n",
       "      <td>B2</td>\n",
       "      <td>C2</td>\n",
       "      <td>D2</td>\n",
       "    </tr>\n",
       "    <tr>\n",
       "      <th>3</th>\n",
       "      <td>A3</td>\n",
       "      <td>B3</td>\n",
       "      <td>C3</td>\n",
       "      <td>D3</td>\n",
       "    </tr>\n",
       "    <tr>\n",
       "      <th rowspan=\"4\" valign=\"top\">y</th>\n",
       "      <th>4</th>\n",
       "      <td>A4</td>\n",
       "      <td>B4</td>\n",
       "      <td>C4</td>\n",
       "      <td>D4</td>\n",
       "    </tr>\n",
       "    <tr>\n",
       "      <th>5</th>\n",
       "      <td>A5</td>\n",
       "      <td>B5</td>\n",
       "      <td>C5</td>\n",
       "      <td>D5</td>\n",
       "    </tr>\n",
       "    <tr>\n",
       "      <th>6</th>\n",
       "      <td>A6</td>\n",
       "      <td>B6</td>\n",
       "      <td>C6</td>\n",
       "      <td>D6</td>\n",
       "    </tr>\n",
       "    <tr>\n",
       "      <th>7</th>\n",
       "      <td>A7</td>\n",
       "      <td>B7</td>\n",
       "      <td>C7</td>\n",
       "      <td>D7</td>\n",
       "    </tr>\n",
       "    <tr>\n",
       "      <th rowspan=\"4\" valign=\"top\">z</th>\n",
       "      <th>8</th>\n",
       "      <td>A8</td>\n",
       "      <td>B8</td>\n",
       "      <td>C8</td>\n",
       "      <td>D8</td>\n",
       "    </tr>\n",
       "    <tr>\n",
       "      <th>9</th>\n",
       "      <td>A9</td>\n",
       "      <td>B9</td>\n",
       "      <td>C9</td>\n",
       "      <td>D9</td>\n",
       "    </tr>\n",
       "    <tr>\n",
       "      <th>10</th>\n",
       "      <td>A10</td>\n",
       "      <td>B10</td>\n",
       "      <td>C10</td>\n",
       "      <td>D10</td>\n",
       "    </tr>\n",
       "    <tr>\n",
       "      <th>11</th>\n",
       "      <td>A11</td>\n",
       "      <td>B11</td>\n",
       "      <td>C11</td>\n",
       "      <td>D11</td>\n",
       "    </tr>\n",
       "  </tbody>\n",
       "</table>\n",
       "</div>"
      ],
      "text/plain": [
       "        A    B    C    D\n",
       "x 0    A0   B0   C0   D0\n",
       "  1    A1   B1   C1   D1\n",
       "  2    A2   B2   C2   D2\n",
       "  3    A3   B3   C3   D3\n",
       "y 4    A4   B4   C4   D4\n",
       "  5    A5   B5   C5   D5\n",
       "  6    A6   B6   C6   D6\n",
       "  7    A7   B7   C7   D7\n",
       "z 8    A8   B8   C8   D8\n",
       "  9    A9   B9   C9   D9\n",
       "  10  A10  B10  C10  D10\n",
       "  11  A11  B11  C11  D11"
      ]
     },
     "execution_count": 430,
     "metadata": {},
     "output_type": "execute_result"
    }
   ],
   "source": [
    "result"
   ]
  },
  {
   "cell_type": "code",
   "execution_count": 435,
   "id": "7b68d84e",
   "metadata": {},
   "outputs": [
    {
     "data": {
      "text/html": [
       "<div>\n",
       "<style scoped>\n",
       "    .dataframe tbody tr th:only-of-type {\n",
       "        vertical-align: middle;\n",
       "    }\n",
       "\n",
       "    .dataframe tbody tr th {\n",
       "        vertical-align: top;\n",
       "    }\n",
       "\n",
       "    .dataframe thead th {\n",
       "        text-align: right;\n",
       "    }\n",
       "</style>\n",
       "<table border=\"1\" class=\"dataframe\">\n",
       "  <thead>\n",
       "    <tr style=\"text-align: right;\">\n",
       "      <th></th>\n",
       "      <th></th>\n",
       "      <th>A</th>\n",
       "      <th>B</th>\n",
       "      <th>C</th>\n",
       "      <th>D</th>\n",
       "    </tr>\n",
       "  </thead>\n",
       "  <tbody>\n",
       "    <tr>\n",
       "      <th>x</th>\n",
       "      <th>0</th>\n",
       "      <td>A0</td>\n",
       "      <td>B0</td>\n",
       "      <td>C0</td>\n",
       "      <td>D0</td>\n",
       "    </tr>\n",
       "    <tr>\n",
       "      <th>z</th>\n",
       "      <th>8</th>\n",
       "      <td>A8</td>\n",
       "      <td>B8</td>\n",
       "      <td>C8</td>\n",
       "      <td>D8</td>\n",
       "    </tr>\n",
       "  </tbody>\n",
       "</table>\n",
       "</div>"
      ],
      "text/plain": [
       "      A   B   C   D\n",
       "x 0  A0  B0  C0  D0\n",
       "z 8  A8  B8  C8  D8"
      ]
     },
     "execution_count": 435,
     "metadata": {},
     "output_type": "execute_result"
    }
   ],
   "source": [
    "result.loc[[('x',0),('z',8)]]"
   ]
  },
  {
   "cell_type": "code",
   "execution_count": 443,
   "id": "aa8444a8",
   "metadata": {},
   "outputs": [
    {
     "data": {
      "text/html": [
       "<div>\n",
       "<style scoped>\n",
       "    .dataframe tbody tr th:only-of-type {\n",
       "        vertical-align: middle;\n",
       "    }\n",
       "\n",
       "    .dataframe tbody tr th {\n",
       "        vertical-align: top;\n",
       "    }\n",
       "\n",
       "    .dataframe thead tr th {\n",
       "        text-align: left;\n",
       "    }\n",
       "</style>\n",
       "<table border=\"1\" class=\"dataframe\">\n",
       "  <thead>\n",
       "    <tr>\n",
       "      <th></th>\n",
       "      <th colspan=\"2\" halign=\"left\">A</th>\n",
       "      <th>B</th>\n",
       "    </tr>\n",
       "    <tr>\n",
       "      <th></th>\n",
       "      <th>apple</th>\n",
       "      <th>banana</th>\n",
       "      <th>orange</th>\n",
       "    </tr>\n",
       "  </thead>\n",
       "  <tbody>\n",
       "    <tr>\n",
       "      <th>0</th>\n",
       "      <td>1</td>\n",
       "      <td>2</td>\n",
       "      <td>3</td>\n",
       "    </tr>\n",
       "    <tr>\n",
       "      <th>1</th>\n",
       "      <td>4</td>\n",
       "      <td>5</td>\n",
       "      <td>6</td>\n",
       "    </tr>\n",
       "    <tr>\n",
       "      <th>2</th>\n",
       "      <td>7</td>\n",
       "      <td>8</td>\n",
       "      <td>9</td>\n",
       "    </tr>\n",
       "  </tbody>\n",
       "</table>\n",
       "</div>"
      ],
      "text/plain": [
       "      A             B\n",
       "  apple banana orange\n",
       "0     1      2      3\n",
       "1     4      5      6\n",
       "2     7      8      9"
      ]
     },
     "execution_count": 443,
     "metadata": {},
     "output_type": "execute_result"
    }
   ],
   "source": [
    "# 다중 colum 만들기\n",
    "import numpy as np\n",
    "\n",
    "multi_col_df = pd.DataFrame(np.array([[1,2,3],[4,5,6],[7,8,9]]),\n",
    "            columns=[['A','A','B'],['apple','banana','orange']])\n",
    "multi_col_df"
   ]
  },
  {
   "cell_type": "code",
   "execution_count": 460,
   "id": "2e56f3f1",
   "metadata": {},
   "outputs": [
    {
     "data": {
      "text/plain": [
       "0    1\n",
       "1    4\n",
       "2    7\n",
       "Name: (A, apple), dtype: int32"
      ]
     },
     "execution_count": 460,
     "metadata": {},
     "output_type": "execute_result"
    }
   ],
   "source": [
    "multi_col_df[('A','apple')]"
   ]
  },
  {
   "cell_type": "code",
   "execution_count": 458,
   "id": "e15e5c7b",
   "metadata": {},
   "outputs": [
    {
     "name": "stdout",
     "output_type": "stream",
     "text": [
      "0    1\n",
      "1    0\n",
      "2    1\n",
      "3    0\n",
      "4    1\n",
      "Name: Survived, dtype: int64\n"
     ]
    }
   ],
   "source": [
    "Survived = pd.Series([1,0,1,0,1], name=\"Survived\")\n",
    "print(Survived)\n",
    "Sex = pd.Series(['female','female','male','male','female'], name=\"Sex\")\n",
    "PassengerId = pd.Series([1,2,3,4,5], name=\"PassengerId\")"
   ]
  },
  {
   "cell_type": "code",
   "execution_count": 459,
   "id": "a80dc0c9",
   "metadata": {},
   "outputs": [
    {
     "data": {
      "text/html": [
       "<div>\n",
       "<style scoped>\n",
       "    .dataframe tbody tr th:only-of-type {\n",
       "        vertical-align: middle;\n",
       "    }\n",
       "\n",
       "    .dataframe tbody tr th {\n",
       "        vertical-align: top;\n",
       "    }\n",
       "\n",
       "    .dataframe thead th {\n",
       "        text-align: right;\n",
       "    }\n",
       "</style>\n",
       "<table border=\"1\" class=\"dataframe\">\n",
       "  <thead>\n",
       "    <tr style=\"text-align: right;\">\n",
       "      <th></th>\n",
       "      <th>Survived</th>\n",
       "      <th>Sex</th>\n",
       "      <th>PassengerId</th>\n",
       "    </tr>\n",
       "  </thead>\n",
       "  <tbody>\n",
       "    <tr>\n",
       "      <th>0</th>\n",
       "      <td>1</td>\n",
       "      <td>female</td>\n",
       "      <td>1</td>\n",
       "    </tr>\n",
       "    <tr>\n",
       "      <th>1</th>\n",
       "      <td>0</td>\n",
       "      <td>female</td>\n",
       "      <td>2</td>\n",
       "    </tr>\n",
       "    <tr>\n",
       "      <th>2</th>\n",
       "      <td>1</td>\n",
       "      <td>male</td>\n",
       "      <td>3</td>\n",
       "    </tr>\n",
       "    <tr>\n",
       "      <th>3</th>\n",
       "      <td>0</td>\n",
       "      <td>male</td>\n",
       "      <td>4</td>\n",
       "    </tr>\n",
       "    <tr>\n",
       "      <th>4</th>\n",
       "      <td>1</td>\n",
       "      <td>female</td>\n",
       "      <td>5</td>\n",
       "    </tr>\n",
       "  </tbody>\n",
       "</table>\n",
       "</div>"
      ],
      "text/plain": [
       "   Survived     Sex  PassengerId\n",
       "0         1  female            1\n",
       "1         0  female            2\n",
       "2         1    male            3\n",
       "3         0    male            4\n",
       "4         1  female            5"
      ]
     },
     "execution_count": 459,
     "metadata": {},
     "output_type": "execute_result"
    }
   ],
   "source": [
    "data = pd.concat([Survived,Sex,PassengerId], axis=1)\n",
    "data.columns=['Survived','PassengerId','Sex']\n",
    "data"
   ]
  },
  {
   "cell_type": "code",
   "execution_count": null,
   "id": "5fe64f8e",
   "metadata": {},
   "outputs": [],
   "source": []
  }
 ],
 "metadata": {
  "kernelspec": {
   "display_name": "Python 3 (ipykernel)",
   "language": "python",
   "name": "python3"
  },
  "language_info": {
   "codemirror_mode": {
    "name": "ipython",
    "version": 3
   },
   "file_extension": ".py",
   "mimetype": "text/x-python",
   "name": "python",
   "nbconvert_exporter": "python",
   "pygments_lexer": "ipython3",
   "version": "3.8.8"
  }
 },
 "nbformat": 4,
 "nbformat_minor": 5
}
